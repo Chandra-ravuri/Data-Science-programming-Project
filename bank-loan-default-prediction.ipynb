{
 "cells": [
  {
   "cell_type": "markdown",
   "metadata": {
    "_uuid": "5c896d7b3255a1571e09ed89c2d2cfde62a73273"
   },
   "source": [
    "# Introduction\n",
    "Once upon a time, there was a bank offering services to private persons. The services include managing of accounts, offering loans, etc. The bank wants to improve their services by finding interesting groups of clients (e.g. to differentiate between good and bad clients). The bank managers have only vague idea, who is good client (whom to offer some additional services) and who is bad client (whom to watch carefully to minimize the bank looses). Fortunately, the bank stores data about their clients, the accounts (transactions within several months), the loans already granted, the credit cards issued So the bank managers hope to find some answers (and questions as well) by analyzing this data. \n",
    "In this kernel, I am going to follow the basic process of loan default prediction with machine learning algorithms.\n",
    "## Task description\n",
    "In this data challenge, I'm going to work with 8 datasets from the bank (dataset was collected from year of 1999). As a data scientist, we will need to perform the following tasks:\n",
    "* Use Python to connect to files and read tables into Pandas dataframes\n",
    "* Preprocess data for machine learning\n",
    "* Train a ML model to predict customers who are more likely to default on loans\n",
    "* Evaluate model performance\n",
    "* Try to understand the key predictors of default"
   ]
  },
  {
   "cell_type": "markdown",
   "metadata": {
    "_uuid": "8f46db8ee7a665d3744f4017bf0dd7b754c45352"
   },
   "source": [
    "# Exploratory Analysis\n",
    "To begin this exploratory analysis, first import libraries and prepare the data. "
   ]
  },
  {
   "cell_type": "code",
   "execution_count": 1,
   "metadata": {
    "_uuid": "b00ea0d747ee508b5f2e37d640b27ee7f6615768"
   },
   "outputs": [
    {
     "ename": "ModuleNotFoundError",
     "evalue": "No module named 'scikitplot'",
     "output_type": "error",
     "traceback": [
      "\u001b[1;31m---------------------------------------------------------------------------\u001b[0m",
      "\u001b[1;31mModuleNotFoundError\u001b[0m                       Traceback (most recent call last)",
      "\u001b[1;32m~\\AppData\\Local\\Temp\\ipykernel_157400\\2538140146.py\u001b[0m in \u001b[0;36m<module>\u001b[1;34m\u001b[0m\n\u001b[0;32m     18\u001b[0m \u001b[1;32mfrom\u001b[0m \u001b[0msklearn\u001b[0m\u001b[1;33m.\u001b[0m\u001b[0mmodel_selection\u001b[0m \u001b[1;32mimport\u001b[0m \u001b[0mtrain_test_split\u001b[0m\u001b[1;33m\u001b[0m\u001b[1;33m\u001b[0m\u001b[0m\n\u001b[0;32m     19\u001b[0m \u001b[1;32mimport\u001b[0m \u001b[0mmatplotlib\u001b[0m\u001b[1;33m.\u001b[0m\u001b[0mticker\u001b[0m \u001b[1;32mas\u001b[0m \u001b[0mmtick\u001b[0m\u001b[1;33m\u001b[0m\u001b[1;33m\u001b[0m\u001b[0m\n\u001b[1;32m---> 20\u001b[1;33m \u001b[1;32mimport\u001b[0m \u001b[0mscikitplot\u001b[0m \u001b[1;32mas\u001b[0m \u001b[0mskplt\u001b[0m\u001b[1;33m\u001b[0m\u001b[1;33m\u001b[0m\u001b[0m\n\u001b[0m\u001b[0;32m     21\u001b[0m \u001b[1;32mfrom\u001b[0m \u001b[0msklearn\u001b[0m\u001b[1;33m.\u001b[0m\u001b[0mensemble\u001b[0m \u001b[1;32mimport\u001b[0m \u001b[0mRandomForestClassifier\u001b[0m\u001b[1;33m\u001b[0m\u001b[1;33m\u001b[0m\u001b[0m\n\u001b[0;32m     22\u001b[0m \u001b[1;32mfrom\u001b[0m \u001b[0msklearn\u001b[0m\u001b[1;33m.\u001b[0m\u001b[0mmetrics\u001b[0m \u001b[1;32mimport\u001b[0m \u001b[0mf1_score\u001b[0m\u001b[1;33m\u001b[0m\u001b[1;33m\u001b[0m\u001b[0m\n",
      "\u001b[1;31mModuleNotFoundError\u001b[0m: No module named 'scikitplot'"
     ]
    }
   ],
   "source": [
    "import pandas as pd\n",
    "import numpy as np\n",
    "import seaborn as sns\n",
    "import datetime\n",
    "import time\n",
    "from sklearn import metrics\n",
    "from sklearn import neighbors\n",
    "from sklearn import ensemble\n",
    "from sklearn import tree\n",
    "from sklearn import linear_model\n",
    "from sklearn.linear_model import LogisticRegression\n",
    "from pandas.plotting import scatter_matrix\n",
    "from sklearn.metrics import classification_report\n",
    "from matplotlib import pyplot as plt\n",
    "from datetime import datetime, date, time, timedelta\n",
    "from sklearn.preprocessing import StandardScaler\n",
    "from sklearn.feature_selection import SelectKBest\n",
    "from sklearn.model_selection import train_test_split\n",
    "import matplotlib.ticker as mtick\n",
    "import scikitplot as skplt\n",
    "from sklearn.ensemble import RandomForestClassifier\n",
    "from sklearn.metrics import f1_score\n",
    "from sklearn import svm\n",
    "plt.style.use('ggplot')"
   ]
  },
  {
   "cell_type": "markdown",
   "metadata": {
    "_uuid": "9f65edc19aee51817b0e906524e3dfa1c4951027"
   },
   "source": [
    "# Data Preparation"
   ]
  },
  {
   "cell_type": "markdown",
   "metadata": {
    "_uuid": "6db062645e2df8157ea9345517c4dc283f5f02b5"
   },
   "source": [
    "## Import and Update tables"
   ]
  },
  {
   "cell_type": "code",
   "execution_count": null,
   "metadata": {
    "_uuid": "2f4a24e129bf5f029e35226b8d32d35189c38493"
   },
   "outputs": [],
   "source": [
    "# import and update table card\n",
    "card = pd.read_csv(\n",
    "    \"../input/card.asc\",\n",
    "    sep=\";\",\n",
    "    delimiter=None,\n",
    "    header=\"infer\",\n",
    "    names=None,\n",
    "    low_memory=False,\n",
    ")\n",
    "card.issued = card.issued.str.strip(\"00:00:00\")\n",
    "card.type = card.type.map({\"gold\": 2, \"classic\": 1, \"junior\": 0})\n",
    "card.head()\n"
   ]
  },
  {
   "cell_type": "code",
   "execution_count": null,
   "metadata": {
    "_uuid": "e2801186d11651f33f610e6ed7ab21e44e44f350"
   },
   "outputs": [],
   "source": [
    "# import and update table account\n",
    "account = pd.read_csv(\n",
    "    \"../input/account.asc\",\n",
    "    sep=\";\",\n",
    "    delimiter=None,\n",
    "    header=\"infer\",\n",
    "    names=None,\n",
    ")\n",
    "account.date = account.date.apply(lambda x: pd.to_datetime(str(x), format=\"%y%m%d\"))\n",
    "account.head()\n"
   ]
  },
  {
   "cell_type": "code",
   "execution_count": null,
   "metadata": {
    "_uuid": "e9f440c3955153692ec4e64f9d7dfe99865f5d94"
   },
   "outputs": [],
   "source": [
    "# import and update table disp\n",
    "disp = pd.read_csv(\n",
    "    \"../input/disp.asc\",\n",
    "    sep=\";\",\n",
    "    delimiter=None,\n",
    "    header=\"infer\",\n",
    "    names=None,\n",
    "    low_memory=False,\n",
    ")\n",
    "disp = disp[disp.type == \"OWNER\"]\n",
    "disp.rename(columns={\"type\": \"type_disp\"}, inplace=True)\n",
    "disp.head()\n"
   ]
  },
  {
   "cell_type": "code",
   "execution_count": null,
   "metadata": {
    "_uuid": "fb3a86fa8c89d8de2c38c046e0ae80af8af3b150"
   },
   "outputs": [],
   "source": [
    "# import and update table client\n",
    "client = pd.read_csv(\n",
    "    \"../input/client.asc\",\n",
    "    sep=\";\",\n",
    "    delimiter=None,\n",
    "    header=\"infer\",\n",
    "    names=None,\n",
    "    low_memory=False,\n",
    ")\n",
    "client[\"month\"] = client.birth_number.apply(\n",
    "    lambda x: x // 100 % 100, convert_dtype=True, args=()\n",
    ")\n",
    "client[\"year\"] = client.birth_number.apply(\n",
    "    lambda x: x // 100 // 100, convert_dtype=True, args=()\n",
    ")\n",
    "client[\"age\"] = 99 - client.year\n",
    "client[\"sex\"] = client.month.apply(lambda x: (x - 50) < 0, convert_dtype=True, args=())\n",
    "client.sex = client.sex.astype(int)  # 0 for female, 1 for male\n",
    "client.drop([\"birth_number\", \"month\", \"year\"], axis=1, inplace=True)\n",
    "client.head()\n"
   ]
  },
  {
   "cell_type": "code",
   "execution_count": null,
   "metadata": {
    "_uuid": "734e31392196df44c67a530bf9f2ab24fd72a54f"
   },
   "outputs": [],
   "source": [
    "# import and update table district\n",
    "district = pd.read_csv(\n",
    "    \"../input/district.asc\",\n",
    "    sep=\";\",\n",
    "    delimiter=None,\n",
    "    header=\"infer\",\n",
    "    names=None,\n",
    "    low_memory=False,\n",
    ")\n",
    "district.drop([\"A2\", \"A3\"], axis=1, inplace=True)\n",
    "district.head()\n"
   ]
  },
  {
   "cell_type": "code",
   "execution_count": null,
   "metadata": {
    "_uuid": "fef8a2ad4eea499a8059697a1b02f8f0d4aad996"
   },
   "outputs": [],
   "source": [
    "# import and update table order\n",
    "order = pd.read_csv(\n",
    "    \"../input/order.asc\",\n",
    "    sep=\";\",\n",
    "    delimiter=None,\n",
    "    header=\"infer\",\n",
    "    names=None,\n",
    "    low_memory=False,\n",
    ")\n",
    "order.drop([\"bank_to\", \"account_to\", \"order_id\"], axis=1, inplace=True)\n",
    "order.k_symbol.fillna(\"No_symbol\")\n",
    "order.k_symbol = order.k_symbol.str.replace(\" \", \"No_symbol\")\n",
    "order = order.groupby([\"account_id\", \"k_symbol\"]).mean().unstack()\n",
    "order = order.fillna(0)\n",
    "order.columns = order.columns.droplevel()\n",
    "order.reset_index(level=\"account_id\", col_level=1, inplace=True)\n",
    "order.rename_axis(\"\", axis=\"columns\", inplace=True)\n",
    "order.rename(\n",
    "    index=None,\n",
    "    columns={\n",
    "        \"LEASING\": \"order_amount_LEASING\",\n",
    "        \"No_symbol\": \"order_amount_No_symbol\",\n",
    "        \"POJISTNE\": \"order_amount_POJISTNE\",\n",
    "        \"SIPO\": \"order_amount_SIPO\",\n",
    "        \"UVER\": \"order_amount_UVER\",\n",
    "    },\n",
    "    inplace=True,\n",
    ")\n",
    "order.head()\n"
   ]
  },
  {
   "cell_type": "code",
   "execution_count": null,
   "metadata": {
    "_uuid": "2227805114bbc5ae164bfe416b26d10bff33468e"
   },
   "outputs": [],
   "source": [
    "# import and update table loan\n",
    "loan = pd.read_csv(\n",
    "    \"../input/loan.asc\",\n",
    "    sep=\";\",\n",
    "    delimiter=None,\n",
    "    header=\"infer\",\n",
    "    names=None,\n",
    "    low_memory=False,\n",
    ")\n",
    "loan.date = loan.date.apply(lambda x: pd.to_datetime(str(x), format=\"%y%m%d\"))\n",
    "loan.head()\n"
   ]
  },
  {
   "cell_type": "code",
   "execution_count": null,
   "metadata": {
    "_uuid": "da25a408eef5cb02fd3fe3cd008a99533fd9aa4e"
   },
   "outputs": [],
   "source": [
    "# import and update table trans\n",
    "trans = pd.read_csv(\n",
    "    \"../input/trans.asc\",\n",
    "    sep=\";\",\n",
    "    delimiter=None,\n",
    "    header=\"infer\",\n",
    "    names=None,\n",
    "    low_memory=False,\n",
    ")\n",
    "trans.loc[trans.k_symbol == \"\", \"k_symbol\"] = trans[\n",
    "    trans.k_symbol == \"\"\n",
    "].k_symbol.apply(lambda x: \"k_symbol_missing\")\n",
    "trans.loc[trans.k_symbol == \" \", \"k_symbol\"] = trans[\n",
    "    trans.k_symbol == \" \"\n",
    "].k_symbol.apply(lambda x: \"k_symbol_missing\")\n",
    "loan_account_id = loan.loc[:, [\"account_id\"]]\n",
    "trans = loan_account_id.merge(trans, how=\"left\", on=\"account_id\")\n",
    "trans.date = trans.date.apply(lambda x: pd.to_datetime(str(x), format=\"%y%m%d\"))\n",
    "trans.head()\n"
   ]
  },
  {
   "cell_type": "code",
   "execution_count": null,
   "metadata": {
    "_uuid": "3cb0e2516138e84f20c466fafc2d3a3bec3a91f1"
   },
   "outputs": [],
   "source": [
    "# create temp table trans_pv_k_symbol\n",
    "trans_pv_k_symbol = trans.pivot_table(\n",
    "    values=[\"amount\", \"balance\"], index=[\"trans_id\"], columns=\"k_symbol\"\n",
    ")\n",
    "trans_pv_k_symbol.fillna(0, inplace=True)\n",
    "trans_pv_k_symbol.columns = [\"_\".join(col) for col in trans_pv_k_symbol.columns]\n",
    "trans_pv_k_symbol = trans_pv_k_symbol.reset_index()\n",
    "trans_pv_k_symbol = trans.iloc[:, :3].merge(\n",
    "    trans_pv_k_symbol, how=\"left\", on=\"trans_id\"\n",
    ")\n",
    "trans_pv_k_symbol.head()\n"
   ]
  },
  {
   "cell_type": "code",
   "execution_count": null,
   "metadata": {
    "_uuid": "4b5c5c806bfdb7d043d8095091afb758e152581c"
   },
   "outputs": [],
   "source": [
    "# create temp table get_date_loan_trans\n",
    "get_date_loan_trans = pd.merge(\n",
    "    loan,\n",
    "    account,\n",
    "    how=\"left\",\n",
    "    on=\"account_id\",\n",
    "    left_on=None,\n",
    "    right_on=None,\n",
    "    left_index=False,\n",
    "    right_index=False,\n",
    "    sort=False,\n",
    "    suffixes=(\"_loan\", \"_account\"),\n",
    "    copy=True,\n",
    "    indicator=False,\n",
    "    validate=None,\n",
    ")\n",
    "get_date_loan_trans = pd.merge(\n",
    "    get_date_loan_trans,\n",
    "    trans,\n",
    "    how=\"left\",\n",
    "    on=\"account_id\",\n",
    "    left_on=None,\n",
    "    right_on=None,\n",
    "    left_index=False,\n",
    "    right_index=False,\n",
    "    sort=False,\n",
    "    suffixes=(\"_account\", \"_trans\"),\n",
    "    copy=True,\n",
    "    indicator=False,\n",
    "    validate=None,\n",
    ")\n"
   ]
  },
  {
   "cell_type": "code",
   "execution_count": null,
   "metadata": {
    "_uuid": "7f870251813963c0a42973806f950f904be63390"
   },
   "outputs": [],
   "source": [
    "# update table get_date_loan_trans to get the date between loan_date and trans_date.\n",
    "get_date_loan_trans[\"date_loan_trans\"] = (\n",
    "    get_date_loan_trans.date_loan - get_date_loan_trans.date\n",
    ")\n",
    "get_date_loan_trans[[\"date_loan_trans\"]] = get_date_loan_trans[\n",
    "    [\"date_loan_trans\"]\n",
    "].astype(str)\n",
    "get_date_loan_trans.date_loan_trans = get_date_loan_trans.date_loan_trans.str.strip(\n",
    "    \" days 00:00:00.000000000\"\n",
    ")\n",
    "get_date_loan_trans.date_loan_trans = pd.to_numeric(\n",
    "    get_date_loan_trans.date_loan_trans.str.strip(\" days +\")\n",
    ")\n",
    "get_date_loan_trans.head()\n"
   ]
  },
  {
   "cell_type": "code",
   "execution_count": null,
   "metadata": {
    "_uuid": "05b3e5f19e00bb49d8c1d29bfcf86afcb8f83ec1"
   },
   "outputs": [],
   "source": [
    "# create temp table temp_90_mean to create new feature\n",
    "temp_90_mean = get_date_loan_trans[\n",
    "    (get_date_loan_trans[\"date_loan_trans\"] >= 0)\n",
    "    & (get_date_loan_trans[\"date_loan_trans\"] < 90)\n",
    "]\n",
    "temp_90_mean = temp_90_mean.drop([\"trans_id\", \"k_symbol\"], axis=1)\n",
    "temp_90_mean = temp_90_mean.groupby([\"loan_id\"], as_index=None).mean()\n",
    "temp_90_mean = temp_90_mean.loc[:, [\"loan_id\", \"balance\"]]\n",
    "temp_90_mean.rename(\n",
    "    index=None, columns={\"balance\": \"avg_balance_3M_befroe_loan\"}, inplace=True\n",
    ")\n"
   ]
  },
  {
   "cell_type": "code",
   "execution_count": null,
   "metadata": {
    "_uuid": "7ddcc6c7f2a499d28b152becb71c7debab5efd69"
   },
   "outputs": [],
   "source": [
    "# create temp table temp_30_mean to create new feature\n",
    "temp_30_mean = get_date_loan_trans[\n",
    "    (get_date_loan_trans[\"date_loan_trans\"] >= 0)\n",
    "    & (get_date_loan_trans[\"date_loan_trans\"] < 30)\n",
    "]\n",
    "temp_30_mean = temp_30_mean.drop([\"trans_id\", \"k_symbol\"], axis=1)\n",
    "temp_30_mean = temp_30_mean.groupby([\"loan_id\"], as_index=None).mean()\n",
    "temp_30_mean = temp_30_mean.loc[:, [\"loan_id\", \"balance\"]]\n",
    "temp_30_mean.rename(\n",
    "    index=None, columns={\"balance\": \"avg_balance_1M_befroe_loan\"}, inplace=True\n",
    ")\n"
   ]
  },
  {
   "cell_type": "code",
   "execution_count": null,
   "metadata": {
    "_uuid": "6b4df0d9ad816de2e13075bcbd24517806e97aa2"
   },
   "outputs": [],
   "source": [
    "# create temp table temp_trans_freq to create new feature\n",
    "temp_before = get_date_loan_trans[(get_date_loan_trans[\"date_loan_trans\"] >= 0)]\n",
    "temp_trans_freq = (\n",
    "    temp_before.loc[:, [\"loan_id\", \"trans_id\"]]\n",
    "    .groupby([\"loan_id\"], as_index=None)\n",
    "    .count()\n",
    ")\n",
    "temp_trans_freq.rename(index=None, columns={\"trans_id\": \"trans_freq\"}, inplace=True)\n",
    "temp_before = temp_before.drop([\"trans_id\", \"k_symbol\"], axis=1)\n"
   ]
  },
  {
   "cell_type": "code",
   "execution_count": null,
   "metadata": {
    "_uuid": "9d11635d9b0e29684c7f3b22842cded5ff3b02ae"
   },
   "outputs": [],
   "source": [
    "# create temp table temp_balance_min & temp_balance_mean to create new features\n",
    "temp_balance_min = (\n",
    "    temp_before.groupby([\"loan_id\"], as_index=None).min().loc[:, [\"loan_id\", \"balance\"]]\n",
    ")\n",
    "temp_balance_min.rename(\n",
    "    index=None, columns={\"balance\": \"min_balance_befroe_loan\"}, inplace=True\n",
    ")\n",
    "\n",
    "temp_balance_mean = (\n",
    "    temp_before.groupby([\"loan_id\"], as_index=None)\n",
    "    .mean()\n",
    "    .loc[:, [\"loan_id\", \"amount_trans\", \"balance\"]]\n",
    ")\n",
    "temp_balance_mean.rename(\n",
    "    index=None,\n",
    "    columns={\n",
    "        \"amount_trans\": \"avg_amount_trans_before_loan\",\n",
    "        \"balance\": \"avg_balance_before_loan\",\n",
    "    },\n",
    "    inplace=True,\n",
    ")\n"
   ]
  },
  {
   "cell_type": "code",
   "execution_count": null,
   "metadata": {
    "_uuid": "d9dd7ad8fcdadade8e4f5306840254cff0475db3"
   },
   "outputs": [],
   "source": [
    "# create temp table times_balance_below_500 & times_balance_below_5K to create new features\n",
    "times_balance_below_500 = temp_before[temp_before.balance < 500]\n",
    "times_balance_below_500 = (\n",
    "    times_balance_below_500.groupby([\"loan_id\"], as_index=None)\n",
    "    .count()\n",
    "    .loc[:, [\"loan_id\", \"balance\"]]\n",
    ")\n",
    "times_balance_below_500 = times_balance_below_500[times_balance_below_500.balance > 1]\n",
    "times_balance_below_500.rename(\n",
    "    index=str, columns={\"balance\": \"times_balance_below_500\"}, inplace=True\n",
    ")\n",
    "\n",
    "times_balance_below_5K = temp_before[temp_before.balance < 5000]\n",
    "times_balance_below_5K = (\n",
    "    times_balance_below_5K.groupby([\"loan_id\"], as_index=None)\n",
    "    .count()\n",
    "    .loc[:, [\"loan_id\", \"balance\"]]\n",
    ")\n",
    "times_balance_below_5K = times_balance_below_5K[times_balance_below_5K.balance > 1]\n",
    "times_balance_below_5K.rename(\n",
    "    index=str, columns={\"balance\": \"times_balance_below_5K\"}, inplace=True\n",
    ")\n"
   ]
  },
  {
   "cell_type": "code",
   "execution_count": null,
   "metadata": {
    "_uuid": "e31d74020620cb91f349e2935c72d65509da178f"
   },
   "outputs": [],
   "source": [
    "# create temp table merge_loan_trans to merge the temp features above into one temp table\n",
    "merge_loan_trans = loan.merge(\n",
    "    temp_90_mean, how=\"left\", on=\"loan_id\", suffixes=(\"_loan\", \"_trans\")\n",
    ")\n",
    "merge_loan_trans = merge_loan_trans.merge(temp_30_mean, how=\"left\", on=\"loan_id\")\n",
    "merge_loan_trans = merge_loan_trans.merge(temp_trans_freq, how=\"left\", on=\"loan_id\")\n",
    "merge_loan_trans = merge_loan_trans.merge(temp_balance_min, how=\"left\", on=\"loan_id\")\n",
    "merge_loan_trans = merge_loan_trans.merge(temp_balance_mean, how=\"left\", on=\"loan_id\")\n",
    "merge_loan_trans = merge_loan_trans.merge(\n",
    "    times_balance_below_500, how=\"left\", on=\"loan_id\"\n",
    ")\n",
    "merge_loan_trans = merge_loan_trans.merge(\n",
    "    times_balance_below_5K, how=\"left\", on=\"loan_id\"\n",
    ")\n"
   ]
  },
  {
   "cell_type": "code",
   "execution_count": null,
   "metadata": {
    "_uuid": "dd3b22141d7af278e83c2afb5bfa46f95293f68a"
   },
   "outputs": [],
   "source": [
    "loan_BorD = loan[(loan.status == \"D\") | (loan.status == \"B\")]\n",
    "len(loan_BorD)\n"
   ]
  },
  {
   "cell_type": "code",
   "execution_count": null,
   "metadata": {
    "_uuid": "e2784ef9eba83737518466a93a86fd11bf0362a2"
   },
   "outputs": [],
   "source": [
    "temp = times_balance_below_500.merge(\n",
    "    loan,\n",
    "    how=\"inner\",\n",
    "    on=\"loan_id\",\n",
    "    left_on=None,\n",
    "    right_on=None,\n",
    "    left_index=False,\n",
    "    right_index=False,\n",
    "    sort=False,\n",
    "    suffixes=(\"_x\", \"_y\"),\n",
    "    copy=True,\n",
    "    indicator=False,\n",
    "    validate=None,\n",
    ")\n",
    "\n",
    "temp.status.value_counts()\n"
   ]
  },
  {
   "cell_type": "code",
   "execution_count": null,
   "metadata": {
    "_uuid": "f63ada06adc028aeb1208b0bc8780d054a0cc980"
   },
   "outputs": [],
   "source": [
    "plt.plot(temp.status, temp.times_balance_below_500, \"ro\")\n"
   ]
  },
  {
   "cell_type": "code",
   "execution_count": null,
   "metadata": {
    "_uuid": "2e9ba8b52a3df965c65164b9500c61571be333ff"
   },
   "outputs": [],
   "source": [
    "temp.sort_values(\"times_balance_below_500\", ascending=False).plot(\n",
    "    x=\"status\", y=\"times_balance_below_500\", kind=\"bar\"\n",
    ")\n"
   ]
  },
  {
   "cell_type": "code",
   "execution_count": null,
   "metadata": {
    "_uuid": "8404c88bdc54b3590ebc98eb8830b901c738361a"
   },
   "outputs": [],
   "source": [
    "t = loan.loc[:, [\"payments\", \"status\"]]\n",
    "t.head(3)\n"
   ]
  },
  {
   "cell_type": "code",
   "execution_count": null,
   "metadata": {
    "_uuid": "ef77c5267f9ecb7a6706e929c985b7d7b6e70411"
   },
   "outputs": [],
   "source": [
    "t = t.groupby([\"status\"], as_index=None).mean()\n",
    "t.plot(kind=\"bar\")\n"
   ]
  },
  {
   "cell_type": "markdown",
   "metadata": {
    "_uuid": "b731fa579a68ff58757848461bc52095e05c6f24"
   },
   "source": [
    "# Merge tables"
   ]
  },
  {
   "cell_type": "code",
   "execution_count": null,
   "metadata": {
    "_uuid": "c1a4d110bc546a126f9109be5a80fda44b6e83d1"
   },
   "outputs": [],
   "source": [
    "df = pd.merge(\n",
    "    merge_loan_trans,\n",
    "    account,\n",
    "    how=\"left\",\n",
    "    on=\"account_id\",\n",
    "    left_on=None,\n",
    "    right_on=None,\n",
    "    left_index=False,\n",
    "    right_index=False,\n",
    "    sort=False,\n",
    "    suffixes=(\"_loan\", \"_account\"),\n",
    "    copy=True,\n",
    "    indicator=False,\n",
    "    validate=None,\n",
    ")\n"
   ]
  },
  {
   "cell_type": "code",
   "execution_count": null,
   "metadata": {
    "_uuid": "15583e9948f477794232b437677ad6f757f8cb1f"
   },
   "outputs": [],
   "source": [
    "df = pd.merge(\n",
    "    df,\n",
    "    order,\n",
    "    how=\"left\",\n",
    "    on=\"account_id\",\n",
    "    left_on=None,\n",
    "    right_on=None,\n",
    "    left_index=False,\n",
    "    right_index=False,\n",
    "    sort=False,\n",
    "    suffixes=(\"_a\", \"_order\"),\n",
    "    copy=True,\n",
    "    indicator=False,\n",
    "    validate=None,\n",
    ")\n"
   ]
  },
  {
   "cell_type": "code",
   "execution_count": null,
   "metadata": {
    "_uuid": "cad7c0daa3527bc8ee10b7ef4605cf497897f747"
   },
   "outputs": [],
   "source": [
    "df = pd.merge(\n",
    "    df,\n",
    "    disp,\n",
    "    how=\"left\",\n",
    "    on=\"account_id\",\n",
    "    left_on=None,\n",
    "    right_on=None,\n",
    "    left_index=False,\n",
    "    right_index=False,\n",
    "    sort=False,\n",
    "    suffixes=(\"_b\", \"_disp\"),\n",
    "    copy=True,\n",
    "    indicator=False,\n",
    "    validate=None,\n",
    ")\n"
   ]
  },
  {
   "cell_type": "code",
   "execution_count": null,
   "metadata": {
    "_uuid": "30cd61df1d5df945bedfa3a8a632ed31f3f229cd"
   },
   "outputs": [],
   "source": [
    "df = pd.merge(\n",
    "    df,\n",
    "    card,\n",
    "    how=\"left\",\n",
    "    on=\"disp_id\",\n",
    "    left_on=None,\n",
    "    right_on=None,\n",
    "    left_index=False,\n",
    "    right_index=False,\n",
    "    sort=False,\n",
    "    suffixes=(\"_c\", \"_card\"),\n",
    "    copy=True,\n",
    "    indicator=False,\n",
    "    validate=None,\n",
    ")\n"
   ]
  },
  {
   "cell_type": "code",
   "execution_count": null,
   "metadata": {
    "_uuid": "59e3c6cccd3d5eeb8ccfa6febeb1c6b46778e64d"
   },
   "outputs": [],
   "source": [
    "df = pd.merge(\n",
    "    df,\n",
    "    client,\n",
    "    how=\"left\",\n",
    "    on=\"client_id\",\n",
    "    left_on=None,\n",
    "    right_on=None,\n",
    "    left_index=False,\n",
    "    right_index=False,\n",
    "    sort=False,\n",
    "    suffixes=(\"_d\", \"_client\"),\n",
    "    copy=True,\n",
    "    indicator=False,\n",
    "    validate=None,\n",
    ")\n"
   ]
  },
  {
   "cell_type": "code",
   "execution_count": null,
   "metadata": {
    "_uuid": "83cacef059f289183b2fa515cd6ce6d39b1b9cd5"
   },
   "outputs": [],
   "source": [
    "df = pd.merge(\n",
    "    df,\n",
    "    district,\n",
    "    how=\"left\",\n",
    "    left_on=\"district_id_client\",\n",
    "    right_on=\"A1\",\n",
    "    left_index=False,\n",
    "    right_index=False,\n",
    "    sort=False,\n",
    "    suffixes=(\"_e\", \"_district\"),\n",
    "    copy=True,\n",
    "    indicator=False,\n",
    "    validate=None,\n",
    ")\n"
   ]
  },
  {
   "cell_type": "code",
   "execution_count": null,
   "metadata": {
    "_uuid": "2f85cc33b1b65f23feceed68291314aec6a7139e"
   },
   "outputs": [],
   "source": [
    "before_loan_date = get_date_loan_trans[(get_date_loan_trans[\"date_loan_trans\"] >= 0)]\n",
    "before_loan_date = before_loan_date.loc[:, [\"account_id\", \"trans_id\"]]\n",
    "trans_pv_k_symbol = pd.merge(\n",
    "    before_loan_date,\n",
    "    trans_pv_k_symbol,\n",
    "    how=\"left\",\n",
    "    on=\"trans_id\",\n",
    "    left_on=None,\n",
    "    right_on=None,\n",
    "    left_index=False,\n",
    "    right_index=False,\n",
    "    sort=False,\n",
    "    suffixes=(\"_before\", \"_df2\"),\n",
    "    copy=True,\n",
    "    indicator=False,\n",
    "    validate=None,\n",
    ")\n",
    "trans_pv_k_symbol.drop(\n",
    "    [\"account_id_df2\", \"date\", \"trans_id\"], axis=1, inplace=True\n",
    ")\n",
    "trans_pv_k_symbol.rename(columns={\"account_id_before\": \"account_id\"}, inplace=True)\n",
    "trans_pv_k_symbol = trans_pv_k_symbol.groupby(\n",
    "    by=\"account_id\", axis=0, as_index=False, sort=True, group_keys=True, squeeze=False\n",
    ").mean()\n"
   ]
  },
  {
   "cell_type": "code",
   "execution_count": null,
   "metadata": {
    "_uuid": "41464395b9ca5e12d2fb7a1cb6159db3da6fdcae"
   },
   "outputs": [],
   "source": [
    "df = pd.merge(\n",
    "    df,\n",
    "    trans_pv_k_symbol,\n",
    "    how=\"left\",\n",
    "    on=\"account_id\",\n",
    "    left_on=None,\n",
    "    right_on=None,\n",
    "    left_index=False,\n",
    "    right_index=False,\n",
    "    sort=False,\n",
    "    suffixes=(\"_df\", \"_tt\"),\n",
    "    copy=True,\n",
    "    indicator=False,\n",
    "    validate=None,\n",
    ")\n"
   ]
  },
  {
   "cell_type": "markdown",
   "metadata": {
    "_uuid": "ee2a376881a04788b0adbd6b9eb9c224814cc554"
   },
   "source": [
    "# Data Cleaning"
   ]
  },
  {
   "cell_type": "code",
   "execution_count": null,
   "metadata": {
    "_uuid": "d019cce0a19eb7ae897ae6047a6ed8334bf094f4"
   },
   "outputs": [],
   "source": [
    "df[\"year_\"] = df.date_loan.apply(lambda x: x.year, convert_dtype=int, args=())\n",
    "df[\"years_of_loan\"] = 1999 - df.year_\n",
    "df.drop([\"date_loan\", \"year_\"], axis=1, inplace=True)\n",
    "df.frequency = df.frequency.map(\n",
    "    {\"POPLATEK MESICNE\": 30, \"POPLATEK TYDNE\": 7, \"POPLATEK PO OBRATU\": 1}\n",
    ")\n"
   ]
  },
  {
   "cell_type": "code",
   "execution_count": null,
   "metadata": {
    "_uuid": "b5308e19609f8d14deff98c183293a16e2ae4a6b"
   },
   "outputs": [],
   "source": [
    "df[\"year_\"] = df.date_account.apply(lambda x: x.year, convert_dtype=int, args=())\n",
    "df[\"years_of_account\"] = 1999 - df.year_\n",
    "df.drop([\"date_account\", \"year_\", \"type_disp\"], axis=1, inplace=True)\n"
   ]
  },
  {
   "cell_type": "code",
   "execution_count": null,
   "metadata": {
    "_uuid": "e5a2bba278a2a1a4c93e3eec24d7b6e803348496"
   },
   "outputs": [],
   "source": [
    "df.issued.fillna(\"999999\", inplace=True)\n",
    "df[\"years_card_issued\"] = df.issued.apply(\n",
    "    lambda x: (99 - int(x[:2])), convert_dtype=int\n",
    ")\n",
    "df.drop([\"issued\",\"A12\",\"A15\"], axis=1, inplace=True)\n"
   ]
  },
  {
   "cell_type": "code",
   "execution_count": null,
   "metadata": {
    "_uuid": "035bc6035136c6aa8e3f1193e4f3b01e7d84ace8"
   },
   "outputs": [],
   "source": [
    "df.fillna(0, inplace=True)\n"
   ]
  },
  {
   "cell_type": "code",
   "execution_count": null,
   "metadata": {
    "_uuid": "8fa89334fde4b6744d651510f814482952b51885"
   },
   "outputs": [],
   "source": [
    "df.status.value_counts()\n"
   ]
  },
  {
   "cell_type": "code",
   "execution_count": null,
   "metadata": {
    "_uuid": "55940ef9ba06afdab24baf2842b897daa2cd32c4"
   },
   "outputs": [],
   "source": [
    "df.info()\n"
   ]
  },
  {
   "cell_type": "markdown",
   "metadata": {
    "_uuid": "632eff5687a62d3efa53c2e3b014a264e44ad1f7"
   },
   "source": [
    "# Get label"
   ]
  },
  {
   "cell_type": "code",
   "execution_count": null,
   "metadata": {
    "_uuid": "ca5b1056cc1f89ba7246cf97e228a5c11c3ef17e"
   },
   "outputs": [],
   "source": [
    "m = {\"A\": 0, \"B\": 1, \"C\": 0, \"D\": 1}\n",
    "df.status = df.status.map(m)\n",
    "df.status.unique()\n"
   ]
  },
  {
   "cell_type": "code",
   "execution_count": null,
   "metadata": {
    "_uuid": "ade11ae3b5be723a14a6893fb8220cb06a6559d2"
   },
   "outputs": [],
   "source": [
    "df = pd.get_dummies(df, drop_first=True)\n"
   ]
  },
  {
   "cell_type": "code",
   "execution_count": null,
   "metadata": {
    "_uuid": "b14fe83efd9145dcaa00d4117a146f0ca62c7c6d"
   },
   "outputs": [],
   "source": [
    "df.columns.unique()"
   ]
  },
  {
   "cell_type": "code",
   "execution_count": null,
   "metadata": {
    "_uuid": "dfd165c3a7fa6fcf95a2c9b2c7665bcf8012050b"
   },
   "outputs": [],
   "source": [
    "df.drop(\n",
    "    [\n",
    "        \"loan_id\",\n",
    "        \"account_id\",\n",
    "        \"district_id_d\",\n",
    "        \"disp_id\",\n",
    "        \"client_id\",\n",
    "        \"card_id\",\n",
    "        \"district_id_client\",\n",
    "    ],\n",
    "    axis=1,\n",
    "    inplace=True,\n",
    ")\n"
   ]
  },
  {
   "cell_type": "markdown",
   "metadata": {
    "_uuid": "78924bf39d16e0f9a8a1dcffbb0e9fb86151d98f"
   },
   "source": [
    "# Standard processing and Training/Test set Split"
   ]
  },
  {
   "cell_type": "code",
   "execution_count": null,
   "metadata": {
    "_uuid": "67b88076af7cc4d638b612e0d2530f4341362d46"
   },
   "outputs": [],
   "source": [
    "X = df.loc[:, df.columns != \"status\"]\n",
    "y = df.loc[:, \"status\"]\n",
    "X_train, X_test, y_train, y_test = train_test_split(X, y, test_size=0.3)\n"
   ]
  },
  {
   "cell_type": "markdown",
   "metadata": {
    "_uuid": "6e11c9fe499221c69494d01c5f4afc3f161aa219"
   },
   "source": [
    "# Model Evaluation"
   ]
  },
  {
   "cell_type": "markdown",
   "metadata": {
    "_uuid": "cae9f13d9c5679da7c79f9de40325465c8a08781"
   },
   "source": [
    "# Draft Modeling: Random Forest"
   ]
  },
  {
   "cell_type": "code",
   "execution_count": null,
   "metadata": {
    "_uuid": "b7b9ce9be5b9dfe4b9ac9a30b8a53d76deabfcf1"
   },
   "outputs": [],
   "source": [
    "rf = ensemble.RandomForestClassifier(\n",
    "    n_estimators=200,\n",
    "    criterion=\"gini\",\n",
    "    max_depth=None,\n",
    "    min_samples_split=2,\n",
    "    min_samples_leaf=1,\n",
    "    min_weight_fraction_leaf=0.0,\n",
    "    max_features=\"auto\",\n",
    "    max_leaf_nodes=None,\n",
    "    min_impurity_decrease=0.0,\n",
    "    min_impurity_split=None,\n",
    "    bootstrap=True,\n",
    "    oob_score=False,\n",
    "    n_jobs=1,\n",
    "    random_state=None,\n",
    "    verbose=0,\n",
    "    warm_start=False,\n",
    "    class_weight=None,\n",
    ")\n",
    "rf.fit(X_train, y_train)\n",
    "y_pred = rf.predict(X_test)\n"
   ]
  },
  {
   "cell_type": "code",
   "execution_count": null,
   "metadata": {
    "_uuid": "fb7cd23fe9829b18b82213305255d311504eefd0"
   },
   "outputs": [],
   "source": [
    "print(classification_report(y_test, y_pred))\n"
   ]
  },
  {
   "cell_type": "code",
   "execution_count": null,
   "metadata": {
    "_uuid": "ca1e2af8e34f38deef70d195f366aff01b955cf3"
   },
   "outputs": [],
   "source": [
    "skplt.metrics.plot_confusion_matrix(y_test, y_pred)\n"
   ]
  },
  {
   "cell_type": "code",
   "execution_count": null,
   "metadata": {
    "_uuid": "26b1301088128391f0da5e421e15a9b90195515a"
   },
   "outputs": [],
   "source": [
    "fi = rf.feature_importances_\n"
   ]
  },
  {
   "cell_type": "code",
   "execution_count": null,
   "metadata": {
    "_uuid": "5941dff4698469ba639cb003a42a28e9f7191f00"
   },
   "outputs": [],
   "source": [
    "feature_cols = X_test.columns\n",
    "importance = pd.DataFrame(\n",
    "    {\"feature\": feature_cols, \"importance\": rf.feature_importances_}\n",
    ")\n"
   ]
  },
  {
   "cell_type": "code",
   "execution_count": null,
   "metadata": {
    "_uuid": "7e4f848cafd98f50ff3ca4838f24b4bbdb34b337"
   },
   "outputs": [],
   "source": [
    "importance = pd.DataFrame(\n",
    "    {\"feature\": feature_cols[:], \"importance\": rf.feature_importances_[:]}\n",
    ")\n",
    "importance.sort_values(\n",
    "    by=\"importance\",\n",
    "    axis=0,\n",
    "    ascending=False,\n",
    "    inplace=True,\n",
    "    kind=\"quicksort\",\n",
    "    na_position=\"last\",\n",
    ")\n",
    "importance[:20].plot(x=\"feature\", y=\"importance\", kind=\"bar\")\n"
   ]
  },
  {
   "cell_type": "markdown",
   "metadata": {
    "_uuid": "583e0cd8d5f18deb4cc20d6c5ae79e7e3c24ff82"
   },
   "source": [
    "# Visualization & Feature Selection"
   ]
  },
  {
   "cell_type": "code",
   "execution_count": null,
   "metadata": {
    "_uuid": "086a706e391b212443fd91610b1bce22d6360adf"
   },
   "outputs": [],
   "source": [
    "df.groupby([\"sex\", \"status\"])[\"status\"].size().groupby(level=0).apply(\n",
    "    lambda x: 100 * x / x.sum()\n",
    ").unstack().plot(kind=\"bar\", stacked=True)\n",
    "plt.xlabel({\"1\": \"male\", \"0\": \"female\"})\n",
    "plt.gca().yaxis.set_major_formatter(mtick.PercentFormatter())\n",
    "plt.ylabel(\"percentage - default or not\")\n",
    "plt.show()\n"
   ]
  },
  {
   "cell_type": "code",
   "execution_count": null,
   "metadata": {
    "_uuid": "fe2805514058eb04e9b6c526e7c4fd13c308ba6a"
   },
   "outputs": [],
   "source": [
    "df.groupby([\"sex\", \"status\"])[\"status\"].size()\n"
   ]
  },
  {
   "cell_type": "code",
   "execution_count": null,
   "metadata": {
    "_uuid": "fee7073c52606d0e35975909137b4e5ee12b9b17"
   },
   "outputs": [],
   "source": [
    "df.groupby([\"age\", \"status\"])[\"status\"].size().groupby(level=0).apply(\n",
    "    lambda x: 100 * x / x.sum()\n",
    ").unstack().plot(kind=\"hist\", stacked=True)\n",
    "plt.gca().yaxis.set_major_formatter(mtick.PercentFormatter())\n",
    "plt.show()\n"
   ]
  },
  {
   "cell_type": "code",
   "execution_count": null,
   "metadata": {
    "_uuid": "4cda8682f121b73d14d7ca6aed4f62227beede17"
   },
   "outputs": [],
   "source": [
    "df.groupby([\"times_balance_below_5K\", \"status\"])[\"status\"].size().groupby(\n",
    "    level=0\n",
    ").apply(lambda x: 100 * x / x.sum()).unstack().plot(kind=\"bar\", stacked=True)\n",
    "plt.gca().yaxis.set_major_formatter(mtick.PercentFormatter())\n",
    "plt.ylabel(\"percentage - default or not\")\n",
    "plt.show()\n"
   ]
  },
  {
   "cell_type": "code",
   "execution_count": null,
   "metadata": {
    "_uuid": "deda205617de3b738b902b6144b361fabb71e2b6"
   },
   "outputs": [],
   "source": [
    "df.groupby([\"years_card_issued\", \"status\"])[\"status\"].size().groupby(level=0).apply(\n",
    "    lambda x: 100 * x / x.sum()\n",
    ").unstack().plot(kind=\"bar\", stacked=True)\n",
    "plt.gca().yaxis.set_major_formatter(mtick.PercentFormatter())\n",
    "plt.ylabel(\"percentage - default or not\")\n",
    "plt.xlabel(\"years_visa_card_owned\")\n",
    "plt.legend(loc=1)\n",
    "plt.show()\n"
   ]
  },
  {
   "cell_type": "code",
   "execution_count": null,
   "metadata": {
    "_uuid": "63b4ef839005545ce217d5a24aed72d586c530f1"
   },
   "outputs": [],
   "source": [
    "df.hist(column=\"age\", by=\"status\", bins=20)\n",
    "plt.xlabel(\"age\")\n",
    "plt.ylabel(\"count_of_loan_id\")\n"
   ]
  },
  {
   "cell_type": "code",
   "execution_count": null,
   "metadata": {
    "_uuid": "02ccff0df812412019abbfc83d1b768c6b984b8f"
   },
   "outputs": [],
   "source": [
    "# Binning:\n",
    "def binning(col, cut_points, labels=None):\n",
    "    # Define min and max values:\n",
    "    minval = col.min()\n",
    "    maxval = col.max()\n",
    "\n",
    "    # create list by adding min and max to cut_points\n",
    "    break_points = [minval] + cut_points + [maxval]\n",
    "\n",
    "    # if no labels provided, use default labels 0 ... (n-1)\n",
    "    if not labels:\n",
    "        labels = range(len(cut_points) + 1)\n",
    "\n",
    "    # Binning using cut function of pandas\n",
    "    colBin = pd.cut(col, bins=break_points, labels=labels, include_lowest=True)\n",
    "    return colBin\n",
    "\n",
    "\n",
    "# Binning age:\n",
    "cut_points = [24, 34, 44, 50]\n",
    "labels = [\"20\", \"25\", \"35\", \"45\", \"50\"]\n",
    "df[\"age_bin\"] = binning(df[\"age\"], cut_points, labels)\n"
   ]
  },
  {
   "cell_type": "code",
   "execution_count": null,
   "metadata": {
    "_uuid": "6198229ab69b04780fe618698104f72e90c4482d"
   },
   "outputs": [],
   "source": [
    "df.groupby([\"age_bin\", \"status\"])[\"status\"].size().groupby(level=0).apply(\n",
    "    lambda x: 100 * x / x.sum()\n",
    ").unstack().plot(kind=\"bar\", stacked=True)\n",
    "\n",
    "plt.gca().yaxis.set_major_formatter(mtick.PercentFormatter())\n",
    "\n",
    "plt.ylabel(\"percentage - default or not\")\n"
   ]
  },
  {
   "cell_type": "code",
   "execution_count": null,
   "metadata": {
    "_uuid": "2225d8324ba59d1ff954f09a00179361be07e370"
   },
   "outputs": [],
   "source": [
    "df[df.status == 1].head()\n"
   ]
  },
  {
   "cell_type": "code",
   "execution_count": null,
   "metadata": {
    "_uuid": "c58de4e04acac32ef4248d957d8a851603f2da93"
   },
   "outputs": [],
   "source": [
    "a = loan.groupby(\n",
    "    by=\"status\", axis=0, level=None, as_index=True, sort=True, group_keys=True\n",
    ")\n",
    "a.payments.mean().plot(kind=\"bar\")\n",
    "plt.ylabel(\"payments\")\n"
   ]
  },
  {
   "cell_type": "code",
   "execution_count": null,
   "metadata": {
    "_uuid": "15c87a9fb1c91c14b51ae0edb04dfaf2e80cd08a"
   },
   "outputs": [],
   "source": [
    "# plot heatmap\n",
    "import seaborn as sns\n",
    "\n",
    "cols = list(importance.feature[:10])\n",
    "cols.insert(0, \"status\")\n",
    "corrcoef_map = np.corrcoef(df[cols].values.T)\n",
    "fig, ax = plt.subplots(figsize=(12, 12))  # Sample figsize in inches\n",
    "hm = sns.heatmap(\n",
    "    corrcoef_map,\n",
    "    cbar=True,\n",
    "    annot=True,\n",
    "    square=True,\n",
    "    fmt=\".2f\",\n",
    "    annot_kws={\"size\": 15},\n",
    "    yticklabels=cols,\n",
    "    xticklabels=cols,\n",
    "    ax=ax,\n",
    ")\n"
   ]
  },
  {
   "cell_type": "markdown",
   "metadata": {
    "_uuid": "9fe10266d493e80cca42c64048b21d6de9ebf949"
   },
   "source": [
    "# Create X, y, training/testing set split"
   ]
  },
  {
   "cell_type": "code",
   "execution_count": null,
   "metadata": {
    "_uuid": "de36eb1bcf8d393164d9d57aef5d81fe194c993f"
   },
   "outputs": [],
   "source": [
    "X = df.loc[:, df.columns != \"status\"]\n",
    "y = df.loc[:, \"status\"]\n",
    "X_train, X_test, y_train, y_test = train_test_split(X, y, test_size=0.3)\n"
   ]
  },
  {
   "cell_type": "markdown",
   "metadata": {
    "_uuid": "9d268a0bc53d06bd693de3bf065d0567b942cef0"
   },
   "source": [
    "# Modeling: Random Forest"
   ]
  },
  {
   "cell_type": "code",
   "execution_count": null,
   "metadata": {
    "_uuid": "a96f3340a5cf2f5c24b51fe7b0222f111c624251"
   },
   "outputs": [],
   "source": [
    "rf = ensemble.RandomForestClassifier(\n",
    "    n_estimators=800,\n",
    "    criterion=\"gini\",\n",
    "    max_depth=None,\n",
    "    min_samples_split=2,\n",
    "    min_samples_leaf=1,\n",
    "    min_weight_fraction_leaf=0.0,\n",
    "    max_features=\"auto\",\n",
    "    max_leaf_nodes=None,\n",
    "    min_impurity_decrease=0.0,\n",
    "    min_impurity_split=None,\n",
    "    bootstrap=True,\n",
    "    oob_score=False,\n",
    "    n_jobs=1,\n",
    "    random_state=None,\n",
    "    verbose=0,\n",
    "    warm_start=False,\n",
    "    class_weight=None,\n",
    ")\n",
    "rf.fit(X_train, y_train)\n",
    "y_pred = rf.predict(X_test)\n"
   ]
  },
  {
   "cell_type": "code",
   "execution_count": null,
   "metadata": {
    "_uuid": "82650f0fae785a965f132f2ac750cda02b9b9394"
   },
   "outputs": [],
   "source": [
    "print(classification_report(y_test, y_pred))\n"
   ]
  },
  {
   "cell_type": "code",
   "execution_count": null,
   "metadata": {
    "_uuid": "1a5572007e6a1e92f3350c2481cb3eae76bd5f2f"
   },
   "outputs": [],
   "source": [
    "skplt.metrics.plot_confusion_matrix(y_test, y_pred)\n"
   ]
  },
  {
   "cell_type": "code",
   "execution_count": null,
   "metadata": {
    "_uuid": "5d5e44173802bcecd220e5a668d54ba7823c74d1"
   },
   "outputs": [],
   "source": [
    "fi = rf.feature_importances_\n"
   ]
  },
  {
   "cell_type": "code",
   "execution_count": null,
   "metadata": {
    "_uuid": "babf8912ef4bb8ca781d65f44e5cf211fa646f0c"
   },
   "outputs": [],
   "source": [
    "feature_cols = X_test.columns\n",
    "importance = pd.DataFrame(\n",
    "    {\"feature\": feature_cols, \"importance\": rf.feature_importances_}\n",
    ")\n"
   ]
  },
  {
   "cell_type": "code",
   "execution_count": null,
   "metadata": {
    "_uuid": "929a973a96b8af1aba5d91b8fa04e844d1abf9ec"
   },
   "outputs": [],
   "source": [
    "feature_cols = X_test.columns\n",
    "importance = pd.DataFrame(\n",
    "    {\"feature\": feature_cols[:], \"importance\": rf.feature_importances_[:]}\n",
    ")\n",
    "importance.sort_values(\n",
    "    by=\"importance\",\n",
    "    axis=0,\n",
    "    ascending=False,\n",
    "    inplace=True,\n",
    "    kind=\"quicksort\",\n",
    "    na_position=\"last\",\n",
    ")\n",
    "importance[:18].plot(x=\"feature\", y=\"importance\", kind=\"bar\")\n",
    "plt.ylabel(\"importance\")\n"
   ]
  },
  {
   "cell_type": "markdown",
   "metadata": {
    "_uuid": "0aa4fd0274f08d13b6cb646f78b738e0e31377ba"
   },
   "source": [
    "# Decision Tree"
   ]
  },
  {
   "cell_type": "code",
   "execution_count": null,
   "metadata": {
    "_uuid": "bd3379a3fcee765713323c19e0086ac5f661fc69"
   },
   "outputs": [],
   "source": [
    "clf = tree.DecisionTreeClassifier(\n",
    "    criterion=\"gini\",\n",
    "    splitter=\"best\",\n",
    "    max_depth=5,\n",
    "    min_samples_split=2,\n",
    "    min_samples_leaf=1,\n",
    "    min_weight_fraction_leaf=0.0,\n",
    "    max_features=None,\n",
    "    random_state=None,\n",
    "    max_leaf_nodes=None,\n",
    "    min_impurity_decrease=0.0,\n",
    "    min_impurity_split=None,\n",
    "    class_weight=None,\n",
    "    presort=False,\n",
    ")\n",
    "\n",
    "model = clf.fit(X_train, y_train)\n",
    "y_pred = clf.predict(X_test)\n"
   ]
  },
  {
   "cell_type": "code",
   "execution_count": null,
   "metadata": {
    "_uuid": "70af723776dd4797c056d2fd3285e17cdcaaa305"
   },
   "outputs": [],
   "source": [
    "print(classification_report(y_test, y_pred))\n"
   ]
  },
  {
   "cell_type": "code",
   "execution_count": null,
   "metadata": {
    "_uuid": "d62b95f5a3895e56c768a02c908761e833038062"
   },
   "outputs": [],
   "source": [
    "skplt.metrics.plot_confusion_matrix(y_test, y_pred)\n"
   ]
  },
  {
   "cell_type": "code",
   "execution_count": null,
   "metadata": {
    "_uuid": "739f89fb8118d9ddaf2e1bfbcc47416cfb95cb58"
   },
   "outputs": [],
   "source": [
    "feature_cols = X_test.columns\n",
    "importance = pd.DataFrame(\n",
    "    {\"feature\": feature_cols[:], \"importance\": rf.feature_importances_[:]}\n",
    ")\n",
    "importance.sort_values(\n",
    "    by=\"importance\",\n",
    "    axis=0,\n",
    "    ascending=False,\n",
    "    inplace=True,\n",
    "    kind=\"quicksort\",\n",
    "    na_position=\"last\",\n",
    ")\n",
    "importance[:18].plot(x=\"feature\", y=\"importance\", kind=\"bar\")\n"
   ]
  },
  {
   "cell_type": "markdown",
   "metadata": {
    "_uuid": "4914522f6cfb28289f28a844b60d878bec6063c7"
   },
   "source": [
    "# Gradient Boosting Classifier"
   ]
  },
  {
   "cell_type": "code",
   "execution_count": null,
   "metadata": {
    "_uuid": "820d2c7d61fea293068de7ba6e267661e4cb8247"
   },
   "outputs": [],
   "source": [
    "from sklearn.ensemble import GradientBoostingClassifier\n",
    "\n",
    "clf = GradientBoostingClassifier(\n",
    "    loss=\"deviance\",\n",
    "    learning_rate=0.1,\n",
    "    n_estimators=200,\n",
    "    subsample=1.0,\n",
    "    criterion=\"friedman_mse\",\n",
    "    min_samples_split=2,\n",
    "    min_samples_leaf=1,\n",
    "    min_weight_fraction_leaf=0.0,\n",
    "    max_depth=3,\n",
    "    min_impurity_decrease=0.0,\n",
    "    min_impurity_split=None,\n",
    "    init=None,\n",
    "    random_state=None,\n",
    "    max_features=None,\n",
    ")\n",
    "model = clf.fit(X_train, y_train)\n",
    "y_pred = clf.predict(X_test)\n"
   ]
  },
  {
   "cell_type": "code",
   "execution_count": null,
   "metadata": {
    "_uuid": "48b6571e431e9f4f902b0925e2d77c40261bb9ac"
   },
   "outputs": [],
   "source": [
    "print(classification_report(y_test, y_pred))\n"
   ]
  },
  {
   "cell_type": "code",
   "execution_count": null,
   "metadata": {
    "_uuid": "21bcc5957a2b1289c34323de883ef40e4ce5ff85"
   },
   "outputs": [],
   "source": [
    "skplt.metrics.plot_confusion_matrix(y_test, y_pred)\n"
   ]
  },
  {
   "cell_type": "markdown",
   "metadata": {
    "_uuid": "e7cb1f51792ce5c49c7abb8d5c378a322fed3549"
   },
   "source": [
    "# Feature Scaling - for SVM & Logistic Regression"
   ]
  },
  {
   "cell_type": "code",
   "execution_count": null,
   "metadata": {
    "_uuid": "bd6ed7b570129bd1973910ecd62eacc224b5b0fb"
   },
   "outputs": [],
   "source": [
    "# Standard processing\n",
    "sc = StandardScaler()\n",
    "X.drop(['age_bin'], axis=1, inplace=True)\n",
    "X = sc.fit_transform(X)\n",
    "X_train, X_test, y_train, y_test = train_test_split(X, y, test_size=0.3)\n"
   ]
  },
  {
   "cell_type": "markdown",
   "metadata": {
    "_uuid": "ccadff9e5e2e23d07aa4159c408acf179e2f79a1"
   },
   "source": [
    "# SVM"
   ]
  },
  {
   "cell_type": "code",
   "execution_count": null,
   "metadata": {
    "_uuid": "c4025c9ad3e7169a68c67701ced30c0da512cf67"
   },
   "outputs": [],
   "source": [
    "svc = svm.SVC(\n",
    "    C=5,\n",
    "    kernel=\"rbf\",\n",
    "    degree=3,\n",
    "    gamma=\"auto\",\n",
    "    coef0=0.0,\n",
    "    shrinking=True,\n",
    "    probability=False,\n",
    "    tol=0.001,\n",
    "    cache_size=200,\n",
    "    class_weight=None,\n",
    "    verbose=False,\n",
    "    max_iter=-1,\n",
    "    decision_function_shape=\"ovr\",\n",
    "    random_state=None,\n",
    ")\n",
    "model = svc.fit(X_train, y_train)\n",
    "\n",
    "y_pred = svc.predict(X_test)\n"
   ]
  },
  {
   "cell_type": "code",
   "execution_count": null,
   "metadata": {
    "_uuid": "29939bde4c797d2ee5556f3fb718c1b43684a48e"
   },
   "outputs": [],
   "source": [
    "print(classification_report(y_test, y_pred))\n"
   ]
  },
  {
   "cell_type": "code",
   "execution_count": null,
   "metadata": {
    "_uuid": "f38539aa3c748445c83740beca7af94ac571c885"
   },
   "outputs": [],
   "source": [
    "skplt.metrics.plot_confusion_matrix(y_test, y_pred)\n"
   ]
  },
  {
   "cell_type": "markdown",
   "metadata": {
    "_uuid": "a08943ae895538f94c83a15894bb10a7e3ceb386"
   },
   "source": [
    "# Logistic Regression"
   ]
  },
  {
   "cell_type": "code",
   "execution_count": null,
   "metadata": {
    "_uuid": "0e2783fd3f05e14ed3d7738751d4481e2c89ae1c"
   },
   "outputs": [],
   "source": [
    "lr = LogisticRegression(penalty=\"l1\", C=1).fit(X_train, y_train)\n",
    "y_pred = lr.predict(X_test)\n"
   ]
  },
  {
   "cell_type": "code",
   "execution_count": null,
   "metadata": {
    "_uuid": "a7ba35d0330ce9ff4016941578afca2d7938b0d4"
   },
   "outputs": [],
   "source": [
    "print(classification_report(y_test, y_pred))\n"
   ]
  },
  {
   "cell_type": "code",
   "execution_count": null,
   "metadata": {
    "_uuid": "950996a2498819767be00bcbd9a1c6d316d84f97"
   },
   "outputs": [],
   "source": [
    "skplt.metrics.plot_confusion_matrix(y_test, y_pred)\n"
   ]
  },
  {
   "cell_type": "markdown",
   "metadata": {
    "_uuid": "cd59bf2adddbfddb9a3d2e37551890696de0bc9d"
   },
   "source": [
    "# Try: Use only two features **to plot Decision Boundary"
   ]
  },
  {
   "cell_type": "code",
   "execution_count": null,
   "metadata": {
    "_uuid": "a532e7a5d3160eff52f4a7f33d23371986049e90"
   },
   "outputs": [],
   "source": [
    "def plot_decision_boundary(model, X, y):\n",
    "    X_max = X.max(axis=0)\n",
    "    X_min = X.min(axis=0)\n",
    "    xticks = np.linspace(X_min[0], X_max[0], 100)\n",
    "    yticks = np.linspace(X_min[1], X_max[1], 100)\n",
    "    xx, yy = np.meshgrid(xticks, yticks)\n",
    "    ZZ = model.predict(np.c_[xx.ravel(), yy.ravel()])\n",
    "    Z = ZZ >= 0.5\n",
    "    Z = Z.reshape(xx.shape)\n",
    "    fig, ax = plt.subplots()\n",
    "    ax = plt.gca()\n",
    "    ax.contourf(xx, yy, Z, cmap=plt.cm.PRGn, alpha=0.6)\n",
    "    ax.scatter(X.iloc[:, 0], X.iloc[:, 1], c=y, alpha=0.6)\n"
   ]
  },
  {
   "cell_type": "code",
   "execution_count": null,
   "metadata": {
    "_uuid": "3ed55b49fa7262c22a7ba364b9f4d3361fccdfcb"
   },
   "outputs": [],
   "source": [
    "X = df[[\"min_balance_befroe_loan\", \"times_balance_below_5K\"]]\n",
    "y = df[\"status\"]\n"
   ]
  },
  {
   "cell_type": "code",
   "execution_count": null,
   "metadata": {
    "_uuid": "88b586c4b708de84da6fd4a1d5e266364be40f4a"
   },
   "outputs": [],
   "source": [
    "rf = ensemble.RandomForestClassifier(\n",
    "    n_estimators=500,\n",
    "    criterion=\"gini\",\n",
    "    max_depth=4,\n",
    "    min_samples_split=2,\n",
    "    min_samples_leaf=1,\n",
    "    min_weight_fraction_leaf=0.0,\n",
    "    max_features=\"auto\",\n",
    "    max_leaf_nodes=None,\n",
    "    min_impurity_decrease=0.0,\n",
    "    min_impurity_split=None,\n",
    "    bootstrap=True,\n",
    "    oob_score=False,\n",
    "    n_jobs=1,\n",
    "    random_state=None,\n",
    "    verbose=0,\n",
    "    warm_start=False,\n",
    "    class_weight=None,\n",
    ")\n",
    "\n",
    "X_train, X_test, y_train, y_test = train_test_split(X, y)\n",
    "model = rf.fit(X_train, y_train)\n",
    "y_pred = rf.predict(X_test)\n",
    "f1 = f1_score(y_pred, y_test)\n",
    "f1\n"
   ]
  },
  {
   "cell_type": "code",
   "execution_count": null,
   "metadata": {
    "_uuid": "50a34d9fc6f66f07a96f28317c41e98659982eba"
   },
   "outputs": [],
   "source": [
    "print(classification_report(y_test, y_pred))\n"
   ]
  },
  {
   "cell_type": "code",
   "execution_count": null,
   "metadata": {
    "_uuid": "d8d843a4bbbbb38cca191c6e8e93b71af725b0ff"
   },
   "outputs": [],
   "source": [
    "skplt.metrics.plot_confusion_matrix(y_test, y_pred)\n"
   ]
  },
  {
   "cell_type": "code",
   "execution_count": null,
   "metadata": {
    "_uuid": "5cd8037bdb968e454911ef512a2c119c22956998"
   },
   "outputs": [],
   "source": [
    "plot_decision_boundary(model, X_test, y_test)\n",
    "plt.xlabel(\"min_balance_befroe_loan\")\n",
    "plt.ylabel(\"times_balance_below_5K\")\n"
   ]
  },
  {
   "cell_type": "code",
   "execution_count": null,
   "metadata": {
    "_uuid": "058bee8d5171de84d4be924aa04676452839ac03"
   },
   "outputs": [],
   "source": [
    "feature_cols = X_test.columns\n",
    "importance = pd.DataFrame(\n",
    "    {\"feature\": feature_cols[:], \"importance\": rf.feature_importances_[:]}\n",
    ")\n",
    "importance.sort_values(\n",
    "    by=\"importance\",\n",
    "    axis=0,\n",
    "    ascending=False,\n",
    "    inplace=True,\n",
    "    kind=\"quicksort\",\n",
    "    na_position=\"last\",\n",
    ")\n",
    "importance[:18].plot(x=\"feature\", y=\"importance\", kind=\"bar\")\n"
   ]
  },
  {
   "cell_type": "markdown",
   "metadata": {
    "_uuid": "d2b8f0dda8d0849a76b2711e9dc97600519abafe"
   },
   "source": [
    "# Conclusion\n",
    "In the bank loan default prediction, my assumption is banks want to control the loss to a acceptable level, without missing some good client. This means balance the customers be grouped as potential good/bad customers, and their profiles will be checked carefully. \n",
    "Banks can detect the default behaviours in the earlier stage and conduct the corresponding actions to reduce the possible loss. That's why all of the new features I created are only based on the dates of the transfer must before the date that client apply for a loan."
   ]
  },
  {
   "cell_type": "markdown",
   "metadata": {
    "_uuid": "5510fe0fc9f1ff76098d70546917ebf3f907bff0"
   },
   "source": []
  }
 ],
 "metadata": {
  "kernelspec": {
   "display_name": "Python 3 (ipykernel)",
   "language": "python",
   "name": "python3"
  },
  "language_info": {
   "codemirror_mode": {
    "name": "ipython",
    "version": 3
   },
   "file_extension": ".py",
   "mimetype": "text/x-python",
   "name": "python",
   "nbconvert_exporter": "python",
   "pygments_lexer": "ipython3",
   "version": "3.9.13"
  }
 },
 "nbformat": 4,
 "nbformat_minor": 1
}

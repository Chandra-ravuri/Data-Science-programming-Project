{
 "cells": [
  {
   "cell_type": "code",
   "execution_count": 1,
   "id": "585e80e5",
   "metadata": {
    "execution": {
     "iopub.execute_input": "2022-09-18T02:16:03.858033Z",
     "iopub.status.busy": "2022-09-18T02:16:03.857567Z",
     "iopub.status.idle": "2022-09-18T02:16:05.390075Z",
     "shell.execute_reply": "2022-09-18T02:16:05.388997Z"
    },
    "papermill": {
     "duration": 1.569586,
     "end_time": "2022-09-18T02:16:05.393204",
     "exception": false,
     "start_time": "2022-09-18T02:16:03.823618",
     "status": "completed"
    },
    "tags": []
   },
   "outputs": [],
   "source": [
    "import numpy as np\n",
    "import pandas as pd\n",
    "import seaborn as sns\n",
    "import matplotlib.pyplot as plt\n",
    "import random\n",
    "from statsmodels.stats.outliers_influence import variance_inflation_factor\n",
    "from sklearn.preprocessing import StandardScaler,LabelEncoder \n",
    "from sklearn.model_selection import train_test_split\n",
    "from sklearn.preprocessing import RobustScaler"
   ]
  },
  {
   "cell_type": "code",
   "execution_count": 2,
   "id": "29ff4c58",
   "metadata": {
    "execution": {
     "iopub.execute_input": "2022-09-18T02:16:05.458000Z",
     "iopub.status.busy": "2022-09-18T02:16:05.457554Z",
     "iopub.status.idle": "2022-09-18T02:16:05.590443Z",
     "shell.execute_reply": "2022-09-18T02:16:05.589369Z"
    },
    "papermill": {
     "duration": 0.168233,
     "end_time": "2022-09-18T02:16:05.593151",
     "exception": false,
     "start_time": "2022-09-18T02:16:05.424918",
     "status": "completed"
    },
    "tags": []
   },
   "outputs": [],
   "source": [
    "from sklearn.linear_model import LogisticRegression\n",
    "from sklearn.neighbors import KNeighborsClassifier"
   ]
  },
  {
   "cell_type": "code",
   "execution_count": 3,
   "id": "6de4d2a8",
   "metadata": {
    "execution": {
     "iopub.execute_input": "2022-09-18T02:16:05.655767Z",
     "iopub.status.busy": "2022-09-18T02:16:05.655371Z",
     "iopub.status.idle": "2022-09-18T02:16:06.411018Z",
     "shell.execute_reply": "2022-09-18T02:16:06.409777Z"
    },
    "papermill": {
     "duration": 0.790592,
     "end_time": "2022-09-18T02:16:06.414148",
     "exception": false,
     "start_time": "2022-09-18T02:16:05.623556",
     "status": "completed"
    },
    "tags": []
   },
   "outputs": [],
   "source": [
    "df = pd.read_csv(\"../input/my-dataset/credit_train.csv\")"
   ]
  },
  {
   "cell_type": "code",
   "execution_count": null,
   "id": "a43c4bb7",
   "metadata": {
    "papermill": {
     "duration": 0.030092,
     "end_time": "2022-09-18T02:16:06.474780",
     "exception": false,
     "start_time": "2022-09-18T02:16:06.444688",
     "status": "completed"
    },
    "tags": []
   },
   "outputs": [],
   "source": []
  },
  {
   "cell_type": "code",
   "execution_count": 4,
   "id": "34ec8acf",
   "metadata": {
    "execution": {
     "iopub.execute_input": "2022-09-18T02:16:06.537851Z",
     "iopub.status.busy": "2022-09-18T02:16:06.537052Z",
     "iopub.status.idle": "2022-09-18T02:16:06.600887Z",
     "shell.execute_reply": "2022-09-18T02:16:06.599727Z"
    },
    "papermill": {
     "duration": 0.098734,
     "end_time": "2022-09-18T02:16:06.603934",
     "exception": false,
     "start_time": "2022-09-18T02:16:06.505200",
     "status": "completed"
    },
    "tags": []
   },
   "outputs": [
    {
     "name": "stdout",
     "output_type": "stream",
     "text": [
      "<class 'pandas.core.frame.DataFrame'>\n",
      "RangeIndex: 100514 entries, 0 to 100513\n",
      "Data columns (total 19 columns):\n",
      " #   Column                        Non-Null Count   Dtype  \n",
      "---  ------                        --------------   -----  \n",
      " 0   Loan ID                       100000 non-null  object \n",
      " 1   Customer ID                   100000 non-null  object \n",
      " 2   Loan Status                   100000 non-null  object \n",
      " 3   Current Loan Amount           100000 non-null  float64\n",
      " 4   Term                          100000 non-null  object \n",
      " 5   Credit Score                  80846 non-null   float64\n",
      " 6   Annual Income                 80846 non-null   float64\n",
      " 7   Years in current job          95778 non-null   object \n",
      " 8   Home Ownership                100000 non-null  object \n",
      " 9   Purpose                       100000 non-null  object \n",
      " 10  Monthly Debt                  100000 non-null  float64\n",
      " 11  Years of Credit History       100000 non-null  float64\n",
      " 12  Months since last delinquent  46859 non-null   float64\n",
      " 13  Number of Open Accounts       100000 non-null  float64\n",
      " 14  Number of Credit Problems     100000 non-null  float64\n",
      " 15  Current Credit Balance        100000 non-null  float64\n",
      " 16  Maximum Open Credit           99998 non-null   float64\n",
      " 17  Bankruptcies                  99796 non-null   float64\n",
      " 18  Tax Liens                     99990 non-null   float64\n",
      "dtypes: float64(12), object(7)\n",
      "memory usage: 14.6+ MB\n"
     ]
    }
   ],
   "source": [
    "df.info()"
   ]
  },
  {
   "cell_type": "code",
   "execution_count": null,
   "id": "2847eb8d",
   "metadata": {
    "papermill": {
     "duration": 0.030699,
     "end_time": "2022-09-18T02:16:06.665594",
     "exception": false,
     "start_time": "2022-09-18T02:16:06.634895",
     "status": "completed"
    },
    "tags": []
   },
   "outputs": [],
   "source": []
  },
  {
   "cell_type": "code",
   "execution_count": 5,
   "id": "3be0022b",
   "metadata": {
    "execution": {
     "iopub.execute_input": "2022-09-18T02:16:06.732128Z",
     "iopub.status.busy": "2022-09-18T02:16:06.731066Z",
     "iopub.status.idle": "2022-09-18T02:16:06.765122Z",
     "shell.execute_reply": "2022-09-18T02:16:06.763630Z"
    },
    "papermill": {
     "duration": 0.069231,
     "end_time": "2022-09-18T02:16:06.767725",
     "exception": false,
     "start_time": "2022-09-18T02:16:06.698494",
     "status": "completed"
    },
    "tags": []
   },
   "outputs": [
    {
     "data": {
      "text/html": [
       "<div>\n",
       "<style scoped>\n",
       "    .dataframe tbody tr th:only-of-type {\n",
       "        vertical-align: middle;\n",
       "    }\n",
       "\n",
       "    .dataframe tbody tr th {\n",
       "        vertical-align: top;\n",
       "    }\n",
       "\n",
       "    .dataframe thead th {\n",
       "        text-align: right;\n",
       "    }\n",
       "</style>\n",
       "<table border=\"1\" class=\"dataframe\">\n",
       "  <thead>\n",
       "    <tr style=\"text-align: right;\">\n",
       "      <th></th>\n",
       "      <th>Loan ID</th>\n",
       "      <th>Customer ID</th>\n",
       "      <th>Loan Status</th>\n",
       "      <th>Current Loan Amount</th>\n",
       "      <th>Term</th>\n",
       "      <th>Credit Score</th>\n",
       "      <th>Annual Income</th>\n",
       "      <th>Years in current job</th>\n",
       "      <th>Home Ownership</th>\n",
       "      <th>Purpose</th>\n",
       "      <th>Monthly Debt</th>\n",
       "      <th>Years of Credit History</th>\n",
       "      <th>Months since last delinquent</th>\n",
       "      <th>Number of Open Accounts</th>\n",
       "      <th>Number of Credit Problems</th>\n",
       "      <th>Current Credit Balance</th>\n",
       "      <th>Maximum Open Credit</th>\n",
       "      <th>Bankruptcies</th>\n",
       "      <th>Tax Liens</th>\n",
       "    </tr>\n",
       "  </thead>\n",
       "  <tbody>\n",
       "    <tr>\n",
       "      <th>0</th>\n",
       "      <td>14dd8831-6af5-400b-83ec-68e61888a048</td>\n",
       "      <td>981165ec-3274-42f5-a3b4-d104041a9ca9</td>\n",
       "      <td>Fully Paid</td>\n",
       "      <td>445412.0</td>\n",
       "      <td>Short Term</td>\n",
       "      <td>709.0</td>\n",
       "      <td>1167493.0</td>\n",
       "      <td>8 years</td>\n",
       "      <td>Home Mortgage</td>\n",
       "      <td>Home Improvements</td>\n",
       "      <td>5214.74</td>\n",
       "      <td>17.2</td>\n",
       "      <td>NaN</td>\n",
       "      <td>6.0</td>\n",
       "      <td>1.0</td>\n",
       "      <td>228190.0</td>\n",
       "      <td>416746.0</td>\n",
       "      <td>1.0</td>\n",
       "      <td>0.0</td>\n",
       "    </tr>\n",
       "    <tr>\n",
       "      <th>1</th>\n",
       "      <td>4771cc26-131a-45db-b5aa-537ea4ba5342</td>\n",
       "      <td>2de017a3-2e01-49cb-a581-08169e83be29</td>\n",
       "      <td>Fully Paid</td>\n",
       "      <td>262328.0</td>\n",
       "      <td>Short Term</td>\n",
       "      <td>NaN</td>\n",
       "      <td>NaN</td>\n",
       "      <td>10+ years</td>\n",
       "      <td>Home Mortgage</td>\n",
       "      <td>Debt Consolidation</td>\n",
       "      <td>33295.98</td>\n",
       "      <td>21.1</td>\n",
       "      <td>8.0</td>\n",
       "      <td>35.0</td>\n",
       "      <td>0.0</td>\n",
       "      <td>229976.0</td>\n",
       "      <td>850784.0</td>\n",
       "      <td>0.0</td>\n",
       "      <td>0.0</td>\n",
       "    </tr>\n",
       "    <tr>\n",
       "      <th>2</th>\n",
       "      <td>4eed4e6a-aa2f-4c91-8651-ce984ee8fb26</td>\n",
       "      <td>5efb2b2b-bf11-4dfd-a572-3761a2694725</td>\n",
       "      <td>Fully Paid</td>\n",
       "      <td>99999999.0</td>\n",
       "      <td>Short Term</td>\n",
       "      <td>741.0</td>\n",
       "      <td>2231892.0</td>\n",
       "      <td>8 years</td>\n",
       "      <td>Own Home</td>\n",
       "      <td>Debt Consolidation</td>\n",
       "      <td>29200.53</td>\n",
       "      <td>14.9</td>\n",
       "      <td>29.0</td>\n",
       "      <td>18.0</td>\n",
       "      <td>1.0</td>\n",
       "      <td>297996.0</td>\n",
       "      <td>750090.0</td>\n",
       "      <td>0.0</td>\n",
       "      <td>0.0</td>\n",
       "    </tr>\n",
       "    <tr>\n",
       "      <th>3</th>\n",
       "      <td>77598f7b-32e7-4e3b-a6e5-06ba0d98fe8a</td>\n",
       "      <td>e777faab-98ae-45af-9a86-7ce5b33b1011</td>\n",
       "      <td>Fully Paid</td>\n",
       "      <td>347666.0</td>\n",
       "      <td>Long Term</td>\n",
       "      <td>721.0</td>\n",
       "      <td>806949.0</td>\n",
       "      <td>3 years</td>\n",
       "      <td>Own Home</td>\n",
       "      <td>Debt Consolidation</td>\n",
       "      <td>8741.90</td>\n",
       "      <td>12.0</td>\n",
       "      <td>NaN</td>\n",
       "      <td>9.0</td>\n",
       "      <td>0.0</td>\n",
       "      <td>256329.0</td>\n",
       "      <td>386958.0</td>\n",
       "      <td>0.0</td>\n",
       "      <td>0.0</td>\n",
       "    </tr>\n",
       "    <tr>\n",
       "      <th>4</th>\n",
       "      <td>d4062e70-befa-4995-8643-a0de73938182</td>\n",
       "      <td>81536ad9-5ccf-4eb8-befb-47a4d608658e</td>\n",
       "      <td>Fully Paid</td>\n",
       "      <td>176220.0</td>\n",
       "      <td>Short Term</td>\n",
       "      <td>NaN</td>\n",
       "      <td>NaN</td>\n",
       "      <td>5 years</td>\n",
       "      <td>Rent</td>\n",
       "      <td>Debt Consolidation</td>\n",
       "      <td>20639.70</td>\n",
       "      <td>6.1</td>\n",
       "      <td>NaN</td>\n",
       "      <td>15.0</td>\n",
       "      <td>0.0</td>\n",
       "      <td>253460.0</td>\n",
       "      <td>427174.0</td>\n",
       "      <td>0.0</td>\n",
       "      <td>0.0</td>\n",
       "    </tr>\n",
       "  </tbody>\n",
       "</table>\n",
       "</div>"
      ],
      "text/plain": [
       "                                Loan ID                           Customer ID  \\\n",
       "0  14dd8831-6af5-400b-83ec-68e61888a048  981165ec-3274-42f5-a3b4-d104041a9ca9   \n",
       "1  4771cc26-131a-45db-b5aa-537ea4ba5342  2de017a3-2e01-49cb-a581-08169e83be29   \n",
       "2  4eed4e6a-aa2f-4c91-8651-ce984ee8fb26  5efb2b2b-bf11-4dfd-a572-3761a2694725   \n",
       "3  77598f7b-32e7-4e3b-a6e5-06ba0d98fe8a  e777faab-98ae-45af-9a86-7ce5b33b1011   \n",
       "4  d4062e70-befa-4995-8643-a0de73938182  81536ad9-5ccf-4eb8-befb-47a4d608658e   \n",
       "\n",
       "  Loan Status  Current Loan Amount        Term  Credit Score  Annual Income  \\\n",
       "0  Fully Paid             445412.0  Short Term         709.0      1167493.0   \n",
       "1  Fully Paid             262328.0  Short Term           NaN            NaN   \n",
       "2  Fully Paid           99999999.0  Short Term         741.0      2231892.0   \n",
       "3  Fully Paid             347666.0   Long Term         721.0       806949.0   \n",
       "4  Fully Paid             176220.0  Short Term           NaN            NaN   \n",
       "\n",
       "  Years in current job Home Ownership             Purpose  Monthly Debt  \\\n",
       "0              8 years  Home Mortgage   Home Improvements       5214.74   \n",
       "1            10+ years  Home Mortgage  Debt Consolidation      33295.98   \n",
       "2              8 years       Own Home  Debt Consolidation      29200.53   \n",
       "3              3 years       Own Home  Debt Consolidation       8741.90   \n",
       "4              5 years           Rent  Debt Consolidation      20639.70   \n",
       "\n",
       "   Years of Credit History  Months since last delinquent  \\\n",
       "0                     17.2                           NaN   \n",
       "1                     21.1                           8.0   \n",
       "2                     14.9                          29.0   \n",
       "3                     12.0                           NaN   \n",
       "4                      6.1                           NaN   \n",
       "\n",
       "   Number of Open Accounts  Number of Credit Problems  Current Credit Balance  \\\n",
       "0                      6.0                        1.0                228190.0   \n",
       "1                     35.0                        0.0                229976.0   \n",
       "2                     18.0                        1.0                297996.0   \n",
       "3                      9.0                        0.0                256329.0   \n",
       "4                     15.0                        0.0                253460.0   \n",
       "\n",
       "   Maximum Open Credit  Bankruptcies  Tax Liens  \n",
       "0             416746.0           1.0        0.0  \n",
       "1             850784.0           0.0        0.0  \n",
       "2             750090.0           0.0        0.0  \n",
       "3             386958.0           0.0        0.0  \n",
       "4             427174.0           0.0        0.0  "
      ]
     },
     "execution_count": 5,
     "metadata": {},
     "output_type": "execute_result"
    }
   ],
   "source": [
    "df.head()"
   ]
  },
  {
   "cell_type": "code",
   "execution_count": null,
   "id": "824a5e9c",
   "metadata": {
    "papermill": {
     "duration": 0.032771,
     "end_time": "2022-09-18T02:16:06.833057",
     "exception": false,
     "start_time": "2022-09-18T02:16:06.800286",
     "status": "completed"
    },
    "tags": []
   },
   "outputs": [],
   "source": []
  },
  {
   "cell_type": "code",
   "execution_count": 6,
   "id": "6a98f9fd",
   "metadata": {
    "execution": {
     "iopub.execute_input": "2022-09-18T02:16:06.898600Z",
     "iopub.status.busy": "2022-09-18T02:16:06.898176Z",
     "iopub.status.idle": "2022-09-18T02:16:10.776455Z",
     "shell.execute_reply": "2022-09-18T02:16:10.775053Z"
    },
    "papermill": {
     "duration": 3.914523,
     "end_time": "2022-09-18T02:16:10.779207",
     "exception": false,
     "start_time": "2022-09-18T02:16:06.864684",
     "status": "completed"
    },
    "tags": []
   },
   "outputs": [
    {
     "data": {
      "text/plain": [
       "<AxesSubplot:>"
      ]
     },
     "execution_count": 6,
     "metadata": {},
     "output_type": "execute_result"
    },
    {
     "data": {
      "image/png": "[encoded data removed]",
      "text/plain": [
       "<Figure size 720x720 with 2 Axes>"
      ]
     },
     "metadata": {
      "needs_background": "light"
     },
     "output_type": "display_data"
    }
   ],
   "source": [
    "plt.figure(figsize=(10,10))\n",
    "sns.heatmap(df.isnull())"
   ]
  },
  {
   "cell_type": "code",
   "execution_count": 7,
   "id": "27d0cd92",
   "metadata": {
    "execution": {
     "iopub.execute_input": "2022-09-18T02:16:10.845766Z",
     "iopub.status.busy": "2022-09-18T02:16:10.845294Z",
     "iopub.status.idle": "2022-09-18T02:16:10.889086Z",
     "shell.execute_reply": "2022-09-18T02:16:10.887983Z"
    },
    "papermill": {
     "duration": 0.079983,
     "end_time": "2022-09-18T02:16:10.891563",
     "exception": false,
     "start_time": "2022-09-18T02:16:10.811580",
     "status": "completed"
    },
    "tags": []
   },
   "outputs": [
    {
     "data": {
      "text/plain": [
       "Loan ID                           514\n",
       "Customer ID                       514\n",
       "Loan Status                       514\n",
       "Current Loan Amount               514\n",
       "Term                              514\n",
       "Credit Score                    19668\n",
       "Annual Income                   19668\n",
       "Years in current job             4736\n",
       "Home Ownership                    514\n",
       "Purpose                           514\n",
       "Monthly Debt                      514\n",
       "Years of Credit History           514\n",
       "Months since last delinquent    53655\n",
       "Number of Open Accounts           514\n",
       "Number of Credit Problems         514\n",
       "Current Credit Balance            514\n",
       "Maximum Open Credit               516\n",
       "Bankruptcies                      718\n",
       "Tax Liens                         524\n",
       "dtype: int64"
      ]
     },
     "execution_count": 7,
     "metadata": {},
     "output_type": "execute_result"
    }
   ],
   "source": [
    "df.isnull().sum()"
   ]
  },
  {
   "cell_type": "code",
   "execution_count": 8,
   "id": "d2b9be5a",
   "metadata": {
    "execution": {
     "iopub.execute_input": "2022-09-18T02:16:10.958042Z",
     "iopub.status.busy": "2022-09-18T02:16:10.957183Z",
     "iopub.status.idle": "2022-09-18T02:16:10.973779Z",
     "shell.execute_reply": "2022-09-18T02:16:10.972875Z"
    },
    "papermill": {
     "duration": 0.052443,
     "end_time": "2022-09-18T02:16:10.976136",
     "exception": false,
     "start_time": "2022-09-18T02:16:10.923693",
     "status": "completed"
    },
    "tags": []
   },
   "outputs": [],
   "source": [
    "### Months since last delinquent  has more than 50% null values so it is better to be dropped\n",
    "df.drop(\"Months since last delinquent\",axis=1,inplace=True)"
   ]
  },
  {
   "cell_type": "code",
   "execution_count": 9,
   "id": "164b20ec",
   "metadata": {
    "execution": {
     "iopub.execute_input": "2022-09-18T02:16:11.041849Z",
     "iopub.status.busy": "2022-09-18T02:16:11.041418Z",
     "iopub.status.idle": "2022-09-18T02:16:11.090781Z",
     "shell.execute_reply": "2022-09-18T02:16:11.089463Z"
    },
    "papermill": {
     "duration": 0.085038,
     "end_time": "2022-09-18T02:16:11.093249",
     "exception": false,
     "start_time": "2022-09-18T02:16:11.008211",
     "status": "completed"
    },
    "tags": []
   },
   "outputs": [
    {
     "name": "stdout",
     "output_type": "stream",
     "text": [
      "<class 'pandas.core.frame.DataFrame'>\n",
      "RangeIndex: 100514 entries, 0 to 100513\n",
      "Data columns (total 18 columns):\n",
      " #   Column                     Non-Null Count   Dtype  \n",
      "---  ------                     --------------   -----  \n",
      " 0   Loan ID                    100000 non-null  object \n",
      " 1   Customer ID                100000 non-null  object \n",
      " 2   Loan Status                100000 non-null  object \n",
      " 3   Current Loan Amount        100000 non-null  float64\n",
      " 4   Term                       100000 non-null  object \n",
      " 5   Credit Score               80846 non-null   float64\n",
      " 6   Annual Income              80846 non-null   float64\n",
      " 7   Years in current job       95778 non-null   object \n",
      " 8   Home Ownership             100000 non-null  object \n",
      " 9   Purpose                    100000 non-null  object \n",
      " 10  Monthly Debt               100000 non-null  float64\n",
      " 11  Years of Credit History    100000 non-null  float64\n",
      " 12  Number of Open Accounts    100000 non-null  float64\n",
      " 13  Number of Credit Problems  100000 non-null  float64\n",
      " 14  Current Credit Balance     100000 non-null  float64\n",
      " 15  Maximum Open Credit        99998 non-null   float64\n",
      " 16  Bankruptcies               99796 non-null   float64\n",
      " 17  Tax Liens                  99990 non-null   float64\n",
      "dtypes: float64(11), object(7)\n",
      "memory usage: 13.8+ MB\n"
     ]
    }
   ],
   "source": [
    "df.info()"
   ]
  },
  {
   "cell_type": "code",
   "execution_count": 10,
   "id": "11bdb94a",
   "metadata": {
    "execution": {
     "iopub.execute_input": "2022-09-18T02:16:11.161670Z",
     "iopub.status.busy": "2022-09-18T02:16:11.160737Z",
     "iopub.status.idle": "2022-09-18T02:16:11.189055Z",
     "shell.execute_reply": "2022-09-18T02:16:11.188198Z"
    },
    "papermill": {
     "duration": 0.064821,
     "end_time": "2022-09-18T02:16:11.191272",
     "exception": false,
     "start_time": "2022-09-18T02:16:11.126451",
     "status": "completed"
    },
    "tags": []
   },
   "outputs": [
    {
     "data": {
      "text/html": [
       "<div>\n",
       "<style scoped>\n",
       "    .dataframe tbody tr th:only-of-type {\n",
       "        vertical-align: middle;\n",
       "    }\n",
       "\n",
       "    .dataframe tbody tr th {\n",
       "        vertical-align: top;\n",
       "    }\n",
       "\n",
       "    .dataframe thead th {\n",
       "        text-align: right;\n",
       "    }\n",
       "</style>\n",
       "<table border=\"1\" class=\"dataframe\">\n",
       "  <thead>\n",
       "    <tr style=\"text-align: right;\">\n",
       "      <th></th>\n",
       "      <th>Loan ID</th>\n",
       "      <th>Customer ID</th>\n",
       "      <th>Loan Status</th>\n",
       "      <th>Current Loan Amount</th>\n",
       "      <th>Term</th>\n",
       "      <th>Credit Score</th>\n",
       "      <th>Annual Income</th>\n",
       "      <th>Years in current job</th>\n",
       "      <th>Home Ownership</th>\n",
       "      <th>Purpose</th>\n",
       "      <th>Monthly Debt</th>\n",
       "      <th>Years of Credit History</th>\n",
       "      <th>Number of Open Accounts</th>\n",
       "      <th>Number of Credit Problems</th>\n",
       "      <th>Current Credit Balance</th>\n",
       "      <th>Maximum Open Credit</th>\n",
       "      <th>Bankruptcies</th>\n",
       "      <th>Tax Liens</th>\n",
       "    </tr>\n",
       "  </thead>\n",
       "  <tbody>\n",
       "    <tr>\n",
       "      <th>100494</th>\n",
       "      <td>NaN</td>\n",
       "      <td>NaN</td>\n",
       "      <td>NaN</td>\n",
       "      <td>NaN</td>\n",
       "      <td>NaN</td>\n",
       "      <td>NaN</td>\n",
       "      <td>NaN</td>\n",
       "      <td>NaN</td>\n",
       "      <td>NaN</td>\n",
       "      <td>NaN</td>\n",
       "      <td>NaN</td>\n",
       "      <td>NaN</td>\n",
       "      <td>NaN</td>\n",
       "      <td>NaN</td>\n",
       "      <td>NaN</td>\n",
       "      <td>NaN</td>\n",
       "      <td>NaN</td>\n",
       "      <td>NaN</td>\n",
       "    </tr>\n",
       "    <tr>\n",
       "      <th>100495</th>\n",
       "      <td>NaN</td>\n",
       "      <td>NaN</td>\n",
       "      <td>NaN</td>\n",
       "      <td>NaN</td>\n",
       "      <td>NaN</td>\n",
       "      <td>NaN</td>\n",
       "      <td>NaN</td>\n",
       "      <td>NaN</td>\n",
       "      <td>NaN</td>\n",
       "      <td>NaN</td>\n",
       "      <td>NaN</td>\n",
       "      <td>NaN</td>\n",
       "      <td>NaN</td>\n",
       "      <td>NaN</td>\n",
       "      <td>NaN</td>\n",
       "      <td>NaN</td>\n",
       "      <td>NaN</td>\n",
       "      <td>NaN</td>\n",
       "    </tr>\n",
       "    <tr>\n",
       "      <th>100496</th>\n",
       "      <td>NaN</td>\n",
       "      <td>NaN</td>\n",
       "      <td>NaN</td>\n",
       "      <td>NaN</td>\n",
       "      <td>NaN</td>\n",
       "      <td>NaN</td>\n",
       "      <td>NaN</td>\n",
       "      <td>NaN</td>\n",
       "      <td>NaN</td>\n",
       "      <td>NaN</td>\n",
       "      <td>NaN</td>\n",
       "      <td>NaN</td>\n",
       "      <td>NaN</td>\n",
       "      <td>NaN</td>\n",
       "      <td>NaN</td>\n",
       "      <td>NaN</td>\n",
       "      <td>NaN</td>\n",
       "      <td>NaN</td>\n",
       "    </tr>\n",
       "    <tr>\n",
       "      <th>100497</th>\n",
       "      <td>NaN</td>\n",
       "      <td>NaN</td>\n",
       "      <td>NaN</td>\n",
       "      <td>NaN</td>\n",
       "      <td>NaN</td>\n",
       "      <td>NaN</td>\n",
       "      <td>NaN</td>\n",
       "      <td>NaN</td>\n",
       "      <td>NaN</td>\n",
       "      <td>NaN</td>\n",
       "      <td>NaN</td>\n",
       "      <td>NaN</td>\n",
       "      <td>NaN</td>\n",
       "      <td>NaN</td>\n",
       "      <td>NaN</td>\n",
       "      <td>NaN</td>\n",
       "      <td>NaN</td>\n",
       "      <td>NaN</td>\n",
       "    </tr>\n",
       "    <tr>\n",
       "      <th>100498</th>\n",
       "      <td>NaN</td>\n",
       "      <td>NaN</td>\n",
       "      <td>NaN</td>\n",
       "      <td>NaN</td>\n",
       "      <td>NaN</td>\n",
       "      <td>NaN</td>\n",
       "      <td>NaN</td>\n",
       "      <td>NaN</td>\n",
       "      <td>NaN</td>\n",
       "      <td>NaN</td>\n",
       "      <td>NaN</td>\n",
       "      <td>NaN</td>\n",
       "      <td>NaN</td>\n",
       "      <td>NaN</td>\n",
       "      <td>NaN</td>\n",
       "      <td>NaN</td>\n",
       "      <td>NaN</td>\n",
       "      <td>NaN</td>\n",
       "    </tr>\n",
       "    <tr>\n",
       "      <th>100499</th>\n",
       "      <td>NaN</td>\n",
       "      <td>NaN</td>\n",
       "      <td>NaN</td>\n",
       "      <td>NaN</td>\n",
       "      <td>NaN</td>\n",
       "      <td>NaN</td>\n",
       "      <td>NaN</td>\n",
       "      <td>NaN</td>\n",
       "      <td>NaN</td>\n",
       "      <td>NaN</td>\n",
       "      <td>NaN</td>\n",
       "      <td>NaN</td>\n",
       "      <td>NaN</td>\n",
       "      <td>NaN</td>\n",
       "      <td>NaN</td>\n",
       "      <td>NaN</td>\n",
       "      <td>NaN</td>\n",
       "      <td>NaN</td>\n",
       "    </tr>\n",
       "    <tr>\n",
       "      <th>100500</th>\n",
       "      <td>NaN</td>\n",
       "      <td>NaN</td>\n",
       "      <td>NaN</td>\n",
       "      <td>NaN</td>\n",
       "      <td>NaN</td>\n",
       "      <td>NaN</td>\n",
       "      <td>NaN</td>\n",
       "      <td>NaN</td>\n",
       "      <td>NaN</td>\n",
       "      <td>NaN</td>\n",
       "      <td>NaN</td>\n",
       "      <td>NaN</td>\n",
       "      <td>NaN</td>\n",
       "      <td>NaN</td>\n",
       "      <td>NaN</td>\n",
       "      <td>NaN</td>\n",
       "      <td>NaN</td>\n",
       "      <td>NaN</td>\n",
       "    </tr>\n",
       "    <tr>\n",
       "      <th>100501</th>\n",
       "      <td>NaN</td>\n",
       "      <td>NaN</td>\n",
       "      <td>NaN</td>\n",
       "      <td>NaN</td>\n",
       "      <td>NaN</td>\n",
       "      <td>NaN</td>\n",
       "      <td>NaN</td>\n",
       "      <td>NaN</td>\n",
       "      <td>NaN</td>\n",
       "      <td>NaN</td>\n",
       "      <td>NaN</td>\n",
       "      <td>NaN</td>\n",
       "      <td>NaN</td>\n",
       "      <td>NaN</td>\n",
       "      <td>NaN</td>\n",
       "      <td>NaN</td>\n",
       "      <td>NaN</td>\n",
       "      <td>NaN</td>\n",
       "    </tr>\n",
       "    <tr>\n",
       "      <th>100502</th>\n",
       "      <td>NaN</td>\n",
       "      <td>NaN</td>\n",
       "      <td>NaN</td>\n",
       "      <td>NaN</td>\n",
       "      <td>NaN</td>\n",
       "      <td>NaN</td>\n",
       "      <td>NaN</td>\n",
       "      <td>NaN</td>\n",
       "      <td>NaN</td>\n",
       "      <td>NaN</td>\n",
       "      <td>NaN</td>\n",
       "      <td>NaN</td>\n",
       "      <td>NaN</td>\n",
       "      <td>NaN</td>\n",
       "      <td>NaN</td>\n",
       "      <td>NaN</td>\n",
       "      <td>NaN</td>\n",
       "      <td>NaN</td>\n",
       "    </tr>\n",
       "    <tr>\n",
       "      <th>100503</th>\n",
       "      <td>NaN</td>\n",
       "      <td>NaN</td>\n",
       "      <td>NaN</td>\n",
       "      <td>NaN</td>\n",
       "      <td>NaN</td>\n",
       "      <td>NaN</td>\n",
       "      <td>NaN</td>\n",
       "      <td>NaN</td>\n",
       "      <td>NaN</td>\n",
       "      <td>NaN</td>\n",
       "      <td>NaN</td>\n",
       "      <td>NaN</td>\n",
       "      <td>NaN</td>\n",
       "      <td>NaN</td>\n",
       "      <td>NaN</td>\n",
       "      <td>NaN</td>\n",
       "      <td>NaN</td>\n",
       "      <td>NaN</td>\n",
       "    </tr>\n",
       "    <tr>\n",
       "      <th>100504</th>\n",
       "      <td>NaN</td>\n",
       "      <td>NaN</td>\n",
       "      <td>NaN</td>\n",
       "      <td>NaN</td>\n",
       "      <td>NaN</td>\n",
       "      <td>NaN</td>\n",
       "      <td>NaN</td>\n",
       "      <td>NaN</td>\n",
       "      <td>NaN</td>\n",
       "      <td>NaN</td>\n",
       "      <td>NaN</td>\n",
       "      <td>NaN</td>\n",
       "      <td>NaN</td>\n",
       "      <td>NaN</td>\n",
       "      <td>NaN</td>\n",
       "      <td>NaN</td>\n",
       "      <td>NaN</td>\n",
       "      <td>NaN</td>\n",
       "    </tr>\n",
       "    <tr>\n",
       "      <th>100505</th>\n",
       "      <td>NaN</td>\n",
       "      <td>NaN</td>\n",
       "      <td>NaN</td>\n",
       "      <td>NaN</td>\n",
       "      <td>NaN</td>\n",
       "      <td>NaN</td>\n",
       "      <td>NaN</td>\n",
       "      <td>NaN</td>\n",
       "      <td>NaN</td>\n",
       "      <td>NaN</td>\n",
       "      <td>NaN</td>\n",
       "      <td>NaN</td>\n",
       "      <td>NaN</td>\n",
       "      <td>NaN</td>\n",
       "      <td>NaN</td>\n",
       "      <td>NaN</td>\n",
       "      <td>NaN</td>\n",
       "      <td>NaN</td>\n",
       "    </tr>\n",
       "    <tr>\n",
       "      <th>100506</th>\n",
       "      <td>NaN</td>\n",
       "      <td>NaN</td>\n",
       "      <td>NaN</td>\n",
       "      <td>NaN</td>\n",
       "      <td>NaN</td>\n",
       "      <td>NaN</td>\n",
       "      <td>NaN</td>\n",
       "      <td>NaN</td>\n",
       "      <td>NaN</td>\n",
       "      <td>NaN</td>\n",
       "      <td>NaN</td>\n",
       "      <td>NaN</td>\n",
       "      <td>NaN</td>\n",
       "      <td>NaN</td>\n",
       "      <td>NaN</td>\n",
       "      <td>NaN</td>\n",
       "      <td>NaN</td>\n",
       "      <td>NaN</td>\n",
       "    </tr>\n",
       "    <tr>\n",
       "      <th>100507</th>\n",
       "      <td>NaN</td>\n",
       "      <td>NaN</td>\n",
       "      <td>NaN</td>\n",
       "      <td>NaN</td>\n",
       "      <td>NaN</td>\n",
       "      <td>NaN</td>\n",
       "      <td>NaN</td>\n",
       "      <td>NaN</td>\n",
       "      <td>NaN</td>\n",
       "      <td>NaN</td>\n",
       "      <td>NaN</td>\n",
       "      <td>NaN</td>\n",
       "      <td>NaN</td>\n",
       "      <td>NaN</td>\n",
       "      <td>NaN</td>\n",
       "      <td>NaN</td>\n",
       "      <td>NaN</td>\n",
       "      <td>NaN</td>\n",
       "    </tr>\n",
       "    <tr>\n",
       "      <th>100508</th>\n",
       "      <td>NaN</td>\n",
       "      <td>NaN</td>\n",
       "      <td>NaN</td>\n",
       "      <td>NaN</td>\n",
       "      <td>NaN</td>\n",
       "      <td>NaN</td>\n",
       "      <td>NaN</td>\n",
       "      <td>NaN</td>\n",
       "      <td>NaN</td>\n",
       "      <td>NaN</td>\n",
       "      <td>NaN</td>\n",
       "      <td>NaN</td>\n",
       "      <td>NaN</td>\n",
       "      <td>NaN</td>\n",
       "      <td>NaN</td>\n",
       "      <td>NaN</td>\n",
       "      <td>NaN</td>\n",
       "      <td>NaN</td>\n",
       "    </tr>\n",
       "    <tr>\n",
       "      <th>100509</th>\n",
       "      <td>NaN</td>\n",
       "      <td>NaN</td>\n",
       "      <td>NaN</td>\n",
       "      <td>NaN</td>\n",
       "      <td>NaN</td>\n",
       "      <td>NaN</td>\n",
       "      <td>NaN</td>\n",
       "      <td>NaN</td>\n",
       "      <td>NaN</td>\n",
       "      <td>NaN</td>\n",
       "      <td>NaN</td>\n",
       "      <td>NaN</td>\n",
       "      <td>NaN</td>\n",
       "      <td>NaN</td>\n",
       "      <td>NaN</td>\n",
       "      <td>NaN</td>\n",
       "      <td>NaN</td>\n",
       "      <td>NaN</td>\n",
       "    </tr>\n",
       "    <tr>\n",
       "      <th>100510</th>\n",
       "      <td>NaN</td>\n",
       "      <td>NaN</td>\n",
       "      <td>NaN</td>\n",
       "      <td>NaN</td>\n",
       "      <td>NaN</td>\n",
       "      <td>NaN</td>\n",
       "      <td>NaN</td>\n",
       "      <td>NaN</td>\n",
       "      <td>NaN</td>\n",
       "      <td>NaN</td>\n",
       "      <td>NaN</td>\n",
       "      <td>NaN</td>\n",
       "      <td>NaN</td>\n",
       "      <td>NaN</td>\n",
       "      <td>NaN</td>\n",
       "      <td>NaN</td>\n",
       "      <td>NaN</td>\n",
       "      <td>NaN</td>\n",
       "    </tr>\n",
       "    <tr>\n",
       "      <th>100511</th>\n",
       "      <td>NaN</td>\n",
       "      <td>NaN</td>\n",
       "      <td>NaN</td>\n",
       "      <td>NaN</td>\n",
       "      <td>NaN</td>\n",
       "      <td>NaN</td>\n",
       "      <td>NaN</td>\n",
       "      <td>NaN</td>\n",
       "      <td>NaN</td>\n",
       "      <td>NaN</td>\n",
       "      <td>NaN</td>\n",
       "      <td>NaN</td>\n",
       "      <td>NaN</td>\n",
       "      <td>NaN</td>\n",
       "      <td>NaN</td>\n",
       "      <td>NaN</td>\n",
       "      <td>NaN</td>\n",
       "      <td>NaN</td>\n",
       "    </tr>\n",
       "    <tr>\n",
       "      <th>100512</th>\n",
       "      <td>NaN</td>\n",
       "      <td>NaN</td>\n",
       "      <td>NaN</td>\n",
       "      <td>NaN</td>\n",
       "      <td>NaN</td>\n",
       "      <td>NaN</td>\n",
       "      <td>NaN</td>\n",
       "      <td>NaN</td>\n",
       "      <td>NaN</td>\n",
       "      <td>NaN</td>\n",
       "      <td>NaN</td>\n",
       "      <td>NaN</td>\n",
       "      <td>NaN</td>\n",
       "      <td>NaN</td>\n",
       "      <td>NaN</td>\n",
       "      <td>NaN</td>\n",
       "      <td>NaN</td>\n",
       "      <td>NaN</td>\n",
       "    </tr>\n",
       "    <tr>\n",
       "      <th>100513</th>\n",
       "      <td>NaN</td>\n",
       "      <td>NaN</td>\n",
       "      <td>NaN</td>\n",
       "      <td>NaN</td>\n",
       "      <td>NaN</td>\n",
       "      <td>NaN</td>\n",
       "      <td>NaN</td>\n",
       "      <td>NaN</td>\n",
       "      <td>NaN</td>\n",
       "      <td>NaN</td>\n",
       "      <td>NaN</td>\n",
       "      <td>NaN</td>\n",
       "      <td>NaN</td>\n",
       "      <td>NaN</td>\n",
       "      <td>NaN</td>\n",
       "      <td>NaN</td>\n",
       "      <td>NaN</td>\n",
       "      <td>NaN</td>\n",
       "    </tr>\n",
       "  </tbody>\n",
       "</table>\n",
       "</div>"
      ],
      "text/plain": [
       "       Loan ID Customer ID Loan Status  Current Loan Amount Term  \\\n",
       "100494     NaN         NaN         NaN                  NaN  NaN   \n",
       "100495     NaN         NaN         NaN                  NaN  NaN   \n",
       "100496     NaN         NaN         NaN                  NaN  NaN   \n",
       "100497     NaN         NaN         NaN                  NaN  NaN   \n",
       "100498     NaN         NaN         NaN                  NaN  NaN   \n",
       "100499     NaN         NaN         NaN                  NaN  NaN   \n",
       "100500     NaN         NaN         NaN                  NaN  NaN   \n",
       "100501     NaN         NaN         NaN                  NaN  NaN   \n",
       "100502     NaN         NaN         NaN                  NaN  NaN   \n",
       "100503     NaN         NaN         NaN                  NaN  NaN   \n",
       "100504     NaN         NaN         NaN                  NaN  NaN   \n",
       "100505     NaN         NaN         NaN                  NaN  NaN   \n",
       "100506     NaN         NaN         NaN                  NaN  NaN   \n",
       "100507     NaN         NaN         NaN                  NaN  NaN   \n",
       "100508     NaN         NaN         NaN                  NaN  NaN   \n",
       "100509     NaN         NaN         NaN                  NaN  NaN   \n",
       "100510     NaN         NaN         NaN                  NaN  NaN   \n",
       "100511     NaN         NaN         NaN                  NaN  NaN   \n",
       "100512     NaN         NaN         NaN                  NaN  NaN   \n",
       "100513     NaN         NaN         NaN                  NaN  NaN   \n",
       "\n",
       "        Credit Score  Annual Income Years in current job Home Ownership  \\\n",
       "100494           NaN            NaN                  NaN            NaN   \n",
       "100495           NaN            NaN                  NaN            NaN   \n",
       "100496           NaN            NaN                  NaN            NaN   \n",
       "100497           NaN            NaN                  NaN            NaN   \n",
       "100498           NaN            NaN                  NaN            NaN   \n",
       "100499           NaN            NaN                  NaN            NaN   \n",
       "100500           NaN            NaN                  NaN            NaN   \n",
       "100501           NaN            NaN                  NaN            NaN   \n",
       "100502           NaN            NaN                  NaN            NaN   \n",
       "100503           NaN            NaN                  NaN            NaN   \n",
       "100504           NaN            NaN                  NaN            NaN   \n",
       "100505           NaN            NaN                  NaN            NaN   \n",
       "100506           NaN            NaN                  NaN            NaN   \n",
       "100507           NaN            NaN                  NaN            NaN   \n",
       "100508           NaN            NaN                  NaN            NaN   \n",
       "100509           NaN            NaN                  NaN            NaN   \n",
       "100510           NaN            NaN                  NaN            NaN   \n",
       "100511           NaN            NaN                  NaN            NaN   \n",
       "100512           NaN            NaN                  NaN            NaN   \n",
       "100513           NaN            NaN                  NaN            NaN   \n",
       "\n",
       "       Purpose  Monthly Debt  Years of Credit History  \\\n",
       "100494     NaN           NaN                      NaN   \n",
       "100495     NaN           NaN                      NaN   \n",
       "100496     NaN           NaN                      NaN   \n",
       "100497     NaN           NaN                      NaN   \n",
       "100498     NaN           NaN                      NaN   \n",
       "100499     NaN           NaN                      NaN   \n",
       "100500     NaN           NaN                      NaN   \n",
       "100501     NaN           NaN                      NaN   \n",
       "100502     NaN           NaN                      NaN   \n",
       "100503     NaN           NaN                      NaN   \n",
       "100504     NaN           NaN                      NaN   \n",
       "100505     NaN           NaN                      NaN   \n",
       "100506     NaN           NaN                      NaN   \n",
       "100507     NaN           NaN                      NaN   \n",
       "100508     NaN           NaN                      NaN   \n",
       "100509     NaN           NaN                      NaN   \n",
       "100510     NaN           NaN                      NaN   \n",
       "100511     NaN           NaN                      NaN   \n",
       "100512     NaN           NaN                      NaN   \n",
       "100513     NaN           NaN                      NaN   \n",
       "\n",
       "        Number of Open Accounts  Number of Credit Problems  \\\n",
       "100494                      NaN                        NaN   \n",
       "100495                      NaN                        NaN   \n",
       "100496                      NaN                        NaN   \n",
       "100497                      NaN                        NaN   \n",
       "100498                      NaN                        NaN   \n",
       "100499                      NaN                        NaN   \n",
       "100500                      NaN                        NaN   \n",
       "100501                      NaN                        NaN   \n",
       "100502                      NaN                        NaN   \n",
       "100503                      NaN                        NaN   \n",
       "100504                      NaN                        NaN   \n",
       "100505                      NaN                        NaN   \n",
       "100506                      NaN                        NaN   \n",
       "100507                      NaN                        NaN   \n",
       "100508                      NaN                        NaN   \n",
       "100509                      NaN                        NaN   \n",
       "100510                      NaN                        NaN   \n",
       "100511                      NaN                        NaN   \n",
       "100512                      NaN                        NaN   \n",
       "100513                      NaN                        NaN   \n",
       "\n",
       "        Current Credit Balance  Maximum Open Credit  Bankruptcies  Tax Liens  \n",
       "100494                     NaN                  NaN           NaN        NaN  \n",
       "100495                     NaN                  NaN           NaN        NaN  \n",
       "100496                     NaN                  NaN           NaN        NaN  \n",
       "100497                     NaN                  NaN           NaN        NaN  \n",
       "100498                     NaN                  NaN           NaN        NaN  \n",
       "100499                     NaN                  NaN           NaN        NaN  \n",
       "100500                     NaN                  NaN           NaN        NaN  \n",
       "100501                     NaN                  NaN           NaN        NaN  \n",
       "100502                     NaN                  NaN           NaN        NaN  \n",
       "100503                     NaN                  NaN           NaN        NaN  \n",
       "100504                     NaN                  NaN           NaN        NaN  \n",
       "100505                     NaN                  NaN           NaN        NaN  \n",
       "100506                     NaN                  NaN           NaN        NaN  \n",
       "100507                     NaN                  NaN           NaN        NaN  \n",
       "100508                     NaN                  NaN           NaN        NaN  \n",
       "100509                     NaN                  NaN           NaN        NaN  \n",
       "100510                     NaN                  NaN           NaN        NaN  \n",
       "100511                     NaN                  NaN           NaN        NaN  \n",
       "100512                     NaN                  NaN           NaN        NaN  \n",
       "100513                     NaN                  NaN           NaN        NaN  "
      ]
     },
     "execution_count": 10,
     "metadata": {},
     "output_type": "execute_result"
    }
   ],
   "source": [
    "df.tail(20)"
   ]
  },
  {
   "cell_type": "code",
   "execution_count": 11,
   "id": "b72c0771",
   "metadata": {
    "execution": {
     "iopub.execute_input": "2022-09-18T02:16:11.260359Z",
     "iopub.status.busy": "2022-09-18T02:16:11.259181Z",
     "iopub.status.idle": "2022-09-18T02:16:11.270809Z",
     "shell.execute_reply": "2022-09-18T02:16:11.269502Z"
    },
    "papermill": {
     "duration": 0.049553,
     "end_time": "2022-09-18T02:16:11.274075",
     "exception": false,
     "start_time": "2022-09-18T02:16:11.224522",
     "status": "completed"
    },
    "tags": []
   },
   "outputs": [],
   "source": [
    "#Getting the index of all nan values at the end of the dataset\n",
    "na= df[df['Loan ID'].isnull()].index.tolist()"
   ]
  },
  {
   "cell_type": "code",
   "execution_count": 12,
   "id": "ab25c7c0",
   "metadata": {
    "execution": {
     "iopub.execute_input": "2022-09-18T02:16:11.344877Z",
     "iopub.status.busy": "2022-09-18T02:16:11.344100Z",
     "iopub.status.idle": "2022-09-18T02:16:11.365387Z",
     "shell.execute_reply": "2022-09-18T02:16:11.364348Z"
    },
    "papermill": {
     "duration": 0.059426,
     "end_time": "2022-09-18T02:16:11.368061",
     "exception": false,
     "start_time": "2022-09-18T02:16:11.308635",
     "status": "completed"
    },
    "tags": []
   },
   "outputs": [],
   "source": [
    "#droping all Nan \n",
    "df.drop(na, inplace=True)"
   ]
  },
  {
   "cell_type": "code",
   "execution_count": 13,
   "id": "fb4cd5a3",
   "metadata": {
    "execution": {
     "iopub.execute_input": "2022-09-18T02:16:11.438374Z",
     "iopub.status.busy": "2022-09-18T02:16:11.436835Z",
     "iopub.status.idle": "2022-09-18T02:16:11.470261Z",
     "shell.execute_reply": "2022-09-18T02:16:11.469074Z"
    },
    "papermill": {
     "duration": 0.070932,
     "end_time": "2022-09-18T02:16:11.472793",
     "exception": false,
     "start_time": "2022-09-18T02:16:11.401861",
     "status": "completed"
    },
    "tags": []
   },
   "outputs": [
    {
     "data": {
      "text/html": [
       "<div>\n",
       "<style scoped>\n",
       "    .dataframe tbody tr th:only-of-type {\n",
       "        vertical-align: middle;\n",
       "    }\n",
       "\n",
       "    .dataframe tbody tr th {\n",
       "        vertical-align: top;\n",
       "    }\n",
       "\n",
       "    .dataframe thead th {\n",
       "        text-align: right;\n",
       "    }\n",
       "</style>\n",
       "<table border=\"1\" class=\"dataframe\">\n",
       "  <thead>\n",
       "    <tr style=\"text-align: right;\">\n",
       "      <th></th>\n",
       "      <th>Loan ID</th>\n",
       "      <th>Customer ID</th>\n",
       "      <th>Loan Status</th>\n",
       "      <th>Current Loan Amount</th>\n",
       "      <th>Term</th>\n",
       "      <th>Credit Score</th>\n",
       "      <th>Annual Income</th>\n",
       "      <th>Years in current job</th>\n",
       "      <th>Home Ownership</th>\n",
       "      <th>Purpose</th>\n",
       "      <th>Monthly Debt</th>\n",
       "      <th>Years of Credit History</th>\n",
       "      <th>Number of Open Accounts</th>\n",
       "      <th>Number of Credit Problems</th>\n",
       "      <th>Current Credit Balance</th>\n",
       "      <th>Maximum Open Credit</th>\n",
       "      <th>Bankruptcies</th>\n",
       "      <th>Tax Liens</th>\n",
       "    </tr>\n",
       "  </thead>\n",
       "  <tbody>\n",
       "    <tr>\n",
       "      <th>99990</th>\n",
       "      <td>686017b3-dc24-4f8a-af92-0bd077452d3d</td>\n",
       "      <td>1a583add-21ba-410f-9c42-757c4ed19322</td>\n",
       "      <td>Fully Paid</td>\n",
       "      <td>99999999.0</td>\n",
       "      <td>Short Term</td>\n",
       "      <td>742.0</td>\n",
       "      <td>1190046.0</td>\n",
       "      <td>&lt; 1 year</td>\n",
       "      <td>Rent</td>\n",
       "      <td>other</td>\n",
       "      <td>11969.81</td>\n",
       "      <td>20.1</td>\n",
       "      <td>9.0</td>\n",
       "      <td>0.0</td>\n",
       "      <td>37392.0</td>\n",
       "      <td>134442.0</td>\n",
       "      <td>0.0</td>\n",
       "      <td>0.0</td>\n",
       "    </tr>\n",
       "    <tr>\n",
       "      <th>99991</th>\n",
       "      <td>326d0f2b-015f-480e-90e9-9c0d7d307196</td>\n",
       "      <td>ed9a397b-8a72-45c2-92de-b91f990a623d</td>\n",
       "      <td>Fully Paid</td>\n",
       "      <td>244266.0</td>\n",
       "      <td>Short Term</td>\n",
       "      <td>714.0</td>\n",
       "      <td>1619047.0</td>\n",
       "      <td>10+ years</td>\n",
       "      <td>Rent</td>\n",
       "      <td>Debt Consolidation</td>\n",
       "      <td>4290.39</td>\n",
       "      <td>21.4</td>\n",
       "      <td>5.0</td>\n",
       "      <td>1.0</td>\n",
       "      <td>132012.0</td>\n",
       "      <td>242660.0</td>\n",
       "      <td>1.0</td>\n",
       "      <td>0.0</td>\n",
       "    </tr>\n",
       "    <tr>\n",
       "      <th>99992</th>\n",
       "      <td>c568adaa-16f9-43d3-b522-8532fb57cb16</td>\n",
       "      <td>cbb29fd6-e418-4f09-a4bd-4de83428caab</td>\n",
       "      <td>Fully Paid</td>\n",
       "      <td>48796.0</td>\n",
       "      <td>Short Term</td>\n",
       "      <td>NaN</td>\n",
       "      <td>NaN</td>\n",
       "      <td>4 years</td>\n",
       "      <td>Home Mortgage</td>\n",
       "      <td>major_purchase</td>\n",
       "      <td>8298.63</td>\n",
       "      <td>8.3</td>\n",
       "      <td>9.0</td>\n",
       "      <td>0.0</td>\n",
       "      <td>87875.0</td>\n",
       "      <td>239404.0</td>\n",
       "      <td>0.0</td>\n",
       "      <td>0.0</td>\n",
       "    </tr>\n",
       "    <tr>\n",
       "      <th>99993</th>\n",
       "      <td>79b81158-5d55-4766-8ad6-ebcd683f7d59</td>\n",
       "      <td>e45e8dc4-05ad-4efe-92cc-784a6d5ef61a</td>\n",
       "      <td>Fully Paid</td>\n",
       "      <td>44484.0</td>\n",
       "      <td>Short Term</td>\n",
       "      <td>717.0</td>\n",
       "      <td>1152426.0</td>\n",
       "      <td>10+ years</td>\n",
       "      <td>Home Mortgage</td>\n",
       "      <td>small_business</td>\n",
       "      <td>6280.64</td>\n",
       "      <td>21.0</td>\n",
       "      <td>6.0</td>\n",
       "      <td>0.0</td>\n",
       "      <td>961932.0</td>\n",
       "      <td>0.0</td>\n",
       "      <td>0.0</td>\n",
       "      <td>0.0</td>\n",
       "    </tr>\n",
       "    <tr>\n",
       "      <th>99994</th>\n",
       "      <td>8506a4e9-af7d-47d2-a1bf-7ea2c41858f0</td>\n",
       "      <td>be67200e-1ef1-4b63-86a6-2bf27d3c704d</td>\n",
       "      <td>Fully Paid</td>\n",
       "      <td>210584.0</td>\n",
       "      <td>Short Term</td>\n",
       "      <td>719.0</td>\n",
       "      <td>783389.0</td>\n",
       "      <td>1 year</td>\n",
       "      <td>Home Mortgage</td>\n",
       "      <td>Other</td>\n",
       "      <td>3727.61</td>\n",
       "      <td>17.4</td>\n",
       "      <td>6.0</td>\n",
       "      <td>0.0</td>\n",
       "      <td>456.0</td>\n",
       "      <td>259160.0</td>\n",
       "      <td>0.0</td>\n",
       "      <td>0.0</td>\n",
       "    </tr>\n",
       "    <tr>\n",
       "      <th>99995</th>\n",
       "      <td>3f94c18c-ba8f-45d0-8610-88a684a410a9</td>\n",
       "      <td>2da51983-cfef-4b8f-a733-5dfaf69e9281</td>\n",
       "      <td>Fully Paid</td>\n",
       "      <td>147070.0</td>\n",
       "      <td>Short Term</td>\n",
       "      <td>725.0</td>\n",
       "      <td>475437.0</td>\n",
       "      <td>7 years</td>\n",
       "      <td>Own Home</td>\n",
       "      <td>other</td>\n",
       "      <td>2202.86</td>\n",
       "      <td>22.3</td>\n",
       "      <td>5.0</td>\n",
       "      <td>0.0</td>\n",
       "      <td>47766.0</td>\n",
       "      <td>658548.0</td>\n",
       "      <td>0.0</td>\n",
       "      <td>0.0</td>\n",
       "    </tr>\n",
       "    <tr>\n",
       "      <th>99996</th>\n",
       "      <td>06eba04f-58fc-424a-b666-ed72aa008900</td>\n",
       "      <td>77f2252a-b7d1-4b07-a746-1202a8304290</td>\n",
       "      <td>Fully Paid</td>\n",
       "      <td>99999999.0</td>\n",
       "      <td>Short Term</td>\n",
       "      <td>732.0</td>\n",
       "      <td>1289416.0</td>\n",
       "      <td>1 year</td>\n",
       "      <td>Rent</td>\n",
       "      <td>Debt Consolidation</td>\n",
       "      <td>13109.05</td>\n",
       "      <td>9.4</td>\n",
       "      <td>22.0</td>\n",
       "      <td>0.0</td>\n",
       "      <td>153045.0</td>\n",
       "      <td>509234.0</td>\n",
       "      <td>0.0</td>\n",
       "      <td>0.0</td>\n",
       "    </tr>\n",
       "    <tr>\n",
       "      <th>99997</th>\n",
       "      <td>e1cb4050-eff5-4bdb-a1b0-aabd3f7eaac7</td>\n",
       "      <td>2ced5f10-bd60-4a11-9134-cadce4e7b0a3</td>\n",
       "      <td>Fully Paid</td>\n",
       "      <td>103136.0</td>\n",
       "      <td>Short Term</td>\n",
       "      <td>742.0</td>\n",
       "      <td>1150545.0</td>\n",
       "      <td>6 years</td>\n",
       "      <td>Rent</td>\n",
       "      <td>Debt Consolidation</td>\n",
       "      <td>7315.57</td>\n",
       "      <td>18.8</td>\n",
       "      <td>12.0</td>\n",
       "      <td>1.0</td>\n",
       "      <td>109554.0</td>\n",
       "      <td>537548.0</td>\n",
       "      <td>1.0</td>\n",
       "      <td>0.0</td>\n",
       "    </tr>\n",
       "    <tr>\n",
       "      <th>99998</th>\n",
       "      <td>81ab928b-d1a5-4523-9a3c-271ebb01b4fb</td>\n",
       "      <td>3e45ffda-99fd-4cfc-b8b8-446f4a505f36</td>\n",
       "      <td>Fully Paid</td>\n",
       "      <td>530332.0</td>\n",
       "      <td>Short Term</td>\n",
       "      <td>746.0</td>\n",
       "      <td>1717524.0</td>\n",
       "      <td>9 years</td>\n",
       "      <td>Rent</td>\n",
       "      <td>Debt Consolidation</td>\n",
       "      <td>9890.07</td>\n",
       "      <td>15.0</td>\n",
       "      <td>8.0</td>\n",
       "      <td>0.0</td>\n",
       "      <td>404225.0</td>\n",
       "      <td>738254.0</td>\n",
       "      <td>0.0</td>\n",
       "      <td>0.0</td>\n",
       "    </tr>\n",
       "    <tr>\n",
       "      <th>99999</th>\n",
       "      <td>c63916c6-6d46-47a9-949a-51d09af4414f</td>\n",
       "      <td>1b3014be-5c07-4d41-abe7-44573c375886</td>\n",
       "      <td>Fully Paid</td>\n",
       "      <td>99999999.0</td>\n",
       "      <td>Short Term</td>\n",
       "      <td>743.0</td>\n",
       "      <td>935180.0</td>\n",
       "      <td>NaN</td>\n",
       "      <td>Own Home</td>\n",
       "      <td>Debt Consolidation</td>\n",
       "      <td>9118.10</td>\n",
       "      <td>13.0</td>\n",
       "      <td>4.0</td>\n",
       "      <td>1.0</td>\n",
       "      <td>45600.0</td>\n",
       "      <td>91014.0</td>\n",
       "      <td>1.0</td>\n",
       "      <td>0.0</td>\n",
       "    </tr>\n",
       "  </tbody>\n",
       "</table>\n",
       "</div>"
      ],
      "text/plain": [
       "                                    Loan ID  \\\n",
       "99990  686017b3-dc24-4f8a-af92-0bd077452d3d   \n",
       "99991  326d0f2b-015f-480e-90e9-9c0d7d307196   \n",
       "99992  c568adaa-16f9-43d3-b522-8532fb57cb16   \n",
       "99993  79b81158-5d55-4766-8ad6-ebcd683f7d59   \n",
       "99994  8506a4e9-af7d-47d2-a1bf-7ea2c41858f0   \n",
       "99995  3f94c18c-ba8f-45d0-8610-88a684a410a9   \n",
       "99996  06eba04f-58fc-424a-b666-ed72aa008900   \n",
       "99997  e1cb4050-eff5-4bdb-a1b0-aabd3f7eaac7   \n",
       "99998  81ab928b-d1a5-4523-9a3c-271ebb01b4fb   \n",
       "99999  c63916c6-6d46-47a9-949a-51d09af4414f   \n",
       "\n",
       "                                Customer ID Loan Status  Current Loan Amount  \\\n",
       "99990  1a583add-21ba-410f-9c42-757c4ed19322  Fully Paid           99999999.0   \n",
       "99991  ed9a397b-8a72-45c2-92de-b91f990a623d  Fully Paid             244266.0   \n",
       "99992  cbb29fd6-e418-4f09-a4bd-4de83428caab  Fully Paid              48796.0   \n",
       "99993  e45e8dc4-05ad-4efe-92cc-784a6d5ef61a  Fully Paid              44484.0   \n",
       "99994  be67200e-1ef1-4b63-86a6-2bf27d3c704d  Fully Paid             210584.0   \n",
       "99995  2da51983-cfef-4b8f-a733-5dfaf69e9281  Fully Paid             147070.0   \n",
       "99996  77f2252a-b7d1-4b07-a746-1202a8304290  Fully Paid           99999999.0   \n",
       "99997  2ced5f10-bd60-4a11-9134-cadce4e7b0a3  Fully Paid             103136.0   \n",
       "99998  3e45ffda-99fd-4cfc-b8b8-446f4a505f36  Fully Paid             530332.0   \n",
       "99999  1b3014be-5c07-4d41-abe7-44573c375886  Fully Paid           99999999.0   \n",
       "\n",
       "             Term  Credit Score  Annual Income Years in current job  \\\n",
       "99990  Short Term         742.0      1190046.0             < 1 year   \n",
       "99991  Short Term         714.0      1619047.0            10+ years   \n",
       "99992  Short Term           NaN            NaN              4 years   \n",
       "99993  Short Term         717.0      1152426.0            10+ years   \n",
       "99994  Short Term         719.0       783389.0               1 year   \n",
       "99995  Short Term         725.0       475437.0              7 years   \n",
       "99996  Short Term         732.0      1289416.0               1 year   \n",
       "99997  Short Term         742.0      1150545.0              6 years   \n",
       "99998  Short Term         746.0      1717524.0              9 years   \n",
       "99999  Short Term         743.0       935180.0                  NaN   \n",
       "\n",
       "      Home Ownership             Purpose  Monthly Debt  \\\n",
       "99990           Rent               other      11969.81   \n",
       "99991           Rent  Debt Consolidation       4290.39   \n",
       "99992  Home Mortgage      major_purchase       8298.63   \n",
       "99993  Home Mortgage      small_business       6280.64   \n",
       "99994  Home Mortgage               Other       3727.61   \n",
       "99995       Own Home               other       2202.86   \n",
       "99996           Rent  Debt Consolidation      13109.05   \n",
       "99997           Rent  Debt Consolidation       7315.57   \n",
       "99998           Rent  Debt Consolidation       9890.07   \n",
       "99999       Own Home  Debt Consolidation       9118.10   \n",
       "\n",
       "       Years of Credit History  Number of Open Accounts  \\\n",
       "99990                     20.1                      9.0   \n",
       "99991                     21.4                      5.0   \n",
       "99992                      8.3                      9.0   \n",
       "99993                     21.0                      6.0   \n",
       "99994                     17.4                      6.0   \n",
       "99995                     22.3                      5.0   \n",
       "99996                      9.4                     22.0   \n",
       "99997                     18.8                     12.0   \n",
       "99998                     15.0                      8.0   \n",
       "99999                     13.0                      4.0   \n",
       "\n",
       "       Number of Credit Problems  Current Credit Balance  Maximum Open Credit  \\\n",
       "99990                        0.0                 37392.0             134442.0   \n",
       "99991                        1.0                132012.0             242660.0   \n",
       "99992                        0.0                 87875.0             239404.0   \n",
       "99993                        0.0                961932.0                  0.0   \n",
       "99994                        0.0                   456.0             259160.0   \n",
       "99995                        0.0                 47766.0             658548.0   \n",
       "99996                        0.0                153045.0             509234.0   \n",
       "99997                        1.0                109554.0             537548.0   \n",
       "99998                        0.0                404225.0             738254.0   \n",
       "99999                        1.0                 45600.0              91014.0   \n",
       "\n",
       "       Bankruptcies  Tax Liens  \n",
       "99990           0.0        0.0  \n",
       "99991           1.0        0.0  \n",
       "99992           0.0        0.0  \n",
       "99993           0.0        0.0  \n",
       "99994           0.0        0.0  \n",
       "99995           0.0        0.0  \n",
       "99996           0.0        0.0  \n",
       "99997           1.0        0.0  \n",
       "99998           0.0        0.0  \n",
       "99999           1.0        0.0  "
      ]
     },
     "execution_count": 13,
     "metadata": {},
     "output_type": "execute_result"
    }
   ],
   "source": [
    "df.tail(10)"
   ]
  },
  {
   "cell_type": "code",
   "execution_count": 14,
   "id": "513c5d1d",
   "metadata": {
    "execution": {
     "iopub.execute_input": "2022-09-18T02:16:11.542132Z",
     "iopub.status.busy": "2022-09-18T02:16:11.541330Z",
     "iopub.status.idle": "2022-09-18T02:16:12.597303Z",
     "shell.execute_reply": "2022-09-18T02:16:12.596302Z"
    },
    "papermill": {
     "duration": 1.093297,
     "end_time": "2022-09-18T02:16:12.599759",
     "exception": false,
     "start_time": "2022-09-18T02:16:11.506462",
     "status": "completed"
    },
    "tags": []
   },
   "outputs": [
    {
     "data": {
      "text/plain": [
       "<AxesSubplot:>"
      ]
     },
     "execution_count": 14,
     "metadata": {},
     "output_type": "execute_result"
    },
    {
     "data": {
      "image/png": "[encoded data removed]",
      "text/plain": [
       "<Figure size 720x720 with 2 Axes>"
      ]
     },
     "metadata": {
      "needs_background": "light"
     },
     "output_type": "display_data"
    }
   ],
   "source": [
    "plt.figure(figsize=(10,10))\n",
    "sns.heatmap(df.corr(),annot=True,cmap=\"crest\")"
   ]
  },
  {
   "cell_type": "markdown",
   "id": "ed4208e9",
   "metadata": {
    "papermill": {
     "duration": 0.036088,
     "end_time": "2022-09-18T02:16:12.672049",
     "exception": false,
     "start_time": "2022-09-18T02:16:12.635961",
     "status": "completed"
    },
    "tags": []
   },
   "source": [
    "### Bankruptcies has strong correlation Number of Credit Problems"
   ]
  },
  {
   "cell_type": "markdown",
   "id": "d5da1e2d",
   "metadata": {
    "papermill": {
     "duration": 0.034897,
     "end_time": "2022-09-18T02:16:12.741986",
     "exception": false,
     "start_time": "2022-09-18T02:16:12.707089",
     "status": "completed"
    },
    "tags": []
   },
   "source": [
    "### Taxlines has strong correlation Number of Credit Problems"
   ]
  },
  {
   "cell_type": "markdown",
   "id": "263335bf",
   "metadata": {
    "papermill": {
     "duration": 0.03474,
     "end_time": "2022-09-18T02:16:12.811697",
     "exception": false,
     "start_time": "2022-09-18T02:16:12.776957",
     "status": "completed"
    },
    "tags": []
   },
   "source": [
    "### Current credit balance has good  relationship with Annual Income"
   ]
  },
  {
   "cell_type": "markdown",
   "id": "3c607448",
   "metadata": {
    "papermill": {
     "duration": 0.035523,
     "end_time": "2022-09-18T02:16:12.882706",
     "exception": false,
     "start_time": "2022-09-18T02:16:12.847183",
     "status": "completed"
    },
    "tags": []
   },
   "source": [
    "### Current credit balance has  good relationship with monthly debt"
   ]
  },
  {
   "cell_type": "markdown",
   "id": "68be4d49",
   "metadata": {
    "papermill": {
     "duration": 0.035005,
     "end_time": "2022-09-18T02:16:12.953999",
     "exception": false,
     "start_time": "2022-09-18T02:16:12.918994",
     "status": "completed"
    },
    "tags": []
   },
   "source": [
    "### Number of open accounts with monthly debt "
   ]
  },
  {
   "cell_type": "markdown",
   "id": "d94367a1",
   "metadata": {
    "papermill": {
     "duration": 0.034958,
     "end_time": "2022-09-18T02:16:13.025450",
     "exception": false,
     "start_time": "2022-09-18T02:16:12.990492",
     "status": "completed"
    },
    "tags": []
   },
   "source": [
    "# Term of Loan "
   ]
  },
  {
   "cell_type": "code",
   "execution_count": 15,
   "id": "5e4f190d",
   "metadata": {
    "execution": {
     "iopub.execute_input": "2022-09-18T02:16:13.108896Z",
     "iopub.status.busy": "2022-09-18T02:16:13.107590Z",
     "iopub.status.idle": "2022-09-18T02:16:13.387323Z",
     "shell.execute_reply": "2022-09-18T02:16:13.386156Z"
    },
    "papermill": {
     "duration": 0.329258,
     "end_time": "2022-09-18T02:16:13.389750",
     "exception": false,
     "start_time": "2022-09-18T02:16:13.060492",
     "status": "completed"
    },
    "tags": []
   },
   "outputs": [
    {
     "name": "stderr",
     "output_type": "stream",
     "text": [
      "/opt/conda/lib/python3.7/site-packages/seaborn/_decorators.py:43: FutureWarning: Pass the following variable as a keyword arg: x. From version 0.12, the only valid positional argument will be `data`, and passing other arguments without an explicit keyword will result in an error or misinterpretation.\n",
      "  FutureWarning\n"
     ]
    },
    {
     "data": {
      "text/plain": [
       "<AxesSubplot:xlabel='Term', ylabel='count'>"
      ]
     },
     "execution_count": 15,
     "metadata": {},
     "output_type": "execute_result"
    },
    {
     "data": {
      "image/png": "[encoded data removed]",
      "text/plain": [
       "<Figure size 432x288 with 1 Axes>"
      ]
     },
     "metadata": {
      "needs_background": "light"
     },
     "output_type": "display_data"
    }
   ],
   "source": [
    "sns.countplot(df[\"Term\"])"
   ]
  },
  {
   "cell_type": "markdown",
   "id": "aeb6cf7e",
   "metadata": {
    "papermill": {
     "duration": 0.035395,
     "end_time": "2022-09-18T02:16:13.460671",
     "exception": false,
     "start_time": "2022-09-18T02:16:13.425276",
     "status": "completed"
    },
    "tags": []
   },
   "source": [
    "#### The plot shows that most of loans are short term loans\n"
   ]
  },
  {
   "cell_type": "code",
   "execution_count": 16,
   "id": "748d0f95",
   "metadata": {
    "execution": {
     "iopub.execute_input": "2022-09-18T02:16:13.534411Z",
     "iopub.status.busy": "2022-09-18T02:16:13.533642Z",
     "iopub.status.idle": "2022-09-18T02:16:13.548927Z",
     "shell.execute_reply": "2022-09-18T02:16:13.547694Z"
    },
    "papermill": {
     "duration": 0.05528,
     "end_time": "2022-09-18T02:16:13.551583",
     "exception": false,
     "start_time": "2022-09-18T02:16:13.496303",
     "status": "completed"
    },
    "tags": []
   },
   "outputs": [
    {
     "data": {
      "text/plain": [
       "Short Term    72.208\n",
       "Long Term     27.792\n",
       "Name: Term, dtype: float64"
      ]
     },
     "execution_count": 16,
     "metadata": {},
     "output_type": "execute_result"
    }
   ],
   "source": [
    "df[\"Term\"].value_counts(normalize=True)*100"
   ]
  },
  {
   "cell_type": "markdown",
   "id": "82949665",
   "metadata": {
    "papermill": {
     "duration": 0.036176,
     "end_time": "2022-09-18T02:16:13.623397",
     "exception": false,
     "start_time": "2022-09-18T02:16:13.587221",
     "status": "completed"
    },
    "tags": []
   },
   "source": [
    "#### More than 72% of loans are short term and almost 28% are long term"
   ]
  },
  {
   "cell_type": "code",
   "execution_count": 17,
   "id": "b44fe27c",
   "metadata": {
    "execution": {
     "iopub.execute_input": "2022-09-18T02:16:13.697235Z",
     "iopub.status.busy": "2022-09-18T02:16:13.696807Z",
     "iopub.status.idle": "2022-09-18T02:16:14.041217Z",
     "shell.execute_reply": "2022-09-18T02:16:14.040377Z"
    },
    "papermill": {
     "duration": 0.3857,
     "end_time": "2022-09-18T02:16:14.045029",
     "exception": false,
     "start_time": "2022-09-18T02:16:13.659329",
     "status": "completed"
    },
    "tags": []
   },
   "outputs": [
    {
     "name": "stderr",
     "output_type": "stream",
     "text": [
      "/opt/conda/lib/python3.7/site-packages/seaborn/_decorators.py:43: FutureWarning: Pass the following variable as a keyword arg: x. From version 0.12, the only valid positional argument will be `data`, and passing other arguments without an explicit keyword will result in an error or misinterpretation.\n",
      "  FutureWarning\n"
     ]
    },
    {
     "data": {
      "text/plain": [
       "<AxesSubplot:xlabel='Term', ylabel='count'>"
      ]
     },
     "execution_count": 17,
     "metadata": {},
     "output_type": "execute_result"
    },
    {
     "data": {
      "image/png": "[encoded data removed]",
      "text/plain": [
       "<Figure size 432x288 with 1 Axes>"
      ]
     },
     "metadata": {
      "needs_background": "light"
     },
     "output_type": "display_data"
    }
   ],
   "source": [
    "sns.countplot(df[\"Term\"],hue=df[\"Loan Status\"])"
   ]
  },
  {
   "cell_type": "code",
   "execution_count": null,
   "id": "3af86368",
   "metadata": {
    "papermill": {
     "duration": 0.035726,
     "end_time": "2022-09-18T02:16:14.118397",
     "exception": false,
     "start_time": "2022-09-18T02:16:14.082671",
     "status": "completed"
    },
    "tags": []
   },
   "outputs": [],
   "source": []
  },
  {
   "cell_type": "markdown",
   "id": "95478d09",
   "metadata": {
    "papermill": {
     "duration": 0.036487,
     "end_time": "2022-09-18T02:16:14.190841",
     "exception": false,
     "start_time": "2022-09-18T02:16:14.154354",
     "status": "completed"
    },
    "tags": []
   },
   "source": [
    "# Credit Score Ranges "
   ]
  },
  {
   "cell_type": "code",
   "execution_count": 18,
   "id": "36fee06d",
   "metadata": {
    "execution": {
     "iopub.execute_input": "2022-09-18T02:16:14.263993Z",
     "iopub.status.busy": "2022-09-18T02:16:14.263592Z",
     "iopub.status.idle": "2022-09-18T02:16:14.282523Z",
     "shell.execute_reply": "2022-09-18T02:16:14.281500Z"
    },
    "papermill": {
     "duration": 0.058289,
     "end_time": "2022-09-18T02:16:14.284831",
     "exception": false,
     "start_time": "2022-09-18T02:16:14.226542",
     "status": "completed"
    },
    "tags": []
   },
   "outputs": [
    {
     "data": {
      "text/plain": [
       "count    80846.000000\n",
       "mean      1076.456089\n",
       "std       1475.403791\n",
       "min        585.000000\n",
       "25%        705.000000\n",
       "50%        724.000000\n",
       "75%        741.000000\n",
       "max       7510.000000\n",
       "Name: Credit Score, dtype: float64"
      ]
     },
     "execution_count": 18,
     "metadata": {},
     "output_type": "execute_result"
    }
   ],
   "source": [
    "df[\"Credit Score\"].describe()"
   ]
  },
  {
   "cell_type": "markdown",
   "id": "8eba9d53",
   "metadata": {
    "papermill": {
     "duration": 0.035761,
     "end_time": "2022-09-18T02:16:14.356762",
     "exception": false,
     "start_time": "2022-09-18T02:16:14.321001",
     "status": "completed"
    },
    "tags": []
   },
   "source": [
    "##### Credir score range is 300 to 850  so values above 850 are invalid\n",
    "##### it may be a typo , a zero is added to the original score.\n"
   ]
  },
  {
   "cell_type": "code",
   "execution_count": 19,
   "id": "28da85b2",
   "metadata": {
    "execution": {
     "iopub.execute_input": "2022-09-18T02:16:14.430658Z",
     "iopub.status.busy": "2022-09-18T02:16:14.430149Z",
     "iopub.status.idle": "2022-09-18T02:16:14.436660Z",
     "shell.execute_reply": "2022-09-18T02:16:14.435224Z"
    },
    "papermill": {
     "duration": 0.046485,
     "end_time": "2022-09-18T02:16:14.439259",
     "exception": false,
     "start_time": "2022-09-18T02:16:14.392774",
     "status": "completed"
    },
    "tags": []
   },
   "outputs": [],
   "source": [
    "def credit_error(value):\n",
    "    credit_value = value\n",
    "    credit_value['Credit Score'] = np.where(value['Credit Score'] > 850, value['Credit Score'].values /10, value['Credit Score'])\n",
    "    return credit_value"
   ]
  },
  {
   "cell_type": "code",
   "execution_count": 20,
   "id": "8a2da263",
   "metadata": {
    "execution": {
     "iopub.execute_input": "2022-09-18T02:16:14.513524Z",
     "iopub.status.busy": "2022-09-18T02:16:14.512885Z",
     "iopub.status.idle": "2022-09-18T02:16:14.549191Z",
     "shell.execute_reply": "2022-09-18T02:16:14.548023Z"
    },
    "papermill": {
     "duration": 0.076677,
     "end_time": "2022-09-18T02:16:14.551877",
     "exception": false,
     "start_time": "2022-09-18T02:16:14.475200",
     "status": "completed"
    },
    "tags": []
   },
   "outputs": [
    {
     "data": {
      "text/html": [
       "<div>\n",
       "<style scoped>\n",
       "    .dataframe tbody tr th:only-of-type {\n",
       "        vertical-align: middle;\n",
       "    }\n",
       "\n",
       "    .dataframe tbody tr th {\n",
       "        vertical-align: top;\n",
       "    }\n",
       "\n",
       "    .dataframe thead th {\n",
       "        text-align: right;\n",
       "    }\n",
       "</style>\n",
       "<table border=\"1\" class=\"dataframe\">\n",
       "  <thead>\n",
       "    <tr style=\"text-align: right;\">\n",
       "      <th></th>\n",
       "      <th>Loan ID</th>\n",
       "      <th>Customer ID</th>\n",
       "      <th>Loan Status</th>\n",
       "      <th>Current Loan Amount</th>\n",
       "      <th>Term</th>\n",
       "      <th>Credit Score</th>\n",
       "      <th>Annual Income</th>\n",
       "      <th>Years in current job</th>\n",
       "      <th>Home Ownership</th>\n",
       "      <th>Purpose</th>\n",
       "      <th>Monthly Debt</th>\n",
       "      <th>Years of Credit History</th>\n",
       "      <th>Number of Open Accounts</th>\n",
       "      <th>Number of Credit Problems</th>\n",
       "      <th>Current Credit Balance</th>\n",
       "      <th>Maximum Open Credit</th>\n",
       "      <th>Bankruptcies</th>\n",
       "      <th>Tax Liens</th>\n",
       "    </tr>\n",
       "  </thead>\n",
       "  <tbody>\n",
       "    <tr>\n",
       "      <th>0</th>\n",
       "      <td>14dd8831-6af5-400b-83ec-68e61888a048</td>\n",
       "      <td>981165ec-3274-42f5-a3b4-d104041a9ca9</td>\n",
       "      <td>Fully Paid</td>\n",
       "      <td>445412.0</td>\n",
       "      <td>Short Term</td>\n",
       "      <td>709.0</td>\n",
       "      <td>1167493.0</td>\n",
       "      <td>8 years</td>\n",
       "      <td>Home Mortgage</td>\n",
       "      <td>Home Improvements</td>\n",
       "      <td>5214.74</td>\n",
       "      <td>17.2</td>\n",
       "      <td>6.0</td>\n",
       "      <td>1.0</td>\n",
       "      <td>228190.0</td>\n",
       "      <td>416746.0</td>\n",
       "      <td>1.0</td>\n",
       "      <td>0.0</td>\n",
       "    </tr>\n",
       "    <tr>\n",
       "      <th>1</th>\n",
       "      <td>4771cc26-131a-45db-b5aa-537ea4ba5342</td>\n",
       "      <td>2de017a3-2e01-49cb-a581-08169e83be29</td>\n",
       "      <td>Fully Paid</td>\n",
       "      <td>262328.0</td>\n",
       "      <td>Short Term</td>\n",
       "      <td>NaN</td>\n",
       "      <td>NaN</td>\n",
       "      <td>10+ years</td>\n",
       "      <td>Home Mortgage</td>\n",
       "      <td>Debt Consolidation</td>\n",
       "      <td>33295.98</td>\n",
       "      <td>21.1</td>\n",
       "      <td>35.0</td>\n",
       "      <td>0.0</td>\n",
       "      <td>229976.0</td>\n",
       "      <td>850784.0</td>\n",
       "      <td>0.0</td>\n",
       "      <td>0.0</td>\n",
       "    </tr>\n",
       "    <tr>\n",
       "      <th>2</th>\n",
       "      <td>4eed4e6a-aa2f-4c91-8651-ce984ee8fb26</td>\n",
       "      <td>5efb2b2b-bf11-4dfd-a572-3761a2694725</td>\n",
       "      <td>Fully Paid</td>\n",
       "      <td>99999999.0</td>\n",
       "      <td>Short Term</td>\n",
       "      <td>741.0</td>\n",
       "      <td>2231892.0</td>\n",
       "      <td>8 years</td>\n",
       "      <td>Own Home</td>\n",
       "      <td>Debt Consolidation</td>\n",
       "      <td>29200.53</td>\n",
       "      <td>14.9</td>\n",
       "      <td>18.0</td>\n",
       "      <td>1.0</td>\n",
       "      <td>297996.0</td>\n",
       "      <td>750090.0</td>\n",
       "      <td>0.0</td>\n",
       "      <td>0.0</td>\n",
       "    </tr>\n",
       "    <tr>\n",
       "      <th>3</th>\n",
       "      <td>77598f7b-32e7-4e3b-a6e5-06ba0d98fe8a</td>\n",
       "      <td>e777faab-98ae-45af-9a86-7ce5b33b1011</td>\n",
       "      <td>Fully Paid</td>\n",
       "      <td>347666.0</td>\n",
       "      <td>Long Term</td>\n",
       "      <td>721.0</td>\n",
       "      <td>806949.0</td>\n",
       "      <td>3 years</td>\n",
       "      <td>Own Home</td>\n",
       "      <td>Debt Consolidation</td>\n",
       "      <td>8741.90</td>\n",
       "      <td>12.0</td>\n",
       "      <td>9.0</td>\n",
       "      <td>0.0</td>\n",
       "      <td>256329.0</td>\n",
       "      <td>386958.0</td>\n",
       "      <td>0.0</td>\n",
       "      <td>0.0</td>\n",
       "    </tr>\n",
       "    <tr>\n",
       "      <th>4</th>\n",
       "      <td>d4062e70-befa-4995-8643-a0de73938182</td>\n",
       "      <td>81536ad9-5ccf-4eb8-befb-47a4d608658e</td>\n",
       "      <td>Fully Paid</td>\n",
       "      <td>176220.0</td>\n",
       "      <td>Short Term</td>\n",
       "      <td>NaN</td>\n",
       "      <td>NaN</td>\n",
       "      <td>5 years</td>\n",
       "      <td>Rent</td>\n",
       "      <td>Debt Consolidation</td>\n",
       "      <td>20639.70</td>\n",
       "      <td>6.1</td>\n",
       "      <td>15.0</td>\n",
       "      <td>0.0</td>\n",
       "      <td>253460.0</td>\n",
       "      <td>427174.0</td>\n",
       "      <td>0.0</td>\n",
       "      <td>0.0</td>\n",
       "    </tr>\n",
       "    <tr>\n",
       "      <th>...</th>\n",
       "      <td>...</td>\n",
       "      <td>...</td>\n",
       "      <td>...</td>\n",
       "      <td>...</td>\n",
       "      <td>...</td>\n",
       "      <td>...</td>\n",
       "      <td>...</td>\n",
       "      <td>...</td>\n",
       "      <td>...</td>\n",
       "      <td>...</td>\n",
       "      <td>...</td>\n",
       "      <td>...</td>\n",
       "      <td>...</td>\n",
       "      <td>...</td>\n",
       "      <td>...</td>\n",
       "      <td>...</td>\n",
       "      <td>...</td>\n",
       "      <td>...</td>\n",
       "    </tr>\n",
       "    <tr>\n",
       "      <th>99995</th>\n",
       "      <td>3f94c18c-ba8f-45d0-8610-88a684a410a9</td>\n",
       "      <td>2da51983-cfef-4b8f-a733-5dfaf69e9281</td>\n",
       "      <td>Fully Paid</td>\n",
       "      <td>147070.0</td>\n",
       "      <td>Short Term</td>\n",
       "      <td>725.0</td>\n",
       "      <td>475437.0</td>\n",
       "      <td>7 years</td>\n",
       "      <td>Own Home</td>\n",
       "      <td>other</td>\n",
       "      <td>2202.86</td>\n",
       "      <td>22.3</td>\n",
       "      <td>5.0</td>\n",
       "      <td>0.0</td>\n",
       "      <td>47766.0</td>\n",
       "      <td>658548.0</td>\n",
       "      <td>0.0</td>\n",
       "      <td>0.0</td>\n",
       "    </tr>\n",
       "    <tr>\n",
       "      <th>99996</th>\n",
       "      <td>06eba04f-58fc-424a-b666-ed72aa008900</td>\n",
       "      <td>77f2252a-b7d1-4b07-a746-1202a8304290</td>\n",
       "      <td>Fully Paid</td>\n",
       "      <td>99999999.0</td>\n",
       "      <td>Short Term</td>\n",
       "      <td>732.0</td>\n",
       "      <td>1289416.0</td>\n",
       "      <td>1 year</td>\n",
       "      <td>Rent</td>\n",
       "      <td>Debt Consolidation</td>\n",
       "      <td>13109.05</td>\n",
       "      <td>9.4</td>\n",
       "      <td>22.0</td>\n",
       "      <td>0.0</td>\n",
       "      <td>153045.0</td>\n",
       "      <td>509234.0</td>\n",
       "      <td>0.0</td>\n",
       "      <td>0.0</td>\n",
       "    </tr>\n",
       "    <tr>\n",
       "      <th>99997</th>\n",
       "      <td>e1cb4050-eff5-4bdb-a1b0-aabd3f7eaac7</td>\n",
       "      <td>2ced5f10-bd60-4a11-9134-cadce4e7b0a3</td>\n",
       "      <td>Fully Paid</td>\n",
       "      <td>103136.0</td>\n",
       "      <td>Short Term</td>\n",
       "      <td>742.0</td>\n",
       "      <td>1150545.0</td>\n",
       "      <td>6 years</td>\n",
       "      <td>Rent</td>\n",
       "      <td>Debt Consolidation</td>\n",
       "      <td>7315.57</td>\n",
       "      <td>18.8</td>\n",
       "      <td>12.0</td>\n",
       "      <td>1.0</td>\n",
       "      <td>109554.0</td>\n",
       "      <td>537548.0</td>\n",
       "      <td>1.0</td>\n",
       "      <td>0.0</td>\n",
       "    </tr>\n",
       "    <tr>\n",
       "      <th>99998</th>\n",
       "      <td>81ab928b-d1a5-4523-9a3c-271ebb01b4fb</td>\n",
       "      <td>3e45ffda-99fd-4cfc-b8b8-446f4a505f36</td>\n",
       "      <td>Fully Paid</td>\n",
       "      <td>530332.0</td>\n",
       "      <td>Short Term</td>\n",
       "      <td>746.0</td>\n",
       "      <td>1717524.0</td>\n",
       "      <td>9 years</td>\n",
       "      <td>Rent</td>\n",
       "      <td>Debt Consolidation</td>\n",
       "      <td>9890.07</td>\n",
       "      <td>15.0</td>\n",
       "      <td>8.0</td>\n",
       "      <td>0.0</td>\n",
       "      <td>404225.0</td>\n",
       "      <td>738254.0</td>\n",
       "      <td>0.0</td>\n",
       "      <td>0.0</td>\n",
       "    </tr>\n",
       "    <tr>\n",
       "      <th>99999</th>\n",
       "      <td>c63916c6-6d46-47a9-949a-51d09af4414f</td>\n",
       "      <td>1b3014be-5c07-4d41-abe7-44573c375886</td>\n",
       "      <td>Fully Paid</td>\n",
       "      <td>99999999.0</td>\n",
       "      <td>Short Term</td>\n",
       "      <td>743.0</td>\n",
       "      <td>935180.0</td>\n",
       "      <td>NaN</td>\n",
       "      <td>Own Home</td>\n",
       "      <td>Debt Consolidation</td>\n",
       "      <td>9118.10</td>\n",
       "      <td>13.0</td>\n",
       "      <td>4.0</td>\n",
       "      <td>1.0</td>\n",
       "      <td>45600.0</td>\n",
       "      <td>91014.0</td>\n",
       "      <td>1.0</td>\n",
       "      <td>0.0</td>\n",
       "    </tr>\n",
       "  </tbody>\n",
       "</table>\n",
       "<p>100000 rows × 18 columns</p>\n",
       "</div>"
      ],
      "text/plain": [
       "                                    Loan ID  \\\n",
       "0      14dd8831-6af5-400b-83ec-68e61888a048   \n",
       "1      4771cc26-131a-45db-b5aa-537ea4ba5342   \n",
       "2      4eed4e6a-aa2f-4c91-8651-ce984ee8fb26   \n",
       "3      77598f7b-32e7-4e3b-a6e5-06ba0d98fe8a   \n",
       "4      d4062e70-befa-4995-8643-a0de73938182   \n",
       "...                                     ...   \n",
       "99995  3f94c18c-ba8f-45d0-8610-88a684a410a9   \n",
       "99996  06eba04f-58fc-424a-b666-ed72aa008900   \n",
       "99997  e1cb4050-eff5-4bdb-a1b0-aabd3f7eaac7   \n",
       "99998  81ab928b-d1a5-4523-9a3c-271ebb01b4fb   \n",
       "99999  c63916c6-6d46-47a9-949a-51d09af4414f   \n",
       "\n",
       "                                Customer ID Loan Status  Current Loan Amount  \\\n",
       "0      981165ec-3274-42f5-a3b4-d104041a9ca9  Fully Paid             445412.0   \n",
       "1      2de017a3-2e01-49cb-a581-08169e83be29  Fully Paid             262328.0   \n",
       "2      5efb2b2b-bf11-4dfd-a572-3761a2694725  Fully Paid           99999999.0   \n",
       "3      e777faab-98ae-45af-9a86-7ce5b33b1011  Fully Paid             347666.0   \n",
       "4      81536ad9-5ccf-4eb8-befb-47a4d608658e  Fully Paid             176220.0   \n",
       "...                                     ...         ...                  ...   \n",
       "99995  2da51983-cfef-4b8f-a733-5dfaf69e9281  Fully Paid             147070.0   \n",
       "99996  77f2252a-b7d1-4b07-a746-1202a8304290  Fully Paid           99999999.0   \n",
       "99997  2ced5f10-bd60-4a11-9134-cadce4e7b0a3  Fully Paid             103136.0   \n",
       "99998  3e45ffda-99fd-4cfc-b8b8-446f4a505f36  Fully Paid             530332.0   \n",
       "99999  1b3014be-5c07-4d41-abe7-44573c375886  Fully Paid           99999999.0   \n",
       "\n",
       "             Term  Credit Score  Annual Income Years in current job  \\\n",
       "0      Short Term         709.0      1167493.0              8 years   \n",
       "1      Short Term           NaN            NaN            10+ years   \n",
       "2      Short Term         741.0      2231892.0              8 years   \n",
       "3       Long Term         721.0       806949.0              3 years   \n",
       "4      Short Term           NaN            NaN              5 years   \n",
       "...           ...           ...            ...                  ...   \n",
       "99995  Short Term         725.0       475437.0              7 years   \n",
       "99996  Short Term         732.0      1289416.0               1 year   \n",
       "99997  Short Term         742.0      1150545.0              6 years   \n",
       "99998  Short Term         746.0      1717524.0              9 years   \n",
       "99999  Short Term         743.0       935180.0                  NaN   \n",
       "\n",
       "      Home Ownership             Purpose  Monthly Debt  \\\n",
       "0      Home Mortgage   Home Improvements       5214.74   \n",
       "1      Home Mortgage  Debt Consolidation      33295.98   \n",
       "2           Own Home  Debt Consolidation      29200.53   \n",
       "3           Own Home  Debt Consolidation       8741.90   \n",
       "4               Rent  Debt Consolidation      20639.70   \n",
       "...              ...                 ...           ...   \n",
       "99995       Own Home               other       2202.86   \n",
       "99996           Rent  Debt Consolidation      13109.05   \n",
       "99997           Rent  Debt Consolidation       7315.57   \n",
       "99998           Rent  Debt Consolidation       9890.07   \n",
       "99999       Own Home  Debt Consolidation       9118.10   \n",
       "\n",
       "       Years of Credit History  Number of Open Accounts  \\\n",
       "0                         17.2                      6.0   \n",
       "1                         21.1                     35.0   \n",
       "2                         14.9                     18.0   \n",
       "3                         12.0                      9.0   \n",
       "4                          6.1                     15.0   \n",
       "...                        ...                      ...   \n",
       "99995                     22.3                      5.0   \n",
       "99996                      9.4                     22.0   \n",
       "99997                     18.8                     12.0   \n",
       "99998                     15.0                      8.0   \n",
       "99999                     13.0                      4.0   \n",
       "\n",
       "       Number of Credit Problems  Current Credit Balance  Maximum Open Credit  \\\n",
       "0                            1.0                228190.0             416746.0   \n",
       "1                            0.0                229976.0             850784.0   \n",
       "2                            1.0                297996.0             750090.0   \n",
       "3                            0.0                256329.0             386958.0   \n",
       "4                            0.0                253460.0             427174.0   \n",
       "...                          ...                     ...                  ...   \n",
       "99995                        0.0                 47766.0             658548.0   \n",
       "99996                        0.0                153045.0             509234.0   \n",
       "99997                        1.0                109554.0             537548.0   \n",
       "99998                        0.0                404225.0             738254.0   \n",
       "99999                        1.0                 45600.0              91014.0   \n",
       "\n",
       "       Bankruptcies  Tax Liens  \n",
       "0               1.0        0.0  \n",
       "1               0.0        0.0  \n",
       "2               0.0        0.0  \n",
       "3               0.0        0.0  \n",
       "4               0.0        0.0  \n",
       "...             ...        ...  \n",
       "99995           0.0        0.0  \n",
       "99996           0.0        0.0  \n",
       "99997           1.0        0.0  \n",
       "99998           0.0        0.0  \n",
       "99999           1.0        0.0  \n",
       "\n",
       "[100000 rows x 18 columns]"
      ]
     },
     "execution_count": 20,
     "metadata": {},
     "output_type": "execute_result"
    }
   ],
   "source": [
    "credit_error(df)"
   ]
  },
  {
   "cell_type": "code",
   "execution_count": 21,
   "id": "f6e5c13f",
   "metadata": {
    "execution": {
     "iopub.execute_input": "2022-09-18T02:16:14.629452Z",
     "iopub.status.busy": "2022-09-18T02:16:14.628179Z",
     "iopub.status.idle": "2022-09-18T02:16:14.646456Z",
     "shell.execute_reply": "2022-09-18T02:16:14.645169Z"
    },
    "papermill": {
     "duration": 0.060298,
     "end_time": "2022-09-18T02:16:14.649333",
     "exception": false,
     "start_time": "2022-09-18T02:16:14.589035",
     "status": "completed"
    },
    "tags": []
   },
   "outputs": [
    {
     "data": {
      "text/plain": [
       "count    80846.000000\n",
       "mean       716.293447\n",
       "std         28.297164\n",
       "min        585.000000\n",
       "25%        703.000000\n",
       "50%        722.000000\n",
       "75%        738.000000\n",
       "max        751.000000\n",
       "Name: Credit Score, dtype: float64"
      ]
     },
     "execution_count": 21,
     "metadata": {},
     "output_type": "execute_result"
    }
   ],
   "source": [
    "df[\"Credit Score\"].describe()"
   ]
  },
  {
   "cell_type": "code",
   "execution_count": 22,
   "id": "8c371e12",
   "metadata": {
    "execution": {
     "iopub.execute_input": "2022-09-18T02:16:14.729815Z",
     "iopub.status.busy": "2022-09-18T02:16:14.729393Z",
     "iopub.status.idle": "2022-09-18T02:16:14.735666Z",
     "shell.execute_reply": "2022-09-18T02:16:14.734664Z"
    },
    "papermill": {
     "duration": 0.048967,
     "end_time": "2022-09-18T02:16:14.737871",
     "exception": false,
     "start_time": "2022-09-18T02:16:14.688904",
     "status": "completed"
    },
    "tags": []
   },
   "outputs": [],
   "source": [
    "df[\"Credit Ranges\"]=df[\"Credit Score\"].copy()"
   ]
  },
  {
   "cell_type": "code",
   "execution_count": 23,
   "id": "190200bf",
   "metadata": {
    "execution": {
     "iopub.execute_input": "2022-09-18T02:16:14.813653Z",
     "iopub.status.busy": "2022-09-18T02:16:14.813188Z",
     "iopub.status.idle": "2022-09-18T02:16:14.841431Z",
     "shell.execute_reply": "2022-09-18T02:16:14.840115Z"
    },
    "papermill": {
     "duration": 0.069025,
     "end_time": "2022-09-18T02:16:14.843841",
     "exception": false,
     "start_time": "2022-09-18T02:16:14.774816",
     "status": "completed"
    },
    "tags": []
   },
   "outputs": [
    {
     "data": {
      "text/html": [
       "<div>\n",
       "<style scoped>\n",
       "    .dataframe tbody tr th:only-of-type {\n",
       "        vertical-align: middle;\n",
       "    }\n",
       "\n",
       "    .dataframe tbody tr th {\n",
       "        vertical-align: top;\n",
       "    }\n",
       "\n",
       "    .dataframe thead th {\n",
       "        text-align: right;\n",
       "    }\n",
       "</style>\n",
       "<table border=\"1\" class=\"dataframe\">\n",
       "  <thead>\n",
       "    <tr style=\"text-align: right;\">\n",
       "      <th></th>\n",
       "      <th>Loan ID</th>\n",
       "      <th>Customer ID</th>\n",
       "      <th>Loan Status</th>\n",
       "      <th>Current Loan Amount</th>\n",
       "      <th>Term</th>\n",
       "      <th>Credit Score</th>\n",
       "      <th>Annual Income</th>\n",
       "      <th>Years in current job</th>\n",
       "      <th>Home Ownership</th>\n",
       "      <th>Purpose</th>\n",
       "      <th>Monthly Debt</th>\n",
       "      <th>Years of Credit History</th>\n",
       "      <th>Number of Open Accounts</th>\n",
       "      <th>Number of Credit Problems</th>\n",
       "      <th>Current Credit Balance</th>\n",
       "      <th>Maximum Open Credit</th>\n",
       "      <th>Bankruptcies</th>\n",
       "      <th>Tax Liens</th>\n",
       "      <th>Credit Ranges</th>\n",
       "    </tr>\n",
       "  </thead>\n",
       "  <tbody>\n",
       "    <tr>\n",
       "      <th>0</th>\n",
       "      <td>14dd8831-6af5-400b-83ec-68e61888a048</td>\n",
       "      <td>981165ec-3274-42f5-a3b4-d104041a9ca9</td>\n",
       "      <td>Fully Paid</td>\n",
       "      <td>445412.0</td>\n",
       "      <td>Short Term</td>\n",
       "      <td>709.0</td>\n",
       "      <td>1167493.0</td>\n",
       "      <td>8 years</td>\n",
       "      <td>Home Mortgage</td>\n",
       "      <td>Home Improvements</td>\n",
       "      <td>5214.74</td>\n",
       "      <td>17.2</td>\n",
       "      <td>6.0</td>\n",
       "      <td>1.0</td>\n",
       "      <td>228190.0</td>\n",
       "      <td>416746.0</td>\n",
       "      <td>1.0</td>\n",
       "      <td>0.0</td>\n",
       "      <td>709.0</td>\n",
       "    </tr>\n",
       "    <tr>\n",
       "      <th>1</th>\n",
       "      <td>4771cc26-131a-45db-b5aa-537ea4ba5342</td>\n",
       "      <td>2de017a3-2e01-49cb-a581-08169e83be29</td>\n",
       "      <td>Fully Paid</td>\n",
       "      <td>262328.0</td>\n",
       "      <td>Short Term</td>\n",
       "      <td>NaN</td>\n",
       "      <td>NaN</td>\n",
       "      <td>10+ years</td>\n",
       "      <td>Home Mortgage</td>\n",
       "      <td>Debt Consolidation</td>\n",
       "      <td>33295.98</td>\n",
       "      <td>21.1</td>\n",
       "      <td>35.0</td>\n",
       "      <td>0.0</td>\n",
       "      <td>229976.0</td>\n",
       "      <td>850784.0</td>\n",
       "      <td>0.0</td>\n",
       "      <td>0.0</td>\n",
       "      <td>NaN</td>\n",
       "    </tr>\n",
       "    <tr>\n",
       "      <th>2</th>\n",
       "      <td>4eed4e6a-aa2f-4c91-8651-ce984ee8fb26</td>\n",
       "      <td>5efb2b2b-bf11-4dfd-a572-3761a2694725</td>\n",
       "      <td>Fully Paid</td>\n",
       "      <td>99999999.0</td>\n",
       "      <td>Short Term</td>\n",
       "      <td>741.0</td>\n",
       "      <td>2231892.0</td>\n",
       "      <td>8 years</td>\n",
       "      <td>Own Home</td>\n",
       "      <td>Debt Consolidation</td>\n",
       "      <td>29200.53</td>\n",
       "      <td>14.9</td>\n",
       "      <td>18.0</td>\n",
       "      <td>1.0</td>\n",
       "      <td>297996.0</td>\n",
       "      <td>750090.0</td>\n",
       "      <td>0.0</td>\n",
       "      <td>0.0</td>\n",
       "      <td>741.0</td>\n",
       "    </tr>\n",
       "    <tr>\n",
       "      <th>3</th>\n",
       "      <td>77598f7b-32e7-4e3b-a6e5-06ba0d98fe8a</td>\n",
       "      <td>e777faab-98ae-45af-9a86-7ce5b33b1011</td>\n",
       "      <td>Fully Paid</td>\n",
       "      <td>347666.0</td>\n",
       "      <td>Long Term</td>\n",
       "      <td>721.0</td>\n",
       "      <td>806949.0</td>\n",
       "      <td>3 years</td>\n",
       "      <td>Own Home</td>\n",
       "      <td>Debt Consolidation</td>\n",
       "      <td>8741.90</td>\n",
       "      <td>12.0</td>\n",
       "      <td>9.0</td>\n",
       "      <td>0.0</td>\n",
       "      <td>256329.0</td>\n",
       "      <td>386958.0</td>\n",
       "      <td>0.0</td>\n",
       "      <td>0.0</td>\n",
       "      <td>721.0</td>\n",
       "    </tr>\n",
       "    <tr>\n",
       "      <th>4</th>\n",
       "      <td>d4062e70-befa-4995-8643-a0de73938182</td>\n",
       "      <td>81536ad9-5ccf-4eb8-befb-47a4d608658e</td>\n",
       "      <td>Fully Paid</td>\n",
       "      <td>176220.0</td>\n",
       "      <td>Short Term</td>\n",
       "      <td>NaN</td>\n",
       "      <td>NaN</td>\n",
       "      <td>5 years</td>\n",
       "      <td>Rent</td>\n",
       "      <td>Debt Consolidation</td>\n",
       "      <td>20639.70</td>\n",
       "      <td>6.1</td>\n",
       "      <td>15.0</td>\n",
       "      <td>0.0</td>\n",
       "      <td>253460.0</td>\n",
       "      <td>427174.0</td>\n",
       "      <td>0.0</td>\n",
       "      <td>0.0</td>\n",
       "      <td>NaN</td>\n",
       "    </tr>\n",
       "  </tbody>\n",
       "</table>\n",
       "</div>"
      ],
      "text/plain": [
       "                                Loan ID                           Customer ID  \\\n",
       "0  14dd8831-6af5-400b-83ec-68e61888a048  981165ec-3274-42f5-a3b4-d104041a9ca9   \n",
       "1  4771cc26-131a-45db-b5aa-537ea4ba5342  2de017a3-2e01-49cb-a581-08169e83be29   \n",
       "2  4eed4e6a-aa2f-4c91-8651-ce984ee8fb26  5efb2b2b-bf11-4dfd-a572-3761a2694725   \n",
       "3  77598f7b-32e7-4e3b-a6e5-06ba0d98fe8a  e777faab-98ae-45af-9a86-7ce5b33b1011   \n",
       "4  d4062e70-befa-4995-8643-a0de73938182  81536ad9-5ccf-4eb8-befb-47a4d608658e   \n",
       "\n",
       "  Loan Status  Current Loan Amount        Term  Credit Score  Annual Income  \\\n",
       "0  Fully Paid             445412.0  Short Term         709.0      1167493.0   \n",
       "1  Fully Paid             262328.0  Short Term           NaN            NaN   \n",
       "2  Fully Paid           99999999.0  Short Term         741.0      2231892.0   \n",
       "3  Fully Paid             347666.0   Long Term         721.0       806949.0   \n",
       "4  Fully Paid             176220.0  Short Term           NaN            NaN   \n",
       "\n",
       "  Years in current job Home Ownership             Purpose  Monthly Debt  \\\n",
       "0              8 years  Home Mortgage   Home Improvements       5214.74   \n",
       "1            10+ years  Home Mortgage  Debt Consolidation      33295.98   \n",
       "2              8 years       Own Home  Debt Consolidation      29200.53   \n",
       "3              3 years       Own Home  Debt Consolidation       8741.90   \n",
       "4              5 years           Rent  Debt Consolidation      20639.70   \n",
       "\n",
       "   Years of Credit History  Number of Open Accounts  \\\n",
       "0                     17.2                      6.0   \n",
       "1                     21.1                     35.0   \n",
       "2                     14.9                     18.0   \n",
       "3                     12.0                      9.0   \n",
       "4                      6.1                     15.0   \n",
       "\n",
       "   Number of Credit Problems  Current Credit Balance  Maximum Open Credit  \\\n",
       "0                        1.0                228190.0             416746.0   \n",
       "1                        0.0                229976.0             850784.0   \n",
       "2                        1.0                297996.0             750090.0   \n",
       "3                        0.0                256329.0             386958.0   \n",
       "4                        0.0                253460.0             427174.0   \n",
       "\n",
       "   Bankruptcies  Tax Liens  Credit Ranges  \n",
       "0           1.0        0.0          709.0  \n",
       "1           0.0        0.0            NaN  \n",
       "2           0.0        0.0          741.0  \n",
       "3           0.0        0.0          721.0  \n",
       "4           0.0        0.0            NaN  "
      ]
     },
     "execution_count": 23,
     "metadata": {},
     "output_type": "execute_result"
    }
   ],
   "source": [
    "df.head()"
   ]
  },
  {
   "cell_type": "code",
   "execution_count": 24,
   "id": "413c1828",
   "metadata": {
    "execution": {
     "iopub.execute_input": "2022-09-18T02:16:14.921360Z",
     "iopub.status.busy": "2022-09-18T02:16:14.920798Z",
     "iopub.status.idle": "2022-09-18T02:16:16.279731Z",
     "shell.execute_reply": "2022-09-18T02:16:16.278389Z"
    },
    "papermill": {
     "duration": 1.400984,
     "end_time": "2022-09-18T02:16:16.282511",
     "exception": false,
     "start_time": "2022-09-18T02:16:14.881527",
     "status": "completed"
    },
    "tags": []
   },
   "outputs": [],
   "source": [
    "df['Credit Ranges'] = df['Credit Ranges'].apply(lambda val: \"Poor\" if np.isreal(val) and val < 580 else val)\n",
    "df['Credit Ranges'] = df['Credit Ranges'].apply(lambda val: \"Fair\" if np.isreal(val) and (val >= 580 and val < 670) else val)\n",
    "df['Credit Ranges'] = df['Credit Ranges'].apply(lambda val: \"Good\" if np.isreal(val) and (val >= 670 and val < 740) else val)\n",
    "df['Credit Ranges'] = df['Credit Ranges'].apply(lambda val: \"Very Good\" if np.isreal(val) and (val >= 740 and val < 800) else val)\n",
    "df['Credit Ranges'] = df['Credit Ranges'].apply(lambda val: \"Excellent\" if np.isreal(val) and (val >= 800 and val <= 850) else val)"
   ]
  },
  {
   "cell_type": "code",
   "execution_count": 25,
   "id": "4fd4d8de",
   "metadata": {
    "execution": {
     "iopub.execute_input": "2022-09-18T02:16:16.364821Z",
     "iopub.status.busy": "2022-09-18T02:16:16.364098Z",
     "iopub.status.idle": "2022-09-18T02:16:16.375255Z",
     "shell.execute_reply": "2022-09-18T02:16:16.374037Z"
    },
    "papermill": {
     "duration": 0.057792,
     "end_time": "2022-09-18T02:16:16.377855",
     "exception": false,
     "start_time": "2022-09-18T02:16:16.320063",
     "status": "completed"
    },
    "tags": []
   },
   "outputs": [],
   "source": [
    "categ=df[\"Credit Ranges\"].value_counts()"
   ]
  },
  {
   "cell_type": "code",
   "execution_count": 26,
   "id": "72f7e20a",
   "metadata": {
    "execution": {
     "iopub.execute_input": "2022-09-18T02:16:16.454760Z",
     "iopub.status.busy": "2022-09-18T02:16:16.453933Z",
     "iopub.status.idle": "2022-09-18T02:16:16.461826Z",
     "shell.execute_reply": "2022-09-18T02:16:16.460935Z"
    },
    "papermill": {
     "duration": 0.048943,
     "end_time": "2022-09-18T02:16:16.464050",
     "exception": false,
     "start_time": "2022-09-18T02:16:16.415107",
     "status": "completed"
    },
    "tags": []
   },
   "outputs": [
    {
     "data": {
      "text/plain": [
       "Good         56352\n",
       "Very Good    18479\n",
       "Fair          6015\n",
       "Name: Credit Ranges, dtype: int64"
      ]
     },
     "execution_count": 26,
     "metadata": {},
     "output_type": "execute_result"
    }
   ],
   "source": [
    "categ"
   ]
  },
  {
   "cell_type": "code",
   "execution_count": 27,
   "id": "af3fb48b",
   "metadata": {
    "execution": {
     "iopub.execute_input": "2022-09-18T02:16:16.540350Z",
     "iopub.status.busy": "2022-09-18T02:16:16.539693Z",
     "iopub.status.idle": "2022-09-18T02:16:16.837851Z",
     "shell.execute_reply": "2022-09-18T02:16:16.836406Z"
    },
    "papermill": {
     "duration": 0.339457,
     "end_time": "2022-09-18T02:16:16.840490",
     "exception": false,
     "start_time": "2022-09-18T02:16:16.501033",
     "status": "completed"
    },
    "tags": []
   },
   "outputs": [
    {
     "data": {
      "image/png": "[encoded data removed]",
      "text/plain": [
       "<Figure size 720x432 with 1 Axes>"
      ]
     },
     "metadata": {},
     "output_type": "display_data"
    }
   ],
   "source": [
    "plt.figure(figsize=(10,6))\n",
    "ax = plt.subplot()\n",
    "colors=[\"#6495ED\",\"#9FE2BF\",\"#CCCCFF\"]\n",
    "ax.pie(categ.values,labels = categ.index,shadow = True , autopct ='%.0f%%',colors=colors,radius=1.5)\n",
    "plt.title(\"Credit Score Ranges\")\n",
    "plt.legend(categ.index)\n",
    "plt.show()\n"
   ]
  },
  {
   "cell_type": "code",
   "execution_count": 28,
   "id": "8769a4c6",
   "metadata": {
    "execution": {
     "iopub.execute_input": "2022-09-18T02:16:16.918702Z",
     "iopub.status.busy": "2022-09-18T02:16:16.918274Z",
     "iopub.status.idle": "2022-09-18T02:16:17.260497Z",
     "shell.execute_reply": "2022-09-18T02:16:17.259102Z"
    },
    "papermill": {
     "duration": 0.384156,
     "end_time": "2022-09-18T02:16:17.263024",
     "exception": false,
     "start_time": "2022-09-18T02:16:16.878868",
     "status": "completed"
    },
    "tags": []
   },
   "outputs": [
    {
     "name": "stderr",
     "output_type": "stream",
     "text": [
      "/opt/conda/lib/python3.7/site-packages/seaborn/_decorators.py:43: FutureWarning: Pass the following variable as a keyword arg: x. From version 0.12, the only valid positional argument will be `data`, and passing other arguments without an explicit keyword will result in an error or misinterpretation.\n",
      "  FutureWarning\n"
     ]
    },
    {
     "data": {
      "text/plain": [
       "<AxesSubplot:xlabel='Credit Ranges', ylabel='count'>"
      ]
     },
     "execution_count": 28,
     "metadata": {},
     "output_type": "execute_result"
    },
    {
     "data": {
      "image/png": "[encoded data removed]",
      "text/plain": [
       "<Figure size 432x288 with 1 Axes>"
      ]
     },
     "metadata": {
      "needs_background": "light"
     },
     "output_type": "display_data"
    }
   ],
   "source": [
    "sns.countplot(df[\"Credit Ranges\"],hue=df[\"Loan Status\"])"
   ]
  },
  {
   "cell_type": "markdown",
   "id": "8ea004bc",
   "metadata": {
    "papermill": {
     "duration": 0.037936,
     "end_time": "2022-09-18T02:16:17.340522",
     "exception": false,
     "start_time": "2022-09-18T02:16:17.302586",
     "status": "completed"
    },
    "tags": []
   },
   "source": [
    "## Filling Nan values in Credit score and credit range "
   ]
  },
  {
   "cell_type": "code",
   "execution_count": 29,
   "id": "d8c50134",
   "metadata": {
    "execution": {
     "iopub.execute_input": "2022-09-18T02:16:17.421837Z",
     "iopub.status.busy": "2022-09-18T02:16:17.421420Z",
     "iopub.status.idle": "2022-09-18T02:16:17.473571Z",
     "shell.execute_reply": "2022-09-18T02:16:17.472177Z"
    },
    "papermill": {
     "duration": 0.096177,
     "end_time": "2022-09-18T02:16:17.476604",
     "exception": false,
     "start_time": "2022-09-18T02:16:17.380427",
     "status": "completed"
    },
    "tags": []
   },
   "outputs": [],
   "source": [
    "seg1 = df[df['Maximum Open Credit']<= 22164912]"
   ]
  },
  {
   "cell_type": "code",
   "execution_count": 30,
   "id": "013a993c",
   "metadata": {
    "execution": {
     "iopub.execute_input": "2022-09-18T02:16:17.554756Z",
     "iopub.status.busy": "2022-09-18T02:16:17.554363Z",
     "iopub.status.idle": "2022-09-18T02:16:17.561160Z",
     "shell.execute_reply": "2022-09-18T02:16:17.560299Z"
    },
    "papermill": {
     "duration": 0.048578,
     "end_time": "2022-09-18T02:16:17.563440",
     "exception": false,
     "start_time": "2022-09-18T02:16:17.514862",
     "status": "completed"
    },
    "tags": []
   },
   "outputs": [],
   "source": [
    "seg2 = df[df['Maximum Open Credit'].between(22164912, 798255370)]"
   ]
  },
  {
   "cell_type": "code",
   "execution_count": 31,
   "id": "0d7aafb5",
   "metadata": {
    "execution": {
     "iopub.execute_input": "2022-09-18T02:16:17.643540Z",
     "iopub.status.busy": "2022-09-18T02:16:17.643037Z",
     "iopub.status.idle": "2022-09-18T02:16:17.649987Z",
     "shell.execute_reply": "2022-09-18T02:16:17.648980Z"
    },
    "papermill": {
     "duration": 0.049487,
     "end_time": "2022-09-18T02:16:17.652198",
     "exception": false,
     "start_time": "2022-09-18T02:16:17.602711",
     "status": "completed"
    },
    "tags": []
   },
   "outputs": [],
   "source": [
    "seg3 = df[df['Maximum Open Credit'].between(798255370, 1539737892)]"
   ]
  },
  {
   "cell_type": "code",
   "execution_count": 32,
   "id": "d5a4db8e",
   "metadata": {
    "execution": {
     "iopub.execute_input": "2022-09-18T02:16:17.731133Z",
     "iopub.status.busy": "2022-09-18T02:16:17.730743Z",
     "iopub.status.idle": "2022-09-18T02:16:17.749005Z",
     "shell.execute_reply": "2022-09-18T02:16:17.747643Z"
    },
    "papermill": {
     "duration": 0.060625,
     "end_time": "2022-09-18T02:16:17.751351",
     "exception": false,
     "start_time": "2022-09-18T02:16:17.690726",
     "status": "completed"
    },
    "tags": []
   },
   "outputs": [
    {
     "name": "stderr",
     "output_type": "stream",
     "text": [
      "/opt/conda/lib/python3.7/site-packages/pandas/core/generic.py:6619: SettingWithCopyWarning: \n",
      "A value is trying to be set on a copy of a slice from a DataFrame\n",
      "\n",
      "See the caveats in the documentation: https://pandas.pydata.org/pandas-docs/stable/user_guide/indexing.html#returning-a-view-versus-a-copy\n",
      "  return self._update_inplace(result)\n"
     ]
    }
   ],
   "source": [
    "seg1[\"Credit Ranges\"].replace(np.nan,\"Fair\",inplace=True)"
   ]
  },
  {
   "cell_type": "code",
   "execution_count": 33,
   "id": "8e6fa167",
   "metadata": {
    "execution": {
     "iopub.execute_input": "2022-09-18T02:16:17.830748Z",
     "iopub.status.busy": "2022-09-18T02:16:17.829667Z",
     "iopub.status.idle": "2022-09-18T02:16:17.835995Z",
     "shell.execute_reply": "2022-09-18T02:16:17.834976Z"
    },
    "papermill": {
     "duration": 0.048475,
     "end_time": "2022-09-18T02:16:17.838417",
     "exception": false,
     "start_time": "2022-09-18T02:16:17.789942",
     "status": "completed"
    },
    "tags": []
   },
   "outputs": [],
   "source": [
    "seg2[\"Credit Ranges\"].replace(np.nan,\"Good\",inplace=True)"
   ]
  },
  {
   "cell_type": "code",
   "execution_count": 34,
   "id": "e1bc3934",
   "metadata": {
    "execution": {
     "iopub.execute_input": "2022-09-18T02:16:17.920346Z",
     "iopub.status.busy": "2022-09-18T02:16:17.919895Z",
     "iopub.status.idle": "2022-09-18T02:16:17.926687Z",
     "shell.execute_reply": "2022-09-18T02:16:17.925543Z"
    },
    "papermill": {
     "duration": 0.050776,
     "end_time": "2022-09-18T02:16:17.929239",
     "exception": false,
     "start_time": "2022-09-18T02:16:17.878463",
     "status": "completed"
    },
    "tags": []
   },
   "outputs": [],
   "source": [
    "seg3[\"Credit Ranges\"].replace(np.nan,\"Very Good\",inplace=True)"
   ]
  },
  {
   "cell_type": "code",
   "execution_count": null,
   "id": "09692c24",
   "metadata": {
    "papermill": {
     "duration": 0.039009,
     "end_time": "2022-09-18T02:16:18.007117",
     "exception": false,
     "start_time": "2022-09-18T02:16:17.968108",
     "status": "completed"
    },
    "tags": []
   },
   "outputs": [],
   "source": []
  },
  {
   "cell_type": "code",
   "execution_count": 35,
   "id": "6a5f4155",
   "metadata": {
    "execution": {
     "iopub.execute_input": "2022-09-18T02:16:18.087821Z",
     "iopub.status.busy": "2022-09-18T02:16:18.087376Z",
     "iopub.status.idle": "2022-09-18T02:16:18.095644Z",
     "shell.execute_reply": "2022-09-18T02:16:18.094102Z"
    },
    "papermill": {
     "duration": 0.052121,
     "end_time": "2022-09-18T02:16:18.098373",
     "exception": false,
     "start_time": "2022-09-18T02:16:18.046252",
     "status": "completed"
    },
    "tags": []
   },
   "outputs": [
    {
     "name": "stderr",
     "output_type": "stream",
     "text": [
      "/opt/conda/lib/python3.7/site-packages/pandas/core/generic.py:6392: SettingWithCopyWarning: \n",
      "A value is trying to be set on a copy of a slice from a DataFrame\n",
      "\n",
      "See the caveats in the documentation: https://pandas.pydata.org/pandas-docs/stable/user_guide/indexing.html#returning-a-view-versus-a-copy\n",
      "  return self._update_inplace(result)\n"
     ]
    }
   ],
   "source": [
    "## Credit Score \n",
    "seg1[\"Credit Score\"].fillna(random.randrange(580,670),inplace=True)"
   ]
  },
  {
   "cell_type": "code",
   "execution_count": 36,
   "id": "a3f04115",
   "metadata": {
    "execution": {
     "iopub.execute_input": "2022-09-18T02:16:18.177653Z",
     "iopub.status.busy": "2022-09-18T02:16:18.177192Z",
     "iopub.status.idle": "2022-09-18T02:16:18.183867Z",
     "shell.execute_reply": "2022-09-18T02:16:18.182398Z"
    },
    "papermill": {
     "duration": 0.049366,
     "end_time": "2022-09-18T02:16:18.186297",
     "exception": false,
     "start_time": "2022-09-18T02:16:18.136931",
     "status": "completed"
    },
    "tags": []
   },
   "outputs": [],
   "source": [
    "seg2[\"Credit Score\"].fillna(random.randrange(670,740),inplace=True)"
   ]
  },
  {
   "cell_type": "code",
   "execution_count": 37,
   "id": "aa172184",
   "metadata": {
    "execution": {
     "iopub.execute_input": "2022-09-18T02:16:18.265484Z",
     "iopub.status.busy": "2022-09-18T02:16:18.264143Z",
     "iopub.status.idle": "2022-09-18T02:16:18.270756Z",
     "shell.execute_reply": "2022-09-18T02:16:18.269700Z"
    },
    "papermill": {
     "duration": 0.04821,
     "end_time": "2022-09-18T02:16:18.272887",
     "exception": false,
     "start_time": "2022-09-18T02:16:18.224677",
     "status": "completed"
    },
    "tags": []
   },
   "outputs": [],
   "source": [
    "seg3[\"Credit Score\"].fillna(random.randrange(740,800),inplace=True)"
   ]
  },
  {
   "cell_type": "code",
   "execution_count": 38,
   "id": "2ce5e09f",
   "metadata": {
    "execution": {
     "iopub.execute_input": "2022-09-18T02:16:18.422926Z",
     "iopub.status.busy": "2022-09-18T02:16:18.422542Z",
     "iopub.status.idle": "2022-09-18T02:16:18.469559Z",
     "shell.execute_reply": "2022-09-18T02:16:18.468372Z"
    },
    "papermill": {
     "duration": 0.161015,
     "end_time": "2022-09-18T02:16:18.472363",
     "exception": false,
     "start_time": "2022-09-18T02:16:18.311348",
     "status": "completed"
    },
    "tags": []
   },
   "outputs": [],
   "source": [
    "data= pd.concat([seg1,seg2,seg3])"
   ]
  },
  {
   "cell_type": "code",
   "execution_count": 39,
   "id": "b248ab9e",
   "metadata": {
    "execution": {
     "iopub.execute_input": "2022-09-18T02:16:18.550751Z",
     "iopub.status.busy": "2022-09-18T02:16:18.550347Z",
     "iopub.status.idle": "2022-09-18T02:16:18.605167Z",
     "shell.execute_reply": "2022-09-18T02:16:18.603584Z"
    },
    "papermill": {
     "duration": 0.097189,
     "end_time": "2022-09-18T02:16:18.607870",
     "exception": false,
     "start_time": "2022-09-18T02:16:18.510681",
     "status": "completed"
    },
    "tags": []
   },
   "outputs": [
    {
     "name": "stdout",
     "output_type": "stream",
     "text": [
      "<class 'pandas.core.frame.DataFrame'>\n",
      "Int64Index: 100000 entries, 0 to 90081\n",
      "Data columns (total 19 columns):\n",
      " #   Column                     Non-Null Count   Dtype  \n",
      "---  ------                     --------------   -----  \n",
      " 0   Loan ID                    100000 non-null  object \n",
      " 1   Customer ID                100000 non-null  object \n",
      " 2   Loan Status                100000 non-null  object \n",
      " 3   Current Loan Amount        100000 non-null  float64\n",
      " 4   Term                       100000 non-null  object \n",
      " 5   Credit Score               100000 non-null  float64\n",
      " 6   Annual Income              80847 non-null   float64\n",
      " 7   Years in current job       95778 non-null   object \n",
      " 8   Home Ownership             100000 non-null  object \n",
      " 9   Purpose                    100000 non-null  object \n",
      " 10  Monthly Debt               100000 non-null  float64\n",
      " 11  Years of Credit History    100000 non-null  float64\n",
      " 12  Number of Open Accounts    100000 non-null  float64\n",
      " 13  Number of Credit Problems  100000 non-null  float64\n",
      " 14  Current Credit Balance     100000 non-null  float64\n",
      " 15  Maximum Open Credit        100000 non-null  float64\n",
      " 16  Bankruptcies               99796 non-null   float64\n",
      " 17  Tax Liens                  99990 non-null   float64\n",
      " 18  Credit Ranges              100000 non-null  object \n",
      "dtypes: float64(11), object(8)\n",
      "memory usage: 15.3+ MB\n"
     ]
    }
   ],
   "source": [
    "data.info()"
   ]
  },
  {
   "cell_type": "markdown",
   "id": "bff2e682",
   "metadata": {
    "papermill": {
     "duration": 0.042975,
     "end_time": "2022-09-18T02:16:18.689268",
     "exception": false,
     "start_time": "2022-09-18T02:16:18.646293",
     "status": "completed"
    },
    "tags": []
   },
   "source": [
    "# Years in current Job"
   ]
  },
  {
   "cell_type": "code",
   "execution_count": 40,
   "id": "20f8d626",
   "metadata": {
    "execution": {
     "iopub.execute_input": "2022-09-18T02:16:18.768066Z",
     "iopub.status.busy": "2022-09-18T02:16:18.767636Z",
     "iopub.status.idle": "2022-09-18T02:16:19.120460Z",
     "shell.execute_reply": "2022-09-18T02:16:19.119091Z"
    },
    "papermill": {
     "duration": 0.395402,
     "end_time": "2022-09-18T02:16:19.123345",
     "exception": false,
     "start_time": "2022-09-18T02:16:18.727943",
     "status": "completed"
    },
    "tags": []
   },
   "outputs": [
    {
     "name": "stderr",
     "output_type": "stream",
     "text": [
      "/opt/conda/lib/python3.7/site-packages/seaborn/_decorators.py:43: FutureWarning: Pass the following variable as a keyword arg: x. From version 0.12, the only valid positional argument will be `data`, and passing other arguments without an explicit keyword will result in an error or misinterpretation.\n",
      "  FutureWarning\n"
     ]
    },
    {
     "data": {
      "text/plain": [
       "<AxesSubplot:xlabel='Years in current job', ylabel='count'>"
      ]
     },
     "execution_count": 40,
     "metadata": {},
     "output_type": "execute_result"
    },
    {
     "data": {
      "image/png": "[encoded data removed]",
      "text/plain": [
       "<Figure size 720x504 with 1 Axes>"
      ]
     },
     "metadata": {
      "needs_background": "light"
     },
     "output_type": "display_data"
    }
   ],
   "source": [
    "# 'Years in current job' see its distribution\n",
    "plt.figure(figsize = (10,7))\n",
    "sns.countplot(data['Years in current job'])"
   ]
  },
  {
   "cell_type": "code",
   "execution_count": 41,
   "id": "3b711f8c",
   "metadata": {
    "execution": {
     "iopub.execute_input": "2022-09-18T02:16:19.207676Z",
     "iopub.status.busy": "2022-09-18T02:16:19.206156Z",
     "iopub.status.idle": "2022-09-18T02:16:19.500087Z",
     "shell.execute_reply": "2022-09-18T02:16:19.498997Z"
    },
    "papermill": {
     "duration": 0.338699,
     "end_time": "2022-09-18T02:16:19.502814",
     "exception": false,
     "start_time": "2022-09-18T02:16:19.164115",
     "status": "completed"
    },
    "tags": []
   },
   "outputs": [],
   "source": [
    "# converting it to numerical type\n",
    "data['Years in current job']=data['Years in current job'].str.extract(r\"(\\d+)\")"
   ]
  },
  {
   "cell_type": "code",
   "execution_count": 42,
   "id": "ca8363f2",
   "metadata": {
    "execution": {
     "iopub.execute_input": "2022-09-18T02:16:19.585142Z",
     "iopub.status.busy": "2022-09-18T02:16:19.584557Z",
     "iopub.status.idle": "2022-09-18T02:16:19.601223Z",
     "shell.execute_reply": "2022-09-18T02:16:19.599926Z"
    },
    "papermill": {
     "duration": 0.061808,
     "end_time": "2022-09-18T02:16:19.604328",
     "exception": false,
     "start_time": "2022-09-18T02:16:19.542520",
     "status": "completed"
    },
    "tags": []
   },
   "outputs": [
    {
     "data": {
      "text/plain": [
       "10    31120\n",
       "1     14625\n",
       "2      9133\n",
       "3      8169\n",
       "5      6787\n",
       "4      6143\n",
       "6      5686\n",
       "7      5578\n",
       "8      4582\n",
       "9      3955\n",
       "Name: Years in current job, dtype: int64"
      ]
     },
     "execution_count": 42,
     "metadata": {},
     "output_type": "execute_result"
    }
   ],
   "source": [
    "data['Years in current job'].value_counts()"
   ]
  },
  {
   "cell_type": "code",
   "execution_count": 43,
   "id": "ef68121b",
   "metadata": {
    "execution": {
     "iopub.execute_input": "2022-09-18T02:16:19.689760Z",
     "iopub.status.busy": "2022-09-18T02:16:19.688873Z",
     "iopub.status.idle": "2022-09-18T02:16:19.733197Z",
     "shell.execute_reply": "2022-09-18T02:16:19.732017Z"
    },
    "papermill": {
     "duration": 0.091363,
     "end_time": "2022-09-18T02:16:19.736033",
     "exception": false,
     "start_time": "2022-09-18T02:16:19.644670",
     "status": "completed"
    },
    "tags": []
   },
   "outputs": [],
   "source": [
    "data = data.astype({\"Years in current job\":\"float64\"})"
   ]
  },
  {
   "cell_type": "code",
   "execution_count": 44,
   "id": "7ea3d59e",
   "metadata": {
    "execution": {
     "iopub.execute_input": "2022-09-18T02:16:19.819108Z",
     "iopub.status.busy": "2022-09-18T02:16:19.818682Z",
     "iopub.status.idle": "2022-09-18T02:16:19.835738Z",
     "shell.execute_reply": "2022-09-18T02:16:19.834559Z"
    },
    "papermill": {
     "duration": 0.060794,
     "end_time": "2022-09-18T02:16:19.838537",
     "exception": false,
     "start_time": "2022-09-18T02:16:19.777743",
     "status": "completed"
    },
    "tags": []
   },
   "outputs": [
    {
     "data": {
      "text/plain": [
       "count    95778.000000\n",
       "mean         5.977552\n",
       "std          3.501100\n",
       "min          1.000000\n",
       "25%          3.000000\n",
       "50%          6.000000\n",
       "75%         10.000000\n",
       "max         10.000000\n",
       "Name: Years in current job, dtype: float64"
      ]
     },
     "execution_count": 44,
     "metadata": {},
     "output_type": "execute_result"
    }
   ],
   "source": [
    "data['Years in current job'].describe()"
   ]
  },
  {
   "cell_type": "code",
   "execution_count": 45,
   "id": "2376ac84",
   "metadata": {
    "execution": {
     "iopub.execute_input": "2022-09-18T02:16:19.921369Z",
     "iopub.status.busy": "2022-09-18T02:16:19.920930Z",
     "iopub.status.idle": "2022-09-18T02:16:19.928919Z",
     "shell.execute_reply": "2022-09-18T02:16:19.928018Z"
    },
    "papermill": {
     "duration": 0.052561,
     "end_time": "2022-09-18T02:16:19.931350",
     "exception": false,
     "start_time": "2022-09-18T02:16:19.878789",
     "status": "completed"
    },
    "tags": []
   },
   "outputs": [
    {
     "data": {
      "text/plain": [
       "4222"
      ]
     },
     "execution_count": 45,
     "metadata": {},
     "output_type": "execute_result"
    }
   ],
   "source": [
    "data['Years in current job'].isnull().sum()"
   ]
  },
  {
   "cell_type": "markdown",
   "id": "b55a0765",
   "metadata": {
    "papermill": {
     "duration": 0.039847,
     "end_time": "2022-09-18T02:16:20.013018",
     "exception": false,
     "start_time": "2022-09-18T02:16:19.973171",
     "status": "completed"
    },
    "tags": []
   },
   "source": [
    "##### Filling Nan values with the same distribiution of values"
   ]
  },
  {
   "cell_type": "code",
   "execution_count": 46,
   "id": "68831a06",
   "metadata": {
    "execution": {
     "iopub.execute_input": "2022-09-18T02:16:20.096808Z",
     "iopub.status.busy": "2022-09-18T02:16:20.096395Z",
     "iopub.status.idle": "2022-09-18T02:16:20.104008Z",
     "shell.execute_reply": "2022-09-18T02:16:20.102725Z"
    },
    "papermill": {
     "duration": 0.054023,
     "end_time": "2022-09-18T02:16:20.106753",
     "exception": false,
     "start_time": "2022-09-18T02:16:20.052730",
     "status": "completed"
    },
    "tags": []
   },
   "outputs": [],
   "source": [
    "filing=data[\"Years in current job\"].unique()"
   ]
  },
  {
   "cell_type": "code",
   "execution_count": 47,
   "id": "d01d41b1",
   "metadata": {
    "execution": {
     "iopub.execute_input": "2022-09-18T02:16:20.189745Z",
     "iopub.status.busy": "2022-09-18T02:16:20.189347Z",
     "iopub.status.idle": "2022-09-18T02:16:20.194623Z",
     "shell.execute_reply": "2022-09-18T02:16:20.193253Z"
    },
    "papermill": {
     "duration": 0.04935,
     "end_time": "2022-09-18T02:16:20.197017",
     "exception": false,
     "start_time": "2022-09-18T02:16:20.147667",
     "status": "completed"
    },
    "tags": []
   },
   "outputs": [],
   "source": [
    "filing=np.sort(filing)"
   ]
  },
  {
   "cell_type": "code",
   "execution_count": 48,
   "id": "99967dff",
   "metadata": {
    "execution": {
     "iopub.execute_input": "2022-09-18T02:16:20.279431Z",
     "iopub.status.busy": "2022-09-18T02:16:20.278170Z",
     "iopub.status.idle": "2022-09-18T02:16:20.285520Z",
     "shell.execute_reply": "2022-09-18T02:16:20.284394Z"
    },
    "papermill": {
     "duration": 0.05071,
     "end_time": "2022-09-18T02:16:20.287727",
     "exception": false,
     "start_time": "2022-09-18T02:16:20.237017",
     "status": "completed"
    },
    "tags": []
   },
   "outputs": [
    {
     "data": {
      "text/plain": [
       "array([ 1.,  2.,  3.,  4.,  5.,  6.,  7.,  8.,  9., 10., nan])"
      ]
     },
     "execution_count": 48,
     "metadata": {},
     "output_type": "execute_result"
    }
   ],
   "source": [
    "filing"
   ]
  },
  {
   "cell_type": "code",
   "execution_count": 49,
   "id": "fcf05d98",
   "metadata": {
    "execution": {
     "iopub.execute_input": "2022-09-18T02:16:20.371717Z",
     "iopub.status.busy": "2022-09-18T02:16:20.371292Z",
     "iopub.status.idle": "2022-09-18T02:16:20.376919Z",
     "shell.execute_reply": "2022-09-18T02:16:20.375392Z"
    },
    "papermill": {
     "duration": 0.05184,
     "end_time": "2022-09-18T02:16:20.379220",
     "exception": false,
     "start_time": "2022-09-18T02:16:20.327380",
     "status": "completed"
    },
    "tags": []
   },
   "outputs": [],
   "source": [
    "# deleting Nan value\n",
    "fill=np.delete(filing,10)"
   ]
  },
  {
   "cell_type": "code",
   "execution_count": 50,
   "id": "5444678c",
   "metadata": {
    "execution": {
     "iopub.execute_input": "2022-09-18T02:16:20.461725Z",
     "iopub.status.busy": "2022-09-18T02:16:20.461244Z",
     "iopub.status.idle": "2022-09-18T02:16:20.467923Z",
     "shell.execute_reply": "2022-09-18T02:16:20.467041Z"
    },
    "papermill": {
     "duration": 0.049795,
     "end_time": "2022-09-18T02:16:20.470078",
     "exception": false,
     "start_time": "2022-09-18T02:16:20.420283",
     "status": "completed"
    },
    "tags": []
   },
   "outputs": [
    {
     "data": {
      "text/plain": [
       "array([ 1.,  2.,  3.,  4.,  5.,  6.,  7.,  8.,  9., 10.])"
      ]
     },
     "execution_count": 50,
     "metadata": {},
     "output_type": "execute_result"
    }
   ],
   "source": [
    "fill"
   ]
  },
  {
   "cell_type": "code",
   "execution_count": 51,
   "id": "f956fade",
   "metadata": {
    "execution": {
     "iopub.execute_input": "2022-09-18T02:16:20.550915Z",
     "iopub.status.busy": "2022-09-18T02:16:20.550465Z",
     "iopub.status.idle": "2022-09-18T02:16:20.565918Z",
     "shell.execute_reply": "2022-09-18T02:16:20.564912Z"
    },
    "papermill": {
     "duration": 0.058796,
     "end_time": "2022-09-18T02:16:20.568606",
     "exception": false,
     "start_time": "2022-09-18T02:16:20.509810",
     "status": "completed"
    },
    "tags": []
   },
   "outputs": [],
   "source": [
    "# getting the probability of each value \n",
    "prop = data[\"Years in current job\"].sort_values().value_counts(normalize=True, sort=False) "
   ]
  },
  {
   "cell_type": "code",
   "execution_count": 52,
   "id": "a7ba5012",
   "metadata": {
    "execution": {
     "iopub.execute_input": "2022-09-18T02:16:20.650188Z",
     "iopub.status.busy": "2022-09-18T02:16:20.649768Z",
     "iopub.status.idle": "2022-09-18T02:16:20.657879Z",
     "shell.execute_reply": "2022-09-18T02:16:20.656692Z"
    },
    "papermill": {
     "duration": 0.05178,
     "end_time": "2022-09-18T02:16:20.660191",
     "exception": false,
     "start_time": "2022-09-18T02:16:20.608411",
     "status": "completed"
    },
    "tags": []
   },
   "outputs": [
    {
     "data": {
      "text/plain": [
       "1.0     0.152697\n",
       "2.0     0.095356\n",
       "3.0     0.085291\n",
       "4.0     0.064138\n",
       "5.0     0.070862\n",
       "6.0     0.059366\n",
       "7.0     0.058239\n",
       "8.0     0.047840\n",
       "9.0     0.041293\n",
       "10.0    0.324918\n",
       "Name: Years in current job, dtype: float64"
      ]
     },
     "execution_count": 52,
     "metadata": {},
     "output_type": "execute_result"
    }
   ],
   "source": [
    "prop"
   ]
  },
  {
   "cell_type": "code",
   "execution_count": 53,
   "id": "27ca37e2",
   "metadata": {
    "execution": {
     "iopub.execute_input": "2022-09-18T02:16:20.743987Z",
     "iopub.status.busy": "2022-09-18T02:16:20.743583Z",
     "iopub.status.idle": "2022-09-18T02:16:20.748540Z",
     "shell.execute_reply": "2022-09-18T02:16:20.747407Z"
    },
    "papermill": {
     "duration": 0.050352,
     "end_time": "2022-09-18T02:16:20.750995",
     "exception": false,
     "start_time": "2022-09-18T02:16:20.700643",
     "status": "completed"
    },
    "tags": []
   },
   "outputs": [],
   "source": [
    "# convert the series to list \n",
    "prop = prop.to_list()"
   ]
  },
  {
   "cell_type": "code",
   "execution_count": 54,
   "id": "87005a7a",
   "metadata": {
    "execution": {
     "iopub.execute_input": "2022-09-18T02:16:20.833156Z",
     "iopub.status.busy": "2022-09-18T02:16:20.832434Z",
     "iopub.status.idle": "2022-09-18T02:16:20.840440Z",
     "shell.execute_reply": "2022-09-18T02:16:20.839017Z"
    },
    "papermill": {
     "duration": 0.051308,
     "end_time": "2022-09-18T02:16:20.843003",
     "exception": false,
     "start_time": "2022-09-18T02:16:20.791695",
     "status": "completed"
    },
    "tags": []
   },
   "outputs": [
    {
     "data": {
      "text/plain": [
       "[0.15269686149220071,\n",
       " 0.09535592724842866,\n",
       " 0.08529098540374616,\n",
       " 0.0641379022322454,\n",
       " 0.07086178454342333,\n",
       " 0.0593664515859592,\n",
       " 0.05823884399340141,\n",
       " 0.047839796195368454,\n",
       " 0.04129340767190796,\n",
       " 0.3249180396333187]"
      ]
     },
     "execution_count": 54,
     "metadata": {},
     "output_type": "execute_result"
    }
   ],
   "source": [
    "prop"
   ]
  },
  {
   "cell_type": "code",
   "execution_count": 55,
   "id": "fadf7759",
   "metadata": {
    "execution": {
     "iopub.execute_input": "2022-09-18T02:16:20.924876Z",
     "iopub.status.busy": "2022-09-18T02:16:20.924469Z",
     "iopub.status.idle": "2022-09-18T02:16:20.931043Z",
     "shell.execute_reply": "2022-09-18T02:16:20.929892Z"
    },
    "papermill": {
     "duration": 0.050514,
     "end_time": "2022-09-18T02:16:20.933750",
     "exception": false,
     "start_time": "2022-09-18T02:16:20.883236",
     "status": "completed"
    },
    "tags": []
   },
   "outputs": [],
   "source": [
    "#filling Nan \n",
    "data[\"Years in current job\"].fillna(np.random.choice(fill,p=prop),inplace=True)"
   ]
  },
  {
   "cell_type": "code",
   "execution_count": 56,
   "id": "106fa05d",
   "metadata": {
    "execution": {
     "iopub.execute_input": "2022-09-18T02:16:21.018854Z",
     "iopub.status.busy": "2022-09-18T02:16:21.018439Z",
     "iopub.status.idle": "2022-09-18T02:16:21.029505Z",
     "shell.execute_reply": "2022-09-18T02:16:21.028596Z"
    },
    "papermill": {
     "duration": 0.054965,
     "end_time": "2022-09-18T02:16:21.031877",
     "exception": false,
     "start_time": "2022-09-18T02:16:20.976912",
     "status": "completed"
    },
    "tags": []
   },
   "outputs": [
    {
     "data": {
      "text/plain": [
       "10.0    35342\n",
       "1.0     14625\n",
       "2.0      9133\n",
       "3.0      8169\n",
       "5.0      6787\n",
       "4.0      6143\n",
       "6.0      5686\n",
       "7.0      5578\n",
       "8.0      4582\n",
       "9.0      3955\n",
       "Name: Years in current job, dtype: int64"
      ]
     },
     "execution_count": 56,
     "metadata": {},
     "output_type": "execute_result"
    }
   ],
   "source": [
    "data[\"Years in current job\"].value_counts()"
   ]
  },
  {
   "cell_type": "code",
   "execution_count": 57,
   "id": "2f260d92",
   "metadata": {
    "execution": {
     "iopub.execute_input": "2022-09-18T02:16:21.115754Z",
     "iopub.status.busy": "2022-09-18T02:16:21.115274Z",
     "iopub.status.idle": "2022-09-18T02:16:21.396918Z",
     "shell.execute_reply": "2022-09-18T02:16:21.395973Z"
    },
    "papermill": {
     "duration": 0.327291,
     "end_time": "2022-09-18T02:16:21.399384",
     "exception": false,
     "start_time": "2022-09-18T02:16:21.072093",
     "status": "completed"
    },
    "tags": []
   },
   "outputs": [
    {
     "name": "stderr",
     "output_type": "stream",
     "text": [
      "/opt/conda/lib/python3.7/site-packages/seaborn/_decorators.py:43: FutureWarning: Pass the following variable as a keyword arg: x. From version 0.12, the only valid positional argument will be `data`, and passing other arguments without an explicit keyword will result in an error or misinterpretation.\n",
      "  FutureWarning\n"
     ]
    },
    {
     "data": {
      "text/plain": [
       "<AxesSubplot:xlabel='Years in current job', ylabel='count'>"
      ]
     },
     "execution_count": 57,
     "metadata": {},
     "output_type": "execute_result"
    },
    {
     "data": {
      "image/png": "[encoded data removed]",
      "text/plain": [
       "<Figure size 720x504 with 1 Axes>"
      ]
     },
     "metadata": {
      "needs_background": "light"
     },
     "output_type": "display_data"
    }
   ],
   "source": [
    "# after filling nan values\n",
    "plt.figure(figsize = (10,7))\n",
    "sns.countplot(data['Years in current job'])"
   ]
  },
  {
   "cell_type": "code",
   "execution_count": 58,
   "id": "7e7e7238",
   "metadata": {
    "execution": {
     "iopub.execute_input": "2022-09-18T02:16:21.483848Z",
     "iopub.status.busy": "2022-09-18T02:16:21.483078Z",
     "iopub.status.idle": "2022-09-18T02:16:21.535799Z",
     "shell.execute_reply": "2022-09-18T02:16:21.534206Z"
    },
    "papermill": {
     "duration": 0.09875,
     "end_time": "2022-09-18T02:16:21.539525",
     "exception": false,
     "start_time": "2022-09-18T02:16:21.440775",
     "status": "completed"
    },
    "tags": []
   },
   "outputs": [
    {
     "name": "stdout",
     "output_type": "stream",
     "text": [
      "<class 'pandas.core.frame.DataFrame'>\n",
      "Int64Index: 100000 entries, 0 to 90081\n",
      "Data columns (total 19 columns):\n",
      " #   Column                     Non-Null Count   Dtype  \n",
      "---  ------                     --------------   -----  \n",
      " 0   Loan ID                    100000 non-null  object \n",
      " 1   Customer ID                100000 non-null  object \n",
      " 2   Loan Status                100000 non-null  object \n",
      " 3   Current Loan Amount        100000 non-null  float64\n",
      " 4   Term                       100000 non-null  object \n",
      " 5   Credit Score               100000 non-null  float64\n",
      " 6   Annual Income              80847 non-null   float64\n",
      " 7   Years in current job       100000 non-null  float64\n",
      " 8   Home Ownership             100000 non-null  object \n",
      " 9   Purpose                    100000 non-null  object \n",
      " 10  Monthly Debt               100000 non-null  float64\n",
      " 11  Years of Credit History    100000 non-null  float64\n",
      " 12  Number of Open Accounts    100000 non-null  float64\n",
      " 13  Number of Credit Problems  100000 non-null  float64\n",
      " 14  Current Credit Balance     100000 non-null  float64\n",
      " 15  Maximum Open Credit        100000 non-null  float64\n",
      " 16  Bankruptcies               99796 non-null   float64\n",
      " 17  Tax Liens                  99990 non-null   float64\n",
      " 18  Credit Ranges              100000 non-null  object \n",
      "dtypes: float64(12), object(7)\n",
      "memory usage: 17.3+ MB\n"
     ]
    }
   ],
   "source": [
    "data.info()"
   ]
  },
  {
   "cell_type": "code",
   "execution_count": null,
   "id": "c94d5f9b",
   "metadata": {
    "papermill": {
     "duration": 0.043093,
     "end_time": "2022-09-18T02:16:21.626331",
     "exception": false,
     "start_time": "2022-09-18T02:16:21.583238",
     "status": "completed"
    },
    "tags": []
   },
   "outputs": [],
   "source": []
  },
  {
   "cell_type": "code",
   "execution_count": null,
   "id": "57541064",
   "metadata": {
    "papermill": {
     "duration": 0.041393,
     "end_time": "2022-09-18T02:16:21.710259",
     "exception": false,
     "start_time": "2022-09-18T02:16:21.668866",
     "status": "completed"
    },
    "tags": []
   },
   "outputs": [],
   "source": []
  },
  {
   "cell_type": "markdown",
   "id": "f3f8da01",
   "metadata": {
    "papermill": {
     "duration": 0.040983,
     "end_time": "2022-09-18T02:16:21.792559",
     "exception": false,
     "start_time": "2022-09-18T02:16:21.751576",
     "status": "completed"
    },
    "tags": []
   },
   "source": [
    "# Home ownership"
   ]
  },
  {
   "cell_type": "code",
   "execution_count": 59,
   "id": "0ddcdbf3",
   "metadata": {
    "execution": {
     "iopub.execute_input": "2022-09-18T02:16:21.878564Z",
     "iopub.status.busy": "2022-09-18T02:16:21.877827Z",
     "iopub.status.idle": "2022-09-18T02:16:21.892263Z",
     "shell.execute_reply": "2022-09-18T02:16:21.891100Z"
    },
    "papermill": {
     "duration": 0.061454,
     "end_time": "2022-09-18T02:16:21.894923",
     "exception": false,
     "start_time": "2022-09-18T02:16:21.833469",
     "status": "completed"
    },
    "tags": []
   },
   "outputs": [
    {
     "data": {
      "text/plain": [
       "Home Mortgage    48412\n",
       "Rent             42192\n",
       "Own Home          9182\n",
       "HaveMortgage       214\n",
       "Name: Home Ownership, dtype: int64"
      ]
     },
     "execution_count": 59,
     "metadata": {},
     "output_type": "execute_result"
    }
   ],
   "source": [
    "data[\"Home Ownership\"].value_counts()"
   ]
  },
  {
   "cell_type": "code",
   "execution_count": 60,
   "id": "ee3b5366",
   "metadata": {
    "execution": {
     "iopub.execute_input": "2022-09-18T02:16:21.978806Z",
     "iopub.status.busy": "2022-09-18T02:16:21.978070Z",
     "iopub.status.idle": "2022-09-18T02:16:21.986204Z",
     "shell.execute_reply": "2022-09-18T02:16:21.984901Z"
    },
    "papermill": {
     "duration": 0.053108,
     "end_time": "2022-09-18T02:16:21.988880",
     "exception": false,
     "start_time": "2022-09-18T02:16:21.935772",
     "status": "completed"
    },
    "tags": []
   },
   "outputs": [],
   "source": [
    "## HaveMortgage is the same as Home Mortgage  \n",
    "data[\"Home Ownership\"].replace(\"HaveMortgage\",\"Home Mortgage\",inplace=True)"
   ]
  },
  {
   "cell_type": "code",
   "execution_count": 61,
   "id": "23dce58f",
   "metadata": {
    "execution": {
     "iopub.execute_input": "2022-09-18T02:16:22.072241Z",
     "iopub.status.busy": "2022-09-18T02:16:22.071469Z",
     "iopub.status.idle": "2022-09-18T02:16:22.086411Z",
     "shell.execute_reply": "2022-09-18T02:16:22.085096Z"
    },
    "papermill": {
     "duration": 0.059648,
     "end_time": "2022-09-18T02:16:22.089073",
     "exception": false,
     "start_time": "2022-09-18T02:16:22.029425",
     "status": "completed"
    },
    "tags": []
   },
   "outputs": [
    {
     "data": {
      "text/plain": [
       "Home Mortgage    48626\n",
       "Rent             42192\n",
       "Own Home          9182\n",
       "Name: Home Ownership, dtype: int64"
      ]
     },
     "execution_count": 61,
     "metadata": {},
     "output_type": "execute_result"
    }
   ],
   "source": [
    "data[\"Home Ownership\"].value_counts()"
   ]
  },
  {
   "cell_type": "code",
   "execution_count": 62,
   "id": "a3b27141",
   "metadata": {
    "execution": {
     "iopub.execute_input": "2022-09-18T02:16:22.174200Z",
     "iopub.status.busy": "2022-09-18T02:16:22.173730Z",
     "iopub.status.idle": "2022-09-18T02:16:22.693090Z",
     "shell.execute_reply": "2022-09-18T02:16:22.691866Z"
    },
    "papermill": {
     "duration": 0.565047,
     "end_time": "2022-09-18T02:16:22.695618",
     "exception": false,
     "start_time": "2022-09-18T02:16:22.130571",
     "status": "completed"
    },
    "tags": []
   },
   "outputs": [
    {
     "name": "stderr",
     "output_type": "stream",
     "text": [
      "/opt/conda/lib/python3.7/site-packages/seaborn/_decorators.py:43: FutureWarning: Pass the following variable as a keyword arg: x. From version 0.12, the only valid positional argument will be `data`, and passing other arguments without an explicit keyword will result in an error or misinterpretation.\n",
      "  FutureWarning\n"
     ]
    },
    {
     "data": {
      "text/plain": [
       "<AxesSubplot:xlabel='Loan Status', ylabel='count'>"
      ]
     },
     "execution_count": 62,
     "metadata": {},
     "output_type": "execute_result"
    },
    {
     "data": {
      "image/png": "[encoded data removed]",
      "text/plain": [
       "<Figure size 576x432 with 1 Axes>"
      ]
     },
     "metadata": {
      "needs_background": "light"
     },
     "output_type": "display_data"
    }
   ],
   "source": [
    "plt.figure(figsize = (8,6))\n",
    "sns.countplot(data['Loan Status'],hue=data[\"Home Ownership\"])"
   ]
  },
  {
   "cell_type": "markdown",
   "id": "94a0fd6f",
   "metadata": {
    "papermill": {
     "duration": 0.040839,
     "end_time": "2022-09-18T02:16:22.777757",
     "exception": false,
     "start_time": "2022-09-18T02:16:22.736918",
     "status": "completed"
    },
    "tags": []
   },
   "source": [
    "##### this shows that most of people how  charged off their loans have rent or home mortgae\n"
   ]
  },
  {
   "cell_type": "code",
   "execution_count": null,
   "id": "af8e6d34",
   "metadata": {
    "papermill": {
     "duration": 0.041474,
     "end_time": "2022-09-18T02:16:22.860571",
     "exception": false,
     "start_time": "2022-09-18T02:16:22.819097",
     "status": "completed"
    },
    "tags": []
   },
   "outputs": [],
   "source": []
  },
  {
   "cell_type": "code",
   "execution_count": null,
   "id": "346a23f1",
   "metadata": {
    "papermill": {
     "duration": 0.041346,
     "end_time": "2022-09-18T02:16:22.942931",
     "exception": false,
     "start_time": "2022-09-18T02:16:22.901585",
     "status": "completed"
    },
    "tags": []
   },
   "outputs": [],
   "source": []
  },
  {
   "cell_type": "markdown",
   "id": "6d162641",
   "metadata": {
    "papermill": {
     "duration": 0.041274,
     "end_time": "2022-09-18T02:16:23.025463",
     "exception": false,
     "start_time": "2022-09-18T02:16:22.984189",
     "status": "completed"
    },
    "tags": []
   },
   "source": [
    "# Purpose "
   ]
  },
  {
   "cell_type": "code",
   "execution_count": 63,
   "id": "a49562d5",
   "metadata": {
    "execution": {
     "iopub.execute_input": "2022-09-18T02:16:23.114939Z",
     "iopub.status.busy": "2022-09-18T02:16:23.114433Z",
     "iopub.status.idle": "2022-09-18T02:16:23.132066Z",
     "shell.execute_reply": "2022-09-18T02:16:23.130898Z"
    },
    "papermill": {
     "duration": 0.065166,
     "end_time": "2022-09-18T02:16:23.134463",
     "exception": false,
     "start_time": "2022-09-18T02:16:23.069297",
     "status": "completed"
    },
    "tags": []
   },
   "outputs": [
    {
     "data": {
      "text/plain": [
       "Debt Consolidation      78.551\n",
       "other                    6.037\n",
       "Home Improvements        5.839\n",
       "Other                    3.250\n",
       "Business Loan            1.570\n",
       "Buy a Car                1.265\n",
       "Medical Bills            1.127\n",
       "Buy House                0.678\n",
       "Take a Trip              0.573\n",
       "major_purchase           0.352\n",
       "small_business           0.283\n",
       "moving                   0.150\n",
       "wedding                  0.115\n",
       "vacation                 0.101\n",
       "Educational Expenses     0.099\n",
       "renewable_energy         0.010\n",
       "Name: Purpose, dtype: float64"
      ]
     },
     "execution_count": 63,
     "metadata": {},
     "output_type": "execute_result"
    }
   ],
   "source": [
    "# showing percentage of each purpose\n",
    "data[\"Purpose\"].value_counts(normalize=True)*100"
   ]
  },
  {
   "cell_type": "markdown",
   "id": "a2e75f27",
   "metadata": {
    "papermill": {
     "duration": 0.042711,
     "end_time": "2022-09-18T02:16:23.218918",
     "exception": false,
     "start_time": "2022-09-18T02:16:23.176207",
     "status": "completed"
    },
    "tags": []
   },
   "source": [
    "### More than 78 % op loans are taken in the sake of Debt consolidation:\n",
    "### Debt Consolidation is the act of taking out a single loan to pay off multiple debts."
   ]
  },
  {
   "cell_type": "code",
   "execution_count": 64,
   "id": "f9176e14",
   "metadata": {
    "execution": {
     "iopub.execute_input": "2022-09-18T02:16:23.305706Z",
     "iopub.status.busy": "2022-09-18T02:16:23.304485Z",
     "iopub.status.idle": "2022-09-18T02:16:23.673381Z",
     "shell.execute_reply": "2022-09-18T02:16:23.672089Z"
    },
    "papermill": {
     "duration": 0.41454,
     "end_time": "2022-09-18T02:16:23.676146",
     "exception": false,
     "start_time": "2022-09-18T02:16:23.261606",
     "status": "completed"
    },
    "tags": []
   },
   "outputs": [
    {
     "data": {
      "text/plain": [
       "<AxesSubplot:xlabel='count', ylabel='Purpose'>"
      ]
     },
     "execution_count": 64,
     "metadata": {},
     "output_type": "execute_result"
    },
    {
     "data": {
      "image/png": "[encoded data removed]",
      "text/plain": [
       "<Figure size 576x432 with 1 Axes>"
      ]
     },
     "metadata": {
      "needs_background": "light"
     },
     "output_type": "display_data"
    }
   ],
   "source": [
    "plt.figure(figsize=(8,6))\n",
    "sns.countplot(y='Purpose' , data=data, order = data['Purpose'].value_counts().index)"
   ]
  },
  {
   "cell_type": "code",
   "execution_count": 65,
   "id": "b5cbb624",
   "metadata": {
    "execution": {
     "iopub.execute_input": "2022-09-18T02:16:23.762083Z",
     "iopub.status.busy": "2022-09-18T02:16:23.761650Z",
     "iopub.status.idle": "2022-09-18T02:16:23.811067Z",
     "shell.execute_reply": "2022-09-18T02:16:23.810013Z"
    },
    "papermill": {
     "duration": 0.09532,
     "end_time": "2022-09-18T02:16:23.813881",
     "exception": false,
     "start_time": "2022-09-18T02:16:23.718561",
     "status": "completed"
    },
    "tags": []
   },
   "outputs": [],
   "source": [
    "debtcons= data[data[\"Purpose\"]==\"Debt Consolidation\"]"
   ]
  },
  {
   "cell_type": "code",
   "execution_count": 66,
   "id": "ff2e4d50",
   "metadata": {
    "execution": {
     "iopub.execute_input": "2022-09-18T02:16:23.900980Z",
     "iopub.status.busy": "2022-09-18T02:16:23.900522Z",
     "iopub.status.idle": "2022-09-18T02:16:23.948072Z",
     "shell.execute_reply": "2022-09-18T02:16:23.946351Z"
    },
    "papermill": {
     "duration": 0.095649,
     "end_time": "2022-09-18T02:16:23.952039",
     "exception": false,
     "start_time": "2022-09-18T02:16:23.856390",
     "status": "completed"
    },
    "tags": []
   },
   "outputs": [
    {
     "name": "stdout",
     "output_type": "stream",
     "text": [
      "<class 'pandas.core.frame.DataFrame'>\n",
      "Int64Index: 100000 entries, 0 to 90081\n",
      "Data columns (total 19 columns):\n",
      " #   Column                     Non-Null Count   Dtype  \n",
      "---  ------                     --------------   -----  \n",
      " 0   Loan ID                    100000 non-null  object \n",
      " 1   Customer ID                100000 non-null  object \n",
      " 2   Loan Status                100000 non-null  object \n",
      " 3   Current Loan Amount        100000 non-null  float64\n",
      " 4   Term                       100000 non-null  object \n",
      " 5   Credit Score               100000 non-null  float64\n",
      " 6   Annual Income              80847 non-null   float64\n",
      " 7   Years in current job       100000 non-null  float64\n",
      " 8   Home Ownership             100000 non-null  object \n",
      " 9   Purpose                    100000 non-null  object \n",
      " 10  Monthly Debt               100000 non-null  float64\n",
      " 11  Years of Credit History    100000 non-null  float64\n",
      " 12  Number of Open Accounts    100000 non-null  float64\n",
      " 13  Number of Credit Problems  100000 non-null  float64\n",
      " 14  Current Credit Balance     100000 non-null  float64\n",
      " 15  Maximum Open Credit        100000 non-null  float64\n",
      " 16  Bankruptcies               99796 non-null   float64\n",
      " 17  Tax Liens                  99990 non-null   float64\n",
      " 18  Credit Ranges              100000 non-null  object \n",
      "dtypes: float64(12), object(7)\n",
      "memory usage: 17.3+ MB\n"
     ]
    }
   ],
   "source": [
    "data.info()"
   ]
  },
  {
   "cell_type": "code",
   "execution_count": null,
   "id": "3cd6065c",
   "metadata": {
    "papermill": {
     "duration": 0.042192,
     "end_time": "2022-09-18T02:16:24.037420",
     "exception": false,
     "start_time": "2022-09-18T02:16:23.995228",
     "status": "completed"
    },
    "tags": []
   },
   "outputs": [],
   "source": []
  },
  {
   "cell_type": "code",
   "execution_count": null,
   "id": "585d7b85",
   "metadata": {
    "papermill": {
     "duration": 0.049572,
     "end_time": "2022-09-18T02:16:24.134873",
     "exception": false,
     "start_time": "2022-09-18T02:16:24.085301",
     "status": "completed"
    },
    "tags": []
   },
   "outputs": [],
   "source": []
  },
  {
   "cell_type": "markdown",
   "id": "b95fe4a3",
   "metadata": {
    "papermill": {
     "duration": 0.043014,
     "end_time": "2022-09-18T02:16:24.229822",
     "exception": false,
     "start_time": "2022-09-18T02:16:24.186808",
     "status": "completed"
    },
    "tags": []
   },
   "source": [
    "# Annual Income\n"
   ]
  },
  {
   "cell_type": "code",
   "execution_count": 67,
   "id": "71d20451",
   "metadata": {
    "execution": {
     "iopub.execute_input": "2022-09-18T02:16:24.316062Z",
     "iopub.status.busy": "2022-09-18T02:16:24.315157Z",
     "iopub.status.idle": "2022-09-18T02:16:24.333528Z",
     "shell.execute_reply": "2022-09-18T02:16:24.332393Z"
    },
    "papermill": {
     "duration": 0.064208,
     "end_time": "2022-09-18T02:16:24.335999",
     "exception": false,
     "start_time": "2022-09-18T02:16:24.271791",
     "status": "completed"
    },
    "tags": []
   },
   "outputs": [
    {
     "data": {
      "text/plain": [
       "count    8.084700e+04\n",
       "mean     1.378264e+06\n",
       "std      1.081354e+06\n",
       "min      7.662700e+04\n",
       "25%      8.488440e+05\n",
       "50%      1.174143e+06\n",
       "75%      1.650634e+06\n",
       "max      1.655574e+08\n",
       "Name: Annual Income, dtype: float64"
      ]
     },
     "execution_count": 67,
     "metadata": {},
     "output_type": "execute_result"
    }
   ],
   "source": [
    "data[\"Annual Income\"].describe()"
   ]
  },
  {
   "cell_type": "code",
   "execution_count": 68,
   "id": "099ee907",
   "metadata": {
    "execution": {
     "iopub.execute_input": "2022-09-18T02:16:24.422719Z",
     "iopub.status.busy": "2022-09-18T02:16:24.421664Z",
     "iopub.status.idle": "2022-09-18T02:16:24.432177Z",
     "shell.execute_reply": "2022-09-18T02:16:24.431229Z"
    },
    "papermill": {
     "duration": 0.056826,
     "end_time": "2022-09-18T02:16:24.434916",
     "exception": false,
     "start_time": "2022-09-18T02:16:24.378090",
     "status": "completed"
    },
    "tags": []
   },
   "outputs": [
    {
     "data": {
      "text/plain": [
       "1174143.0"
      ]
     },
     "execution_count": 68,
     "metadata": {},
     "output_type": "execute_result"
    }
   ],
   "source": [
    "data[\"Annual Income\"].median()"
   ]
  },
  {
   "cell_type": "code",
   "execution_count": 69,
   "id": "49a6f074",
   "metadata": {
    "execution": {
     "iopub.execute_input": "2022-09-18T02:16:24.522978Z",
     "iopub.status.busy": "2022-09-18T02:16:24.522574Z",
     "iopub.status.idle": "2022-09-18T02:16:24.531036Z",
     "shell.execute_reply": "2022-09-18T02:16:24.529890Z"
    },
    "papermill": {
     "duration": 0.054848,
     "end_time": "2022-09-18T02:16:24.533271",
     "exception": false,
     "start_time": "2022-09-18T02:16:24.478423",
     "status": "completed"
    },
    "tags": []
   },
   "outputs": [
    {
     "data": {
      "text/plain": [
       "1378263.686160278"
      ]
     },
     "execution_count": 69,
     "metadata": {},
     "output_type": "execute_result"
    }
   ],
   "source": [
    "data[\"Annual Income\"].mean()"
   ]
  },
  {
   "cell_type": "code",
   "execution_count": 70,
   "id": "13c55349",
   "metadata": {
    "execution": {
     "iopub.execute_input": "2022-09-18T02:16:24.620088Z",
     "iopub.status.busy": "2022-09-18T02:16:24.619614Z",
     "iopub.status.idle": "2022-09-18T02:16:24.627447Z",
     "shell.execute_reply": "2022-09-18T02:16:24.625889Z"
    },
    "papermill": {
     "duration": 0.054128,
     "end_time": "2022-09-18T02:16:24.629882",
     "exception": false,
     "start_time": "2022-09-18T02:16:24.575754",
     "status": "completed"
    },
    "tags": []
   },
   "outputs": [],
   "source": [
    "## Filling Nan values with median :\n",
    "data[\"Annual Income\"].fillna(data[\"Annual Income\"].mean(), inplace=True)"
   ]
  },
  {
   "cell_type": "code",
   "execution_count": 71,
   "id": "01776ceb",
   "metadata": {
    "execution": {
     "iopub.execute_input": "2022-09-18T02:16:24.716572Z",
     "iopub.status.busy": "2022-09-18T02:16:24.716068Z",
     "iopub.status.idle": "2022-09-18T02:16:24.762918Z",
     "shell.execute_reply": "2022-09-18T02:16:24.761117Z"
    },
    "papermill": {
     "duration": 0.093282,
     "end_time": "2022-09-18T02:16:24.765542",
     "exception": false,
     "start_time": "2022-09-18T02:16:24.672260",
     "status": "completed"
    },
    "tags": []
   },
   "outputs": [
    {
     "name": "stdout",
     "output_type": "stream",
     "text": [
      "<class 'pandas.core.frame.DataFrame'>\n",
      "Int64Index: 100000 entries, 0 to 90081\n",
      "Data columns (total 19 columns):\n",
      " #   Column                     Non-Null Count   Dtype  \n",
      "---  ------                     --------------   -----  \n",
      " 0   Loan ID                    100000 non-null  object \n",
      " 1   Customer ID                100000 non-null  object \n",
      " 2   Loan Status                100000 non-null  object \n",
      " 3   Current Loan Amount        100000 non-null  float64\n",
      " 4   Term                       100000 non-null  object \n",
      " 5   Credit Score               100000 non-null  float64\n",
      " 6   Annual Income              100000 non-null  float64\n",
      " 7   Years in current job       100000 non-null  float64\n",
      " 8   Home Ownership             100000 non-null  object \n",
      " 9   Purpose                    100000 non-null  object \n",
      " 10  Monthly Debt               100000 non-null  float64\n",
      " 11  Years of Credit History    100000 non-null  float64\n",
      " 12  Number of Open Accounts    100000 non-null  float64\n",
      " 13  Number of Credit Problems  100000 non-null  float64\n",
      " 14  Current Credit Balance     100000 non-null  float64\n",
      " 15  Maximum Open Credit        100000 non-null  float64\n",
      " 16  Bankruptcies               99796 non-null   float64\n",
      " 17  Tax Liens                  99990 non-null   float64\n",
      " 18  Credit Ranges              100000 non-null  object \n",
      "dtypes: float64(12), object(7)\n",
      "memory usage: 17.3+ MB\n"
     ]
    }
   ],
   "source": [
    "data.info()"
   ]
  },
  {
   "cell_type": "markdown",
   "id": "2fe4f0d6",
   "metadata": {
    "papermill": {
     "duration": 0.041849,
     "end_time": "2022-09-18T02:16:24.850774",
     "exception": false,
     "start_time": "2022-09-18T02:16:24.808925",
     "status": "completed"
    },
    "tags": []
   },
   "source": [
    "# Bankruptcies"
   ]
  },
  {
   "cell_type": "code",
   "execution_count": 72,
   "id": "37213de7",
   "metadata": {
    "execution": {
     "iopub.execute_input": "2022-09-18T02:16:24.938326Z",
     "iopub.status.busy": "2022-09-18T02:16:24.937912Z",
     "iopub.status.idle": "2022-09-18T02:16:24.948828Z",
     "shell.execute_reply": "2022-09-18T02:16:24.947631Z"
    },
    "papermill": {
     "duration": 0.058091,
     "end_time": "2022-09-18T02:16:24.951132",
     "exception": false,
     "start_time": "2022-09-18T02:16:24.893041",
     "status": "completed"
    },
    "tags": []
   },
   "outputs": [
    {
     "data": {
      "text/plain": [
       "0.7529419405196893"
      ]
     },
     "execution_count": 72,
     "metadata": {},
     "output_type": "execute_result"
    }
   ],
   "source": [
    "data[\"Bankruptcies\"].corr(data[\"Number of Credit Problems\"])"
   ]
  },
  {
   "cell_type": "code",
   "execution_count": 73,
   "id": "2ad2f371",
   "metadata": {
    "execution": {
     "iopub.execute_input": "2022-09-18T02:16:25.040866Z",
     "iopub.status.busy": "2022-09-18T02:16:25.040460Z",
     "iopub.status.idle": "2022-09-18T02:16:25.050097Z",
     "shell.execute_reply": "2022-09-18T02:16:25.048927Z"
    },
    "papermill": {
     "duration": 0.057778,
     "end_time": "2022-09-18T02:16:25.052466",
     "exception": false,
     "start_time": "2022-09-18T02:16:24.994688",
     "status": "completed"
    },
    "tags": []
   },
   "outputs": [
    {
     "data": {
      "text/plain": [
       "0.0    88774\n",
       "1.0    10475\n",
       "2.0      417\n",
       "3.0       93\n",
       "4.0       27\n",
       "5.0        7\n",
       "6.0        2\n",
       "7.0        1\n",
       "Name: Bankruptcies, dtype: int64"
      ]
     },
     "execution_count": 73,
     "metadata": {},
     "output_type": "execute_result"
    }
   ],
   "source": [
    "data[\"Bankruptcies\"].value_counts()"
   ]
  },
  {
   "cell_type": "code",
   "execution_count": 74,
   "id": "20c0e1ec",
   "metadata": {
    "execution": {
     "iopub.execute_input": "2022-09-18T02:16:25.141636Z",
     "iopub.status.busy": "2022-09-18T02:16:25.141187Z",
     "iopub.status.idle": "2022-09-18T02:16:25.716919Z",
     "shell.execute_reply": "2022-09-18T02:16:25.715710Z"
    },
    "papermill": {
     "duration": 0.622839,
     "end_time": "2022-09-18T02:16:25.719415",
     "exception": false,
     "start_time": "2022-09-18T02:16:25.096576",
     "status": "completed"
    },
    "tags": []
   },
   "outputs": [
    {
     "data": {
      "text/plain": [
       "<matplotlib.collections.PathCollection at 0x7f51d29643d0>"
      ]
     },
     "execution_count": 74,
     "metadata": {},
     "output_type": "execute_result"
    },
    {
     "data": {
      "image/png": "[encoded data removed]",
      "text/plain": [
       "<Figure size 432x288 with 1 Axes>"
      ]
     },
     "metadata": {
      "needs_background": "light"
     },
     "output_type": "display_data"
    }
   ],
   "source": [
    "plt.scatter(x= 'Number of Credit Problems' , y='Bankruptcies' ,data= data )"
   ]
  },
  {
   "cell_type": "code",
   "execution_count": 75,
   "id": "8aefd31f",
   "metadata": {
    "execution": {
     "iopub.execute_input": "2022-09-18T02:16:25.807758Z",
     "iopub.status.busy": "2022-09-18T02:16:25.807001Z",
     "iopub.status.idle": "2022-09-18T02:16:25.817248Z",
     "shell.execute_reply": "2022-09-18T02:16:25.815384Z"
    },
    "papermill": {
     "duration": 0.057516,
     "end_time": "2022-09-18T02:16:25.820107",
     "exception": false,
     "start_time": "2022-09-18T02:16:25.762591",
     "status": "completed"
    },
    "tags": []
   },
   "outputs": [
    {
     "data": {
      "text/plain": [
       "0.0     86035\n",
       "1.0     12077\n",
       "2.0      1299\n",
       "3.0       378\n",
       "4.0       125\n",
       "5.0        49\n",
       "6.0        17\n",
       "7.0         8\n",
       "8.0         4\n",
       "11.0        2\n",
       "10.0        2\n",
       "9.0         2\n",
       "15.0        1\n",
       "12.0        1\n",
       "Name: Number of Credit Problems, dtype: int64"
      ]
     },
     "execution_count": 75,
     "metadata": {},
     "output_type": "execute_result"
    }
   ],
   "source": [
    "data[\"Number of Credit Problems\"].value_counts()"
   ]
  },
  {
   "cell_type": "code",
   "execution_count": 76,
   "id": "59ea1176",
   "metadata": {
    "execution": {
     "iopub.execute_input": "2022-09-18T02:16:25.912163Z",
     "iopub.status.busy": "2022-09-18T02:16:25.911139Z",
     "iopub.status.idle": "2022-09-18T02:16:25.918161Z",
     "shell.execute_reply": "2022-09-18T02:16:25.917210Z"
    },
    "papermill": {
     "duration": 0.055488,
     "end_time": "2022-09-18T02:16:25.920527",
     "exception": false,
     "start_time": "2022-09-18T02:16:25.865039",
     "status": "completed"
    },
    "tags": []
   },
   "outputs": [],
   "source": [
    "segm=data[data[\"Bankruptcies\"].isna()]"
   ]
  },
  {
   "cell_type": "code",
   "execution_count": 77,
   "id": "4596805f",
   "metadata": {
    "execution": {
     "iopub.execute_input": "2022-09-18T02:16:26.009443Z",
     "iopub.status.busy": "2022-09-18T02:16:26.008728Z",
     "iopub.status.idle": "2022-09-18T02:16:26.016734Z",
     "shell.execute_reply": "2022-09-18T02:16:26.015525Z"
    },
    "papermill": {
     "duration": 0.054897,
     "end_time": "2022-09-18T02:16:26.019055",
     "exception": false,
     "start_time": "2022-09-18T02:16:25.964158",
     "status": "completed"
    },
    "tags": []
   },
   "outputs": [
    {
     "data": {
      "text/plain": [
       "0.0    196\n",
       "1.0      8\n",
       "Name: Number of Credit Problems, dtype: int64"
      ]
     },
     "execution_count": 77,
     "metadata": {},
     "output_type": "execute_result"
    }
   ],
   "source": [
    "segm[\"Number of Credit Problems\"].value_counts()"
   ]
  },
  {
   "cell_type": "code",
   "execution_count": 78,
   "id": "42f3de46",
   "metadata": {
    "execution": {
     "iopub.execute_input": "2022-09-18T02:16:26.108723Z",
     "iopub.status.busy": "2022-09-18T02:16:26.107905Z",
     "iopub.status.idle": "2022-09-18T02:16:26.113998Z",
     "shell.execute_reply": "2022-09-18T02:16:26.112728Z"
    },
    "papermill": {
     "duration": 0.053459,
     "end_time": "2022-09-18T02:16:26.116388",
     "exception": false,
     "start_time": "2022-09-18T02:16:26.062929",
     "status": "completed"
    },
    "tags": []
   },
   "outputs": [],
   "source": [
    "### most of records in which Bankruptcies is missing have Number of Credit Problems equal to zero :\n",
    "### and due to strong correlation between Number of Credit Problems and bankrupcies : I will fill them with 0\n",
    "\n",
    "data[\"Bankruptcies\"].fillna(0, inplace=True)"
   ]
  },
  {
   "cell_type": "code",
   "execution_count": 79,
   "id": "46c6e5a2",
   "metadata": {
    "execution": {
     "iopub.execute_input": "2022-09-18T02:16:26.208084Z",
     "iopub.status.busy": "2022-09-18T02:16:26.207622Z",
     "iopub.status.idle": "2022-09-18T02:16:26.256488Z",
     "shell.execute_reply": "2022-09-18T02:16:26.255008Z"
    },
    "papermill": {
     "duration": 0.096629,
     "end_time": "2022-09-18T02:16:26.259159",
     "exception": false,
     "start_time": "2022-09-18T02:16:26.162530",
     "status": "completed"
    },
    "tags": []
   },
   "outputs": [
    {
     "name": "stdout",
     "output_type": "stream",
     "text": [
      "<class 'pandas.core.frame.DataFrame'>\n",
      "Int64Index: 100000 entries, 0 to 90081\n",
      "Data columns (total 19 columns):\n",
      " #   Column                     Non-Null Count   Dtype  \n",
      "---  ------                     --------------   -----  \n",
      " 0   Loan ID                    100000 non-null  object \n",
      " 1   Customer ID                100000 non-null  object \n",
      " 2   Loan Status                100000 non-null  object \n",
      " 3   Current Loan Amount        100000 non-null  float64\n",
      " 4   Term                       100000 non-null  object \n",
      " 5   Credit Score               100000 non-null  float64\n",
      " 6   Annual Income              100000 non-null  float64\n",
      " 7   Years in current job       100000 non-null  float64\n",
      " 8   Home Ownership             100000 non-null  object \n",
      " 9   Purpose                    100000 non-null  object \n",
      " 10  Monthly Debt               100000 non-null  float64\n",
      " 11  Years of Credit History    100000 non-null  float64\n",
      " 12  Number of Open Accounts    100000 non-null  float64\n",
      " 13  Number of Credit Problems  100000 non-null  float64\n",
      " 14  Current Credit Balance     100000 non-null  float64\n",
      " 15  Maximum Open Credit        100000 non-null  float64\n",
      " 16  Bankruptcies               100000 non-null  float64\n",
      " 17  Tax Liens                  99990 non-null   float64\n",
      " 18  Credit Ranges              100000 non-null  object \n",
      "dtypes: float64(12), object(7)\n",
      "memory usage: 17.3+ MB\n"
     ]
    }
   ],
   "source": [
    "data.info()"
   ]
  },
  {
   "cell_type": "markdown",
   "id": "df4333d8",
   "metadata": {
    "papermill": {
     "duration": 0.043801,
     "end_time": "2022-09-18T02:16:26.347133",
     "exception": false,
     "start_time": "2022-09-18T02:16:26.303332",
     "status": "completed"
    },
    "tags": []
   },
   "source": [
    "# Tax Liens "
   ]
  },
  {
   "cell_type": "code",
   "execution_count": 80,
   "id": "45985201",
   "metadata": {
    "execution": {
     "iopub.execute_input": "2022-09-18T02:16:26.437372Z",
     "iopub.status.busy": "2022-09-18T02:16:26.435922Z",
     "iopub.status.idle": "2022-09-18T02:16:26.446604Z",
     "shell.execute_reply": "2022-09-18T02:16:26.445498Z"
    },
    "papermill": {
     "duration": 0.058197,
     "end_time": "2022-09-18T02:16:26.449012",
     "exception": false,
     "start_time": "2022-09-18T02:16:26.390815",
     "status": "completed"
    },
    "tags": []
   },
   "outputs": [
    {
     "data": {
      "text/plain": [
       "0.0     98062\n",
       "1.0      1343\n",
       "2.0       374\n",
       "3.0       111\n",
       "4.0        58\n",
       "5.0        16\n",
       "6.0        12\n",
       "7.0         7\n",
       "9.0         3\n",
       "11.0        2\n",
       "15.0        1\n",
       "10.0        1\n",
       "Name: Tax Liens, dtype: int64"
      ]
     },
     "execution_count": 80,
     "metadata": {},
     "output_type": "execute_result"
    }
   ],
   "source": [
    "data[\"Tax Liens\"].value_counts()"
   ]
  },
  {
   "cell_type": "code",
   "execution_count": 81,
   "id": "0e2cd2c9",
   "metadata": {
    "execution": {
     "iopub.execute_input": "2022-09-18T02:16:26.538606Z",
     "iopub.status.busy": "2022-09-18T02:16:26.537986Z",
     "iopub.status.idle": "2022-09-18T02:16:26.544736Z",
     "shell.execute_reply": "2022-09-18T02:16:26.543843Z"
    },
    "papermill": {
     "duration": 0.054316,
     "end_time": "2022-09-18T02:16:26.547207",
     "exception": false,
     "start_time": "2022-09-18T02:16:26.492891",
     "status": "completed"
    },
    "tags": []
   },
   "outputs": [],
   "source": [
    "data[\"Tax Liens\"].fillna(0, inplace=True)"
   ]
  },
  {
   "cell_type": "code",
   "execution_count": null,
   "id": "e878c87d",
   "metadata": {
    "papermill": {
     "duration": 0.043498,
     "end_time": "2022-09-18T02:16:26.635334",
     "exception": false,
     "start_time": "2022-09-18T02:16:26.591836",
     "status": "completed"
    },
    "tags": []
   },
   "outputs": [],
   "source": []
  },
  {
   "cell_type": "code",
   "execution_count": 82,
   "id": "fdf41605",
   "metadata": {
    "execution": {
     "iopub.execute_input": "2022-09-18T02:16:26.725978Z",
     "iopub.status.busy": "2022-09-18T02:16:26.725241Z",
     "iopub.status.idle": "2022-09-18T02:16:26.744130Z",
     "shell.execute_reply": "2022-09-18T02:16:26.742735Z"
    },
    "papermill": {
     "duration": 0.066932,
     "end_time": "2022-09-18T02:16:26.746985",
     "exception": false,
     "start_time": "2022-09-18T02:16:26.680053",
     "status": "completed"
    },
    "tags": []
   },
   "outputs": [],
   "source": [
    "# droping ID columns :\n",
    "data_copy= data.copy()"
   ]
  },
  {
   "cell_type": "code",
   "execution_count": 83,
   "id": "96b3f045",
   "metadata": {
    "execution": {
     "iopub.execute_input": "2022-09-18T02:16:26.836492Z",
     "iopub.status.busy": "2022-09-18T02:16:26.835545Z",
     "iopub.status.idle": "2022-09-18T02:16:26.860374Z",
     "shell.execute_reply": "2022-09-18T02:16:26.859289Z"
    },
    "papermill": {
     "duration": 0.07263,
     "end_time": "2022-09-18T02:16:26.863181",
     "exception": false,
     "start_time": "2022-09-18T02:16:26.790551",
     "status": "completed"
    },
    "tags": []
   },
   "outputs": [],
   "source": [
    "data.drop(\"Loan ID\", axis=1, inplace= True)"
   ]
  },
  {
   "cell_type": "code",
   "execution_count": 84,
   "id": "389082e0",
   "metadata": {
    "execution": {
     "iopub.execute_input": "2022-09-18T02:16:26.955373Z",
     "iopub.status.busy": "2022-09-18T02:16:26.954954Z",
     "iopub.status.idle": "2022-09-18T02:16:26.971659Z",
     "shell.execute_reply": "2022-09-18T02:16:26.970601Z"
    },
    "papermill": {
     "duration": 0.065347,
     "end_time": "2022-09-18T02:16:26.974446",
     "exception": false,
     "start_time": "2022-09-18T02:16:26.909099",
     "status": "completed"
    },
    "tags": []
   },
   "outputs": [],
   "source": [
    "data.drop(\"Customer ID\", axis=1, inplace= True)"
   ]
  },
  {
   "cell_type": "markdown",
   "id": "74e58767",
   "metadata": {
    "papermill": {
     "duration": 0.042946,
     "end_time": "2022-09-18T02:16:27.061194",
     "exception": false,
     "start_time": "2022-09-18T02:16:27.018248",
     "status": "completed"
    },
    "tags": []
   },
   "source": [
    "# Encoding"
   ]
  },
  {
   "cell_type": "code",
   "execution_count": 85,
   "id": "58967ab2",
   "metadata": {
    "execution": {
     "iopub.execute_input": "2022-09-18T02:16:27.151085Z",
     "iopub.status.busy": "2022-09-18T02:16:27.150212Z",
     "iopub.status.idle": "2022-09-18T02:16:27.155607Z",
     "shell.execute_reply": "2022-09-18T02:16:27.154729Z"
    },
    "papermill": {
     "duration": 0.052837,
     "end_time": "2022-09-18T02:16:27.157766",
     "exception": false,
     "start_time": "2022-09-18T02:16:27.104929",
     "status": "completed"
    },
    "tags": []
   },
   "outputs": [],
   "source": [
    "label_encoder= LabelEncoder()"
   ]
  },
  {
   "cell_type": "code",
   "execution_count": 86,
   "id": "8c99914a",
   "metadata": {
    "execution": {
     "iopub.execute_input": "2022-09-18T02:16:27.247908Z",
     "iopub.status.busy": "2022-09-18T02:16:27.246840Z",
     "iopub.status.idle": "2022-09-18T02:16:27.299260Z",
     "shell.execute_reply": "2022-09-18T02:16:27.298132Z"
    },
    "papermill": {
     "duration": 0.100882,
     "end_time": "2022-09-18T02:16:27.301880",
     "exception": false,
     "start_time": "2022-09-18T02:16:27.200998",
     "status": "completed"
    },
    "tags": []
   },
   "outputs": [
    {
     "data": {
      "text/html": [
       "<div>\n",
       "<style scoped>\n",
       "    .dataframe tbody tr th:only-of-type {\n",
       "        vertical-align: middle;\n",
       "    }\n",
       "\n",
       "    .dataframe tbody tr th {\n",
       "        vertical-align: top;\n",
       "    }\n",
       "\n",
       "    .dataframe thead th {\n",
       "        text-align: right;\n",
       "    }\n",
       "</style>\n",
       "<table border=\"1\" class=\"dataframe\">\n",
       "  <thead>\n",
       "    <tr style=\"text-align: right;\">\n",
       "      <th></th>\n",
       "      <th>Loan Status</th>\n",
       "      <th>Current Loan Amount</th>\n",
       "      <th>Term</th>\n",
       "      <th>Credit Score</th>\n",
       "      <th>Annual Income</th>\n",
       "      <th>Years in current job</th>\n",
       "      <th>Home Ownership</th>\n",
       "      <th>Purpose</th>\n",
       "      <th>Monthly Debt</th>\n",
       "      <th>Years of Credit History</th>\n",
       "      <th>Number of Open Accounts</th>\n",
       "      <th>Number of Credit Problems</th>\n",
       "      <th>Current Credit Balance</th>\n",
       "      <th>Maximum Open Credit</th>\n",
       "      <th>Bankruptcies</th>\n",
       "      <th>Tax Liens</th>\n",
       "      <th>Credit Ranges</th>\n",
       "    </tr>\n",
       "  </thead>\n",
       "  <tbody>\n",
       "    <tr>\n",
       "      <th>0</th>\n",
       "      <td>Fully Paid</td>\n",
       "      <td>445412.0</td>\n",
       "      <td>Short Term</td>\n",
       "      <td>709.0</td>\n",
       "      <td>1.167493e+06</td>\n",
       "      <td>8.0</td>\n",
       "      <td>Home Mortgage</td>\n",
       "      <td>5</td>\n",
       "      <td>5214.74</td>\n",
       "      <td>17.2</td>\n",
       "      <td>6.0</td>\n",
       "      <td>1.0</td>\n",
       "      <td>228190.0</td>\n",
       "      <td>416746.0</td>\n",
       "      <td>1.0</td>\n",
       "      <td>0.0</td>\n",
       "      <td>Good</td>\n",
       "    </tr>\n",
       "    <tr>\n",
       "      <th>1</th>\n",
       "      <td>Fully Paid</td>\n",
       "      <td>262328.0</td>\n",
       "      <td>Short Term</td>\n",
       "      <td>619.0</td>\n",
       "      <td>1.378264e+06</td>\n",
       "      <td>10.0</td>\n",
       "      <td>Home Mortgage</td>\n",
       "      <td>3</td>\n",
       "      <td>33295.98</td>\n",
       "      <td>21.1</td>\n",
       "      <td>35.0</td>\n",
       "      <td>0.0</td>\n",
       "      <td>229976.0</td>\n",
       "      <td>850784.0</td>\n",
       "      <td>0.0</td>\n",
       "      <td>0.0</td>\n",
       "      <td>Fair</td>\n",
       "    </tr>\n",
       "    <tr>\n",
       "      <th>2</th>\n",
       "      <td>Fully Paid</td>\n",
       "      <td>99999999.0</td>\n",
       "      <td>Short Term</td>\n",
       "      <td>741.0</td>\n",
       "      <td>2.231892e+06</td>\n",
       "      <td>8.0</td>\n",
       "      <td>Own Home</td>\n",
       "      <td>3</td>\n",
       "      <td>29200.53</td>\n",
       "      <td>14.9</td>\n",
       "      <td>18.0</td>\n",
       "      <td>1.0</td>\n",
       "      <td>297996.0</td>\n",
       "      <td>750090.0</td>\n",
       "      <td>0.0</td>\n",
       "      <td>0.0</td>\n",
       "      <td>Very Good</td>\n",
       "    </tr>\n",
       "    <tr>\n",
       "      <th>3</th>\n",
       "      <td>Fully Paid</td>\n",
       "      <td>347666.0</td>\n",
       "      <td>Long Term</td>\n",
       "      <td>721.0</td>\n",
       "      <td>8.069490e+05</td>\n",
       "      <td>3.0</td>\n",
       "      <td>Own Home</td>\n",
       "      <td>3</td>\n",
       "      <td>8741.90</td>\n",
       "      <td>12.0</td>\n",
       "      <td>9.0</td>\n",
       "      <td>0.0</td>\n",
       "      <td>256329.0</td>\n",
       "      <td>386958.0</td>\n",
       "      <td>0.0</td>\n",
       "      <td>0.0</td>\n",
       "      <td>Good</td>\n",
       "    </tr>\n",
       "    <tr>\n",
       "      <th>4</th>\n",
       "      <td>Fully Paid</td>\n",
       "      <td>176220.0</td>\n",
       "      <td>Short Term</td>\n",
       "      <td>619.0</td>\n",
       "      <td>1.378264e+06</td>\n",
       "      <td>5.0</td>\n",
       "      <td>Rent</td>\n",
       "      <td>3</td>\n",
       "      <td>20639.70</td>\n",
       "      <td>6.1</td>\n",
       "      <td>15.0</td>\n",
       "      <td>0.0</td>\n",
       "      <td>253460.0</td>\n",
       "      <td>427174.0</td>\n",
       "      <td>0.0</td>\n",
       "      <td>0.0</td>\n",
       "      <td>Fair</td>\n",
       "    </tr>\n",
       "  </tbody>\n",
       "</table>\n",
       "</div>"
      ],
      "text/plain": [
       "  Loan Status  Current Loan Amount        Term  Credit Score  Annual Income  \\\n",
       "0  Fully Paid             445412.0  Short Term         709.0   1.167493e+06   \n",
       "1  Fully Paid             262328.0  Short Term         619.0   1.378264e+06   \n",
       "2  Fully Paid           99999999.0  Short Term         741.0   2.231892e+06   \n",
       "3  Fully Paid             347666.0   Long Term         721.0   8.069490e+05   \n",
       "4  Fully Paid             176220.0  Short Term         619.0   1.378264e+06   \n",
       "\n",
       "   Years in current job Home Ownership  Purpose  Monthly Debt  \\\n",
       "0                   8.0  Home Mortgage        5       5214.74   \n",
       "1                  10.0  Home Mortgage        3      33295.98   \n",
       "2                   8.0       Own Home        3      29200.53   \n",
       "3                   3.0       Own Home        3       8741.90   \n",
       "4                   5.0           Rent        3      20639.70   \n",
       "\n",
       "   Years of Credit History  Number of Open Accounts  \\\n",
       "0                     17.2                      6.0   \n",
       "1                     21.1                     35.0   \n",
       "2                     14.9                     18.0   \n",
       "3                     12.0                      9.0   \n",
       "4                      6.1                     15.0   \n",
       "\n",
       "   Number of Credit Problems  Current Credit Balance  Maximum Open Credit  \\\n",
       "0                        1.0                228190.0             416746.0   \n",
       "1                        0.0                229976.0             850784.0   \n",
       "2                        1.0                297996.0             750090.0   \n",
       "3                        0.0                256329.0             386958.0   \n",
       "4                        0.0                253460.0             427174.0   \n",
       "\n",
       "   Bankruptcies  Tax Liens Credit Ranges  \n",
       "0           1.0        0.0          Good  \n",
       "1           0.0        0.0          Fair  \n",
       "2           0.0        0.0     Very Good  \n",
       "3           0.0        0.0          Good  \n",
       "4           0.0        0.0          Fair  "
      ]
     },
     "execution_count": 86,
     "metadata": {},
     "output_type": "execute_result"
    }
   ],
   "source": [
    "data['Purpose']= label_encoder.fit_transform(data['Purpose'])\n",
    "data.head()"
   ]
  },
  {
   "cell_type": "code",
   "execution_count": 87,
   "id": "3ad9d585",
   "metadata": {
    "execution": {
     "iopub.execute_input": "2022-09-18T02:16:27.392045Z",
     "iopub.status.busy": "2022-09-18T02:16:27.390955Z",
     "iopub.status.idle": "2022-09-18T02:16:27.441815Z",
     "shell.execute_reply": "2022-09-18T02:16:27.440886Z"
    },
    "papermill": {
     "duration": 0.098893,
     "end_time": "2022-09-18T02:16:27.444604",
     "exception": false,
     "start_time": "2022-09-18T02:16:27.345711",
     "status": "completed"
    },
    "tags": []
   },
   "outputs": [
    {
     "data": {
      "text/html": [
       "<div>\n",
       "<style scoped>\n",
       "    .dataframe tbody tr th:only-of-type {\n",
       "        vertical-align: middle;\n",
       "    }\n",
       "\n",
       "    .dataframe tbody tr th {\n",
       "        vertical-align: top;\n",
       "    }\n",
       "\n",
       "    .dataframe thead th {\n",
       "        text-align: right;\n",
       "    }\n",
       "</style>\n",
       "<table border=\"1\" class=\"dataframe\">\n",
       "  <thead>\n",
       "    <tr style=\"text-align: right;\">\n",
       "      <th></th>\n",
       "      <th>Loan Status</th>\n",
       "      <th>Current Loan Amount</th>\n",
       "      <th>Term</th>\n",
       "      <th>Credit Score</th>\n",
       "      <th>Annual Income</th>\n",
       "      <th>Years in current job</th>\n",
       "      <th>Home Ownership</th>\n",
       "      <th>Purpose</th>\n",
       "      <th>Monthly Debt</th>\n",
       "      <th>Years of Credit History</th>\n",
       "      <th>Number of Open Accounts</th>\n",
       "      <th>Number of Credit Problems</th>\n",
       "      <th>Current Credit Balance</th>\n",
       "      <th>Maximum Open Credit</th>\n",
       "      <th>Bankruptcies</th>\n",
       "      <th>Tax Liens</th>\n",
       "      <th>Credit Ranges</th>\n",
       "    </tr>\n",
       "  </thead>\n",
       "  <tbody>\n",
       "    <tr>\n",
       "      <th>0</th>\n",
       "      <td>Fully Paid</td>\n",
       "      <td>445412.0</td>\n",
       "      <td>Short Term</td>\n",
       "      <td>709.0</td>\n",
       "      <td>1.167493e+06</td>\n",
       "      <td>8.0</td>\n",
       "      <td>0</td>\n",
       "      <td>5</td>\n",
       "      <td>5214.74</td>\n",
       "      <td>17.2</td>\n",
       "      <td>6.0</td>\n",
       "      <td>1.0</td>\n",
       "      <td>228190.0</td>\n",
       "      <td>416746.0</td>\n",
       "      <td>1.0</td>\n",
       "      <td>0.0</td>\n",
       "      <td>Good</td>\n",
       "    </tr>\n",
       "    <tr>\n",
       "      <th>1</th>\n",
       "      <td>Fully Paid</td>\n",
       "      <td>262328.0</td>\n",
       "      <td>Short Term</td>\n",
       "      <td>619.0</td>\n",
       "      <td>1.378264e+06</td>\n",
       "      <td>10.0</td>\n",
       "      <td>0</td>\n",
       "      <td>3</td>\n",
       "      <td>33295.98</td>\n",
       "      <td>21.1</td>\n",
       "      <td>35.0</td>\n",
       "      <td>0.0</td>\n",
       "      <td>229976.0</td>\n",
       "      <td>850784.0</td>\n",
       "      <td>0.0</td>\n",
       "      <td>0.0</td>\n",
       "      <td>Fair</td>\n",
       "    </tr>\n",
       "    <tr>\n",
       "      <th>2</th>\n",
       "      <td>Fully Paid</td>\n",
       "      <td>99999999.0</td>\n",
       "      <td>Short Term</td>\n",
       "      <td>741.0</td>\n",
       "      <td>2.231892e+06</td>\n",
       "      <td>8.0</td>\n",
       "      <td>1</td>\n",
       "      <td>3</td>\n",
       "      <td>29200.53</td>\n",
       "      <td>14.9</td>\n",
       "      <td>18.0</td>\n",
       "      <td>1.0</td>\n",
       "      <td>297996.0</td>\n",
       "      <td>750090.0</td>\n",
       "      <td>0.0</td>\n",
       "      <td>0.0</td>\n",
       "      <td>Very Good</td>\n",
       "    </tr>\n",
       "    <tr>\n",
       "      <th>3</th>\n",
       "      <td>Fully Paid</td>\n",
       "      <td>347666.0</td>\n",
       "      <td>Long Term</td>\n",
       "      <td>721.0</td>\n",
       "      <td>8.069490e+05</td>\n",
       "      <td>3.0</td>\n",
       "      <td>1</td>\n",
       "      <td>3</td>\n",
       "      <td>8741.90</td>\n",
       "      <td>12.0</td>\n",
       "      <td>9.0</td>\n",
       "      <td>0.0</td>\n",
       "      <td>256329.0</td>\n",
       "      <td>386958.0</td>\n",
       "      <td>0.0</td>\n",
       "      <td>0.0</td>\n",
       "      <td>Good</td>\n",
       "    </tr>\n",
       "    <tr>\n",
       "      <th>4</th>\n",
       "      <td>Fully Paid</td>\n",
       "      <td>176220.0</td>\n",
       "      <td>Short Term</td>\n",
       "      <td>619.0</td>\n",
       "      <td>1.378264e+06</td>\n",
       "      <td>5.0</td>\n",
       "      <td>2</td>\n",
       "      <td>3</td>\n",
       "      <td>20639.70</td>\n",
       "      <td>6.1</td>\n",
       "      <td>15.0</td>\n",
       "      <td>0.0</td>\n",
       "      <td>253460.0</td>\n",
       "      <td>427174.0</td>\n",
       "      <td>0.0</td>\n",
       "      <td>0.0</td>\n",
       "      <td>Fair</td>\n",
       "    </tr>\n",
       "  </tbody>\n",
       "</table>\n",
       "</div>"
      ],
      "text/plain": [
       "  Loan Status  Current Loan Amount        Term  Credit Score  Annual Income  \\\n",
       "0  Fully Paid             445412.0  Short Term         709.0   1.167493e+06   \n",
       "1  Fully Paid             262328.0  Short Term         619.0   1.378264e+06   \n",
       "2  Fully Paid           99999999.0  Short Term         741.0   2.231892e+06   \n",
       "3  Fully Paid             347666.0   Long Term         721.0   8.069490e+05   \n",
       "4  Fully Paid             176220.0  Short Term         619.0   1.378264e+06   \n",
       "\n",
       "   Years in current job  Home Ownership  Purpose  Monthly Debt  \\\n",
       "0                   8.0               0        5       5214.74   \n",
       "1                  10.0               0        3      33295.98   \n",
       "2                   8.0               1        3      29200.53   \n",
       "3                   3.0               1        3       8741.90   \n",
       "4                   5.0               2        3      20639.70   \n",
       "\n",
       "   Years of Credit History  Number of Open Accounts  \\\n",
       "0                     17.2                      6.0   \n",
       "1                     21.1                     35.0   \n",
       "2                     14.9                     18.0   \n",
       "3                     12.0                      9.0   \n",
       "4                      6.1                     15.0   \n",
       "\n",
       "   Number of Credit Problems  Current Credit Balance  Maximum Open Credit  \\\n",
       "0                        1.0                228190.0             416746.0   \n",
       "1                        0.0                229976.0             850784.0   \n",
       "2                        1.0                297996.0             750090.0   \n",
       "3                        0.0                256329.0             386958.0   \n",
       "4                        0.0                253460.0             427174.0   \n",
       "\n",
       "   Bankruptcies  Tax Liens Credit Ranges  \n",
       "0           1.0        0.0          Good  \n",
       "1           0.0        0.0          Fair  \n",
       "2           0.0        0.0     Very Good  \n",
       "3           0.0        0.0          Good  \n",
       "4           0.0        0.0          Fair  "
      ]
     },
     "execution_count": 87,
     "metadata": {},
     "output_type": "execute_result"
    }
   ],
   "source": [
    "data['Home Ownership']= label_encoder.fit_transform(data['Home Ownership'])\n",
    "data.head()"
   ]
  },
  {
   "cell_type": "code",
   "execution_count": 88,
   "id": "5270d720",
   "metadata": {
    "execution": {
     "iopub.execute_input": "2022-09-18T02:16:27.535017Z",
     "iopub.status.busy": "2022-09-18T02:16:27.534630Z",
     "iopub.status.idle": "2022-09-18T02:16:27.564664Z",
     "shell.execute_reply": "2022-09-18T02:16:27.563547Z"
    },
    "papermill": {
     "duration": 0.078431,
     "end_time": "2022-09-18T02:16:27.567394",
     "exception": false,
     "start_time": "2022-09-18T02:16:27.488963",
     "status": "completed"
    },
    "tags": []
   },
   "outputs": [],
   "source": [
    "data['Term']= label_encoder.fit_transform(data['Term'])"
   ]
  },
  {
   "cell_type": "code",
   "execution_count": 89,
   "id": "38e20d87",
   "metadata": {
    "execution": {
     "iopub.execute_input": "2022-09-18T02:16:27.660461Z",
     "iopub.status.busy": "2022-09-18T02:16:27.660027Z",
     "iopub.status.idle": "2022-09-18T02:16:27.692932Z",
     "shell.execute_reply": "2022-09-18T02:16:27.691282Z"
    },
    "papermill": {
     "duration": 0.082284,
     "end_time": "2022-09-18T02:16:27.695767",
     "exception": false,
     "start_time": "2022-09-18T02:16:27.613483",
     "status": "completed"
    },
    "tags": []
   },
   "outputs": [],
   "source": [
    "data['Credit Ranges']= label_encoder.fit_transform(data['Credit Ranges'])"
   ]
  },
  {
   "cell_type": "code",
   "execution_count": 90,
   "id": "0ed9321e",
   "metadata": {
    "execution": {
     "iopub.execute_input": "2022-09-18T02:16:27.786322Z",
     "iopub.status.busy": "2022-09-18T02:16:27.785383Z",
     "iopub.status.idle": "2022-09-18T02:16:27.814768Z",
     "shell.execute_reply": "2022-09-18T02:16:27.813626Z"
    },
    "papermill": {
     "duration": 0.077561,
     "end_time": "2022-09-18T02:16:27.817586",
     "exception": false,
     "start_time": "2022-09-18T02:16:27.740025",
     "status": "completed"
    },
    "tags": []
   },
   "outputs": [],
   "source": [
    "data['Loan Status']= label_encoder.fit_transform(data['Loan Status'])"
   ]
  },
  {
   "cell_type": "code",
   "execution_count": 91,
   "id": "1241480e",
   "metadata": {
    "execution": {
     "iopub.execute_input": "2022-09-18T02:16:27.908767Z",
     "iopub.status.busy": "2022-09-18T02:16:27.907688Z",
     "iopub.status.idle": "2022-09-18T02:16:27.926151Z",
     "shell.execute_reply": "2022-09-18T02:16:27.924755Z"
    },
    "papermill": {
     "duration": 0.068666,
     "end_time": "2022-09-18T02:16:27.930524",
     "exception": false,
     "start_time": "2022-09-18T02:16:27.861858",
     "status": "completed"
    },
    "tags": []
   },
   "outputs": [
    {
     "name": "stdout",
     "output_type": "stream",
     "text": [
      "<class 'pandas.core.frame.DataFrame'>\n",
      "Int64Index: 100000 entries, 0 to 90081\n",
      "Data columns (total 17 columns):\n",
      " #   Column                     Non-Null Count   Dtype  \n",
      "---  ------                     --------------   -----  \n",
      " 0   Loan Status                100000 non-null  int64  \n",
      " 1   Current Loan Amount        100000 non-null  float64\n",
      " 2   Term                       100000 non-null  int64  \n",
      " 3   Credit Score               100000 non-null  float64\n",
      " 4   Annual Income              100000 non-null  float64\n",
      " 5   Years in current job       100000 non-null  float64\n",
      " 6   Home Ownership             100000 non-null  int64  \n",
      " 7   Purpose                    100000 non-null  int64  \n",
      " 8   Monthly Debt               100000 non-null  float64\n",
      " 9   Years of Credit History    100000 non-null  float64\n",
      " 10  Number of Open Accounts    100000 non-null  float64\n",
      " 11  Number of Credit Problems  100000 non-null  float64\n",
      " 12  Current Credit Balance     100000 non-null  float64\n",
      " 13  Maximum Open Credit        100000 non-null  float64\n",
      " 14  Bankruptcies               100000 non-null  float64\n",
      " 15  Tax Liens                  100000 non-null  float64\n",
      " 16  Credit Ranges              100000 non-null  int64  \n",
      "dtypes: float64(12), int64(5)\n",
      "memory usage: 15.7 MB\n"
     ]
    }
   ],
   "source": [
    "data.info()"
   ]
  },
  {
   "cell_type": "code",
   "execution_count": 92,
   "id": "e5405cae",
   "metadata": {
    "execution": {
     "iopub.execute_input": "2022-09-18T02:16:28.022808Z",
     "iopub.status.busy": "2022-09-18T02:16:28.022396Z",
     "iopub.status.idle": "2022-09-18T02:16:28.029288Z",
     "shell.execute_reply": "2022-09-18T02:16:28.028248Z"
    },
    "papermill": {
     "duration": 0.055259,
     "end_time": "2022-09-18T02:16:28.031603",
     "exception": false,
     "start_time": "2022-09-18T02:16:27.976344",
     "status": "completed"
    },
    "tags": []
   },
   "outputs": [
    {
     "data": {
      "text/plain": [
       "Index(['Loan Status', 'Current Loan Amount', 'Term', 'Credit Score',\n",
       "       'Annual Income', 'Years in current job', 'Home Ownership', 'Purpose',\n",
       "       'Monthly Debt', 'Years of Credit History', 'Number of Open Accounts',\n",
       "       'Number of Credit Problems', 'Current Credit Balance',\n",
       "       'Maximum Open Credit', 'Bankruptcies', 'Tax Liens', 'Credit Ranges'],\n",
       "      dtype='object')"
      ]
     },
     "execution_count": 92,
     "metadata": {},
     "output_type": "execute_result"
    }
   ],
   "source": [
    "data.columns"
   ]
  },
  {
   "cell_type": "markdown",
   "id": "720b3954",
   "metadata": {
    "papermill": {
     "duration": 0.044013,
     "end_time": "2022-09-18T02:16:28.119570",
     "exception": false,
     "start_time": "2022-09-18T02:16:28.075557",
     "status": "completed"
    },
    "tags": []
   },
   "source": [
    "# VIF "
   ]
  },
  {
   "cell_type": "code",
   "execution_count": 93,
   "id": "a8df33bb",
   "metadata": {
    "execution": {
     "iopub.execute_input": "2022-09-18T02:16:28.208887Z",
     "iopub.status.busy": "2022-09-18T02:16:28.208368Z",
     "iopub.status.idle": "2022-09-18T02:16:28.222663Z",
     "shell.execute_reply": "2022-09-18T02:16:28.221392Z"
    },
    "papermill": {
     "duration": 0.061976,
     "end_time": "2022-09-18T02:16:28.225332",
     "exception": false,
     "start_time": "2022-09-18T02:16:28.163356",
     "status": "completed"
    },
    "tags": []
   },
   "outputs": [],
   "source": [
    "X = data[['Current Loan Amount', 'Term', 'Credit Score',\n",
    "       'Annual Income', 'Years in current job', 'Home Ownership', 'Purpose',\n",
    "       'Monthly Debt', 'Years of Credit History', 'Number of Open Accounts',\n",
    "       'Number of Credit Problems', 'Current Credit Balance',\n",
    "       'Maximum Open Credit', 'Bankruptcies', 'Tax Liens', 'Credit Ranges']]"
   ]
  },
  {
   "cell_type": "code",
   "execution_count": 94,
   "id": "8108215a",
   "metadata": {
    "execution": {
     "iopub.execute_input": "2022-09-18T02:16:28.316150Z",
     "iopub.status.busy": "2022-09-18T02:16:28.315723Z",
     "iopub.status.idle": "2022-09-18T02:16:28.320708Z",
     "shell.execute_reply": "2022-09-18T02:16:28.319913Z"
    },
    "papermill": {
     "duration": 0.052281,
     "end_time": "2022-09-18T02:16:28.322721",
     "exception": false,
     "start_time": "2022-09-18T02:16:28.270440",
     "status": "completed"
    },
    "tags": []
   },
   "outputs": [],
   "source": [
    "vif_data = pd.DataFrame()"
   ]
  },
  {
   "cell_type": "code",
   "execution_count": 95,
   "id": "58cc866f",
   "metadata": {
    "execution": {
     "iopub.execute_input": "2022-09-18T02:16:28.413357Z",
     "iopub.status.busy": "2022-09-18T02:16:28.412540Z",
     "iopub.status.idle": "2022-09-18T02:16:28.418726Z",
     "shell.execute_reply": "2022-09-18T02:16:28.417654Z"
    },
    "papermill": {
     "duration": 0.054499,
     "end_time": "2022-09-18T02:16:28.421432",
     "exception": false,
     "start_time": "2022-09-18T02:16:28.366933",
     "status": "completed"
    },
    "tags": []
   },
   "outputs": [],
   "source": [
    "vif_data[\"feature\"] = X.columns"
   ]
  },
  {
   "cell_type": "code",
   "execution_count": 96,
   "id": "cd88cc4f",
   "metadata": {
    "execution": {
     "iopub.execute_input": "2022-09-18T02:16:28.511439Z",
     "iopub.status.busy": "2022-09-18T02:16:28.510648Z",
     "iopub.status.idle": "2022-09-18T02:16:31.524055Z",
     "shell.execute_reply": "2022-09-18T02:16:31.522410Z"
    },
    "papermill": {
     "duration": 3.06315,
     "end_time": "2022-09-18T02:16:31.528638",
     "exception": false,
     "start_time": "2022-09-18T02:16:28.465488",
     "status": "completed"
    },
    "tags": []
   },
   "outputs": [],
   "source": [
    "vif_data[\"VIF\"] = [variance_inflation_factor(X.values, i)\n",
    "                          for i in range(len(X.columns))]"
   ]
  },
  {
   "cell_type": "code",
   "execution_count": 97,
   "id": "7747095a",
   "metadata": {
    "execution": {
     "iopub.execute_input": "2022-09-18T02:16:31.691626Z",
     "iopub.status.busy": "2022-09-18T02:16:31.691216Z",
     "iopub.status.idle": "2022-09-18T02:16:31.703514Z",
     "shell.execute_reply": "2022-09-18T02:16:31.702328Z"
    },
    "papermill": {
     "duration": 0.061549,
     "end_time": "2022-09-18T02:16:31.705938",
     "exception": false,
     "start_time": "2022-09-18T02:16:31.644389",
     "status": "completed"
    },
    "tags": []
   },
   "outputs": [
    {
     "data": {
      "text/html": [
       "<div>\n",
       "<style scoped>\n",
       "    .dataframe tbody tr th:only-of-type {\n",
       "        vertical-align: middle;\n",
       "    }\n",
       "\n",
       "    .dataframe tbody tr th {\n",
       "        vertical-align: top;\n",
       "    }\n",
       "\n",
       "    .dataframe thead th {\n",
       "        text-align: right;\n",
       "    }\n",
       "</style>\n",
       "<table border=\"1\" class=\"dataframe\">\n",
       "  <thead>\n",
       "    <tr style=\"text-align: right;\">\n",
       "      <th></th>\n",
       "      <th>feature</th>\n",
       "      <th>VIF</th>\n",
       "    </tr>\n",
       "  </thead>\n",
       "  <tbody>\n",
       "    <tr>\n",
       "      <th>0</th>\n",
       "      <td>Current Loan Amount</td>\n",
       "      <td>1.190077</td>\n",
       "    </tr>\n",
       "    <tr>\n",
       "      <th>1</th>\n",
       "      <td>Term</td>\n",
       "      <td>3.929874</td>\n",
       "    </tr>\n",
       "    <tr>\n",
       "      <th>2</th>\n",
       "      <td>Credit Score</td>\n",
       "      <td>29.532650</td>\n",
       "    </tr>\n",
       "    <tr>\n",
       "      <th>3</th>\n",
       "      <td>Annual Income</td>\n",
       "      <td>3.804517</td>\n",
       "    </tr>\n",
       "    <tr>\n",
       "      <th>4</th>\n",
       "      <td>Years in current job</td>\n",
       "      <td>4.439901</td>\n",
       "    </tr>\n",
       "    <tr>\n",
       "      <th>5</th>\n",
       "      <td>Home Ownership</td>\n",
       "      <td>2.207584</td>\n",
       "    </tr>\n",
       "    <tr>\n",
       "      <th>6</th>\n",
       "      <td>Purpose</td>\n",
       "      <td>3.834725</td>\n",
       "    </tr>\n",
       "    <tr>\n",
       "      <th>7</th>\n",
       "      <td>Monthly Debt</td>\n",
       "      <td>5.773105</td>\n",
       "    </tr>\n",
       "    <tr>\n",
       "      <th>8</th>\n",
       "      <td>Years of Credit History</td>\n",
       "      <td>8.816158</td>\n",
       "    </tr>\n",
       "    <tr>\n",
       "      <th>9</th>\n",
       "      <td>Number of Open Accounts</td>\n",
       "      <td>7.227062</td>\n",
       "    </tr>\n",
       "    <tr>\n",
       "      <th>10</th>\n",
       "      <td>Number of Credit Problems</td>\n",
       "      <td>8.405464</td>\n",
       "    </tr>\n",
       "    <tr>\n",
       "      <th>11</th>\n",
       "      <td>Current Credit Balance</td>\n",
       "      <td>2.232105</td>\n",
       "    </tr>\n",
       "    <tr>\n",
       "      <th>12</th>\n",
       "      <td>Maximum Open Credit</td>\n",
       "      <td>1.028123</td>\n",
       "    </tr>\n",
       "    <tr>\n",
       "      <th>13</th>\n",
       "      <td>Bankruptcies</td>\n",
       "      <td>5.518206</td>\n",
       "    </tr>\n",
       "    <tr>\n",
       "      <th>14</th>\n",
       "      <td>Tax Liens</td>\n",
       "      <td>3.291613</td>\n",
       "    </tr>\n",
       "    <tr>\n",
       "      <th>15</th>\n",
       "      <td>Credit Ranges</td>\n",
       "      <td>4.072268</td>\n",
       "    </tr>\n",
       "  </tbody>\n",
       "</table>\n",
       "</div>"
      ],
      "text/plain": [
       "                      feature        VIF\n",
       "0         Current Loan Amount   1.190077\n",
       "1                        Term   3.929874\n",
       "2                Credit Score  29.532650\n",
       "3               Annual Income   3.804517\n",
       "4        Years in current job   4.439901\n",
       "5              Home Ownership   2.207584\n",
       "6                     Purpose   3.834725\n",
       "7                Monthly Debt   5.773105\n",
       "8     Years of Credit History   8.816158\n",
       "9     Number of Open Accounts   7.227062\n",
       "10  Number of Credit Problems   8.405464\n",
       "11     Current Credit Balance   2.232105\n",
       "12        Maximum Open Credit   1.028123\n",
       "13               Bankruptcies   5.518206\n",
       "14                  Tax Liens   3.291613\n",
       "15              Credit Ranges   4.072268"
      ]
     },
     "execution_count": 97,
     "metadata": {},
     "output_type": "execute_result"
    }
   ],
   "source": [
    "vif_data"
   ]
  },
  {
   "cell_type": "code",
   "execution_count": 98,
   "id": "59ebf04e",
   "metadata": {
    "execution": {
     "iopub.execute_input": "2022-09-18T02:16:31.797256Z",
     "iopub.status.busy": "2022-09-18T02:16:31.796465Z",
     "iopub.status.idle": "2022-09-18T02:16:31.809693Z",
     "shell.execute_reply": "2022-09-18T02:16:31.808629Z"
    },
    "papermill": {
     "duration": 0.061354,
     "end_time": "2022-09-18T02:16:31.811965",
     "exception": false,
     "start_time": "2022-09-18T02:16:31.750611",
     "status": "completed"
    },
    "tags": []
   },
   "outputs": [
    {
     "data": {
      "text/plain": [
       "count    100000.00000\n",
       "mean          0.77362\n",
       "std           0.41849\n",
       "min           0.00000\n",
       "25%           1.00000\n",
       "50%           1.00000\n",
       "75%           1.00000\n",
       "max           1.00000\n",
       "Name: Loan Status, dtype: float64"
      ]
     },
     "execution_count": 98,
     "metadata": {},
     "output_type": "execute_result"
    }
   ],
   "source": [
    "data[\"Loan Status\"].describe()"
   ]
  },
  {
   "cell_type": "code",
   "execution_count": null,
   "id": "49b50cff",
   "metadata": {
    "papermill": {
     "duration": 0.044538,
     "end_time": "2022-09-18T02:16:31.901089",
     "exception": false,
     "start_time": "2022-09-18T02:16:31.856551",
     "status": "completed"
    },
    "tags": []
   },
   "outputs": [],
   "source": []
  },
  {
   "cell_type": "markdown",
   "id": "b5e9e4ff",
   "metadata": {
    "papermill": {
     "duration": 0.044622,
     "end_time": "2022-09-18T02:16:31.992967",
     "exception": false,
     "start_time": "2022-09-18T02:16:31.948345",
     "status": "completed"
    },
    "tags": []
   },
   "source": [
    "# Train test split"
   ]
  },
  {
   "cell_type": "code",
   "execution_count": 99,
   "id": "43d6689c",
   "metadata": {
    "execution": {
     "iopub.execute_input": "2022-09-18T02:16:32.085446Z",
     "iopub.status.busy": "2022-09-18T02:16:32.084976Z",
     "iopub.status.idle": "2022-09-18T02:16:32.097323Z",
     "shell.execute_reply": "2022-09-18T02:16:32.096333Z"
    },
    "papermill": {
     "duration": 0.061581,
     "end_time": "2022-09-18T02:16:32.099981",
     "exception": false,
     "start_time": "2022-09-18T02:16:32.038400",
     "status": "completed"
    },
    "tags": []
   },
   "outputs": [],
   "source": [
    "x =data.drop(\"Loan Status\", axis=1).values\n",
    "y = data[\"Loan Status\"].values"
   ]
  },
  {
   "cell_type": "code",
   "execution_count": 100,
   "id": "13368780",
   "metadata": {
    "execution": {
     "iopub.execute_input": "2022-09-18T02:16:32.191456Z",
     "iopub.status.busy": "2022-09-18T02:16:32.190623Z",
     "iopub.status.idle": "2022-09-18T02:16:32.213790Z",
     "shell.execute_reply": "2022-09-18T02:16:32.212613Z"
    },
    "papermill": {
     "duration": 0.071984,
     "end_time": "2022-09-18T02:16:32.216502",
     "exception": false,
     "start_time": "2022-09-18T02:16:32.144518",
     "status": "completed"
    },
    "tags": []
   },
   "outputs": [],
   "source": [
    "x_train , x_test, y_train ,y_test= train_test_split(x, y, test_size=0.25, random_state=42)"
   ]
  },
  {
   "cell_type": "code",
   "execution_count": 101,
   "id": "4fd69e84",
   "metadata": {
    "execution": {
     "iopub.execute_input": "2022-09-18T02:16:32.308186Z",
     "iopub.status.busy": "2022-09-18T02:16:32.307002Z",
     "iopub.status.idle": "2022-09-18T02:16:32.311516Z",
     "shell.execute_reply": "2022-09-18T02:16:32.310761Z"
    },
    "papermill": {
     "duration": 0.052086,
     "end_time": "2022-09-18T02:16:32.313533",
     "exception": false,
     "start_time": "2022-09-18T02:16:32.261447",
     "status": "completed"
    },
    "tags": []
   },
   "outputs": [],
   "source": [
    "ro_scaler = RobustScaler()"
   ]
  },
  {
   "cell_type": "code",
   "execution_count": 102,
   "id": "8dd432d7",
   "metadata": {
    "execution": {
     "iopub.execute_input": "2022-09-18T02:16:32.404804Z",
     "iopub.status.busy": "2022-09-18T02:16:32.404194Z",
     "iopub.status.idle": "2022-09-18T02:16:32.473093Z",
     "shell.execute_reply": "2022-09-18T02:16:32.471731Z"
    },
    "papermill": {
     "duration": 0.117518,
     "end_time": "2022-09-18T02:16:32.475806",
     "exception": false,
     "start_time": "2022-09-18T02:16:32.358288",
     "status": "completed"
    },
    "tags": []
   },
   "outputs": [],
   "source": [
    "x_train= ro_scaler.fit_transform(x_train)"
   ]
  },
  {
   "cell_type": "code",
   "execution_count": 103,
   "id": "ee234302",
   "metadata": {
    "execution": {
     "iopub.execute_input": "2022-09-18T02:16:32.568922Z",
     "iopub.status.busy": "2022-09-18T02:16:32.568525Z",
     "iopub.status.idle": "2022-09-18T02:16:32.596258Z",
     "shell.execute_reply": "2022-09-18T02:16:32.595170Z"
    },
    "papermill": {
     "duration": 0.07701,
     "end_time": "2022-09-18T02:16:32.598873",
     "exception": false,
     "start_time": "2022-09-18T02:16:32.521863",
     "status": "completed"
    },
    "tags": []
   },
   "outputs": [],
   "source": [
    "x_test = ro_scaler.fit_transform(x_test)"
   ]
  },
  {
   "cell_type": "code",
   "execution_count": 104,
   "id": "f0eb5905",
   "metadata": {
    "execution": {
     "iopub.execute_input": "2022-09-18T02:16:32.695377Z",
     "iopub.status.busy": "2022-09-18T02:16:32.694237Z",
     "iopub.status.idle": "2022-09-18T02:16:32.700205Z",
     "shell.execute_reply": "2022-09-18T02:16:32.699438Z"
    },
    "papermill": {
     "duration": 0.056789,
     "end_time": "2022-09-18T02:16:32.702722",
     "exception": false,
     "start_time": "2022-09-18T02:16:32.645933",
     "status": "completed"
    },
    "tags": []
   },
   "outputs": [
    {
     "data": {
      "text/plain": [
       "(75000, 16)"
      ]
     },
     "execution_count": 104,
     "metadata": {},
     "output_type": "execute_result"
    }
   ],
   "source": [
    "x_train.shape\n"
   ]
  },
  {
   "cell_type": "code",
   "execution_count": 105,
   "id": "b245c661",
   "metadata": {
    "execution": {
     "iopub.execute_input": "2022-09-18T02:16:32.796842Z",
     "iopub.status.busy": "2022-09-18T02:16:32.795741Z",
     "iopub.status.idle": "2022-09-18T02:16:32.802410Z",
     "shell.execute_reply": "2022-09-18T02:16:32.801609Z"
    },
    "papermill": {
     "duration": 0.055987,
     "end_time": "2022-09-18T02:16:32.804509",
     "exception": false,
     "start_time": "2022-09-18T02:16:32.748522",
     "status": "completed"
    },
    "tags": []
   },
   "outputs": [
    {
     "data": {
      "text/plain": [
       "(25000, 16)"
      ]
     },
     "execution_count": 105,
     "metadata": {},
     "output_type": "execute_result"
    }
   ],
   "source": [
    "x_test.shape\n"
   ]
  },
  {
   "cell_type": "code",
   "execution_count": 106,
   "id": "dcd84508",
   "metadata": {
    "execution": {
     "iopub.execute_input": "2022-09-18T02:16:32.898383Z",
     "iopub.status.busy": "2022-09-18T02:16:32.897574Z",
     "iopub.status.idle": "2022-09-18T02:16:32.903599Z",
     "shell.execute_reply": "2022-09-18T02:16:32.902580Z"
    },
    "papermill": {
     "duration": 0.055478,
     "end_time": "2022-09-18T02:16:32.905924",
     "exception": false,
     "start_time": "2022-09-18T02:16:32.850446",
     "status": "completed"
    },
    "tags": []
   },
   "outputs": [
    {
     "data": {
      "text/plain": [
       "(25000,)"
      ]
     },
     "execution_count": 106,
     "metadata": {},
     "output_type": "execute_result"
    }
   ],
   "source": [
    "y_test.shape"
   ]
  },
  {
   "cell_type": "code",
   "execution_count": 107,
   "id": "9f393b52",
   "metadata": {
    "execution": {
     "iopub.execute_input": "2022-09-18T02:16:33.001369Z",
     "iopub.status.busy": "2022-09-18T02:16:33.000909Z",
     "iopub.status.idle": "2022-09-18T02:16:33.007468Z",
     "shell.execute_reply": "2022-09-18T02:16:33.006337Z"
    },
    "papermill": {
     "duration": 0.056847,
     "end_time": "2022-09-18T02:16:33.009723",
     "exception": false,
     "start_time": "2022-09-18T02:16:32.952876",
     "status": "completed"
    },
    "tags": []
   },
   "outputs": [
    {
     "data": {
      "text/plain": [
       "(75000,)"
      ]
     },
     "execution_count": 107,
     "metadata": {},
     "output_type": "execute_result"
    }
   ],
   "source": [
    "y_train.shape"
   ]
  },
  {
   "cell_type": "markdown",
   "id": "ebceda6c",
   "metadata": {
    "papermill": {
     "duration": 0.046264,
     "end_time": "2022-09-18T02:16:33.101870",
     "exception": false,
     "start_time": "2022-09-18T02:16:33.055606",
     "status": "completed"
    },
    "tags": []
   },
   "source": [
    "# Logistic Regression"
   ]
  },
  {
   "cell_type": "code",
   "execution_count": 108,
   "id": "e7ffcb5f",
   "metadata": {
    "execution": {
     "iopub.execute_input": "2022-09-18T02:16:33.194949Z",
     "iopub.status.busy": "2022-09-18T02:16:33.194518Z",
     "iopub.status.idle": "2022-09-18T02:16:34.102465Z",
     "shell.execute_reply": "2022-09-18T02:16:34.099997Z"
    },
    "papermill": {
     "duration": 0.959796,
     "end_time": "2022-09-18T02:16:34.107149",
     "exception": false,
     "start_time": "2022-09-18T02:16:33.147353",
     "status": "completed"
    },
    "tags": []
   },
   "outputs": [
    {
     "name": "stdout",
     "output_type": "stream",
     "text": [
      "0.77276\n",
      "0.77568\n"
     ]
    }
   ],
   "source": [
    "lr= LogisticRegression()\n",
    "lr.fit(x_train , y_train)\n",
    "print(lr.score(x_train,y_train))\n",
    "print(lr.score(x_test,y_test))"
   ]
  },
  {
   "cell_type": "code",
   "execution_count": 109,
   "id": "9d8ae029",
   "metadata": {
    "execution": {
     "iopub.execute_input": "2022-09-18T02:16:34.265610Z",
     "iopub.status.busy": "2022-09-18T02:16:34.265196Z",
     "iopub.status.idle": "2022-09-18T02:16:34.289827Z",
     "shell.execute_reply": "2022-09-18T02:16:34.288212Z"
    },
    "papermill": {
     "duration": 0.075323,
     "end_time": "2022-09-18T02:16:34.294011",
     "exception": false,
     "start_time": "2022-09-18T02:16:34.218688",
     "status": "completed"
    },
    "tags": []
   },
   "outputs": [
    {
     "data": {
      "text/html": [
       "<div>\n",
       "<style scoped>\n",
       "    .dataframe tbody tr th:only-of-type {\n",
       "        vertical-align: middle;\n",
       "    }\n",
       "\n",
       "    .dataframe tbody tr th {\n",
       "        vertical-align: top;\n",
       "    }\n",
       "\n",
       "    .dataframe thead th {\n",
       "        text-align: right;\n",
       "    }\n",
       "</style>\n",
       "<table border=\"1\" class=\"dataframe\">\n",
       "  <thead>\n",
       "    <tr style=\"text-align: right;\">\n",
       "      <th></th>\n",
       "      <th>Y_test</th>\n",
       "      <th>Y_pred</th>\n",
       "    </tr>\n",
       "  </thead>\n",
       "  <tbody>\n",
       "    <tr>\n",
       "      <th>0</th>\n",
       "      <td>1</td>\n",
       "      <td>1</td>\n",
       "    </tr>\n",
       "    <tr>\n",
       "      <th>1</th>\n",
       "      <td>1</td>\n",
       "      <td>1</td>\n",
       "    </tr>\n",
       "    <tr>\n",
       "      <th>2</th>\n",
       "      <td>1</td>\n",
       "      <td>1</td>\n",
       "    </tr>\n",
       "    <tr>\n",
       "      <th>3</th>\n",
       "      <td>0</td>\n",
       "      <td>1</td>\n",
       "    </tr>\n",
       "    <tr>\n",
       "      <th>4</th>\n",
       "      <td>0</td>\n",
       "      <td>1</td>\n",
       "    </tr>\n",
       "    <tr>\n",
       "      <th>...</th>\n",
       "      <td>...</td>\n",
       "      <td>...</td>\n",
       "    </tr>\n",
       "    <tr>\n",
       "      <th>24995</th>\n",
       "      <td>1</td>\n",
       "      <td>1</td>\n",
       "    </tr>\n",
       "    <tr>\n",
       "      <th>24996</th>\n",
       "      <td>0</td>\n",
       "      <td>1</td>\n",
       "    </tr>\n",
       "    <tr>\n",
       "      <th>24997</th>\n",
       "      <td>0</td>\n",
       "      <td>1</td>\n",
       "    </tr>\n",
       "    <tr>\n",
       "      <th>24998</th>\n",
       "      <td>1</td>\n",
       "      <td>1</td>\n",
       "    </tr>\n",
       "    <tr>\n",
       "      <th>24999</th>\n",
       "      <td>1</td>\n",
       "      <td>1</td>\n",
       "    </tr>\n",
       "  </tbody>\n",
       "</table>\n",
       "<p>25000 rows × 2 columns</p>\n",
       "</div>"
      ],
      "text/plain": [
       "       Y_test  Y_pred\n",
       "0           1       1\n",
       "1           1       1\n",
       "2           1       1\n",
       "3           0       1\n",
       "4           0       1\n",
       "...       ...     ...\n",
       "24995       1       1\n",
       "24996       0       1\n",
       "24997       0       1\n",
       "24998       1       1\n",
       "24999       1       1\n",
       "\n",
       "[25000 rows x 2 columns]"
      ]
     },
     "execution_count": 109,
     "metadata": {},
     "output_type": "execute_result"
    }
   ],
   "source": [
    "y_pred = lr.predict(x_test)\n",
    "lrdata = pd.DataFrame({ \"Y_test\": y_test ,\"Y_pred\" : y_pred})\n",
    "lrdata\n"
   ]
  },
  {
   "cell_type": "code",
   "execution_count": 110,
   "id": "e751ae9c",
   "metadata": {
    "execution": {
     "iopub.execute_input": "2022-09-18T02:16:34.447121Z",
     "iopub.status.busy": "2022-09-18T02:16:34.446691Z",
     "iopub.status.idle": "2022-09-18T02:16:34.454330Z",
     "shell.execute_reply": "2022-09-18T02:16:34.453121Z"
    },
    "papermill": {
     "duration": 0.057301,
     "end_time": "2022-09-18T02:16:34.456652",
     "exception": false,
     "start_time": "2022-09-18T02:16:34.399351",
     "status": "completed"
    },
    "tags": []
   },
   "outputs": [
    {
     "data": {
      "text/plain": [
       "pandas.core.frame.DataFrame"
      ]
     },
     "execution_count": 110,
     "metadata": {},
     "output_type": "execute_result"
    }
   ],
   "source": [
    "type(lrdata)"
   ]
  },
  {
   "cell_type": "code",
   "execution_count": 111,
   "id": "263bf6c8",
   "metadata": {
    "execution": {
     "iopub.execute_input": "2022-09-18T02:16:34.549513Z",
     "iopub.status.busy": "2022-09-18T02:16:34.549047Z",
     "iopub.status.idle": "2022-09-18T02:16:34.816780Z",
     "shell.execute_reply": "2022-09-18T02:16:34.815550Z"
    },
    "papermill": {
     "duration": 0.31725,
     "end_time": "2022-09-18T02:16:34.819329",
     "exception": false,
     "start_time": "2022-09-18T02:16:34.502079",
     "status": "completed"
    },
    "tags": []
   },
   "outputs": [
    {
     "data": {
      "text/plain": [
       "<matplotlib.legend.Legend at 0x7f51d288c6d0>"
      ]
     },
     "execution_count": 111,
     "metadata": {},
     "output_type": "execute_result"
    },
    {
     "data": {
      "image/png": "[encoded data removed]",
      "text/plain": [
       "<Figure size 720x576 with 1 Axes>"
      ]
     },
     "metadata": {
      "needs_background": "light"
     },
     "output_type": "display_data"
    }
   ],
   "source": [
    "plt.figure(figsize=(10,8))\n",
    "plt.plot(lrdata[:50])\n",
    "plt.legend([\"Actual\",\"Predicted\"])"
   ]
  },
  {
   "cell_type": "code",
   "execution_count": null,
   "id": "293e845e",
   "metadata": {
    "papermill": {
     "duration": 0.046155,
     "end_time": "2022-09-18T02:16:34.912285",
     "exception": false,
     "start_time": "2022-09-18T02:16:34.866130",
     "status": "completed"
    },
    "tags": []
   },
   "outputs": [],
   "source": []
  },
  {
   "cell_type": "code",
   "execution_count": null,
   "id": "87f8bdd2",
   "metadata": {
    "papermill": {
     "duration": 0.046487,
     "end_time": "2022-09-18T02:16:35.005077",
     "exception": false,
     "start_time": "2022-09-18T02:16:34.958590",
     "status": "completed"
    },
    "tags": []
   },
   "outputs": [],
   "source": []
  },
  {
   "cell_type": "markdown",
   "id": "433ea366",
   "metadata": {
    "papermill": {
     "duration": 0.053608,
     "end_time": "2022-09-18T02:16:35.105272",
     "exception": false,
     "start_time": "2022-09-18T02:16:35.051664",
     "status": "completed"
    },
    "tags": []
   },
   "source": [
    "# KNN "
   ]
  },
  {
   "cell_type": "code",
   "execution_count": 112,
   "id": "0906b0fb",
   "metadata": {
    "execution": {
     "iopub.execute_input": "2022-09-18T02:16:35.215422Z",
     "iopub.status.busy": "2022-09-18T02:16:35.214277Z",
     "iopub.status.idle": "2022-09-18T02:16:35.219944Z",
     "shell.execute_reply": "2022-09-18T02:16:35.219053Z"
    },
    "papermill": {
     "duration": 0.057756,
     "end_time": "2022-09-18T02:16:35.222162",
     "exception": false,
     "start_time": "2022-09-18T02:16:35.164406",
     "status": "completed"
    },
    "tags": []
   },
   "outputs": [],
   "source": [
    "knn = KNeighborsClassifier(n_neighbors=3)"
   ]
  },
  {
   "cell_type": "code",
   "execution_count": 113,
   "id": "ba776742",
   "metadata": {
    "execution": {
     "iopub.execute_input": "2022-09-18T02:16:35.317493Z",
     "iopub.status.busy": "2022-09-18T02:16:35.316325Z",
     "iopub.status.idle": "2022-09-18T02:16:35.333011Z",
     "shell.execute_reply": "2022-09-18T02:16:35.331808Z"
    },
    "papermill": {
     "duration": 0.066654,
     "end_time": "2022-09-18T02:16:35.335503",
     "exception": false,
     "start_time": "2022-09-18T02:16:35.268849",
     "status": "completed"
    },
    "tags": []
   },
   "outputs": [
    {
     "data": {
      "text/plain": [
       "KNeighborsClassifier(n_neighbors=3)"
      ]
     },
     "execution_count": 113,
     "metadata": {},
     "output_type": "execute_result"
    }
   ],
   "source": [
    "knn.fit(x_train , y_train )"
   ]
  },
  {
   "cell_type": "code",
   "execution_count": 114,
   "id": "3cdeb5a4",
   "metadata": {
    "execution": {
     "iopub.execute_input": "2022-09-18T02:16:35.432048Z",
     "iopub.status.busy": "2022-09-18T02:16:35.431300Z",
     "iopub.status.idle": "2022-09-18T02:18:21.895008Z",
     "shell.execute_reply": "2022-09-18T02:18:21.893336Z"
    },
    "papermill": {
     "duration": 106.515457,
     "end_time": "2022-09-18T02:18:21.898734",
     "exception": false,
     "start_time": "2022-09-18T02:16:35.383277",
     "status": "completed"
    },
    "tags": []
   },
   "outputs": [
    {
     "name": "stdout",
     "output_type": "stream",
     "text": [
      "0.8476\n",
      "0.72828\n"
     ]
    }
   ],
   "source": [
    "print(knn.score(x_train , y_train))\n",
    "print(knn.score(x_test , y_test))"
   ]
  },
  {
   "cell_type": "code",
   "execution_count": 115,
   "id": "2b11ea66",
   "metadata": {
    "execution": {
     "iopub.execute_input": "2022-09-18T02:18:21.997486Z",
     "iopub.status.busy": "2022-09-18T02:18:21.996165Z",
     "iopub.status.idle": "2022-09-18T02:18:48.554095Z",
     "shell.execute_reply": "2022-09-18T02:18:48.552751Z"
    },
    "papermill": {
     "duration": 26.610704,
     "end_time": "2022-09-18T02:18:48.556956",
     "exception": false,
     "start_time": "2022-09-18T02:18:21.946252",
     "status": "completed"
    },
    "tags": []
   },
   "outputs": [],
   "source": [
    "y_pred1 = knn.predict(x_test)\n",
    "knndata = pd.DataFrame({\"Y_test\": y_test , \"Y_pred\" : y_pred1})"
   ]
  },
  {
   "cell_type": "code",
   "execution_count": 116,
   "id": "113bddc7",
   "metadata": {
    "execution": {
     "iopub.execute_input": "2022-09-18T02:18:48.652695Z",
     "iopub.status.busy": "2022-09-18T02:18:48.652241Z",
     "iopub.status.idle": "2022-09-18T02:18:48.664417Z",
     "shell.execute_reply": "2022-09-18T02:18:48.663262Z"
    },
    "papermill": {
     "duration": 0.063131,
     "end_time": "2022-09-18T02:18:48.666906",
     "exception": false,
     "start_time": "2022-09-18T02:18:48.603775",
     "status": "completed"
    },
    "tags": []
   },
   "outputs": [
    {
     "data": {
      "text/html": [
       "<div>\n",
       "<style scoped>\n",
       "    .dataframe tbody tr th:only-of-type {\n",
       "        vertical-align: middle;\n",
       "    }\n",
       "\n",
       "    .dataframe tbody tr th {\n",
       "        vertical-align: top;\n",
       "    }\n",
       "\n",
       "    .dataframe thead th {\n",
       "        text-align: right;\n",
       "    }\n",
       "</style>\n",
       "<table border=\"1\" class=\"dataframe\">\n",
       "  <thead>\n",
       "    <tr style=\"text-align: right;\">\n",
       "      <th></th>\n",
       "      <th>Y_test</th>\n",
       "      <th>Y_pred</th>\n",
       "    </tr>\n",
       "  </thead>\n",
       "  <tbody>\n",
       "    <tr>\n",
       "      <th>0</th>\n",
       "      <td>1</td>\n",
       "      <td>1</td>\n",
       "    </tr>\n",
       "    <tr>\n",
       "      <th>1</th>\n",
       "      <td>1</td>\n",
       "      <td>1</td>\n",
       "    </tr>\n",
       "    <tr>\n",
       "      <th>2</th>\n",
       "      <td>1</td>\n",
       "      <td>1</td>\n",
       "    </tr>\n",
       "    <tr>\n",
       "      <th>3</th>\n",
       "      <td>0</td>\n",
       "      <td>0</td>\n",
       "    </tr>\n",
       "    <tr>\n",
       "      <th>4</th>\n",
       "      <td>0</td>\n",
       "      <td>1</td>\n",
       "    </tr>\n",
       "    <tr>\n",
       "      <th>...</th>\n",
       "      <td>...</td>\n",
       "      <td>...</td>\n",
       "    </tr>\n",
       "    <tr>\n",
       "      <th>24995</th>\n",
       "      <td>1</td>\n",
       "      <td>1</td>\n",
       "    </tr>\n",
       "    <tr>\n",
       "      <th>24996</th>\n",
       "      <td>0</td>\n",
       "      <td>1</td>\n",
       "    </tr>\n",
       "    <tr>\n",
       "      <th>24997</th>\n",
       "      <td>0</td>\n",
       "      <td>0</td>\n",
       "    </tr>\n",
       "    <tr>\n",
       "      <th>24998</th>\n",
       "      <td>1</td>\n",
       "      <td>1</td>\n",
       "    </tr>\n",
       "    <tr>\n",
       "      <th>24999</th>\n",
       "      <td>1</td>\n",
       "      <td>1</td>\n",
       "    </tr>\n",
       "  </tbody>\n",
       "</table>\n",
       "<p>25000 rows × 2 columns</p>\n",
       "</div>"
      ],
      "text/plain": [
       "       Y_test  Y_pred\n",
       "0           1       1\n",
       "1           1       1\n",
       "2           1       1\n",
       "3           0       0\n",
       "4           0       1\n",
       "...       ...     ...\n",
       "24995       1       1\n",
       "24996       0       1\n",
       "24997       0       0\n",
       "24998       1       1\n",
       "24999       1       1\n",
       "\n",
       "[25000 rows x 2 columns]"
      ]
     },
     "execution_count": 116,
     "metadata": {},
     "output_type": "execute_result"
    }
   ],
   "source": [
    "knndata"
   ]
  },
  {
   "cell_type": "code",
   "execution_count": 117,
   "id": "6c17c374",
   "metadata": {
    "execution": {
     "iopub.execute_input": "2022-09-18T02:18:48.763741Z",
     "iopub.status.busy": "2022-09-18T02:18:48.763361Z",
     "iopub.status.idle": "2022-09-18T02:18:48.969095Z",
     "shell.execute_reply": "2022-09-18T02:18:48.967858Z"
    },
    "papermill": {
     "duration": 0.257215,
     "end_time": "2022-09-18T02:18:48.972127",
     "exception": false,
     "start_time": "2022-09-18T02:18:48.714912",
     "status": "completed"
    },
    "tags": []
   },
   "outputs": [
    {
     "data": {
      "text/plain": [
       "<matplotlib.legend.Legend at 0x7f51d282e750>"
      ]
     },
     "execution_count": 117,
     "metadata": {},
     "output_type": "execute_result"
    },
    {
     "data": {
      "image/png": "[encoded data removed]",
      "text/plain": [
       "<Figure size 720x576 with 1 Axes>"
      ]
     },
     "metadata": {
      "needs_background": "light"
     },
     "output_type": "display_data"
    }
   ],
   "source": [
    "plt.figure(figsize=(10,8))\n",
    "plt.plot(knndata[:50])\n",
    "plt.legend([\"Actual\",\"Predicted\"])"
   ]
  },
  {
   "cell_type": "code",
   "execution_count": null,
   "id": "16145609",
   "metadata": {
    "papermill": {
     "duration": 0.047636,
     "end_time": "2022-09-18T02:18:49.067772",
     "exception": false,
     "start_time": "2022-09-18T02:18:49.020136",
     "status": "completed"
    },
    "tags": []
   },
   "outputs": [],
   "source": []
  }
 ],
 "metadata": {
  "kernelspec": {
   "display_name": "Python 3",
   "language": "python",
   "name": "python3"
  },
  "language_info": {
   "codemirror_mode": {
    "name": "ipython",
    "version": 3
   },
   "file_extension": ".py",
   "mimetype": "text/x-python",
   "name": "python",
   "nbconvert_exporter": "python",
   "pygments_lexer": "ipython3",
   "version": "3.7.12"
  },
  "papermill": {
   "default_parameters": {},
   "duration": 177.10711,
   "end_time": "2022-09-18T02:18:50.040538",
   "environment_variables": {},
   "exception": null,
   "input_path": "__notebook__.ipynb",
   "output_path": "__notebook__.ipynb",
   "parameters": {},
   "start_time": "2022-09-18T02:15:52.933428",
   "version": "2.3.4"
  }
 },
 "nbformat": 4,
 "nbformat_minor": 5
}

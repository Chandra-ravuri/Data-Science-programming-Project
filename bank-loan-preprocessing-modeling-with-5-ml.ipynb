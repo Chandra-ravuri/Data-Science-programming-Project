{
 "cells": [
  {
   "cell_type": "code",
   "execution_count": 1,
   "metadata": {
    "execution": {
     "iopub.execute_input": "2022-10-26T23:11:58.612384Z",
     "iopub.status.busy": "2022-10-26T23:11:58.611917Z",
     "iopub.status.idle": "2022-10-26T23:12:00.243941Z",
     "shell.execute_reply": "2022-10-26T23:12:00.242438Z"
    },
    "id": "zV4a485q6g74",
    "papermill": {
     "duration": 1.652974,
     "end_time": "2022-10-26T23:12:00.247143",
     "exception": false,
     "start_time": "2022-10-26T23:11:58.594169",
     "status": "completed"
    },
    "tags": []
   },
   "outputs": [
    {
     "ename": "ModuleNotFoundError",
     "evalue": "No module named 'xgboost'",
     "output_type": "error",
     "traceback": [
      "\u001b[1;31m---------------------------------------------------------------------------\u001b[0m",
      "\u001b[1;31mModuleNotFoundError\u001b[0m                       Traceback (most recent call last)",
      "\u001b[1;32m<ipython-input-1-6eb61af351d2>\u001b[0m in \u001b[0;36m<module>\u001b[1;34m\u001b[0m\n\u001b[0;32m      6\u001b[0m \u001b[1;32mfrom\u001b[0m \u001b[0msklearn\u001b[0m\u001b[1;33m.\u001b[0m\u001b[0mneighbors\u001b[0m \u001b[1;32mimport\u001b[0m \u001b[0mKNeighborsClassifier\u001b[0m\u001b[1;33m\u001b[0m\u001b[1;33m\u001b[0m\u001b[0m\n\u001b[0;32m      7\u001b[0m \u001b[1;32mfrom\u001b[0m \u001b[0msklearn\u001b[0m\u001b[1;33m.\u001b[0m\u001b[0mpreprocessing\u001b[0m \u001b[1;32mimport\u001b[0m \u001b[0mLabelEncoder\u001b[0m\u001b[1;33m\u001b[0m\u001b[1;33m\u001b[0m\u001b[0m\n\u001b[1;32m----> 8\u001b[1;33m \u001b[1;32mfrom\u001b[0m \u001b[0mxgboost\u001b[0m \u001b[1;32mimport\u001b[0m \u001b[0mXGBClassifier\u001b[0m\u001b[1;33m\u001b[0m\u001b[1;33m\u001b[0m\u001b[0m\n\u001b[0m\u001b[0;32m      9\u001b[0m \u001b[1;32mfrom\u001b[0m \u001b[0msklearn\u001b[0m\u001b[1;33m.\u001b[0m\u001b[0mtree\u001b[0m \u001b[1;32mimport\u001b[0m \u001b[0mDecisionTreeClassifier\u001b[0m\u001b[1;33m\u001b[0m\u001b[1;33m\u001b[0m\u001b[0m\n\u001b[0;32m     10\u001b[0m \u001b[1;32mfrom\u001b[0m \u001b[0msklearn\u001b[0m\u001b[1;33m.\u001b[0m\u001b[0mensemble\u001b[0m \u001b[1;32mimport\u001b[0m \u001b[0mRandomForestClassifier\u001b[0m\u001b[1;33m\u001b[0m\u001b[1;33m\u001b[0m\u001b[0m\n",
      "\u001b[1;31mModuleNotFoundError\u001b[0m: No module named 'xgboost'"
     ]
    }
   ],
   "source": [
    "import numpy as np\n",
    "import pandas as pd\n",
    "import matplotlib.pyplot as plt\n",
    "import seaborn as sns \n",
    "from sklearn.linear_model import LogisticRegression\n",
    "from sklearn.neighbors import KNeighborsClassifier\n",
    "from sklearn.preprocessing import LabelEncoder\n",
    "from xgboost import XGBClassifier\n",
    "from sklearn.tree import DecisionTreeClassifier\n",
    "from sklearn.ensemble import RandomForestClassifier\n",
    "from sklearn.model_selection import train_test_split\n",
    "from matplotlib import pyplot as plt\n",
    "from sklearn.preprocessing import RobustScaler\n",
    "from sklearn.utils import resample\n"
   ]
  },
  {
   "cell_type": "code",
   "execution_count": null,
   "metadata": {
    "execution": {
     "iopub.execute_input": "2022-10-26T23:12:00.278724Z",
     "iopub.status.busy": "2022-10-26T23:12:00.278247Z",
     "iopub.status.idle": "2022-10-26T23:12:01.065546Z",
     "shell.execute_reply": "2022-10-26T23:12:01.064141Z"
    },
    "id": "mxMMVk-z19b8",
    "papermill": {
     "duration": 0.806486,
     "end_time": "2022-10-26T23:12:01.068628",
     "exception": false,
     "start_time": "2022-10-26T23:12:00.262142",
     "status": "completed"
    },
    "tags": []
   },
   "outputs": [],
   "source": [
    "trainD= pd.read_csv('../input/my-dataset/credit_train.csv')"
   ]
  },
  {
   "cell_type": "code",
   "execution_count": null,
   "metadata": {
    "execution": {
     "iopub.execute_input": "2022-10-26T23:12:01.108237Z",
     "iopub.status.busy": "2022-10-26T23:12:01.107611Z",
     "iopub.status.idle": "2022-10-26T23:12:01.173836Z",
     "shell.execute_reply": "2022-10-26T23:12:01.172466Z"
    },
    "id": "sH6kyZXdNBWo",
    "outputId": "61f6ef9b-9ac3-4f32-a13b-5f0b69777d58",
    "papermill": {
     "duration": 0.088388,
     "end_time": "2022-10-26T23:12:01.177461",
     "exception": false,
     "start_time": "2022-10-26T23:12:01.089073",
     "status": "completed"
    },
    "tags": []
   },
   "outputs": [],
   "source": [
    "trainD.info()"
   ]
  },
  {
   "cell_type": "code",
   "execution_count": 4,
   "metadata": {
    "execution": {
     "iopub.execute_input": "2022-10-26T23:12:01.209955Z",
     "iopub.status.busy": "2022-10-26T23:12:01.209071Z",
     "iopub.status.idle": "2022-10-26T23:12:01.253690Z",
     "shell.execute_reply": "2022-10-26T23:12:01.252384Z"
    },
    "id": "BlXqcN4i19ei",
    "outputId": "591c1d0e-f5cb-44f5-ddc3-a1da63d386f1",
    "papermill": {
     "duration": 0.063153,
     "end_time": "2022-10-26T23:12:01.256425",
     "exception": false,
     "start_time": "2022-10-26T23:12:01.193272",
     "status": "completed"
    },
    "tags": []
   },
   "outputs": [
    {
     "data": {
      "text/plain": [
       "Loan ID                           514\n",
       "Customer ID                       514\n",
       "Loan Status                       514\n",
       "Current Loan Amount               514\n",
       "Term                              514\n",
       "Credit Score                    19668\n",
       "Annual Income                   19668\n",
       "Years in current job             4736\n",
       "Home Ownership                    514\n",
       "Purpose                           514\n",
       "Monthly Debt                      514\n",
       "Years of Credit History           514\n",
       "Months since last delinquent    53655\n",
       "Number of Open Accounts           514\n",
       "Number of Credit Problems         514\n",
       "Current Credit Balance            514\n",
       "Maximum Open Credit               516\n",
       "Bankruptcies                      718\n",
       "Tax Liens                         524\n",
       "dtype: int64"
      ]
     },
     "execution_count": 4,
     "metadata": {},
     "output_type": "execute_result"
    }
   ],
   "source": [
    "trainD.isnull().sum()"
   ]
  },
  {
   "cell_type": "code",
   "execution_count": 5,
   "metadata": {
    "execution": {
     "iopub.execute_input": "2022-10-26T23:12:01.287088Z",
     "iopub.status.busy": "2022-10-26T23:12:01.286684Z",
     "iopub.status.idle": "2022-10-26T23:12:01.353982Z",
     "shell.execute_reply": "2022-10-26T23:12:01.352549Z"
    },
    "id": "4xek6qaaCs5f",
    "papermill": {
     "duration": 0.08591,
     "end_time": "2022-10-26T23:12:01.356812",
     "exception": false,
     "start_time": "2022-10-26T23:12:01.270902",
     "status": "completed"
    },
    "tags": []
   },
   "outputs": [],
   "source": [
    "Df=trainD.dropna(thresh=14)"
   ]
  },
  {
   "cell_type": "code",
   "execution_count": 6,
   "metadata": {
    "execution": {
     "iopub.execute_input": "2022-10-26T23:12:01.388253Z",
     "iopub.status.busy": "2022-10-26T23:12:01.387814Z",
     "iopub.status.idle": "2022-10-26T23:12:01.437830Z",
     "shell.execute_reply": "2022-10-26T23:12:01.436065Z"
    },
    "id": "zAv1PHMlNYeA",
    "outputId": "5640e852-3bb8-4b25-ceb7-8ff98e9a5cc4",
    "papermill": {
     "duration": 0.068983,
     "end_time": "2022-10-26T23:12:01.440914",
     "exception": false,
     "start_time": "2022-10-26T23:12:01.371931",
     "status": "completed"
    },
    "tags": []
   },
   "outputs": [
    {
     "name": "stdout",
     "output_type": "stream",
     "text": [
      "<class 'pandas.core.frame.DataFrame'>\n",
      "Int64Index: 100000 entries, 0 to 99999\n",
      "Data columns (total 19 columns):\n",
      " #   Column                        Non-Null Count   Dtype  \n",
      "---  ------                        --------------   -----  \n",
      " 0   Loan ID                       100000 non-null  object \n",
      " 1   Customer ID                   100000 non-null  object \n",
      " 2   Loan Status                   100000 non-null  object \n",
      " 3   Current Loan Amount           100000 non-null  float64\n",
      " 4   Term                          100000 non-null  object \n",
      " 5   Credit Score                  80846 non-null   float64\n",
      " 6   Annual Income                 80846 non-null   float64\n",
      " 7   Years in current job          95778 non-null   object \n",
      " 8   Home Ownership                100000 non-null  object \n",
      " 9   Purpose                       100000 non-null  object \n",
      " 10  Monthly Debt                  100000 non-null  float64\n",
      " 11  Years of Credit History       100000 non-null  float64\n",
      " 12  Months since last delinquent  46859 non-null   float64\n",
      " 13  Number of Open Accounts       100000 non-null  float64\n",
      " 14  Number of Credit Problems     100000 non-null  float64\n",
      " 15  Current Credit Balance        100000 non-null  float64\n",
      " 16  Maximum Open Credit           99998 non-null   float64\n",
      " 17  Bankruptcies                  99796 non-null   float64\n",
      " 18  Tax Liens                     99990 non-null   float64\n",
      "dtypes: float64(12), object(7)\n",
      "memory usage: 15.3+ MB\n"
     ]
    }
   ],
   "source": [
    "Df.info()"
   ]
  },
  {
   "cell_type": "code",
   "execution_count": 7,
   "metadata": {
    "execution": {
     "iopub.execute_input": "2022-10-26T23:12:01.472153Z",
     "iopub.status.busy": "2022-10-26T23:12:01.471703Z",
     "iopub.status.idle": "2022-10-26T23:12:01.514825Z",
     "shell.execute_reply": "2022-10-26T23:12:01.513589Z"
    },
    "id": "a30FgwQg5U1Q",
    "outputId": "c3494321-0695-49a5-d8a1-02828e3af320",
    "papermill": {
     "duration": 0.061436,
     "end_time": "2022-10-26T23:12:01.517136",
     "exception": false,
     "start_time": "2022-10-26T23:12:01.455700",
     "status": "completed"
    },
    "tags": []
   },
   "outputs": [
    {
     "data": {
      "text/plain": [
       "Loan ID                             0\n",
       "Customer ID                         0\n",
       "Loan Status                         0\n",
       "Current Loan Amount                 0\n",
       "Term                                0\n",
       "Credit Score                    19154\n",
       "Annual Income                   19154\n",
       "Years in current job             4222\n",
       "Home Ownership                      0\n",
       "Purpose                             0\n",
       "Monthly Debt                        0\n",
       "Years of Credit History             0\n",
       "Months since last delinquent    53141\n",
       "Number of Open Accounts             0\n",
       "Number of Credit Problems           0\n",
       "Current Credit Balance              0\n",
       "Maximum Open Credit                 2\n",
       "Bankruptcies                      204\n",
       "Tax Liens                          10\n",
       "dtype: int64"
      ]
     },
     "execution_count": 7,
     "metadata": {},
     "output_type": "execute_result"
    }
   ],
   "source": [
    "Df.isnull().sum()"
   ]
  },
  {
   "cell_type": "code",
   "execution_count": 8,
   "metadata": {
    "execution": {
     "iopub.execute_input": "2022-10-26T23:12:01.548476Z",
     "iopub.status.busy": "2022-10-26T23:12:01.548053Z",
     "iopub.status.idle": "2022-10-26T23:12:01.577522Z",
     "shell.execute_reply": "2022-10-26T23:12:01.576248Z"
    },
    "id": "xgujEVX-6pLm",
    "outputId": "8b456713-2698-47e7-bc9c-4f62e595f3a2",
    "papermill": {
     "duration": 0.0494,
     "end_time": "2022-10-26T23:12:01.581221",
     "exception": false,
     "start_time": "2022-10-26T23:12:01.531821",
     "status": "completed"
    },
    "tags": []
   },
   "outputs": [
    {
     "name": "stderr",
     "output_type": "stream",
     "text": [
      "/opt/conda/lib/python3.7/site-packages/pandas/core/frame.py:4913: SettingWithCopyWarning: \n",
      "A value is trying to be set on a copy of a slice from a DataFrame\n",
      "\n",
      "See the caveats in the documentation: https://pandas.pydata.org/pandas-docs/stable/user_guide/indexing.html#returning-a-view-versus-a-copy\n",
      "  errors=errors,\n"
     ]
    }
   ],
   "source": [
    "Df.drop('Loan ID',axis=1,inplace=True)"
   ]
  },
  {
   "cell_type": "code",
   "execution_count": 9,
   "metadata": {
    "execution": {
     "iopub.execute_input": "2022-10-26T23:12:01.615126Z",
     "iopub.status.busy": "2022-10-26T23:12:01.614611Z",
     "iopub.status.idle": "2022-10-26T23:12:01.634992Z",
     "shell.execute_reply": "2022-10-26T23:12:01.633861Z"
    },
    "id": "D5y2qW8B6pOW",
    "papermill": {
     "duration": 0.039895,
     "end_time": "2022-10-26T23:12:01.637642",
     "exception": false,
     "start_time": "2022-10-26T23:12:01.597747",
     "status": "completed"
    },
    "tags": []
   },
   "outputs": [],
   "source": [
    "Df.drop('Customer ID',axis=1,inplace=True)"
   ]
  },
  {
   "cell_type": "code",
   "execution_count": 10,
   "metadata": {
    "execution": {
     "iopub.execute_input": "2022-10-26T23:12:01.670028Z",
     "iopub.status.busy": "2022-10-26T23:12:01.669618Z",
     "iopub.status.idle": "2022-10-26T23:12:01.795902Z",
     "shell.execute_reply": "2022-10-26T23:12:01.795035Z"
    },
    "id": "Kiwlv08a810K",
    "outputId": "5d944d1e-0769-4928-ac01-f7d5f95bde47",
    "papermill": {
     "duration": 0.145514,
     "end_time": "2022-10-26T23:12:01.798195",
     "exception": false,
     "start_time": "2022-10-26T23:12:01.652681",
     "status": "completed"
    },
    "tags": []
   },
   "outputs": [
    {
     "data": {
      "text/html": [
       "<div>\n",
       "<style scoped>\n",
       "    .dataframe tbody tr th:only-of-type {\n",
       "        vertical-align: middle;\n",
       "    }\n",
       "\n",
       "    .dataframe tbody tr th {\n",
       "        vertical-align: top;\n",
       "    }\n",
       "\n",
       "    .dataframe thead th {\n",
       "        text-align: right;\n",
       "    }\n",
       "</style>\n",
       "<table border=\"1\" class=\"dataframe\">\n",
       "  <thead>\n",
       "    <tr style=\"text-align: right;\">\n",
       "      <th></th>\n",
       "      <th>Current Loan Amount</th>\n",
       "      <th>Credit Score</th>\n",
       "      <th>Annual Income</th>\n",
       "      <th>Monthly Debt</th>\n",
       "      <th>Years of Credit History</th>\n",
       "      <th>Months since last delinquent</th>\n",
       "      <th>Number of Open Accounts</th>\n",
       "      <th>Number of Credit Problems</th>\n",
       "      <th>Current Credit Balance</th>\n",
       "      <th>Maximum Open Credit</th>\n",
       "      <th>Bankruptcies</th>\n",
       "      <th>Tax Liens</th>\n",
       "    </tr>\n",
       "  </thead>\n",
       "  <tbody>\n",
       "    <tr>\n",
       "      <th>count</th>\n",
       "      <td>1.000000e+05</td>\n",
       "      <td>80846.000000</td>\n",
       "      <td>8.084600e+04</td>\n",
       "      <td>100000.000000</td>\n",
       "      <td>100000.000000</td>\n",
       "      <td>46859.000000</td>\n",
       "      <td>100000.00000</td>\n",
       "      <td>100000.000000</td>\n",
       "      <td>1.000000e+05</td>\n",
       "      <td>9.999800e+04</td>\n",
       "      <td>99796.000000</td>\n",
       "      <td>99990.000000</td>\n",
       "    </tr>\n",
       "    <tr>\n",
       "      <th>mean</th>\n",
       "      <td>1.176045e+07</td>\n",
       "      <td>1076.456089</td>\n",
       "      <td>1.378277e+06</td>\n",
       "      <td>18472.412336</td>\n",
       "      <td>18.199141</td>\n",
       "      <td>34.901321</td>\n",
       "      <td>11.12853</td>\n",
       "      <td>0.168310</td>\n",
       "      <td>2.946374e+05</td>\n",
       "      <td>7.607984e+05</td>\n",
       "      <td>0.117740</td>\n",
       "      <td>0.029313</td>\n",
       "    </tr>\n",
       "    <tr>\n",
       "      <th>std</th>\n",
       "      <td>3.178394e+07</td>\n",
       "      <td>1475.403791</td>\n",
       "      <td>1.081360e+06</td>\n",
       "      <td>12174.992609</td>\n",
       "      <td>7.015324</td>\n",
       "      <td>21.997829</td>\n",
       "      <td>5.00987</td>\n",
       "      <td>0.482705</td>\n",
       "      <td>3.761709e+05</td>\n",
       "      <td>8.384503e+06</td>\n",
       "      <td>0.351424</td>\n",
       "      <td>0.258182</td>\n",
       "    </tr>\n",
       "    <tr>\n",
       "      <th>min</th>\n",
       "      <td>1.080200e+04</td>\n",
       "      <td>585.000000</td>\n",
       "      <td>7.662700e+04</td>\n",
       "      <td>0.000000</td>\n",
       "      <td>3.600000</td>\n",
       "      <td>0.000000</td>\n",
       "      <td>0.00000</td>\n",
       "      <td>0.000000</td>\n",
       "      <td>0.000000e+00</td>\n",
       "      <td>0.000000e+00</td>\n",
       "      <td>0.000000</td>\n",
       "      <td>0.000000</td>\n",
       "    </tr>\n",
       "    <tr>\n",
       "      <th>25%</th>\n",
       "      <td>1.796520e+05</td>\n",
       "      <td>705.000000</td>\n",
       "      <td>8.488440e+05</td>\n",
       "      <td>10214.162500</td>\n",
       "      <td>13.500000</td>\n",
       "      <td>16.000000</td>\n",
       "      <td>8.00000</td>\n",
       "      <td>0.000000</td>\n",
       "      <td>1.126700e+05</td>\n",
       "      <td>2.734380e+05</td>\n",
       "      <td>0.000000</td>\n",
       "      <td>0.000000</td>\n",
       "    </tr>\n",
       "    <tr>\n",
       "      <th>50%</th>\n",
       "      <td>3.122460e+05</td>\n",
       "      <td>724.000000</td>\n",
       "      <td>1.174162e+06</td>\n",
       "      <td>16220.300000</td>\n",
       "      <td>16.900000</td>\n",
       "      <td>32.000000</td>\n",
       "      <td>10.00000</td>\n",
       "      <td>0.000000</td>\n",
       "      <td>2.098170e+05</td>\n",
       "      <td>4.678740e+05</td>\n",
       "      <td>0.000000</td>\n",
       "      <td>0.000000</td>\n",
       "    </tr>\n",
       "    <tr>\n",
       "      <th>75%</th>\n",
       "      <td>5.249420e+05</td>\n",
       "      <td>741.000000</td>\n",
       "      <td>1.650663e+06</td>\n",
       "      <td>24012.057500</td>\n",
       "      <td>21.700000</td>\n",
       "      <td>51.000000</td>\n",
       "      <td>14.00000</td>\n",
       "      <td>0.000000</td>\n",
       "      <td>3.679588e+05</td>\n",
       "      <td>7.829580e+05</td>\n",
       "      <td>0.000000</td>\n",
       "      <td>0.000000</td>\n",
       "    </tr>\n",
       "    <tr>\n",
       "      <th>max</th>\n",
       "      <td>1.000000e+08</td>\n",
       "      <td>7510.000000</td>\n",
       "      <td>1.655574e+08</td>\n",
       "      <td>435843.280000</td>\n",
       "      <td>70.500000</td>\n",
       "      <td>176.000000</td>\n",
       "      <td>76.00000</td>\n",
       "      <td>15.000000</td>\n",
       "      <td>3.287897e+07</td>\n",
       "      <td>1.539738e+09</td>\n",
       "      <td>7.000000</td>\n",
       "      <td>15.000000</td>\n",
       "    </tr>\n",
       "  </tbody>\n",
       "</table>\n",
       "</div>"
      ],
      "text/plain": [
       "       Current Loan Amount  Credit Score  Annual Income   Monthly Debt  \\\n",
       "count         1.000000e+05  80846.000000   8.084600e+04  100000.000000   \n",
       "mean          1.176045e+07   1076.456089   1.378277e+06   18472.412336   \n",
       "std           3.178394e+07   1475.403791   1.081360e+06   12174.992609   \n",
       "min           1.080200e+04    585.000000   7.662700e+04       0.000000   \n",
       "25%           1.796520e+05    705.000000   8.488440e+05   10214.162500   \n",
       "50%           3.122460e+05    724.000000   1.174162e+06   16220.300000   \n",
       "75%           5.249420e+05    741.000000   1.650663e+06   24012.057500   \n",
       "max           1.000000e+08   7510.000000   1.655574e+08  435843.280000   \n",
       "\n",
       "       Years of Credit History  Months since last delinquent  \\\n",
       "count            100000.000000                  46859.000000   \n",
       "mean                 18.199141                     34.901321   \n",
       "std                   7.015324                     21.997829   \n",
       "min                   3.600000                      0.000000   \n",
       "25%                  13.500000                     16.000000   \n",
       "50%                  16.900000                     32.000000   \n",
       "75%                  21.700000                     51.000000   \n",
       "max                  70.500000                    176.000000   \n",
       "\n",
       "       Number of Open Accounts  Number of Credit Problems  \\\n",
       "count             100000.00000              100000.000000   \n",
       "mean                  11.12853                   0.168310   \n",
       "std                    5.00987                   0.482705   \n",
       "min                    0.00000                   0.000000   \n",
       "25%                    8.00000                   0.000000   \n",
       "50%                   10.00000                   0.000000   \n",
       "75%                   14.00000                   0.000000   \n",
       "max                   76.00000                  15.000000   \n",
       "\n",
       "       Current Credit Balance  Maximum Open Credit  Bankruptcies     Tax Liens  \n",
       "count            1.000000e+05         9.999800e+04  99796.000000  99990.000000  \n",
       "mean             2.946374e+05         7.607984e+05      0.117740      0.029313  \n",
       "std              3.761709e+05         8.384503e+06      0.351424      0.258182  \n",
       "min              0.000000e+00         0.000000e+00      0.000000      0.000000  \n",
       "25%              1.126700e+05         2.734380e+05      0.000000      0.000000  \n",
       "50%              2.098170e+05         4.678740e+05      0.000000      0.000000  \n",
       "75%              3.679588e+05         7.829580e+05      0.000000      0.000000  \n",
       "max              3.287897e+07         1.539738e+09      7.000000     15.000000  "
      ]
     },
     "execution_count": 10,
     "metadata": {},
     "output_type": "execute_result"
    }
   ],
   "source": [
    "Df.describe()"
   ]
  },
  {
   "cell_type": "markdown",
   "metadata": {
    "id": "obZ5t1d4vEaY",
    "papermill": {
     "duration": 0.015701,
     "end_time": "2022-10-26T23:12:01.830171",
     "exception": false,
     "start_time": "2022-10-26T23:12:01.814470",
     "status": "completed"
    },
    "tags": []
   },
   "source": [
    "## EDA For Data"
   ]
  },
  {
   "cell_type": "code",
   "execution_count": 11,
   "metadata": {
    "execution": {
     "iopub.execute_input": "2022-10-26T23:12:01.863867Z",
     "iopub.status.busy": "2022-10-26T23:12:01.863401Z",
     "iopub.status.idle": "2022-10-26T23:12:02.277903Z",
     "shell.execute_reply": "2022-10-26T23:12:02.276516Z"
    },
    "id": "NIKiBf2PvKTW",
    "outputId": "f5877da3-8cda-4ac2-ff1e-139e2d39dbb1",
    "papermill": {
     "duration": 0.435045,
     "end_time": "2022-10-26T23:12:02.280855",
     "exception": false,
     "start_time": "2022-10-26T23:12:01.845810",
     "status": "completed"
    },
    "tags": []
   },
   "outputs": [
    {
     "name": "stderr",
     "output_type": "stream",
     "text": [
      "/opt/conda/lib/python3.7/site-packages/seaborn/_decorators.py:43: FutureWarning: Pass the following variable as a keyword arg: x. From version 0.12, the only valid positional argument will be `data`, and passing other arguments without an explicit keyword will result in an error or misinterpretation.\n",
      "  FutureWarning\n"
     ]
    },
    {
     "data": {
      "text/plain": [
       "<AxesSubplot:xlabel='Years in current job', ylabel='count'>"
      ]
     },
     "execution_count": 11,
     "metadata": {},
     "output_type": "execute_result"
    },
    {
     "data": {
      "image/png": "[encoded data removed]",
      "text/plain": [
       "<Figure size 1440x576 with 1 Axes>"
      ]
     },
     "metadata": {
      "needs_background": "light"
     },
     "output_type": "display_data"
    }
   ],
   "source": [
    "plt.figure(figsize=(20,8))\n",
    "\n",
    "sns.countplot(Df['Years in current job'])"
   ]
  },
  {
   "cell_type": "code",
   "execution_count": 12,
   "metadata": {
    "execution": {
     "iopub.execute_input": "2022-10-26T23:12:02.316005Z",
     "iopub.status.busy": "2022-10-26T23:12:02.315547Z",
     "iopub.status.idle": "2022-10-26T23:12:02.923108Z",
     "shell.execute_reply": "2022-10-26T23:12:02.921736Z"
    },
    "id": "keI8GwFBvKc2",
    "outputId": "4e453b4c-f996-4f27-e4f6-7c50370639ad",
    "papermill": {
     "duration": 0.628304,
     "end_time": "2022-10-26T23:12:02.925998",
     "exception": false,
     "start_time": "2022-10-26T23:12:02.297694",
     "status": "completed"
    },
    "tags": []
   },
   "outputs": [
    {
     "data": {
      "text/plain": [
       "<AxesSubplot:xlabel='Annual Income', ylabel='Density'>"
      ]
     },
     "execution_count": 12,
     "metadata": {},
     "output_type": "execute_result"
    },
    {
     "data": {
      "image/png": "[encoded data removed]",
      "text/plain": [
       "<Figure size 432x288 with 1 Axes>"
      ]
     },
     "metadata": {
      "needs_background": "light"
     },
     "output_type": "display_data"
    }
   ],
   "source": [
    "sns.kdeplot(Df['Annual Income'],\n",
    "                color=\"Red\", shade = True)"
   ]
  },
  {
   "cell_type": "code",
   "execution_count": 13,
   "metadata": {
    "execution": {
     "iopub.execute_input": "2022-10-26T23:12:02.961196Z",
     "iopub.status.busy": "2022-10-26T23:12:02.960214Z",
     "iopub.status.idle": "2022-10-26T23:12:03.935011Z",
     "shell.execute_reply": "2022-10-26T23:12:03.933786Z"
    },
    "id": "MUtB1wRQxBzS",
    "outputId": "a6b28b14-d830-49bc-e403-e91d708afc3a",
    "papermill": {
     "duration": 0.995226,
     "end_time": "2022-10-26T23:12:03.937735",
     "exception": false,
     "start_time": "2022-10-26T23:12:02.942509",
     "status": "completed"
    },
    "tags": []
   },
   "outputs": [
    {
     "data": {
      "text/plain": [
       "<seaborn.axisgrid.FacetGrid at 0x7ff0d3c4a7d0>"
      ]
     },
     "execution_count": 13,
     "metadata": {},
     "output_type": "execute_result"
    },
    {
     "data": {
      "image/png": "[encoded data removed]",
      "text/plain": [
       "<Figure size 360x360 with 1 Axes>"
      ]
     },
     "metadata": {
      "needs_background": "light"
     },
     "output_type": "display_data"
    }
   ],
   "source": [
    "sns.displot(Df['Number of Open Accounts'])"
   ]
  },
  {
   "cell_type": "code",
   "execution_count": 14,
   "metadata": {
    "execution": {
     "iopub.execute_input": "2022-10-26T23:12:03.973204Z",
     "iopub.status.busy": "2022-10-26T23:12:03.972816Z",
     "iopub.status.idle": "2022-10-26T23:12:04.503354Z",
     "shell.execute_reply": "2022-10-26T23:12:04.502118Z"
    },
    "id": "oTnA7k0gxB15",
    "outputId": "f5cd1d40-e5f3-497c-c595-3948198f6eb2",
    "papermill": {
     "duration": 0.551739,
     "end_time": "2022-10-26T23:12:04.506357",
     "exception": false,
     "start_time": "2022-10-26T23:12:03.954618",
     "status": "completed"
    },
    "tags": []
   },
   "outputs": [
    {
     "data": {
      "image/png": "[encoded data removed]",
      "text/plain": [
       "<Figure size 432x288 with 1 Axes>"
      ]
     },
     "metadata": {
      "needs_background": "light"
     },
     "output_type": "display_data"
    }
   ],
   "source": [
    "ax = sns.countplot(x=\"Loan Status\", data=Df,hue=\"Years in current job\",palette=\"Set3\")"
   ]
  },
  {
   "cell_type": "code",
   "execution_count": 15,
   "metadata": {
    "execution": {
     "iopub.execute_input": "2022-10-26T23:12:04.545863Z",
     "iopub.status.busy": "2022-10-26T23:12:04.545048Z",
     "iopub.status.idle": "2022-10-26T23:12:05.215209Z",
     "shell.execute_reply": "2022-10-26T23:12:05.213931Z"
    },
    "id": "vCtkdB1BxB4J",
    "outputId": "cad5a90d-02ec-4093-c82f-a363c53e1564",
    "papermill": {
     "duration": 0.692754,
     "end_time": "2022-10-26T23:12:05.217666",
     "exception": false,
     "start_time": "2022-10-26T23:12:04.524912",
     "status": "completed"
    },
    "tags": []
   },
   "outputs": [
    {
     "data": {
      "text/plain": [
       "<seaborn.axisgrid.FacetGrid at 0x7ff0d3b9e950>"
      ]
     },
     "execution_count": 15,
     "metadata": {},
     "output_type": "execute_result"
    },
    {
     "data": {
      "image/png": "[encoded data removed]",
      "text/plain": [
       "<Figure size 720x360 with 2 Axes>"
      ]
     },
     "metadata": {
      "needs_background": "light"
     },
     "output_type": "display_data"
    }
   ],
   "source": [
    "sns.displot(Df,x=\"Loan Status\", col=\"Term\", stat=\"density\",common_norm=False,color=\"green\")\n"
   ]
  },
  {
   "cell_type": "code",
   "execution_count": 16,
   "metadata": {
    "execution": {
     "iopub.execute_input": "2022-10-26T23:12:05.255565Z",
     "iopub.status.busy": "2022-10-26T23:12:05.254884Z",
     "iopub.status.idle": "2022-10-26T23:12:05.953677Z",
     "shell.execute_reply": "2022-10-26T23:12:05.952373Z"
    },
    "id": "SbAgym-DxB6j",
    "outputId": "8eee20b6-cf9d-4e22-cb01-73b148254ee2",
    "papermill": {
     "duration": 0.720496,
     "end_time": "2022-10-26T23:12:05.956337",
     "exception": false,
     "start_time": "2022-10-26T23:12:05.235841",
     "status": "completed"
    },
    "tags": []
   },
   "outputs": [
    {
     "data": {
      "text/plain": [
       "<AxesSubplot:xlabel='Years of Credit History', ylabel='Density'>"
      ]
     },
     "execution_count": 16,
     "metadata": {},
     "output_type": "execute_result"
    },
    {
     "data": {
      "image/png": "[encoded data removed]",
      "text/plain": [
       "<Figure size 432x288 with 1 Axes>"
      ]
     },
     "metadata": {
      "needs_background": "light"
     },
     "output_type": "display_data"
    }
   ],
   "source": [
    "sns.kdeplot(data=Df, x=\"Years of Credit History\")"
   ]
  },
  {
   "cell_type": "code",
   "execution_count": 17,
   "metadata": {
    "execution": {
     "iopub.execute_input": "2022-10-26T23:12:05.995912Z",
     "iopub.status.busy": "2022-10-26T23:12:05.994474Z",
     "iopub.status.idle": "2022-10-26T23:12:06.761764Z",
     "shell.execute_reply": "2022-10-26T23:12:06.760664Z"
    },
    "id": "3Xg2YT-m2orS",
    "outputId": "6821a434-be29-439c-9958-a679ac856de5",
    "papermill": {
     "duration": 0.789615,
     "end_time": "2022-10-26T23:12:06.764116",
     "exception": false,
     "start_time": "2022-10-26T23:12:05.974501",
     "status": "completed"
    },
    "tags": []
   },
   "outputs": [
    {
     "name": "stderr",
     "output_type": "stream",
     "text": [
      "/opt/conda/lib/python3.7/site-packages/seaborn/distributions.py:2619: FutureWarning: `distplot` is a deprecated function and will be removed in a future version. Please adapt your code to use either `displot` (a figure-level function with similar flexibility) or `histplot` (an axes-level function for histograms).\n",
      "  warnings.warn(msg, FutureWarning)\n"
     ]
    },
    {
     "data": {
      "text/plain": [
       "<AxesSubplot:xlabel='Monthly Debt', ylabel='Density'>"
      ]
     },
     "execution_count": 17,
     "metadata": {},
     "output_type": "execute_result"
    },
    {
     "data": {
      "image/png": "[encoded data removed]",
      "text/plain": [
       "<Figure size 432x288 with 1 Axes>"
      ]
     },
     "metadata": {
      "needs_background": "light"
     },
     "output_type": "display_data"
    }
   ],
   "source": [
    "sns.distplot(Df[\"Monthly Debt\"])"
   ]
  },
  {
   "cell_type": "code",
   "execution_count": 18,
   "metadata": {
    "execution": {
     "iopub.execute_input": "2022-10-26T23:12:06.804778Z",
     "iopub.status.busy": "2022-10-26T23:12:06.803742Z",
     "iopub.status.idle": "2022-10-26T23:12:07.182650Z",
     "shell.execute_reply": "2022-10-26T23:12:07.181388Z"
    },
    "id": "WenEBQlr2ITM",
    "outputId": "3ccf42e4-0ac7-4891-cf84-8894f892b0ae",
    "papermill": {
     "duration": 0.402187,
     "end_time": "2022-10-26T23:12:07.185326",
     "exception": false,
     "start_time": "2022-10-26T23:12:06.783139",
     "status": "completed"
    },
    "tags": []
   },
   "outputs": [
    {
     "name": "stderr",
     "output_type": "stream",
     "text": [
      "/opt/conda/lib/python3.7/site-packages/seaborn/_decorators.py:43: FutureWarning: Pass the following variable as a keyword arg: x. From version 0.12, the only valid positional argument will be `data`, and passing other arguments without an explicit keyword will result in an error or misinterpretation.\n",
      "  FutureWarning\n"
     ]
    },
    {
     "data": {
      "text/plain": [
       "<AxesSubplot:xlabel='Number of Credit Problems', ylabel='count'>"
      ]
     },
     "execution_count": 18,
     "metadata": {},
     "output_type": "execute_result"
    },
    {
     "data": {
      "image/png": "[encoded data removed]",
      "text/plain": [
       "<Figure size 432x288 with 1 Axes>"
      ]
     },
     "metadata": {
      "needs_background": "light"
     },
     "output_type": "display_data"
    }
   ],
   "source": [
    "sns.countplot(Df['Number of Credit Problems'])"
   ]
  },
  {
   "cell_type": "markdown",
   "metadata": {
    "id": "G7gTb8xoV4is",
    "papermill": {
     "duration": 0.018994,
     "end_time": "2022-10-26T23:12:07.223545",
     "exception": false,
     "start_time": "2022-10-26T23:12:07.204551",
     "status": "completed"
    },
    "tags": []
   },
   "source": [
    "## Filling Missing Data"
   ]
  },
  {
   "cell_type": "code",
   "execution_count": 19,
   "metadata": {
    "execution": {
     "iopub.execute_input": "2022-10-26T23:12:07.263526Z",
     "iopub.status.busy": "2022-10-26T23:12:07.263002Z",
     "iopub.status.idle": "2022-10-26T23:12:07.287725Z",
     "shell.execute_reply": "2022-10-26T23:12:07.286345Z"
    },
    "id": "70RL-EVD6_wA",
    "outputId": "f60362cb-bedb-49ac-b265-03c40a9a4045",
    "papermill": {
     "duration": 0.047904,
     "end_time": "2022-10-26T23:12:07.290460",
     "exception": false,
     "start_time": "2022-10-26T23:12:07.242556",
     "status": "completed"
    },
    "tags": []
   },
   "outputs": [
    {
     "name": "stderr",
     "output_type": "stream",
     "text": [
      "/opt/conda/lib/python3.7/site-packages/pandas/core/frame.py:4913: SettingWithCopyWarning: \n",
      "A value is trying to be set on a copy of a slice from a DataFrame\n",
      "\n",
      "See the caveats in the documentation: https://pandas.pydata.org/pandas-docs/stable/user_guide/indexing.html#returning-a-view-versus-a-copy\n",
      "  errors=errors,\n"
     ]
    }
   ],
   "source": [
    "Df.drop(Df.tail(514).index, inplace=True)"
   ]
  },
  {
   "cell_type": "code",
   "execution_count": 20,
   "metadata": {
    "execution": {
     "iopub.execute_input": "2022-10-26T23:12:07.332408Z",
     "iopub.status.busy": "2022-10-26T23:12:07.331972Z",
     "iopub.status.idle": "2022-10-26T23:12:07.345937Z",
     "shell.execute_reply": "2022-10-26T23:12:07.344735Z"
    },
    "id": "Paehlagw6_yX",
    "papermill": {
     "duration": 0.03779,
     "end_time": "2022-10-26T23:12:07.348921",
     "exception": false,
     "start_time": "2022-10-26T23:12:07.311131",
     "status": "completed"
    },
    "tags": []
   },
   "outputs": [],
   "source": [
    "Df.drop(columns = 'Months since last delinquent', axis=1,inplace=True)"
   ]
  },
  {
   "cell_type": "code",
   "execution_count": 21,
   "metadata": {
    "execution": {
     "iopub.execute_input": "2022-10-26T23:12:07.391059Z",
     "iopub.status.busy": "2022-10-26T23:12:07.390612Z",
     "iopub.status.idle": "2022-10-26T23:12:07.410100Z",
     "shell.execute_reply": "2022-10-26T23:12:07.409150Z"
    },
    "id": "mn_otKdF_Gtv",
    "outputId": "88e256be-ae3e-43af-c58b-6aa572703e1d",
    "papermill": {
     "duration": 0.043258,
     "end_time": "2022-10-26T23:12:07.412777",
     "exception": false,
     "start_time": "2022-10-26T23:12:07.369519",
     "status": "completed"
    },
    "tags": []
   },
   "outputs": [
    {
     "data": {
      "text/plain": [
       "count    80430.000000\n",
       "mean      1077.291682\n",
       "std       1477.035626\n",
       "min        585.000000\n",
       "25%        705.000000\n",
       "50%        724.000000\n",
       "75%        741.000000\n",
       "max       7510.000000\n",
       "Name: Credit Score, dtype: float64"
      ]
     },
     "execution_count": 21,
     "metadata": {},
     "output_type": "execute_result"
    }
   ],
   "source": [
    "Df['Credit Score'].describe()"
   ]
  },
  {
   "cell_type": "code",
   "execution_count": 22,
   "metadata": {
    "execution": {
     "iopub.execute_input": "2022-10-26T23:12:07.453851Z",
     "iopub.status.busy": "2022-10-26T23:12:07.453385Z",
     "iopub.status.idle": "2022-10-26T23:12:07.470229Z",
     "shell.execute_reply": "2022-10-26T23:12:07.468320Z"
    },
    "id": "siBGWU78oFfy",
    "outputId": "5ea24ad6-34ee-4cc7-9dfc-b5ee7027bc4b",
    "papermill": {
     "duration": 0.041246,
     "end_time": "2022-10-26T23:12:07.473710",
     "exception": false,
     "start_time": "2022-10-26T23:12:07.432464",
     "status": "completed"
    },
    "tags": []
   },
   "outputs": [
    {
     "name": "stderr",
     "output_type": "stream",
     "text": [
      "/opt/conda/lib/python3.7/site-packages/ipykernel_launcher.py:2: SettingWithCopyWarning: \n",
      "A value is trying to be set on a copy of a slice from a DataFrame.\n",
      "Try using .loc[row_indexer,col_indexer] = value instead\n",
      "\n",
      "See the caveats in the documentation: https://pandas.pydata.org/pandas-docs/stable/user_guide/indexing.html#returning-a-view-versus-a-copy\n",
      "  \n"
     ]
    }
   ],
   "source": [
    "lo=Df['Credit Score'].dropna()\n",
    "Df['Credit Score']=Df['Credit Score'].fillna(pd.Series(np.random.choice(lo,size=len(Df.index))))"
   ]
  },
  {
   "cell_type": "code",
   "execution_count": 23,
   "metadata": {
    "execution": {
     "iopub.execute_input": "2022-10-26T23:12:07.515936Z",
     "iopub.status.busy": "2022-10-26T23:12:07.514792Z",
     "iopub.status.idle": "2022-10-26T23:12:07.520237Z",
     "shell.execute_reply": "2022-10-26T23:12:07.519123Z"
    },
    "id": "aR_7kDOA7AFf",
    "papermill": {
     "duration": 0.028713,
     "end_time": "2022-10-26T23:12:07.522602",
     "exception": false,
     "start_time": "2022-10-26T23:12:07.493889",
     "status": "completed"
    },
    "tags": []
   },
   "outputs": [],
   "source": [
    "#Df['Credit Score'].fillna(Df['Credit Score'].mean(),inplace=True)"
   ]
  },
  {
   "cell_type": "code",
   "execution_count": 24,
   "metadata": {
    "execution": {
     "iopub.execute_input": "2022-10-26T23:12:07.566419Z",
     "iopub.status.busy": "2022-10-26T23:12:07.565169Z",
     "iopub.status.idle": "2022-10-26T23:12:07.583490Z",
     "shell.execute_reply": "2022-10-26T23:12:07.582233Z"
    },
    "id": "tGfzxNCv7AXf",
    "outputId": "7def05d3-1d07-4112-b4c3-b79eb5b457d7",
    "papermill": {
     "duration": 0.042884,
     "end_time": "2022-10-26T23:12:07.585769",
     "exception": false,
     "start_time": "2022-10-26T23:12:07.542885",
     "status": "completed"
    },
    "tags": []
   },
   "outputs": [
    {
     "data": {
      "text/plain": [
       "count    8.043000e+04\n",
       "mean     1.378107e+06\n",
       "std      1.082257e+06\n",
       "min      7.662700e+04\n",
       "25%      8.487680e+05\n",
       "50%      1.173896e+06\n",
       "75%      1.650530e+06\n",
       "max      1.655574e+08\n",
       "Name: Annual Income, dtype: float64"
      ]
     },
     "execution_count": 24,
     "metadata": {},
     "output_type": "execute_result"
    }
   ],
   "source": [
    "Df['Annual Income'].describe()"
   ]
  },
  {
   "cell_type": "code",
   "execution_count": 25,
   "metadata": {
    "execution": {
     "iopub.execute_input": "2022-10-26T23:12:07.627806Z",
     "iopub.status.busy": "2022-10-26T23:12:07.626418Z",
     "iopub.status.idle": "2022-10-26T23:12:07.640409Z",
     "shell.execute_reply": "2022-10-26T23:12:07.639114Z"
    },
    "id": "QL_QsbNYoPBL",
    "outputId": "3fa03146-50d3-4257-d42f-4afff1cdace5",
    "papermill": {
     "duration": 0.037562,
     "end_time": "2022-10-26T23:12:07.643016",
     "exception": false,
     "start_time": "2022-10-26T23:12:07.605454",
     "status": "completed"
    },
    "tags": []
   },
   "outputs": [
    {
     "name": "stderr",
     "output_type": "stream",
     "text": [
      "/opt/conda/lib/python3.7/site-packages/ipykernel_launcher.py:2: SettingWithCopyWarning: \n",
      "A value is trying to be set on a copy of a slice from a DataFrame.\n",
      "Try using .loc[row_indexer,col_indexer] = value instead\n",
      "\n",
      "See the caveats in the documentation: https://pandas.pydata.org/pandas-docs/stable/user_guide/indexing.html#returning-a-view-versus-a-copy\n",
      "  \n"
     ]
    }
   ],
   "source": [
    "li=Df['Annual Income'].dropna()\n",
    "Df['Annual Income']=Df['Annual Income'].fillna(pd.Series(np.random.choice(li,size=len(Df.index))))"
   ]
  },
  {
   "cell_type": "code",
   "execution_count": 26,
   "metadata": {
    "execution": {
     "iopub.execute_input": "2022-10-26T23:12:07.685591Z",
     "iopub.status.busy": "2022-10-26T23:12:07.685133Z",
     "iopub.status.idle": "2022-10-26T23:12:07.690277Z",
     "shell.execute_reply": "2022-10-26T23:12:07.689055Z"
    },
    "id": "BG5UrFlV7AaO",
    "papermill": {
     "duration": 0.02891,
     "end_time": "2022-10-26T23:12:07.692506",
     "exception": false,
     "start_time": "2022-10-26T23:12:07.663596",
     "status": "completed"
    },
    "tags": []
   },
   "outputs": [],
   "source": [
    "#Df['Annual Income'].fillna(Df['Annual Income'].std(),inplace=True)"
   ]
  },
  {
   "cell_type": "code",
   "execution_count": 27,
   "metadata": {
    "execution": {
     "iopub.execute_input": "2022-10-26T23:12:07.735358Z",
     "iopub.status.busy": "2022-10-26T23:12:07.733971Z",
     "iopub.status.idle": "2022-10-26T23:12:07.749671Z",
     "shell.execute_reply": "2022-10-26T23:12:07.748394Z"
    },
    "id": "ktStxxLr7Agu",
    "outputId": "66decf66-b54e-4f79-e39d-e421cfb0cbb5",
    "papermill": {
     "duration": 0.039414,
     "end_time": "2022-10-26T23:12:07.752016",
     "exception": false,
     "start_time": "2022-10-26T23:12:07.712602",
     "status": "completed"
    },
    "tags": []
   },
   "outputs": [
    {
     "data": {
      "text/plain": [
       "count    99283.000000\n",
       "mean         0.117694\n",
       "std          0.351231\n",
       "min          0.000000\n",
       "25%          0.000000\n",
       "50%          0.000000\n",
       "75%          0.000000\n",
       "max          7.000000\n",
       "Name: Bankruptcies, dtype: float64"
      ]
     },
     "execution_count": 27,
     "metadata": {},
     "output_type": "execute_result"
    }
   ],
   "source": [
    "Df['Bankruptcies'].describe()\n"
   ]
  },
  {
   "cell_type": "code",
   "execution_count": 28,
   "metadata": {
    "execution": {
     "iopub.execute_input": "2022-10-26T23:12:07.794979Z",
     "iopub.status.busy": "2022-10-26T23:12:07.793975Z",
     "iopub.status.idle": "2022-10-26T23:12:07.807734Z",
     "shell.execute_reply": "2022-10-26T23:12:07.806434Z"
    },
    "id": "T5F4PrJRAApf",
    "outputId": "2715882f-fab5-4844-b20b-5c35875950cb",
    "papermill": {
     "duration": 0.038331,
     "end_time": "2022-10-26T23:12:07.810578",
     "exception": false,
     "start_time": "2022-10-26T23:12:07.772247",
     "status": "completed"
    },
    "tags": []
   },
   "outputs": [
    {
     "name": "stderr",
     "output_type": "stream",
     "text": [
      "/opt/conda/lib/python3.7/site-packages/pandas/core/generic.py:6392: SettingWithCopyWarning: \n",
      "A value is trying to be set on a copy of a slice from a DataFrame\n",
      "\n",
      "See the caveats in the documentation: https://pandas.pydata.org/pandas-docs/stable/user_guide/indexing.html#returning-a-view-versus-a-copy\n",
      "  return self._update_inplace(result)\n"
     ]
    }
   ],
   "source": [
    "Df['Bankruptcies'].fillna(Df['Bankruptcies'].std(),inplace=True)"
   ]
  },
  {
   "cell_type": "code",
   "execution_count": 29,
   "metadata": {
    "execution": {
     "iopub.execute_input": "2022-10-26T23:12:07.853559Z",
     "iopub.status.busy": "2022-10-26T23:12:07.852969Z",
     "iopub.status.idle": "2022-10-26T23:12:07.869656Z",
     "shell.execute_reply": "2022-10-26T23:12:07.868399Z"
    },
    "id": "paGRwky_7AjW",
    "outputId": "77027f30-847a-463c-e3e1-30d3664cf2d3",
    "papermill": {
     "duration": 0.041042,
     "end_time": "2022-10-26T23:12:07.872172",
     "exception": false,
     "start_time": "2022-10-26T23:12:07.831130",
     "status": "completed"
    },
    "tags": []
   },
   "outputs": [
    {
     "data": {
      "text/plain": [
       "count    99476.000000\n",
       "mean         0.029344\n",
       "std          0.258232\n",
       "min          0.000000\n",
       "25%          0.000000\n",
       "50%          0.000000\n",
       "75%          0.000000\n",
       "max         15.000000\n",
       "Name: Tax Liens, dtype: float64"
      ]
     },
     "execution_count": 29,
     "metadata": {},
     "output_type": "execute_result"
    }
   ],
   "source": [
    "Df['Tax Liens'].describe()"
   ]
  },
  {
   "cell_type": "code",
   "execution_count": 30,
   "metadata": {
    "execution": {
     "iopub.execute_input": "2022-10-26T23:12:07.916710Z",
     "iopub.status.busy": "2022-10-26T23:12:07.915939Z",
     "iopub.status.idle": "2022-10-26T23:12:07.922945Z",
     "shell.execute_reply": "2022-10-26T23:12:07.922042Z"
    },
    "id": "MdvjxSBv7Alr",
    "papermill": {
     "duration": 0.03193,
     "end_time": "2022-10-26T23:12:07.925350",
     "exception": false,
     "start_time": "2022-10-26T23:12:07.893420",
     "status": "completed"
    },
    "tags": []
   },
   "outputs": [],
   "source": [
    "Df['Tax Liens'].fillna(Df['Tax Liens'].std(),inplace=True)"
   ]
  },
  {
   "cell_type": "code",
   "execution_count": 31,
   "metadata": {
    "execution": {
     "iopub.execute_input": "2022-10-26T23:12:07.968571Z",
     "iopub.status.busy": "2022-10-26T23:12:07.968096Z",
     "iopub.status.idle": "2022-10-26T23:12:07.988607Z",
     "shell.execute_reply": "2022-10-26T23:12:07.987698Z"
    },
    "id": "ph7o8Ct1AbEJ",
    "outputId": "673bf38e-e992-4cc1-e670-35db765689a6",
    "papermill": {
     "duration": 0.044621,
     "end_time": "2022-10-26T23:12:07.990746",
     "exception": false,
     "start_time": "2022-10-26T23:12:07.946125",
     "status": "completed"
    },
    "tags": []
   },
   "outputs": [
    {
     "data": {
      "text/plain": [
       "count         95291\n",
       "unique           11\n",
       "top       10+ years\n",
       "freq          30960\n",
       "Name: Years in current job, dtype: object"
      ]
     },
     "execution_count": 31,
     "metadata": {},
     "output_type": "execute_result"
    }
   ],
   "source": [
    "Df['Years in current job'].describe()"
   ]
  },
  {
   "cell_type": "code",
   "execution_count": 32,
   "metadata": {
    "execution": {
     "iopub.execute_input": "2022-10-26T23:12:08.034829Z",
     "iopub.status.busy": "2022-10-26T23:12:08.034398Z",
     "iopub.status.idle": "2022-10-26T23:12:08.058889Z",
     "shell.execute_reply": "2022-10-26T23:12:08.057631Z"
    },
    "id": "J4wM4f1NoqFN",
    "outputId": "a58a66a2-1ff0-409d-bbef-fe27d986f879",
    "papermill": {
     "duration": 0.050185,
     "end_time": "2022-10-26T23:12:08.062088",
     "exception": false,
     "start_time": "2022-10-26T23:12:08.011903",
     "status": "completed"
    },
    "tags": []
   },
   "outputs": [
    {
     "name": "stderr",
     "output_type": "stream",
     "text": [
      "/opt/conda/lib/python3.7/site-packages/ipykernel_launcher.py:2: SettingWithCopyWarning: \n",
      "A value is trying to be set on a copy of a slice from a DataFrame.\n",
      "Try using .loc[row_indexer,col_indexer] = value instead\n",
      "\n",
      "See the caveats in the documentation: https://pandas.pydata.org/pandas-docs/stable/user_guide/indexing.html#returning-a-view-versus-a-copy\n",
      "  \n"
     ]
    }
   ],
   "source": [
    "lis=Df['Years in current job'].dropna()\n",
    "Df['Years in current job']=Df['Years in current job'].fillna(pd.Series(np.random.choice(lis,size=len(Df.index))))"
   ]
  },
  {
   "cell_type": "code",
   "execution_count": 33,
   "metadata": {
    "execution": {
     "iopub.execute_input": "2022-10-26T23:12:08.107200Z",
     "iopub.status.busy": "2022-10-26T23:12:08.106570Z",
     "iopub.status.idle": "2022-10-26T23:12:08.110335Z",
     "shell.execute_reply": "2022-10-26T23:12:08.109536Z"
    },
    "id": "jmNyaT3iAbG4",
    "papermill": {
     "duration": 0.028189,
     "end_time": "2022-10-26T23:12:08.112512",
     "exception": false,
     "start_time": "2022-10-26T23:12:08.084323",
     "status": "completed"
    },
    "tags": []
   },
   "outputs": [],
   "source": [
    "#Df['Years in current job'].fillna('10+ years',inplace=True)"
   ]
  },
  {
   "cell_type": "code",
   "execution_count": 34,
   "metadata": {
    "execution": {
     "iopub.execute_input": "2022-10-26T23:12:08.158444Z",
     "iopub.status.busy": "2022-10-26T23:12:08.157765Z",
     "iopub.status.idle": "2022-10-26T23:12:08.174745Z",
     "shell.execute_reply": "2022-10-26T23:12:08.173529Z"
    },
    "id": "tlYeQeUhrMQt",
    "outputId": "ff10cf53-1742-4c08-a21f-8c34ff9fb6cd",
    "papermill": {
     "duration": 0.043318,
     "end_time": "2022-10-26T23:12:08.177573",
     "exception": false,
     "start_time": "2022-10-26T23:12:08.134255",
     "status": "completed"
    },
    "tags": []
   },
   "outputs": [
    {
     "data": {
      "text/plain": [
       "count    9.948400e+04\n",
       "mean     7.589376e+05\n",
       "std      8.383165e+06\n",
       "min      0.000000e+00\n",
       "25%      2.733940e+05\n",
       "50%      4.678410e+05\n",
       "75%      7.831615e+05\n",
       "max      1.539738e+09\n",
       "Name: Maximum Open Credit, dtype: float64"
      ]
     },
     "execution_count": 34,
     "metadata": {},
     "output_type": "execute_result"
    }
   ],
   "source": [
    "Df['Maximum Open Credit'].describe()"
   ]
  },
  {
   "cell_type": "code",
   "execution_count": 35,
   "metadata": {
    "execution": {
     "iopub.execute_input": "2022-10-26T23:12:08.222374Z",
     "iopub.status.busy": "2022-10-26T23:12:08.221913Z",
     "iopub.status.idle": "2022-10-26T23:12:08.229321Z",
     "shell.execute_reply": "2022-10-26T23:12:08.227957Z"
    },
    "id": "OHAktXYjrWn9",
    "papermill": {
     "duration": 0.032186,
     "end_time": "2022-10-26T23:12:08.231677",
     "exception": false,
     "start_time": "2022-10-26T23:12:08.199491",
     "status": "completed"
    },
    "tags": []
   },
   "outputs": [],
   "source": [
    "Df['Maximum Open Credit'].fillna(Df['Maximum Open Credit'].mean(),inplace=True)"
   ]
  },
  {
   "cell_type": "code",
   "execution_count": 36,
   "metadata": {
    "execution": {
     "iopub.execute_input": "2022-10-26T23:12:08.278292Z",
     "iopub.status.busy": "2022-10-26T23:12:08.277168Z",
     "iopub.status.idle": "2022-10-26T23:12:08.310754Z",
     "shell.execute_reply": "2022-10-26T23:12:08.309586Z"
    },
    "id": "C1Q7bxyN7Aos",
    "outputId": "9ba8bd8c-2300-421a-8124-25eddb718a3b",
    "papermill": {
     "duration": 0.059337,
     "end_time": "2022-10-26T23:12:08.313121",
     "exception": false,
     "start_time": "2022-10-26T23:12:08.253784",
     "status": "completed"
    },
    "tags": []
   },
   "outputs": [
    {
     "data": {
      "text/plain": [
       "Loan Status                  0\n",
       "Current Loan Amount          0\n",
       "Term                         0\n",
       "Credit Score                 0\n",
       "Annual Income                0\n",
       "Years in current job         0\n",
       "Home Ownership               0\n",
       "Purpose                      0\n",
       "Monthly Debt                 0\n",
       "Years of Credit History      0\n",
       "Number of Open Accounts      0\n",
       "Number of Credit Problems    0\n",
       "Current Credit Balance       0\n",
       "Maximum Open Credit          0\n",
       "Bankruptcies                 0\n",
       "Tax Liens                    0\n",
       "dtype: int64"
      ]
     },
     "execution_count": 36,
     "metadata": {},
     "output_type": "execute_result"
    }
   ],
   "source": [
    "Df.isnull().sum()"
   ]
  },
  {
   "cell_type": "code",
   "execution_count": 37,
   "metadata": {
    "execution": {
     "iopub.execute_input": "2022-10-26T23:12:08.359584Z",
     "iopub.status.busy": "2022-10-26T23:12:08.359091Z",
     "iopub.status.idle": "2022-10-26T23:12:08.397255Z",
     "shell.execute_reply": "2022-10-26T23:12:08.395606Z"
    },
    "id": "BeQUGM5sP72D",
    "outputId": "0dafcddc-776d-45c5-f88c-fd56fa4ea304",
    "papermill": {
     "duration": 0.066285,
     "end_time": "2022-10-26T23:12:08.401413",
     "exception": false,
     "start_time": "2022-10-26T23:12:08.335128",
     "status": "completed"
    },
    "tags": []
   },
   "outputs": [
    {
     "name": "stdout",
     "output_type": "stream",
     "text": [
      "<class 'pandas.core.frame.DataFrame'>\n",
      "Int64Index: 99486 entries, 0 to 99485\n",
      "Data columns (total 16 columns):\n",
      " #   Column                     Non-Null Count  Dtype  \n",
      "---  ------                     --------------  -----  \n",
      " 0   Loan Status                99486 non-null  object \n",
      " 1   Current Loan Amount        99486 non-null  float64\n",
      " 2   Term                       99486 non-null  object \n",
      " 3   Credit Score               99486 non-null  float64\n",
      " 4   Annual Income              99486 non-null  float64\n",
      " 5   Years in current job       99486 non-null  object \n",
      " 6   Home Ownership             99486 non-null  object \n",
      " 7   Purpose                    99486 non-null  object \n",
      " 8   Monthly Debt               99486 non-null  float64\n",
      " 9   Years of Credit History    99486 non-null  float64\n",
      " 10  Number of Open Accounts    99486 non-null  float64\n",
      " 11  Number of Credit Problems  99486 non-null  float64\n",
      " 12  Current Credit Balance     99486 non-null  float64\n",
      " 13  Maximum Open Credit        99486 non-null  float64\n",
      " 14  Bankruptcies               99486 non-null  float64\n",
      " 15  Tax Liens                  99486 non-null  float64\n",
      "dtypes: float64(11), object(5)\n",
      "memory usage: 12.9+ MB\n"
     ]
    }
   ],
   "source": [
    "Df.info()"
   ]
  },
  {
   "cell_type": "code",
   "execution_count": 38,
   "metadata": {
    "execution": {
     "iopub.execute_input": "2022-10-26T23:12:08.448366Z",
     "iopub.status.busy": "2022-10-26T23:12:08.447910Z",
     "iopub.status.idle": "2022-10-26T23:12:08.555054Z",
     "shell.execute_reply": "2022-10-26T23:12:08.553744Z"
    },
    "id": "JSQGUGv6QE0c",
    "outputId": "6d3e1fad-44ce-4654-de89-6866fc8cb727",
    "papermill": {
     "duration": 0.133657,
     "end_time": "2022-10-26T23:12:08.557676",
     "exception": false,
     "start_time": "2022-10-26T23:12:08.424019",
     "status": "completed"
    },
    "tags": []
   },
   "outputs": [
    {
     "data": {
      "text/plain": [
       "9757"
      ]
     },
     "execution_count": 38,
     "metadata": {},
     "output_type": "execute_result"
    }
   ],
   "source": [
    "Df.duplicated().sum()"
   ]
  },
  {
   "cell_type": "code",
   "execution_count": 39,
   "metadata": {
    "execution": {
     "iopub.execute_input": "2022-10-26T23:12:08.605062Z",
     "iopub.status.busy": "2022-10-26T23:12:08.604658Z",
     "iopub.status.idle": "2022-10-26T23:12:09.477391Z",
     "shell.execute_reply": "2022-10-26T23:12:09.476051Z"
    },
    "id": "2TLGClLe7AqV",
    "outputId": "9a3f3e72-1ebf-499c-eacd-d9c2026d1418",
    "papermill": {
     "duration": 0.900301,
     "end_time": "2022-10-26T23:12:09.480884",
     "exception": false,
     "start_time": "2022-10-26T23:12:08.580583",
     "status": "completed"
    },
    "tags": []
   },
   "outputs": [
    {
     "data": {
      "image/png": "[encoded data removed]",
      "text/plain": [
       "<Figure size 1080x504 with 2 Axes>"
      ]
     },
     "metadata": {
      "needs_background": "light"
     },
     "output_type": "display_data"
    }
   ],
   "source": [
    "plt.figure(figsize=(15,7))\n",
    "sns.heatmap(Df.corr(),annot=True,cmap=\"Blues\")\n",
    "plt.title(\"Data Correlation\",size=15)\n",
    "plt.ylabel(\"Columns\",size=15)\n",
    "plt.xlabel(\"Columns\",size=15)\n",
    "plt.show()"
   ]
  },
  {
   "cell_type": "markdown",
   "metadata": {
    "id": "Np774t00VkGS",
    "papermill": {
     "duration": 0.027096,
     "end_time": "2022-10-26T23:12:09.531626",
     "exception": false,
     "start_time": "2022-10-26T23:12:09.504530",
     "status": "completed"
    },
    "tags": []
   },
   "source": [
    "## Encoding With LabelEncoder"
   ]
  },
  {
   "cell_type": "code",
   "execution_count": 40,
   "metadata": {
    "execution": {
     "iopub.execute_input": "2022-10-26T23:12:09.582622Z",
     "iopub.status.busy": "2022-10-26T23:12:09.581938Z",
     "iopub.status.idle": "2022-10-26T23:12:09.721312Z",
     "shell.execute_reply": "2022-10-26T23:12:09.720405Z"
    },
    "id": "yTnJqBMydiuE",
    "outputId": "ccb60623-00b5-4623-fa22-002fd912f4ac",
    "papermill": {
     "duration": 0.167324,
     "end_time": "2022-10-26T23:12:09.723947",
     "exception": false,
     "start_time": "2022-10-26T23:12:09.556623",
     "status": "completed"
    },
    "tags": []
   },
   "outputs": [
    {
     "name": "stderr",
     "output_type": "stream",
     "text": [
      "/opt/conda/lib/python3.7/site-packages/ipykernel_launcher.py:2: SettingWithCopyWarning: \n",
      "A value is trying to be set on a copy of a slice from a DataFrame.\n",
      "Try using .loc[row_indexer,col_indexer] = value instead\n",
      "\n",
      "See the caveats in the documentation: https://pandas.pydata.org/pandas-docs/stable/user_guide/indexing.html#returning-a-view-versus-a-copy\n",
      "  \n",
      "/opt/conda/lib/python3.7/site-packages/ipykernel_launcher.py:3: SettingWithCopyWarning: \n",
      "A value is trying to be set on a copy of a slice from a DataFrame.\n",
      "Try using .loc[row_indexer,col_indexer] = value instead\n",
      "\n",
      "See the caveats in the documentation: https://pandas.pydata.org/pandas-docs/stable/user_guide/indexing.html#returning-a-view-versus-a-copy\n",
      "  This is separate from the ipykernel package so we can avoid doing imports until\n",
      "/opt/conda/lib/python3.7/site-packages/ipykernel_launcher.py:4: SettingWithCopyWarning: \n",
      "A value is trying to be set on a copy of a slice from a DataFrame.\n",
      "Try using .loc[row_indexer,col_indexer] = value instead\n",
      "\n",
      "See the caveats in the documentation: https://pandas.pydata.org/pandas-docs/stable/user_guide/indexing.html#returning-a-view-versus-a-copy\n",
      "  after removing the cwd from sys.path.\n",
      "/opt/conda/lib/python3.7/site-packages/ipykernel_launcher.py:5: SettingWithCopyWarning: \n",
      "A value is trying to be set on a copy of a slice from a DataFrame.\n",
      "Try using .loc[row_indexer,col_indexer] = value instead\n",
      "\n",
      "See the caveats in the documentation: https://pandas.pydata.org/pandas-docs/stable/user_guide/indexing.html#returning-a-view-versus-a-copy\n",
      "  \"\"\"\n",
      "/opt/conda/lib/python3.7/site-packages/ipykernel_launcher.py:6: SettingWithCopyWarning: \n",
      "A value is trying to be set on a copy of a slice from a DataFrame.\n",
      "Try using .loc[row_indexer,col_indexer] = value instead\n",
      "\n",
      "See the caveats in the documentation: https://pandas.pydata.org/pandas-docs/stable/user_guide/indexing.html#returning-a-view-versus-a-copy\n",
      "  \n"
     ]
    }
   ],
   "source": [
    "le = LabelEncoder()\n",
    "Df['Term']=le.fit_transform(Df['Term'])\n",
    "Df['Years in current job']=le.fit_transform(Df['Years in current job'])\n",
    "Df['Home Ownership']=le.fit_transform(Df['Home Ownership'])\n",
    "Df['Purpose']=le.fit_transform(Df['Purpose'])\n",
    "Df['Loan Status']=le.fit_transform(Df['Loan Status'])"
   ]
  },
  {
   "cell_type": "code",
   "execution_count": 41,
   "metadata": {
    "execution": {
     "iopub.execute_input": "2022-10-26T23:12:09.775931Z",
     "iopub.status.busy": "2022-10-26T23:12:09.774907Z",
     "iopub.status.idle": "2022-10-26T23:12:09.806097Z",
     "shell.execute_reply": "2022-10-26T23:12:09.804800Z"
    },
    "id": "k5XC91VJSL7V",
    "outputId": "9bfd6449-3400-4ea4-bf5e-018239e3028f",
    "papermill": {
     "duration": 0.060002,
     "end_time": "2022-10-26T23:12:09.808611",
     "exception": false,
     "start_time": "2022-10-26T23:12:09.748609",
     "status": "completed"
    },
    "tags": []
   },
   "outputs": [
    {
     "data": {
      "text/html": [
       "<div>\n",
       "<style scoped>\n",
       "    .dataframe tbody tr th:only-of-type {\n",
       "        vertical-align: middle;\n",
       "    }\n",
       "\n",
       "    .dataframe tbody tr th {\n",
       "        vertical-align: top;\n",
       "    }\n",
       "\n",
       "    .dataframe thead th {\n",
       "        text-align: right;\n",
       "    }\n",
       "</style>\n",
       "<table border=\"1\" class=\"dataframe\">\n",
       "  <thead>\n",
       "    <tr style=\"text-align: right;\">\n",
       "      <th></th>\n",
       "      <th>Loan Status</th>\n",
       "      <th>Current Loan Amount</th>\n",
       "      <th>Term</th>\n",
       "      <th>Credit Score</th>\n",
       "      <th>Annual Income</th>\n",
       "      <th>Years in current job</th>\n",
       "      <th>Home Ownership</th>\n",
       "      <th>Purpose</th>\n",
       "      <th>Monthly Debt</th>\n",
       "      <th>Years of Credit History</th>\n",
       "      <th>Number of Open Accounts</th>\n",
       "      <th>Number of Credit Problems</th>\n",
       "      <th>Current Credit Balance</th>\n",
       "      <th>Maximum Open Credit</th>\n",
       "      <th>Bankruptcies</th>\n",
       "      <th>Tax Liens</th>\n",
       "    </tr>\n",
       "  </thead>\n",
       "  <tbody>\n",
       "    <tr>\n",
       "      <th>0</th>\n",
       "      <td>1</td>\n",
       "      <td>445412.0</td>\n",
       "      <td>1</td>\n",
       "      <td>709.0</td>\n",
       "      <td>1167493.0</td>\n",
       "      <td>8</td>\n",
       "      <td>1</td>\n",
       "      <td>5</td>\n",
       "      <td>5214.74</td>\n",
       "      <td>17.2</td>\n",
       "      <td>6.0</td>\n",
       "      <td>1.0</td>\n",
       "      <td>228190.0</td>\n",
       "      <td>416746.0</td>\n",
       "      <td>1.0</td>\n",
       "      <td>0.0</td>\n",
       "    </tr>\n",
       "    <tr>\n",
       "      <th>1</th>\n",
       "      <td>1</td>\n",
       "      <td>262328.0</td>\n",
       "      <td>1</td>\n",
       "      <td>741.0</td>\n",
       "      <td>745940.0</td>\n",
       "      <td>1</td>\n",
       "      <td>1</td>\n",
       "      <td>3</td>\n",
       "      <td>33295.98</td>\n",
       "      <td>21.1</td>\n",
       "      <td>35.0</td>\n",
       "      <td>0.0</td>\n",
       "      <td>229976.0</td>\n",
       "      <td>850784.0</td>\n",
       "      <td>0.0</td>\n",
       "      <td>0.0</td>\n",
       "    </tr>\n",
       "    <tr>\n",
       "      <th>2</th>\n",
       "      <td>1</td>\n",
       "      <td>99999999.0</td>\n",
       "      <td>1</td>\n",
       "      <td>741.0</td>\n",
       "      <td>2231892.0</td>\n",
       "      <td>8</td>\n",
       "      <td>2</td>\n",
       "      <td>3</td>\n",
       "      <td>29200.53</td>\n",
       "      <td>14.9</td>\n",
       "      <td>18.0</td>\n",
       "      <td>1.0</td>\n",
       "      <td>297996.0</td>\n",
       "      <td>750090.0</td>\n",
       "      <td>0.0</td>\n",
       "      <td>0.0</td>\n",
       "    </tr>\n",
       "    <tr>\n",
       "      <th>3</th>\n",
       "      <td>1</td>\n",
       "      <td>347666.0</td>\n",
       "      <td>0</td>\n",
       "      <td>721.0</td>\n",
       "      <td>806949.0</td>\n",
       "      <td>3</td>\n",
       "      <td>2</td>\n",
       "      <td>3</td>\n",
       "      <td>8741.90</td>\n",
       "      <td>12.0</td>\n",
       "      <td>9.0</td>\n",
       "      <td>0.0</td>\n",
       "      <td>256329.0</td>\n",
       "      <td>386958.0</td>\n",
       "      <td>0.0</td>\n",
       "      <td>0.0</td>\n",
       "    </tr>\n",
       "    <tr>\n",
       "      <th>4</th>\n",
       "      <td>1</td>\n",
       "      <td>176220.0</td>\n",
       "      <td>1</td>\n",
       "      <td>657.0</td>\n",
       "      <td>1584961.0</td>\n",
       "      <td>5</td>\n",
       "      <td>3</td>\n",
       "      <td>3</td>\n",
       "      <td>20639.70</td>\n",
       "      <td>6.1</td>\n",
       "      <td>15.0</td>\n",
       "      <td>0.0</td>\n",
       "      <td>253460.0</td>\n",
       "      <td>427174.0</td>\n",
       "      <td>0.0</td>\n",
       "      <td>0.0</td>\n",
       "    </tr>\n",
       "    <tr>\n",
       "      <th>...</th>\n",
       "      <td>...</td>\n",
       "      <td>...</td>\n",
       "      <td>...</td>\n",
       "      <td>...</td>\n",
       "      <td>...</td>\n",
       "      <td>...</td>\n",
       "      <td>...</td>\n",
       "      <td>...</td>\n",
       "      <td>...</td>\n",
       "      <td>...</td>\n",
       "      <td>...</td>\n",
       "      <td>...</td>\n",
       "      <td>...</td>\n",
       "      <td>...</td>\n",
       "      <td>...</td>\n",
       "      <td>...</td>\n",
       "    </tr>\n",
       "    <tr>\n",
       "      <th>99481</th>\n",
       "      <td>0</td>\n",
       "      <td>464354.0</td>\n",
       "      <td>0</td>\n",
       "      <td>736.0</td>\n",
       "      <td>1118739.0</td>\n",
       "      <td>8</td>\n",
       "      <td>1</td>\n",
       "      <td>3</td>\n",
       "      <td>14984.73</td>\n",
       "      <td>18.5</td>\n",
       "      <td>15.0</td>\n",
       "      <td>0.0</td>\n",
       "      <td>193971.0</td>\n",
       "      <td>331760.0</td>\n",
       "      <td>0.0</td>\n",
       "      <td>0.0</td>\n",
       "    </tr>\n",
       "    <tr>\n",
       "      <th>99482</th>\n",
       "      <td>1</td>\n",
       "      <td>170610.0</td>\n",
       "      <td>1</td>\n",
       "      <td>656.0</td>\n",
       "      <td>1103843.0</td>\n",
       "      <td>10</td>\n",
       "      <td>3</td>\n",
       "      <td>3</td>\n",
       "      <td>14230.24</td>\n",
       "      <td>8.5</td>\n",
       "      <td>9.0</td>\n",
       "      <td>0.0</td>\n",
       "      <td>127262.0</td>\n",
       "      <td>192874.0</td>\n",
       "      <td>0.0</td>\n",
       "      <td>0.0</td>\n",
       "    </tr>\n",
       "    <tr>\n",
       "      <th>99483</th>\n",
       "      <td>0</td>\n",
       "      <td>369446.0</td>\n",
       "      <td>1</td>\n",
       "      <td>742.0</td>\n",
       "      <td>1313774.0</td>\n",
       "      <td>2</td>\n",
       "      <td>3</td>\n",
       "      <td>3</td>\n",
       "      <td>28136.72</td>\n",
       "      <td>14.1</td>\n",
       "      <td>19.0</td>\n",
       "      <td>0.0</td>\n",
       "      <td>337288.0</td>\n",
       "      <td>1365518.0</td>\n",
       "      <td>0.0</td>\n",
       "      <td>0.0</td>\n",
       "    </tr>\n",
       "    <tr>\n",
       "      <th>99484</th>\n",
       "      <td>1</td>\n",
       "      <td>342474.0</td>\n",
       "      <td>1</td>\n",
       "      <td>731.0</td>\n",
       "      <td>1230440.0</td>\n",
       "      <td>1</td>\n",
       "      <td>1</td>\n",
       "      <td>3</td>\n",
       "      <td>5362.56</td>\n",
       "      <td>18.2</td>\n",
       "      <td>6.0</td>\n",
       "      <td>1.0</td>\n",
       "      <td>131480.0</td>\n",
       "      <td>634370.0</td>\n",
       "      <td>1.0</td>\n",
       "      <td>0.0</td>\n",
       "    </tr>\n",
       "    <tr>\n",
       "      <th>99485</th>\n",
       "      <td>1</td>\n",
       "      <td>116028.0</td>\n",
       "      <td>1</td>\n",
       "      <td>711.0</td>\n",
       "      <td>652574.0</td>\n",
       "      <td>5</td>\n",
       "      <td>1</td>\n",
       "      <td>3</td>\n",
       "      <td>9298.98</td>\n",
       "      <td>6.0</td>\n",
       "      <td>9.0</td>\n",
       "      <td>0.0</td>\n",
       "      <td>59299.0</td>\n",
       "      <td>334884.0</td>\n",
       "      <td>0.0</td>\n",
       "      <td>0.0</td>\n",
       "    </tr>\n",
       "  </tbody>\n",
       "</table>\n",
       "<p>99486 rows × 16 columns</p>\n",
       "</div>"
      ],
      "text/plain": [
       "       Loan Status  Current Loan Amount  Term  Credit Score  Annual Income  \\\n",
       "0                1             445412.0     1         709.0      1167493.0   \n",
       "1                1             262328.0     1         741.0       745940.0   \n",
       "2                1           99999999.0     1         741.0      2231892.0   \n",
       "3                1             347666.0     0         721.0       806949.0   \n",
       "4                1             176220.0     1         657.0      1584961.0   \n",
       "...            ...                  ...   ...           ...            ...   \n",
       "99481            0             464354.0     0         736.0      1118739.0   \n",
       "99482            1             170610.0     1         656.0      1103843.0   \n",
       "99483            0             369446.0     1         742.0      1313774.0   \n",
       "99484            1             342474.0     1         731.0      1230440.0   \n",
       "99485            1             116028.0     1         711.0       652574.0   \n",
       "\n",
       "       Years in current job  Home Ownership  Purpose  Monthly Debt  \\\n",
       "0                         8               1        5       5214.74   \n",
       "1                         1               1        3      33295.98   \n",
       "2                         8               2        3      29200.53   \n",
       "3                         3               2        3       8741.90   \n",
       "4                         5               3        3      20639.70   \n",
       "...                     ...             ...      ...           ...   \n",
       "99481                     8               1        3      14984.73   \n",
       "99482                    10               3        3      14230.24   \n",
       "99483                     2               3        3      28136.72   \n",
       "99484                     1               1        3       5362.56   \n",
       "99485                     5               1        3       9298.98   \n",
       "\n",
       "       Years of Credit History  Number of Open Accounts  \\\n",
       "0                         17.2                      6.0   \n",
       "1                         21.1                     35.0   \n",
       "2                         14.9                     18.0   \n",
       "3                         12.0                      9.0   \n",
       "4                          6.1                     15.0   \n",
       "...                        ...                      ...   \n",
       "99481                     18.5                     15.0   \n",
       "99482                      8.5                      9.0   \n",
       "99483                     14.1                     19.0   \n",
       "99484                     18.2                      6.0   \n",
       "99485                      6.0                      9.0   \n",
       "\n",
       "       Number of Credit Problems  Current Credit Balance  Maximum Open Credit  \\\n",
       "0                            1.0                228190.0             416746.0   \n",
       "1                            0.0                229976.0             850784.0   \n",
       "2                            1.0                297996.0             750090.0   \n",
       "3                            0.0                256329.0             386958.0   \n",
       "4                            0.0                253460.0             427174.0   \n",
       "...                          ...                     ...                  ...   \n",
       "99481                        0.0                193971.0             331760.0   \n",
       "99482                        0.0                127262.0             192874.0   \n",
       "99483                        0.0                337288.0            1365518.0   \n",
       "99484                        1.0                131480.0             634370.0   \n",
       "99485                        0.0                 59299.0             334884.0   \n",
       "\n",
       "       Bankruptcies  Tax Liens  \n",
       "0               1.0        0.0  \n",
       "1               0.0        0.0  \n",
       "2               0.0        0.0  \n",
       "3               0.0        0.0  \n",
       "4               0.0        0.0  \n",
       "...             ...        ...  \n",
       "99481           0.0        0.0  \n",
       "99482           0.0        0.0  \n",
       "99483           0.0        0.0  \n",
       "99484           1.0        0.0  \n",
       "99485           0.0        0.0  \n",
       "\n",
       "[99486 rows x 16 columns]"
      ]
     },
     "execution_count": 41,
     "metadata": {},
     "output_type": "execute_result"
    }
   ],
   "source": [
    "Df"
   ]
  },
  {
   "cell_type": "markdown",
   "metadata": {
    "id": "FbRLrKA7SJED",
    "papermill": {
     "duration": 0.023587,
     "end_time": "2022-10-26T23:12:09.856399",
     "exception": false,
     "start_time": "2022-10-26T23:12:09.832812",
     "status": "completed"
    },
    "tags": []
   },
   "source": [
    "### Resampling Data with Synthetic Minority Oversampling Technique or SMOTE"
   ]
  },
  {
   "cell_type": "code",
   "execution_count": 42,
   "metadata": {
    "execution": {
     "iopub.execute_input": "2022-10-26T23:12:09.905346Z",
     "iopub.status.busy": "2022-10-26T23:12:09.904879Z",
     "iopub.status.idle": "2022-10-26T23:12:09.913569Z",
     "shell.execute_reply": "2022-10-26T23:12:09.912604Z"
    },
    "id": "u6YGhMJIEruz",
    "outputId": "d81e3011-e0f6-4bf7-b725-23d3c9174199",
    "papermill": {
     "duration": 0.035797,
     "end_time": "2022-10-26T23:12:09.915617",
     "exception": false,
     "start_time": "2022-10-26T23:12:09.879820",
     "status": "completed"
    },
    "tags": []
   },
   "outputs": [
    {
     "data": {
      "text/plain": [
       "1    76956\n",
       "0    22530\n",
       "Name: Loan Status, dtype: int64"
      ]
     },
     "execution_count": 42,
     "metadata": {},
     "output_type": "execute_result"
    }
   ],
   "source": [
    "Df['Loan Status'].value_counts()"
   ]
  },
  {
   "cell_type": "code",
   "execution_count": 43,
   "metadata": {
    "execution": {
     "iopub.execute_input": "2022-10-26T23:12:09.967543Z",
     "iopub.status.busy": "2022-10-26T23:12:09.966541Z",
     "iopub.status.idle": "2022-10-26T23:12:10.158274Z",
     "shell.execute_reply": "2022-10-26T23:12:10.157248Z"
    },
    "id": "7_1VuYWmEkXN",
    "outputId": "f6a4e563-2fd9-43f6-b54a-a52dc1b0c3bb",
    "papermill": {
     "duration": 0.219985,
     "end_time": "2022-10-26T23:12:10.160763",
     "exception": false,
     "start_time": "2022-10-26T23:12:09.940778",
     "status": "completed"
    },
    "tags": []
   },
   "outputs": [
    {
     "name": "stderr",
     "output_type": "stream",
     "text": [
      "/opt/conda/lib/python3.7/site-packages/seaborn/_decorators.py:43: FutureWarning: Pass the following variable as a keyword arg: x. From version 0.12, the only valid positional argument will be `data`, and passing other arguments without an explicit keyword will result in an error or misinterpretation.\n",
      "  FutureWarning\n"
     ]
    },
    {
     "data": {
      "text/plain": [
       "<AxesSubplot:xlabel='Loan Status', ylabel='count'>"
      ]
     },
     "execution_count": 43,
     "metadata": {},
     "output_type": "execute_result"
    },
    {
     "data": {
      "image/png": "[encoded data removed]",
      "text/plain": [
       "<Figure size 432x288 with 1 Axes>"
      ]
     },
     "metadata": {
      "needs_background": "light"
     },
     "output_type": "display_data"
    }
   ],
   "source": [
    "sns.countplot(Df['Loan Status'])"
   ]
  },
  {
   "cell_type": "code",
   "execution_count": 44,
   "metadata": {
    "execution": {
     "iopub.execute_input": "2022-10-26T23:12:10.219519Z",
     "iopub.status.busy": "2022-10-26T23:12:10.218736Z",
     "iopub.status.idle": "2022-10-26T23:12:10.223353Z",
     "shell.execute_reply": "2022-10-26T23:12:10.222216Z"
    },
    "id": "U2U1Sh-RcQ6r",
    "papermill": {
     "duration": 0.036205,
     "end_time": "2022-10-26T23:12:10.225449",
     "exception": false,
     "start_time": "2022-10-26T23:12:10.189244",
     "status": "completed"
    },
    "tags": []
   },
   "outputs": [],
   "source": [
    "#df_majority = Df[(Df['Loan Status']==1)] \n",
    "#df_minority = Df[(Df['Loan Status']==0)] \n",
    "#df_minority_upsampled = resample(df_minority, \n",
    "                               #replace=True,    \n",
    "                             # n_samples= 70000, \n",
    "                           # random_state=42)  \n",
    "#df_upsampled = pd.concat([df_minority_upsampled, df_majority])"
   ]
  },
  {
   "cell_type": "code",
   "execution_count": 45,
   "metadata": {
    "execution": {
     "iopub.execute_input": "2022-10-26T23:12:10.276604Z",
     "iopub.status.busy": "2022-10-26T23:12:10.275868Z",
     "iopub.status.idle": "2022-10-26T23:12:10.280003Z",
     "shell.execute_reply": "2022-10-26T23:12:10.279151Z"
    },
    "id": "jKmdZExVc51K",
    "papermill": {
     "duration": 0.032351,
     "end_time": "2022-10-26T23:12:10.282251",
     "exception": false,
     "start_time": "2022-10-26T23:12:10.249900",
     "status": "completed"
    },
    "tags": []
   },
   "outputs": [],
   "source": [
    "#sns.countplot(df_upsampled['Loan Status'])"
   ]
  },
  {
   "cell_type": "code",
   "execution_count": 46,
   "metadata": {
    "execution": {
     "iopub.execute_input": "2022-10-26T23:12:10.334759Z",
     "iopub.status.busy": "2022-10-26T23:12:10.334313Z",
     "iopub.status.idle": "2022-10-26T23:12:11.234680Z",
     "shell.execute_reply": "2022-10-26T23:12:11.233527Z"
    },
    "papermill": {
     "duration": 0.929701,
     "end_time": "2022-10-26T23:12:11.237332",
     "exception": false,
     "start_time": "2022-10-26T23:12:10.307631",
     "status": "completed"
    },
    "tags": []
   },
   "outputs": [
    {
     "data": {
      "image/png": "[encoded data removed]",
      "text/plain": [
       "<Figure size 432x288 with 1 Axes>"
      ]
     },
     "metadata": {
      "needs_background": "light"
     },
     "output_type": "display_data"
    }
   ],
   "source": [
    "from matplotlib import pyplot\n",
    "pyplot.hist(Df, bins=25)\n",
    "pyplot.show()"
   ]
  },
  {
   "cell_type": "code",
   "execution_count": 47,
   "metadata": {
    "execution": {
     "iopub.execute_input": "2022-10-26T23:12:11.291100Z",
     "iopub.status.busy": "2022-10-26T23:12:11.290675Z",
     "iopub.status.idle": "2022-10-26T23:12:11.692934Z",
     "shell.execute_reply": "2022-10-26T23:12:11.691584Z"
    },
    "papermill": {
     "duration": 0.431962,
     "end_time": "2022-10-26T23:12:11.695828",
     "exception": false,
     "start_time": "2022-10-26T23:12:11.263866",
     "status": "completed"
    },
    "tags": []
   },
   "outputs": [],
   "source": [
    "from sklearn.preprocessing import QuantileTransformer\n",
    "quantile = QuantileTransformer(output_distribution='normal')\n",
    "data_trans = quantile.fit_transform(Df)"
   ]
  },
  {
   "cell_type": "code",
   "execution_count": 48,
   "metadata": {
    "execution": {
     "iopub.execute_input": "2022-10-26T23:12:11.748663Z",
     "iopub.status.busy": "2022-10-26T23:12:11.748242Z",
     "iopub.status.idle": "2022-10-26T23:12:12.600966Z",
     "shell.execute_reply": "2022-10-26T23:12:12.599945Z"
    },
    "papermill": {
     "duration": 0.881758,
     "end_time": "2022-10-26T23:12:12.603378",
     "exception": false,
     "start_time": "2022-10-26T23:12:11.721620",
     "status": "completed"
    },
    "tags": []
   },
   "outputs": [
    {
     "data": {
      "image/png": "[encoded data removed]",
      "text/plain": [
       "<Figure size 432x288 with 1 Axes>"
      ]
     },
     "metadata": {
      "needs_background": "light"
     },
     "output_type": "display_data"
    }
   ],
   "source": [
    "pyplot.hist(data_trans, bins=25)\n",
    "pyplot.show()"
   ]
  },
  {
   "cell_type": "code",
   "execution_count": 49,
   "metadata": {
    "execution": {
     "iopub.execute_input": "2022-10-26T23:12:12.658177Z",
     "iopub.status.busy": "2022-10-26T23:12:12.657356Z",
     "iopub.status.idle": "2022-10-26T23:12:12.672316Z",
     "shell.execute_reply": "2022-10-26T23:12:12.671079Z"
    },
    "id": "DkdIF3ENByBZ",
    "papermill": {
     "duration": 0.045792,
     "end_time": "2022-10-26T23:12:12.675403",
     "exception": false,
     "start_time": "2022-10-26T23:12:12.629611",
     "status": "completed"
    },
    "tags": []
   },
   "outputs": [],
   "source": [
    "X = Df.drop(labels='Loan Status', axis=1).values\n",
    "y = Df['Loan Status'].values"
   ]
  },
  {
   "cell_type": "code",
   "execution_count": 50,
   "metadata": {
    "execution": {
     "iopub.execute_input": "2022-10-26T23:12:12.729055Z",
     "iopub.status.busy": "2022-10-26T23:12:12.728459Z",
     "iopub.status.idle": "2022-10-26T23:12:13.877928Z",
     "shell.execute_reply": "2022-10-26T23:12:13.876598Z"
    },
    "id": "6teOltlxn54i",
    "outputId": "94ad7698-db4e-4677-ce7a-40d24e82539f",
    "papermill": {
     "duration": 1.179034,
     "end_time": "2022-10-26T23:12:13.880379",
     "exception": false,
     "start_time": "2022-10-26T23:12:12.701345",
     "status": "completed"
    },
    "tags": []
   },
   "outputs": [
    {
     "data": {
      "text/plain": [
       "[Text(0, 0, 'Loan Status'),\n",
       " Text(1, 0, 'Current Loan Amount'),\n",
       " Text(2, 0, 'Term'),\n",
       " Text(3, 0, 'Credit Score'),\n",
       " Text(4, 0, 'Annual Income'),\n",
       " Text(5, 0, 'Years in current job'),\n",
       " Text(6, 0, 'Home Ownership'),\n",
       " Text(7, 0, 'Purpose'),\n",
       " Text(8, 0, 'Monthly Debt'),\n",
       " Text(9, 0, 'Years of Credit History'),\n",
       " Text(10, 0, 'Number of Open Accounts'),\n",
       " Text(11, 0, 'Number of Credit Problems'),\n",
       " Text(12, 0, 'Current Credit Balance'),\n",
       " Text(13, 0, 'Maximum Open Credit'),\n",
       " Text(14, 0, 'Bankruptcies'),\n",
       " Text(15, 0, 'Tax Liens')]"
      ]
     },
     "execution_count": 50,
     "metadata": {},
     "output_type": "execute_result"
    },
    {
     "data": {
      "image/png": "[encoded data removed]",
      "text/plain": [
       "<Figure size 1800x576 with 1 Axes>"
      ]
     },
     "metadata": {
      "needs_background": "light"
     },
     "output_type": "display_data"
    }
   ],
   "source": [
    "plt.figure(figsize = (25,8))\n",
    "u = sns.boxplot(palette = 'cool', data=Df)\n",
    "u.set_xticklabels(u.get_xticklabels(),rotation=45)"
   ]
  },
  {
   "cell_type": "code",
   "execution_count": 51,
   "metadata": {
    "execution": {
     "iopub.execute_input": "2022-10-26T23:12:13.936530Z",
     "iopub.status.busy": "2022-10-26T23:12:13.935790Z",
     "iopub.status.idle": "2022-10-26T23:12:13.959824Z",
     "shell.execute_reply": "2022-10-26T23:12:13.958555Z"
    },
    "id": "CitYFk8XG9sA",
    "papermill": {
     "duration": 0.055292,
     "end_time": "2022-10-26T23:12:13.962770",
     "exception": false,
     "start_time": "2022-10-26T23:12:13.907478",
     "status": "completed"
    },
    "tags": []
   },
   "outputs": [],
   "source": [
    "x_train , x_test , y_train , y_test = train_test_split(X,y, test_size= 0.20, random_state =30)"
   ]
  },
  {
   "cell_type": "markdown",
   "metadata": {
    "id": "sUmqK_FZUjYR",
    "papermill": {
     "duration": 0.029285,
     "end_time": "2022-10-26T23:12:14.018712",
     "exception": false,
     "start_time": "2022-10-26T23:12:13.989427",
     "status": "completed"
    },
    "tags": []
   },
   "source": [
    "### Reduce Effect of Outliers With RobustScaler"
   ]
  },
  {
   "cell_type": "code",
   "execution_count": 52,
   "metadata": {
    "execution": {
     "iopub.execute_input": "2022-10-26T23:12:14.081419Z",
     "iopub.status.busy": "2022-10-26T23:12:14.080578Z",
     "iopub.status.idle": "2022-10-26T23:12:14.179250Z",
     "shell.execute_reply": "2022-10-26T23:12:14.177987Z"
    },
    "id": "DxHWFbhuMi7s",
    "papermill": {
     "duration": 0.130145,
     "end_time": "2022-10-26T23:12:14.182271",
     "exception": false,
     "start_time": "2022-10-26T23:12:14.052126",
     "status": "completed"
    },
    "tags": []
   },
   "outputs": [],
   "source": [
    "ro_scaler = RobustScaler()\n",
    "x_train = ro_scaler.fit_transform(x_train)\n",
    "x_test = ro_scaler.fit_transform(x_test)"
   ]
  },
  {
   "cell_type": "markdown",
   "metadata": {
    "id": "nqIMn43GUyue",
    "papermill": {
     "duration": 0.026336,
     "end_time": "2022-10-26T23:12:14.235742",
     "exception": false,
     "start_time": "2022-10-26T23:12:14.209406",
     "status": "completed"
    },
    "tags": []
   },
   "source": [
    "## DecisionTree Model"
   ]
  },
  {
   "cell_type": "code",
   "execution_count": 53,
   "metadata": {
    "execution": {
     "iopub.execute_input": "2022-10-26T23:12:14.299141Z",
     "iopub.status.busy": "2022-10-26T23:12:14.298222Z",
     "iopub.status.idle": "2022-10-26T23:12:15.401546Z",
     "shell.execute_reply": "2022-10-26T23:12:15.400134Z"
    },
    "id": "yseFQ0q0HMDJ",
    "outputId": "a419244f-fd75-4fae-b430-44bc2943abad",
    "papermill": {
     "duration": 1.136661,
     "end_time": "2022-10-26T23:12:15.403993",
     "exception": false,
     "start_time": "2022-10-26T23:12:14.267332",
     "status": "completed"
    },
    "tags": []
   },
   "outputs": [
    {
     "data": {
      "text/plain": [
       "DecisionTreeClassifier(max_depth=15, max_features=15)"
      ]
     },
     "execution_count": 53,
     "metadata": {},
     "output_type": "execute_result"
    }
   ],
   "source": [
    "dt =DecisionTreeClassifier(max_features=15 , max_depth=15)\n",
    "dt.fit(x_train , y_train)"
   ]
  },
  {
   "cell_type": "code",
   "execution_count": 54,
   "metadata": {
    "execution": {
     "iopub.execute_input": "2022-10-26T23:12:15.459899Z",
     "iopub.status.busy": "2022-10-26T23:12:15.459501Z",
     "iopub.status.idle": "2022-10-26T23:12:15.488232Z",
     "shell.execute_reply": "2022-10-26T23:12:15.486984Z"
    },
    "id": "7sQEYYGdHYZI",
    "outputId": "33348463-fb3e-4a3e-b2ee-fc29649bb727",
    "papermill": {
     "duration": 0.059364,
     "end_time": "2022-10-26T23:12:15.490858",
     "exception": false,
     "start_time": "2022-10-26T23:12:15.431494",
     "status": "completed"
    },
    "tags": []
   },
   "outputs": [
    {
     "data": {
      "text/plain": [
       "0.8551917374478565"
      ]
     },
     "execution_count": 54,
     "metadata": {},
     "output_type": "execute_result"
    }
   ],
   "source": [
    "dt.score(x_train , y_train)\n",
    "#with Resampling 0.7671"
   ]
  },
  {
   "cell_type": "code",
   "execution_count": 55,
   "metadata": {
    "execution": {
     "iopub.execute_input": "2022-10-26T23:12:15.547854Z",
     "iopub.status.busy": "2022-10-26T23:12:15.547431Z",
     "iopub.status.idle": "2022-10-26T23:12:15.561339Z",
     "shell.execute_reply": "2022-10-26T23:12:15.559918Z"
    },
    "id": "lLiA8Y94HYcA",
    "outputId": "bad423cb-c840-4f64-a745-20fb01a8e215",
    "papermill": {
     "duration": 0.046228,
     "end_time": "2022-10-26T23:12:15.564016",
     "exception": false,
     "start_time": "2022-10-26T23:12:15.517788",
     "status": "completed"
    },
    "tags": []
   },
   "outputs": [
    {
     "data": {
      "text/plain": [
       "0.7978188762689717"
      ]
     },
     "execution_count": 55,
     "metadata": {},
     "output_type": "execute_result"
    }
   ],
   "source": [
    "dt.score(x_test , y_test)\n",
    "#with Resampling 0.7037"
   ]
  },
  {
   "cell_type": "markdown",
   "metadata": {
    "id": "4jSu6bLEU-yj",
    "papermill": {
     "duration": 0.026408,
     "end_time": "2022-10-26T23:12:15.617962",
     "exception": false,
     "start_time": "2022-10-26T23:12:15.591554",
     "status": "completed"
    },
    "tags": []
   },
   "source": [
    "## RandomForest Model"
   ]
  },
  {
   "cell_type": "code",
   "execution_count": 56,
   "metadata": {
    "execution": {
     "iopub.execute_input": "2022-10-26T23:12:15.673686Z",
     "iopub.status.busy": "2022-10-26T23:12:15.673265Z",
     "iopub.status.idle": "2022-10-26T23:12:15.678067Z",
     "shell.execute_reply": "2022-10-26T23:12:15.677071Z"
    },
    "id": "Z30eooZ0syq-",
    "papermill": {
     "duration": 0.035932,
     "end_time": "2022-10-26T23:12:15.680516",
     "exception": false,
     "start_time": "2022-10-26T23:12:15.644584",
     "status": "completed"
    },
    "tags": []
   },
   "outputs": [],
   "source": [
    "rf = RandomForestClassifier(max_features=15,max_depth=15)"
   ]
  },
  {
   "cell_type": "code",
   "execution_count": 57,
   "metadata": {
    "execution": {
     "iopub.execute_input": "2022-10-26T23:12:15.736769Z",
     "iopub.status.busy": "2022-10-26T23:12:15.736318Z",
     "iopub.status.idle": "2022-10-26T23:13:22.793359Z",
     "shell.execute_reply": "2022-10-26T23:13:22.792086Z"
    },
    "id": "oTm6sa0kXB43",
    "outputId": "0842c5f9-1531-4c2d-e1e6-d12bbe0c6982",
    "papermill": {
     "duration": 67.114156,
     "end_time": "2022-10-26T23:13:22.822051",
     "exception": false,
     "start_time": "2022-10-26T23:12:15.707895",
     "status": "completed"
    },
    "tags": []
   },
   "outputs": [
    {
     "data": {
      "text/plain": [
       "RandomForestClassifier(max_depth=15, max_features=15)"
      ]
     },
     "execution_count": 57,
     "metadata": {},
     "output_type": "execute_result"
    }
   ],
   "source": [
    "rf.fit(x_train , y_train)"
   ]
  },
  {
   "cell_type": "code",
   "execution_count": 58,
   "metadata": {
    "execution": {
     "iopub.execute_input": "2022-10-26T23:13:22.878197Z",
     "iopub.status.busy": "2022-10-26T23:13:22.877792Z",
     "iopub.status.idle": "2022-10-26T23:13:23.099895Z",
     "shell.execute_reply": "2022-10-26T23:13:23.098750Z"
    },
    "id": "Hxb3QL7bTzTS",
    "outputId": "2266c2bd-15c5-4a1a-d6cd-3d8087d8dad1",
    "papermill": {
     "duration": 0.253147,
     "end_time": "2022-10-26T23:13:23.102172",
     "exception": false,
     "start_time": "2022-10-26T23:13:22.849025",
     "status": "completed"
    },
    "tags": []
   },
   "outputs": [
    {
     "data": {
      "image/png": "[encoded data removed]",
      "text/plain": [
       "<Figure size 432x288 with 1 Axes>"
      ]
     },
     "metadata": {
      "needs_background": "light"
     },
     "output_type": "display_data"
    }
   ],
   "source": [
    "def f_importances(coef, names, top=-1):\n",
    "    imp = coef\n",
    "    imp, names = zip(*sorted(list(zip(imp, names))))\n",
    "\n",
    "    if top == -1:\n",
    "        top = len(names)\n",
    "\n",
    "    plt.barh(range(top), imp[::-1][0:top], align='center')\n",
    "    plt.yticks(range(top), names[::-1][0:top])\n",
    "    plt.title('feature importances')\n",
    "    plt.show()\n",
    "\n",
    "features_names = ['Current_Loan_Amount', 'Term', 'Credit_Score',\n",
    "       'Annual_Income', 'Years_in_current_job', 'Home_Ownership', 'Purpose',\n",
    "       'Monthly_Debt', 'Years_of_Credit_History', 'Number_of_Open_Accounts',\n",
    "       'Number_of_Credit_Problems', 'Current_Credit_Balance',\n",
    "       'Maximum_Open_Credit', 'Bankruptcies', 'Tax_Liens']\n",
    "      \n",
    "\n",
    "f_importances(abs(rf.feature_importances_), features_names, top=15)"
   ]
  },
  {
   "cell_type": "code",
   "execution_count": 59,
   "metadata": {
    "execution": {
     "iopub.execute_input": "2022-10-26T23:13:23.161247Z",
     "iopub.status.busy": "2022-10-26T23:13:23.160810Z",
     "iopub.status.idle": "2022-10-26T23:13:24.495220Z",
     "shell.execute_reply": "2022-10-26T23:13:24.493803Z"
    },
    "id": "EqlZAVZMsytX",
    "outputId": "4183acc4-6ce5-466c-e42e-0bd047e7b64e",
    "papermill": {
     "duration": 1.367079,
     "end_time": "2022-10-26T23:13:24.497961",
     "exception": false,
     "start_time": "2022-10-26T23:13:23.130882",
     "status": "completed"
    },
    "tags": []
   },
   "outputs": [
    {
     "data": {
      "text/plain": [
       "0.8470875006282355"
      ]
     },
     "execution_count": 59,
     "metadata": {},
     "output_type": "execute_result"
    }
   ],
   "source": [
    "rf.score(x_train , y_train)\n",
    "#with Resampling 0.8813"
   ]
  },
  {
   "cell_type": "code",
   "execution_count": 60,
   "metadata": {
    "execution": {
     "iopub.execute_input": "2022-10-26T23:13:24.555517Z",
     "iopub.status.busy": "2022-10-26T23:13:24.555049Z",
     "iopub.status.idle": "2022-10-26T23:13:24.922448Z",
     "shell.execute_reply": "2022-10-26T23:13:24.921155Z"
    },
    "id": "8xyKWSRTtCZx",
    "outputId": "bf0d6970-9d9d-4eac-e25f-4c960df7a647",
    "papermill": {
     "duration": 0.398802,
     "end_time": "2022-10-26T23:13:24.925276",
     "exception": false,
     "start_time": "2022-10-26T23:13:24.526474",
     "status": "completed"
    },
    "tags": []
   },
   "outputs": [
    {
     "data": {
      "text/plain": [
       "0.8179213991355915"
      ]
     },
     "execution_count": 60,
     "metadata": {},
     "output_type": "execute_result"
    }
   ],
   "source": [
    "rf.score(x_test , y_test)\n",
    "#with Resampling 0.7919"
   ]
  },
  {
   "cell_type": "markdown",
   "metadata": {
    "id": "S68CDD_zVLDm",
    "papermill": {
     "duration": 0.027308,
     "end_time": "2022-10-26T23:13:24.981330",
     "exception": false,
     "start_time": "2022-10-26T23:13:24.954022",
     "status": "completed"
    },
    "tags": []
   },
   "source": [
    "## KNeighborsClassifier Model"
   ]
  },
  {
   "cell_type": "code",
   "execution_count": 61,
   "metadata": {
    "execution": {
     "iopub.execute_input": "2022-10-26T23:13:25.037912Z",
     "iopub.status.busy": "2022-10-26T23:13:25.037461Z",
     "iopub.status.idle": "2022-10-26T23:13:25.260396Z",
     "shell.execute_reply": "2022-10-26T23:13:25.259267Z"
    },
    "id": "_5oJhHyCxZ_s",
    "outputId": "dd23247a-bd9f-451b-ff05-5cbf680bcf11",
    "papermill": {
     "duration": 0.25414,
     "end_time": "2022-10-26T23:13:25.262838",
     "exception": false,
     "start_time": "2022-10-26T23:13:25.008698",
     "status": "completed"
    },
    "tags": []
   },
   "outputs": [
    {
     "data": {
      "text/plain": [
       "KNeighborsClassifier()"
      ]
     },
     "execution_count": 61,
     "metadata": {},
     "output_type": "execute_result"
    }
   ],
   "source": [
    "knn = KNeighborsClassifier()\n",
    "knn.fit(x_train, y_train)"
   ]
  },
  {
   "cell_type": "code",
   "execution_count": 62,
   "metadata": {
    "execution": {
     "iopub.execute_input": "2022-10-26T23:13:25.323407Z",
     "iopub.status.busy": "2022-10-26T23:13:25.322205Z",
     "iopub.status.idle": "2022-10-26T23:14:16.366479Z",
     "shell.execute_reply": "2022-10-26T23:14:16.365270Z"
    },
    "id": "c6BmxY2Bx0KS",
    "outputId": "2d248d91-d10a-4beb-f80e-9acf6b5ff56a",
    "papermill": {
     "duration": 51.104558,
     "end_time": "2022-10-26T23:14:16.396141",
     "exception": false,
     "start_time": "2022-10-26T23:13:25.291583",
     "status": "completed"
    },
    "tags": []
   },
   "outputs": [
    {
     "data": {
      "text/plain": [
       "0.8396868874704729"
      ]
     },
     "execution_count": 62,
     "metadata": {},
     "output_type": "execute_result"
    }
   ],
   "source": [
    "knn.score(x_train , y_train)\n",
    "#with Resampling 0.8426"
   ]
  },
  {
   "cell_type": "code",
   "execution_count": 63,
   "metadata": {
    "execution": {
     "iopub.execute_input": "2022-10-26T23:14:16.453915Z",
     "iopub.status.busy": "2022-10-26T23:14:16.453076Z",
     "iopub.status.idle": "2022-10-26T23:14:29.679885Z",
     "shell.execute_reply": "2022-10-26T23:14:29.678789Z"
    },
    "id": "g1r5Ck-Zbybz",
    "outputId": "d96e07c1-8a43-4d28-9730-c1da3a2ab1ae",
    "papermill": {
     "duration": 13.25912,
     "end_time": "2022-10-26T23:14:29.682813",
     "exception": false,
     "start_time": "2022-10-26T23:14:16.423693",
     "status": "completed"
    },
    "tags": []
   },
   "outputs": [
    {
     "data": {
      "text/plain": [
       "0.7916876067946528"
      ]
     },
     "execution_count": 63,
     "metadata": {},
     "output_type": "execute_result"
    }
   ],
   "source": [
    "knn.score(x_test , y_test)\n",
    "#with Resampling 0.7460"
   ]
  },
  {
   "cell_type": "markdown",
   "metadata": {
    "id": "89ImYGuVVGqC",
    "papermill": {
     "duration": 0.027674,
     "end_time": "2022-10-26T23:14:29.739377",
     "exception": false,
     "start_time": "2022-10-26T23:14:29.711703",
     "status": "completed"
    },
    "tags": []
   },
   "source": [
    "## LogisticRegression Model"
   ]
  },
  {
   "cell_type": "code",
   "execution_count": 64,
   "metadata": {
    "execution": {
     "iopub.execute_input": "2022-10-26T23:14:29.798929Z",
     "iopub.status.busy": "2022-10-26T23:14:29.798499Z",
     "iopub.status.idle": "2022-10-26T23:14:31.284394Z",
     "shell.execute_reply": "2022-10-26T23:14:31.283028Z"
    },
    "id": "wt6XWJc8btfa",
    "outputId": "c0518fd8-01e3-4208-d20d-eedfee9a2569",
    "papermill": {
     "duration": 1.524155,
     "end_time": "2022-10-26T23:14:31.292508",
     "exception": false,
     "start_time": "2022-10-26T23:14:29.768353",
     "status": "completed"
    },
    "tags": []
   },
   "outputs": [
    {
     "name": "stderr",
     "output_type": "stream",
     "text": [
      "/opt/conda/lib/python3.7/site-packages/sklearn/linear_model/_logistic.py:818: ConvergenceWarning: lbfgs failed to converge (status=1):\n",
      "STOP: TOTAL NO. of ITERATIONS REACHED LIMIT.\n",
      "\n",
      "Increase the number of iterations (max_iter) or scale the data as shown in:\n",
      "    https://scikit-learn.org/stable/modules/preprocessing.html\n",
      "Please also refer to the documentation for alternative solver options:\n",
      "    https://scikit-learn.org/stable/modules/linear_model.html#logistic-regression\n",
      "  extra_warning_msg=_LOGISTIC_SOLVER_CONVERGENCE_MSG,\n"
     ]
    },
    {
     "data": {
      "text/plain": [
       "LogisticRegression()"
      ]
     },
     "execution_count": 64,
     "metadata": {},
     "output_type": "execute_result"
    }
   ],
   "source": [
    "Lg = LogisticRegression()\n",
    "Lg.fit(x_train, y_train)"
   ]
  },
  {
   "cell_type": "code",
   "execution_count": 65,
   "metadata": {
    "execution": {
     "iopub.execute_input": "2022-10-26T23:14:31.413239Z",
     "iopub.status.busy": "2022-10-26T23:14:31.412821Z",
     "iopub.status.idle": "2022-10-26T23:14:31.439569Z",
     "shell.execute_reply": "2022-10-26T23:14:31.438206Z"
    },
    "id": "FJ8zrZKpbwXU",
    "outputId": "c8a0d353-68de-489f-a2e8-0c6ad5403fb1",
    "papermill": {
     "duration": 0.078939,
     "end_time": "2022-10-26T23:14:31.443528",
     "exception": false,
     "start_time": "2022-10-26T23:14:31.364589",
     "status": "completed"
    },
    "tags": []
   },
   "outputs": [
    {
     "data": {
      "text/plain": [
       "0.8132256119012916"
      ]
     },
     "execution_count": 65,
     "metadata": {},
     "output_type": "execute_result"
    }
   ],
   "source": [
    "Lg.score(x_train , y_train)\n",
    "#with Resampling 0.6495"
   ]
  },
  {
   "cell_type": "code",
   "execution_count": 66,
   "metadata": {
    "execution": {
     "iopub.execute_input": "2022-10-26T23:14:31.561903Z",
     "iopub.status.busy": "2022-10-26T23:14:31.561471Z",
     "iopub.status.idle": "2022-10-26T23:14:31.577571Z",
     "shell.execute_reply": "2022-10-26T23:14:31.576238Z"
    },
    "id": "Kw5Oem8Myqmd",
    "outputId": "5a38e5a6-8b11-473c-c348-b2a0953682b4",
    "papermill": {
     "duration": 0.0656,
     "end_time": "2022-10-26T23:14:31.581422",
     "exception": false,
     "start_time": "2022-10-26T23:14:31.515822",
     "status": "completed"
    },
    "tags": []
   },
   "outputs": [
    {
     "data": {
      "text/plain": [
       "0.8177203739069253"
      ]
     },
     "execution_count": 66,
     "metadata": {},
     "output_type": "execute_result"
    }
   ],
   "source": [
    "Lg.score(x_test , y_test)\n",
    "#with Resampling 0.6533"
   ]
  },
  {
   "cell_type": "markdown",
   "metadata": {
    "id": "2y8JTXAE5Q7i",
    "papermill": {
     "duration": 0.050732,
     "end_time": "2022-10-26T23:14:31.704992",
     "exception": false,
     "start_time": "2022-10-26T23:14:31.654260",
     "status": "completed"
    },
    "tags": []
   },
   "source": [
    "## XGBClassifier "
   ]
  },
  {
   "cell_type": "code",
   "execution_count": 67,
   "metadata": {
    "execution": {
     "iopub.execute_input": "2022-10-26T23:14:31.764046Z",
     "iopub.status.busy": "2022-10-26T23:14:31.763645Z",
     "iopub.status.idle": "2022-10-26T23:14:38.522001Z",
     "shell.execute_reply": "2022-10-26T23:14:38.521012Z"
    },
    "id": "M1-VkbK94yMg",
    "papermill": {
     "duration": 6.790725,
     "end_time": "2022-10-26T23:14:38.524707",
     "exception": false,
     "start_time": "2022-10-26T23:14:31.733982",
     "status": "completed"
    },
    "tags": []
   },
   "outputs": [
    {
     "data": {
      "text/plain": [
       "XGBClassifier(base_score=0.5, booster='gbtree', callbacks=None,\n",
       "              colsample_bylevel=1, colsample_bynode=1, colsample_bytree=1,\n",
       "              early_stopping_rounds=None, enable_categorical=False,\n",
       "              eval_metric=None, gamma=0, gpu_id=-1, grow_policy='depthwise',\n",
       "              importance_type=None, interaction_constraints='',\n",
       "              learning_rate=0.300000012, max_bin=256, max_cat_to_onehot=4,\n",
       "              max_delta_step=0, max_depth=6, max_leaves=0, min_child_weight=1,\n",
       "              missing=nan, monotone_constraints='()', n_estimators=100,\n",
       "              n_jobs=0, num_parallel_tree=1, predictor='auto', random_state=0,\n",
       "              reg_alpha=0, reg_lambda=1, ...)"
      ]
     },
     "execution_count": 67,
     "metadata": {},
     "output_type": "execute_result"
    }
   ],
   "source": [
    "xgb = XGBClassifier()\n",
    "xgb.fit(x_train, y_train)"
   ]
  },
  {
   "cell_type": "code",
   "execution_count": 68,
   "metadata": {
    "execution": {
     "iopub.execute_input": "2022-10-26T23:14:38.584384Z",
     "iopub.status.busy": "2022-10-26T23:14:38.583928Z",
     "iopub.status.idle": "2022-10-26T23:14:38.682852Z",
     "shell.execute_reply": "2022-10-26T23:14:38.681899Z"
    },
    "id": "aClvzQT843Eu",
    "outputId": "575b2ee3-2164-4eb6-dbb2-0a867e6693dc",
    "papermill": {
     "duration": 0.131256,
     "end_time": "2022-10-26T23:14:38.685268",
     "exception": false,
     "start_time": "2022-10-26T23:14:38.554012",
     "status": "completed"
    },
    "tags": []
   },
   "outputs": [
    {
     "data": {
      "text/plain": [
       "0.8318088153993064"
      ]
     },
     "execution_count": 68,
     "metadata": {},
     "output_type": "execute_result"
    }
   ],
   "source": [
    "xgb.score(x_train , y_train)\n",
    "#with Resampling 0.6734\n"
   ]
  },
  {
   "cell_type": "code",
   "execution_count": 69,
   "metadata": {
    "execution": {
     "iopub.execute_input": "2022-10-26T23:14:38.745914Z",
     "iopub.status.busy": "2022-10-26T23:14:38.745508Z",
     "iopub.status.idle": "2022-10-26T23:14:38.781378Z",
     "shell.execute_reply": "2022-10-26T23:14:38.780360Z"
    },
    "id": "xu5LSmGz43T0",
    "outputId": "2d9e5a60-42e8-4a5c-d284-a0604ae901ad",
    "papermill": {
     "duration": 0.069586,
     "end_time": "2022-10-26T23:14:38.784516",
     "exception": false,
     "start_time": "2022-10-26T23:14:38.714930",
     "status": "completed"
    },
    "tags": []
   },
   "outputs": [
    {
     "data": {
      "text/plain": [
       "0.8167152477635943"
      ]
     },
     "execution_count": 69,
     "metadata": {},
     "output_type": "execute_result"
    }
   ],
   "source": [
    "xgb.score(x_test , y_test)\n",
    "#with Resampling 0.6704"
   ]
  },
  {
   "cell_type": "code",
   "execution_count": 70,
   "metadata": {
    "execution": {
     "iopub.execute_input": "2022-10-26T23:14:38.847292Z",
     "iopub.status.busy": "2022-10-26T23:14:38.846545Z",
     "iopub.status.idle": "2022-10-26T23:25:06.827550Z",
     "shell.execute_reply": "2022-10-26T23:25:06.826049Z"
    },
    "papermill": {
     "duration": 628.045365,
     "end_time": "2022-10-26T23:25:06.860932",
     "exception": false,
     "start_time": "2022-10-26T23:14:38.815567",
     "status": "completed"
    },
    "tags": []
   },
   "outputs": [
    {
     "data": {
      "text/plain": [
       "SVC(random_state=0)"
      ]
     },
     "execution_count": 70,
     "metadata": {},
     "output_type": "execute_result"
    }
   ],
   "source": [
    "from sklearn.svm import SVC\n",
    "classifier = SVC(kernel ='rbf', random_state = 0)\n",
    "classifier.fit(x_train, y_train)"
   ]
  },
  {
   "cell_type": "code",
   "execution_count": 71,
   "metadata": {
    "execution": {
     "iopub.execute_input": "2022-10-26T23:25:06.923459Z",
     "iopub.status.busy": "2022-10-26T23:25:06.923021Z",
     "iopub.status.idle": "2022-10-26T23:26:33.304307Z",
     "shell.execute_reply": "2022-10-26T23:26:33.302551Z"
    },
    "papermill": {
     "duration": 86.417745,
     "end_time": "2022-10-26T23:26:33.309104",
     "exception": false,
     "start_time": "2022-10-26T23:25:06.891359",
     "status": "completed"
    },
    "tags": []
   },
   "outputs": [
    {
     "name": "stdout",
     "output_type": "stream",
     "text": [
      "0.8177706302140919\n"
     ]
    },
    {
     "data": {
      "text/plain": [
       "(<Figure size 432x288 with 1 Axes>,\n",
       " <AxesSubplot:xlabel='predicted label', ylabel='true label'>)"
      ]
     },
     "execution_count": 71,
     "metadata": {},
     "output_type": "execute_result"
    },
    {
     "data": {
      "image/png": "[encoded data removed]",
      "text/plain": [
       "<Figure size 432x288 with 1 Axes>"
      ]
     },
     "metadata": {
      "needs_background": "light"
     },
     "output_type": "display_data"
    }
   ],
   "source": [
    "from sklearn.metrics import confusion_matrix\n",
    "from mlxtend.plotting import plot_confusion_matrix\n",
    "cm = confusion_matrix(y_test, classifier.predict(x_test))\n",
    "print(classifier.score(x_test, y_test))\n",
    "plot_confusion_matrix(cm)"
   ]
  },
  {
   "cell_type": "code",
   "execution_count": 72,
   "metadata": {
    "execution": {
     "iopub.execute_input": "2022-10-26T23:26:33.418051Z",
     "iopub.status.busy": "2022-10-26T23:26:33.417278Z",
     "iopub.status.idle": "2022-10-26T23:34:37.331236Z",
     "shell.execute_reply": "2022-10-26T23:34:37.325782Z"
    },
    "papermill": {
     "duration": 484.048026,
     "end_time": "2022-10-26T23:34:37.433498",
     "exception": false,
     "start_time": "2022-10-26T23:26:33.385472",
     "status": "completed"
    },
    "tags": []
   },
   "outputs": [
    {
     "data": {
      "text/plain": [
       "SVC(C=10, kernel='poly', random_state=0)"
      ]
     },
     "execution_count": 72,
     "metadata": {},
     "output_type": "execute_result"
    }
   ],
   "source": [
    "classifier = SVC(kernel='poly', random_state=0,C=10)\n",
    "classifier.fit(x_train, y_train)"
   ]
  },
  {
   "cell_type": "code",
   "execution_count": 73,
   "metadata": {
    "execution": {
     "iopub.execute_input": "2022-10-26T23:34:37.495849Z",
     "iopub.status.busy": "2022-10-26T23:34:37.495191Z",
     "iopub.status.idle": "2022-10-26T23:35:24.187879Z",
     "shell.execute_reply": "2022-10-26T23:35:24.186427Z"
    },
    "papermill": {
     "duration": 46.728812,
     "end_time": "2022-10-26T23:35:24.192255",
     "exception": false,
     "start_time": "2022-10-26T23:34:37.463443",
     "status": "completed"
    },
    "tags": []
   },
   "outputs": [
    {
     "name": "stdout",
     "output_type": "stream",
     "text": [
      "0.8177706302140919\n"
     ]
    },
    {
     "data": {
      "text/plain": [
       "(<Figure size 432x288 with 1 Axes>,\n",
       " <AxesSubplot:xlabel='predicted label', ylabel='true label'>)"
      ]
     },
     "execution_count": 73,
     "metadata": {},
     "output_type": "execute_result"
    },
    {
     "data": {
      "image/png": "[encoded data removed]",
      "text/plain": [
       "<Figure size 432x288 with 1 Axes>"
      ]
     },
     "metadata": {
      "needs_background": "light"
     },
     "output_type": "display_data"
    }
   ],
   "source": [
    "from sklearn.metrics import confusion_matrix\n",
    "cm = confusion_matrix(y_test, classifier.predict(x_test))\n",
    "print(classifier.score(x_test, y_test))\n",
    "plot_confusion_matrix(cm)"
   ]
  }
 ],
 "metadata": {
  "kernelspec": {
   "display_name": "Python 3",
   "language": "python",
   "name": "python3"
  },
  "language_info": {
   "codemirror_mode": {
    "name": "ipython",
    "version": 3
   },
   "file_extension": ".py",
   "mimetype": "text/x-python",
   "name": "python",
   "nbconvert_exporter": "python",
   "pygments_lexer": "ipython3",
   "version": "3.8.3"
  },
  "papermill": {
   "default_parameters": {},
   "duration": 1416.378008,
   "end_time": "2022-10-26T23:35:25.183375",
   "environment_variables": {},
   "exception": null,
   "input_path": "__notebook__.ipynb",
   "output_path": "__notebook__.ipynb",
   "parameters": {},
   "start_time": "2022-10-26T23:11:48.805367",
   "version": "2.3.4"
  }
 },
 "nbformat": 4,
 "nbformat_minor": 5
}
